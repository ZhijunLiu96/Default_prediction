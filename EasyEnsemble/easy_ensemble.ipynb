{
  "nbformat": 4,
  "nbformat_minor": 0,
  "metadata": {
    "colab": {
      "name": "easy_ensemble.ipynb",
      "provenance": []
    },
    "kernelspec": {
      "name": "python3",
      "display_name": "Python 3"
    }
  },
  "cells": [
    {
      "cell_type": "code",
      "metadata": {
        "id": "9_HPBLdFbYjg",
        "colab_type": "code",
        "outputId": "c6a53c44-6dca-4be9-a3fe-00ffa269dc15",
        "colab": {
          "base_uri": "https://localhost:8080/",
          "height": 54
        }
      },
      "source": [
        "from collections import Counter\n",
        "from sklearn.datasets import make_classification\n",
        "from sklearn.ensemble import AdaBoostClassifier\n",
        "from imblearn.ensemble import EasyEnsemble\n",
        "import pandas as pd\n",
        "import numpy as np\n",
        "import os\n",
        "from google.colab import drive\n",
        "drive.mount('/content/drive')\n",
        "directory='/content/drive/My Drive/x_financial'\n",
        "os.chdir(directory)"
      ],
      "execution_count": 81,
      "outputs": [
        {
          "output_type": "stream",
          "text": [
            "Drive already mounted at /content/drive; to attempt to forcibly remount, call drive.mount(\"/content/drive\", force_remount=True).\n"
          ],
          "name": "stdout"
        }
      ]
    },
    {
      "cell_type": "code",
      "metadata": {
        "id": "q1iBC4wTRCCQ",
        "colab_type": "code",
        "colab": {}
      },
      "source": [
        "train = pd.read_csv('rmnan.csv')\n",
        "test = pd.read_csv('test.csv')\n",
        "train = train.drop(columns=['Unnamed: 0','Unnamed: 0.1'])\n",
        "train = train.dropna(axis=1,how='any')\n",
        "col = train.columns.to_list()\n",
        "train = train[col]\n",
        "test = test[col]\n",
        "train_y = train['bad30']\n",
        "train = train.drop(columns=['bad30'])\n",
        "test_y = test['bad30']\n",
        "test = test.drop(columns=['bad30'])"
      ],
      "execution_count": 0,
      "outputs": []
    },
    {
      "cell_type": "code",
      "metadata": {
        "id": "BbAQYg0BbNqV",
        "colab_type": "code",
        "colab": {}
      },
      "source": [
        "train = pd.read_csv('rmnan.csv')\n",
        "test = pd.read_csv('test.csv')\n",
        "col = [ 'AP003', 'TD001', 'MB005', 'TD013', 'TD009', 'CR008',\n",
        "       'TD005', 'TD014', 'CR021', 'TD010', 'CR015', 'CR009', 'CR018', \n",
        "       'CD121', 'ym0276', 'ym0358', 'CD117', 'ym0316', 'ym0305',\n",
        "       'ym2333', 'CR017', 'MB001', 'ym0322', 'ym0090', 'CD123', 'TD006',\n",
        "       'CD016', 'CD109', 'ym0265', 'ym0306', 'CD002', 'CD178',\n",
        "       'ym0366', 'CD169', 'CD122', 'ym0004', 'ym0009', 'CD120', 'ym2037',\n",
        "       'CD003', 'ym2055', 'ym0079', 'CD011', 'ym0299', 'ym2041', 'CD172',\n",
        "       'ym0304', 'AP007', 'ym0270', 'CD008', 'ym0361', 'CD110', 'ym0038',\n",
        "       'ym2156', 'ym0327', 'ym0290', 'AP002', 'ym0362', 'ym0339', 'ym0295','bad30']\n",
        "train = train[col]\n",
        "test = test[col]\n",
        "train = train.dropna(axis=0,how='any')\n",
        "train_y = train['bad30']\n",
        "train = train.drop(columns=['bad30'])\n",
        "test_y = test['bad30']\n",
        "test = test.drop(columns=['bad30'])"
      ],
      "execution_count": 0,
      "outputs": []
    },
    {
      "cell_type": "markdown",
      "metadata": {
        "id": "uHNQN4i2YnEY",
        "colab_type": "text"
      },
      "source": [
        "col = [ 'AP003', 'TD001', 'TD016', 'MB005', 'TD013', 'TD009', 'CR008',\n",
        "       'TD005', 'CR020', 'TD014', 'CR021', 'TD010', 'CR015', 'CR009', 'CR018',\n",
        "       'ym0383', 'CD121', 'ym0276', 'ym0358', 'CD117', 'ym0316', 'ym0305',\n",
        "       'ym2333', 'CR017', 'MB001', 'ym0322', 'ym0090', 'CD123', 'TD006',\n",
        "       'CD016', 'CD109', 'ym0265', 'ym0306', 'CD002', 'CD178', 'ym0360',\n",
        "       'ym0366', 'CD169', 'CD122', 'ym0004', 'ym0009', 'CD120', 'ym2037',\n",
        "       'CD003', 'ym2055', 'ym0079', 'CD011', 'ym0299', 'ym2041', 'CD172',\n",
        "       'ym0304', 'AP007', 'ym0270', 'CD008', 'ym0361', 'CD110', 'ym0038',\n",
        "       'ym2156', 'ym0327', 'ym0290', 'AP002', 'ym0362', 'ym0339', 'ym0295']"
      ]
    },
    {
      "cell_type": "code",
      "metadata": {
        "id": "J9fDCVzYdA1F",
        "colab_type": "code",
        "outputId": "01b555ce-2672-4a14-fb75-1ab9f09b8e82",
        "colab": {
          "base_uri": "https://localhost:8080/",
          "height": 71
        }
      },
      "source": [
        "ee = EasyEnsemble(n_subsets=4, random_state=42, replacement = False)\n",
        "X_res, y_res = ee.fit_resample(train, train_y)"
      ],
      "execution_count": 83,
      "outputs": [
        {
          "output_type": "stream",
          "text": [
            "/usr/local/lib/python3.6/dist-packages/sklearn/utils/deprecation.py:66: DeprecationWarning: Class EasyEnsemble is deprecated; EasyEnsemble is deprecated in 0.4 and will be removed in 0.6. Use EasyEnsembleClassifier instead.\n",
            "  warnings.warn(msg, category=DeprecationWarning)\n"
          ],
          "name": "stderr"
        }
      ]
    },
    {
      "cell_type": "code",
      "metadata": {
        "id": "DatIRT_odA4j",
        "colab_type": "code",
        "colab": {}
      },
      "source": [
        "p = []\n",
        "p_y = []\n",
        "for i in range(len(X_res)):\n",
        "  classifier = AdaBoostClassifier(base_estimator=None, n_estimators=1000, learning_rate=0.05, random_state=42)\n",
        "  classifier.fit(X_res[i],y_res[i])\n",
        "  pred = classifier.predict_proba(X_res)\n",
        "  pred_y = classifier.predict_proba(test)\n",
        "  p.append(pred)\n",
        "  p_y.append(pred_y)"
      ],
      "execution_count": 0,
      "outputs": []
    },
    {
      "cell_type": "code",
      "metadata": {
        "id": "nSPydXr_bYyZ",
        "colab_type": "code",
        "colab": {}
      },
      "source": [
        "def return_prob(p):\n",
        "  prob = []\n",
        "  for j in range(len(p)):\n",
        "    element = []\n",
        "    for i in range(len(p[j])):\n",
        "      element.append(p[j][i][1])\n",
        "    prob.append(element)\n",
        "  return prob"
      ],
      "execution_count": 0,
      "outputs": []
    },
    {
      "cell_type": "code",
      "metadata": {
        "id": "OWkUv6s6ze9E",
        "colab_type": "code",
        "colab": {}
      },
      "source": [
        "prob = return_prob(p)\n",
        "prob_y = return_prob(p_y)"
      ],
      "execution_count": 0,
      "outputs": []
    },
    {
      "cell_type": "code",
      "metadata": {
        "id": "c4lZak4PQoOe",
        "colab_type": "code",
        "colab": {}
      },
      "source": [
        "def choose_threshold(prob,test):\n",
        "  accuracy = []\n",
        "  r = []\n",
        "  # threshold = [0.50,0.501,0.502,0.503,0.504,0.505,0.506,0.507,0.508]\n",
        "  threshold = list(np.arange(0.5,0.503,0.0001))\n",
        "  for i in range(len(threshold)):\n",
        "    result = []\n",
        "    for j in range(len(prob)):\n",
        "      if prob[j] >= threshold[i]:\n",
        "        result.append(1)\n",
        "      else:\n",
        "        result.append(0)\n",
        "    acc = sum(result == test)/len(test)\n",
        "    accuracy.append(acc)\n",
        "    ra = sum(result)/len(result)\n",
        "    r.append(ra)\n",
        "  dictionary = dict(zip(threshold, accuracy))\n",
        "  ratio = dict(zip(threshold, r))\n",
        "  return dictionary, ratio"
      ],
      "execution_count": 0,
      "outputs": []
    },
    {
      "cell_type": "code",
      "metadata": {
        "id": "gckB3Y4AQoXb",
        "colab_type": "code",
        "colab": {}
      },
      "source": [
        "choose_threshold(prob[0],train_y) #0.502"
      ],
      "execution_count": 0,
      "outputs": []
    },
    {
      "cell_type": "code",
      "metadata": {
        "id": "xcXAM3udQobb",
        "colab_type": "code",
        "colab": {}
      },
      "source": [
        "choose_threshold(prob[1]) #0.5022"
      ],
      "execution_count": 0,
      "outputs": []
    },
    {
      "cell_type": "code",
      "metadata": {
        "id": "ZMhil687Qoic",
        "colab_type": "code",
        "colab": {}
      },
      "source": [
        "choose_threshold(prob[2]) #0.5022"
      ],
      "execution_count": 0,
      "outputs": []
    },
    {
      "cell_type": "code",
      "metadata": {
        "id": "FUUSJY1HQohf",
        "colab_type": "code",
        "colab": {}
      },
      "source": [
        "choose_threshold(prob[3])"
      ],
      "execution_count": 0,
      "outputs": []
    },
    {
      "cell_type": "code",
      "metadata": {
        "id": "F4kpfWhV-kyW",
        "colab_type": "code",
        "colab": {
          "base_uri": "https://localhost:8080/",
          "height": 51
        },
        "outputId": "4be67968-6c6c-4792-df76-deef1d769c7c"
      },
      "source": [
        "\"\"\"\n",
        "accuracy in training set\n",
        "\"\"\"\n",
        "prediction = []\n",
        "pred_total = []\n",
        "for i in range(len(prob[0])):\n",
        "  p = prob[0][i] + prob[1][i] + prob[2][i] + prob[3][i] #+ prob[4][i] + prob[5][i] + prob[6][i] + prob[7][i] +prob[8][i] + prob[9][i]\n",
        "  pred_total.append(p)\n",
        "for j in range(len(pred_total)):\n",
        "  if pred_total[j] >= 0.502*4:\n",
        "    prediction.append(1)\n",
        "  else:\n",
        "    prediction.append(0)\n",
        "print(sum(prediction)/len(prediction))\n",
        "print(sum(prediction == train_y)/len(prediction))"
      ],
      "execution_count": 112,
      "outputs": [
        {
          "output_type": "stream",
          "text": [
            "0.1851158144471499\n",
            "0.7472217019416869\n"
          ],
          "name": "stdout"
        }
      ]
    },
    {
      "cell_type": "code",
      "metadata": {
        "id": "9cnQI1vMQoew",
        "colab_type": "code",
        "colab": {
          "base_uri": "https://localhost:8080/",
          "height": 51
        },
        "outputId": "ec902db4-7ba1-434a-ebd4-e32bcdb70ce5"
      },
      "source": [
        "\"\"\"\n",
        "accuracy in test set\n",
        "\"\"\"\n",
        "prediction = []\n",
        "pred_total = []\n",
        "for i in range(len(prob_y[0])):\n",
        "  p = prob_y[0][i] + prob_y[1][i] + prob_y[2][i] + prob_y[3][i] #+ prob[4][i] + prob[5][i] + prob[6][i] + prob[7][i] +prob[8][i] + prob[9][i]\n",
        "  pred_total.append(p)\n",
        "for j in range(len(pred_total)):\n",
        "  if pred_total[j] >= 0.502*4:\n",
        "    prediction.append(1)\n",
        "  else:\n",
        "    prediction.append(0)\n",
        "print(sum(prediction)/len(prediction))\n",
        "print(sum(prediction == test_y)/len(prediction))"
      ],
      "execution_count": 117,
      "outputs": [
        {
          "output_type": "stream",
          "text": [
            "0.19821848571285594\n",
            "0.7312715808437171\n"
          ],
          "name": "stdout"
        }
      ]
    },
    {
      "cell_type": "code",
      "metadata": {
        "id": "asYzpoIGebeE",
        "colab_type": "code",
        "colab": {}
      },
      "source": [
        ""
      ],
      "execution_count": 0,
      "outputs": []
    },
    {
      "cell_type": "code",
      "metadata": {
        "id": "2EL2ZRt7QoWW",
        "colab_type": "code",
        "colab": {}
      },
      "source": [
        "def ks_statistic(Y,Y_hat):\n",
        "\tdata = {\"Y\":Y,\"Y_hat\":Y_hat}\n",
        "\tdf = pd.DataFrame(data)\n",
        "\tbins = np.array([-0.1,0.1,0.2,0.3,0.4,0.5,0.6,0.7,0.8,0.9,1.0])\n",
        "\tcategory = pd.cut(df[\"Y_hat\"],bins=bins)\n",
        "\tcategory = category.sort_values()\n",
        "\t#max_index = len(np.unique(df[\"Y_hat\"]))\n",
        "\tY = df.ix[category.index,:]['Y']\n",
        "\tY_hat = df.ix[category.index,:]['Y_hat']\n",
        "\tdf2 = pd.concat([Y,Y_hat],axis=1)\n",
        "\tdf3 = pd.pivot_table(df2,values = ['Y_hat'],index ='Y_hat',columns='Y',aggfunc=len,fill_value=0)\n",
        "\tdf4 = np.cumsum(df3)\n",
        "\tdf5 = df4/df4.iloc[:,1].max()\n",
        "\tks = max(abs(df5.iloc[:,0] - df5.iloc[:,1]))\n",
        "\treturn ks/len(bins)"
      ],
      "execution_count": 0,
      "outputs": []
    },
    {
      "cell_type": "code",
      "metadata": {
        "id": "rSohZtZ7QoT0",
        "colab_type": "code",
        "colab": {}
      },
      "source": [
        "def ks_calc_cross(data,pred,y_label):\n",
        "\tcrossfreq = pd.crosstab(data[pred[0]],data[y_label[0]])\n",
        "\tcrossdens = crossfreq.cumsum(axis=0) / crossfreq.sum()\n",
        "\tcrossdens['gap'] = abs(crossdens[0] - crossdens[1])\n",
        "\tks = crossdens[crossdens['gap'] == crossdens['gap'].max()]\n",
        "\treturn ks,crossdens"
      ],
      "execution_count": 0,
      "outputs": []
    },
    {
      "cell_type": "code",
      "metadata": {
        "id": "ZctlRzOSQoSt",
        "colab_type": "code",
        "colab": {}
      },
      "source": [
        "def array_trans(x, y): \n",
        "    # x: prediction\n",
        "    # y: actual value\n",
        "    a = np.array(x) \n",
        "    b = np.array(y)\n",
        "    result = np.vstack((a,b))\n",
        "    \n",
        "    return result  \n",
        "\n",
        "def cal_rate(result, thres):\n",
        "    all_number = len(result[0])\n",
        "    # print all_number\n",
        "    TP = 0\n",
        "    FP = 0\n",
        "    FN = 0\n",
        "    TN = 0\n",
        "    for item in range(all_number):\n",
        "        prediction = result[0][item]\n",
        "        if prediction >= thres:\n",
        "            prediction = 1\n",
        "        if prediction == 1:\n",
        "            if result[1][item] == 1:\n",
        "                TP += 1\n",
        "            else:\n",
        "                FP += 1\n",
        "        else:\n",
        "            if result[1][item] == 0:\n",
        "                TN += 1\n",
        "            else:\n",
        "                FN += 1\n",
        "    # print TP+FP+TN+FN\n",
        "    accracy = float(TP+TN) / float(all_number)\n",
        "    if TP+FP == 0:\n",
        "        precision = 0\n",
        "    else:\n",
        "        precision = float(TP) / float(TP+FP)\n",
        "    TPR = float(TP) / float(TP+FN)\n",
        "    TNR = float(TN) / float(FP+TN)\n",
        "    FNR = float(FN) / float(TP+FN)\n",
        "    FPR = float(FP) / float(FP+TN)\n",
        "    print('accuracy')\n",
        "    print(accracy)\n",
        "    print('precision')\n",
        "    print(precision)\n",
        "    print('sensitivity')\n",
        "    print(TPR)\n",
        "    print('specificity')\n",
        "    print(TNR)\n",
        "    # print accracy, precision, TPR, TNR, FNR, FPR\n",
        "    return accracy, precision, TPR, TNR, FNR, FPR\n",
        "\n",
        "def AUROC_func(result):\n",
        "    prob = np.hstack((np.random.rand(98),[0,1]))\n",
        "    threshold_vaule = sorted(prob)\n",
        "    threshold_num = len(threshold_vaule)\n",
        "    #get a array for plot  \n",
        "    accracy_array = np.zeros(threshold_num)\n",
        "    precision_array = np.zeros(threshold_num)\n",
        "    TPR_array = np.zeros(threshold_num)\n",
        "    TNR_array = np.zeros(threshold_num)\n",
        "    FNR_array = np.zeros(threshold_num)\n",
        "    FPR_array = np.zeros(threshold_num)\n",
        "\n",
        "    #calculate all the rates\n",
        "    for thres in range(threshold_num):\n",
        "        accracy_array[thres] = np.array(cal_rate(result, threshold_vaule[thres]))[0]\n",
        "        precision_array[thres] = np.array(cal_rate(result, threshold_vaule[thres]))[1]\n",
        "        TPR_array[thres] = np.array(cal_rate(result, threshold_vaule[thres]))[2]\n",
        "        TNR_array[thres] = np.array(cal_rate(result, threshold_vaule[thres]))[3]\n",
        "        FNR_array[thres] = np.array(cal_rate(result, threshold_vaule[thres]))[4]\n",
        "        FPR_array[thres] = np.array(cal_rate(result, threshold_vaule[thres]))[5]\n",
        "        print('threshold #: %d, threshold: %f' % (thres+1,threshold_vaule[thres]))\n",
        "\n",
        "    #draw the plot with the rates array\n",
        "\n",
        "    AUC = np.trapz(-TPR_array, FPR_array)\n",
        "    threshold = np.argmin(abs(FNR_array - FPR_array))\n",
        "    EER = (FNR_array[threshold]+FPR_array[threshold])/2\n",
        "    plt.plot(FPR_array, TPR_array)\n",
        "    plt.title('roc')\n",
        "    plt.xlabel('FPR_array')\n",
        "    plt.ylabel('TPR_array')\n",
        "    plt.show()\n",
        "    \n",
        "    return AUC"
      ],
      "execution_count": 0,
      "outputs": []
    },
    {
      "cell_type": "code",
      "metadata": {
        "id": "5mX8fQShbY1o",
        "colab_type": "code",
        "colab": {}
      },
      "source": [
        "def createGains(Y,Yhat):\n",
        "    data = {\"Y\":test_y,'Y_hat':Yhat}\n",
        "    test_scores = pd.DataFrame(data)\n",
        "    test_scores.columns = ['true', 'predict']\n",
        "\n",
        "    #sort on prediction (descending), add id, and decile for groups containing 1/10 of datapoints\n",
        "    test_scores = test_scores.sort_values(by='predict',ascending=False)\n",
        "    test_scores['row_id'] = range(0,0+len(test_scores))\n",
        "    test_scores['decile'] = ( test_scores['row_id'] / (len(test_scores)/10) ).astype(int)\n",
        "    #see count by decile\n",
        "    test_scores.loc[test_scores['decile'] == 10]=9\n",
        "    test_scores['decile'].value_counts()\n",
        "\n",
        "    #create gains table\n",
        "    gains = test_scores.groupby('decile')['true'].agg(['count','sum'])\n",
        "    gains.columns = ['count','actual']\n",
        "    gains\n",
        "\n",
        "    #add features to gains table\n",
        "    gains['non_actual'] = gains['count'] - gains['actual']\n",
        "    gains['cum_count'] = gains['count'].cumsum()\n",
        "    gains['cum_actual'] = gains['actual'].cumsum()\n",
        "    gains['cum_non_actual'] = gains['non_actual'].cumsum()\n",
        "    gains['percent_cum_actual'] = (gains['cum_actual'] / np.max(gains['cum_actual'])).round(2)\n",
        "    gains['percent_cum_non_actual'] = (gains['cum_non_actual'] / np.max(gains['cum_non_actual'])).round(2)\n",
        "    gains['if_random'] = np.max(gains['cum_actual']) /10 \n",
        "    gains['if_random'] = gains['if_random'].cumsum()\n",
        "    gains['lift'] = (gains['cum_actual'] / gains['if_random']).round(2)\n",
        "    gains['K_S'] = np.abs( gains['percent_cum_actual'] -  gains['percent_cum_non_actual'] ) * 100\n",
        "    gains['gain']=(gains['cum_actual']/gains['cum_count']*100).round(2)\n",
        "    gains = pd.DataFrame(gains)\n",
        "    return(gains)"
      ],
      "execution_count": 0,
      "outputs": []
    },
    {
      "cell_type": "code",
      "metadata": {
        "id": "6Pq7wU1cbY4x",
        "colab_type": "code",
        "colab": {
          "base_uri": "https://localhost:8080/",
          "height": 442
        },
        "outputId": "96682399-ed4e-41ce-96e5-845d78b19de4"
      },
      "source": [
        "ks_statistic(test_y,prediction)"
      ],
      "execution_count": 118,
      "outputs": [
        {
          "output_type": "stream",
          "text": [
            "/usr/local/lib/python3.6/dist-packages/ipykernel_launcher.py:8: FutureWarning: \n",
            ".ix is deprecated. Please use\n",
            ".loc for label based indexing or\n",
            ".iloc for positional indexing\n",
            "\n",
            "See the documentation here:\n",
            "http://pandas.pydata.org/pandas-docs/stable/user_guide/indexing.html#ix-indexer-is-deprecated\n",
            "  \n",
            "/usr/local/lib/python3.6/dist-packages/pandas/core/indexing.py:822: FutureWarning: \n",
            ".ix is deprecated. Please use\n",
            ".loc for label based indexing or\n",
            ".iloc for positional indexing\n",
            "\n",
            "See the documentation here:\n",
            "http://pandas.pydata.org/pandas-docs/stable/user_guide/indexing.html#ix-indexer-is-deprecated\n",
            "  retval = getattr(retval, self.name)._getitem_axis(key, axis=i)\n",
            "/usr/local/lib/python3.6/dist-packages/ipykernel_launcher.py:9: FutureWarning: \n",
            ".ix is deprecated. Please use\n",
            ".loc for label based indexing or\n",
            ".iloc for positional indexing\n",
            "\n",
            "See the documentation here:\n",
            "http://pandas.pydata.org/pandas-docs/stable/user_guide/indexing.html#ix-indexer-is-deprecated\n",
            "  if __name__ == '__main__':\n"
          ],
          "name": "stderr"
        },
        {
          "output_type": "execute_result",
          "data": {
            "text/plain": [
              "0.29436435124508525"
            ]
          },
          "metadata": {
            "tags": []
          },
          "execution_count": 118
        }
      ]
    },
    {
      "cell_type": "code",
      "metadata": {
        "id": "_QTDCHtCAVIg",
        "colab_type": "code",
        "colab": {
          "base_uri": "https://localhost:8080/",
          "height": 410
        },
        "outputId": "20226306-9515-4c79-9925-f42371e140f6"
      },
      "source": [
        "createGains(test_y,prediction)"
      ],
      "execution_count": 122,
      "outputs": [
        {
          "output_type": "execute_result",
          "data": {
            "text/html": [
              "<div>\n",
              "<style scoped>\n",
              "    .dataframe tbody tr th:only-of-type {\n",
              "        vertical-align: middle;\n",
              "    }\n",
              "\n",
              "    .dataframe tbody tr th {\n",
              "        vertical-align: top;\n",
              "    }\n",
              "\n",
              "    .dataframe thead th {\n",
              "        text-align: right;\n",
              "    }\n",
              "</style>\n",
              "<table border=\"1\" class=\"dataframe\">\n",
              "  <thead>\n",
              "    <tr style=\"text-align: right;\">\n",
              "      <th></th>\n",
              "      <th>count</th>\n",
              "      <th>actual</th>\n",
              "      <th>non_actual</th>\n",
              "      <th>cum_count</th>\n",
              "      <th>cum_actual</th>\n",
              "      <th>cum_non_actual</th>\n",
              "      <th>percent_cum_actual</th>\n",
              "      <th>percent_cum_non_actual</th>\n",
              "      <th>if_random</th>\n",
              "      <th>lift</th>\n",
              "      <th>K_S</th>\n",
              "      <th>gain</th>\n",
              "    </tr>\n",
              "    <tr>\n",
              "      <th>decile</th>\n",
              "      <th></th>\n",
              "      <th></th>\n",
              "      <th></th>\n",
              "      <th></th>\n",
              "      <th></th>\n",
              "      <th></th>\n",
              "      <th></th>\n",
              "      <th></th>\n",
              "      <th></th>\n",
              "      <th></th>\n",
              "      <th></th>\n",
              "      <th></th>\n",
              "    </tr>\n",
              "  </thead>\n",
              "  <tbody>\n",
              "    <tr>\n",
              "      <th>0</th>\n",
              "      <td>1999</td>\n",
              "      <td>610.0</td>\n",
              "      <td>1389.0</td>\n",
              "      <td>1999</td>\n",
              "      <td>610.0</td>\n",
              "      <td>1389.0</td>\n",
              "      <td>0.16</td>\n",
              "      <td>0.09</td>\n",
              "      <td>381.5</td>\n",
              "      <td>1.60</td>\n",
              "      <td>7.0</td>\n",
              "      <td>30.52</td>\n",
              "    </tr>\n",
              "    <tr>\n",
              "      <th>1</th>\n",
              "      <td>1998</td>\n",
              "      <td>600.0</td>\n",
              "      <td>1398.0</td>\n",
              "      <td>3997</td>\n",
              "      <td>1210.0</td>\n",
              "      <td>2787.0</td>\n",
              "      <td>0.32</td>\n",
              "      <td>0.17</td>\n",
              "      <td>763.0</td>\n",
              "      <td>1.59</td>\n",
              "      <td>15.0</td>\n",
              "      <td>30.27</td>\n",
              "    </tr>\n",
              "    <tr>\n",
              "      <th>2</th>\n",
              "      <td>1998</td>\n",
              "      <td>331.0</td>\n",
              "      <td>1667.0</td>\n",
              "      <td>5995</td>\n",
              "      <td>1541.0</td>\n",
              "      <td>4454.0</td>\n",
              "      <td>0.40</td>\n",
              "      <td>0.28</td>\n",
              "      <td>1144.5</td>\n",
              "      <td>1.35</td>\n",
              "      <td>12.0</td>\n",
              "      <td>25.70</td>\n",
              "    </tr>\n",
              "    <tr>\n",
              "      <th>3</th>\n",
              "      <td>1999</td>\n",
              "      <td>322.0</td>\n",
              "      <td>1677.0</td>\n",
              "      <td>7994</td>\n",
              "      <td>1863.0</td>\n",
              "      <td>6131.0</td>\n",
              "      <td>0.49</td>\n",
              "      <td>0.38</td>\n",
              "      <td>1526.0</td>\n",
              "      <td>1.22</td>\n",
              "      <td>11.0</td>\n",
              "      <td>23.30</td>\n",
              "    </tr>\n",
              "    <tr>\n",
              "      <th>4</th>\n",
              "      <td>1998</td>\n",
              "      <td>306.0</td>\n",
              "      <td>1692.0</td>\n",
              "      <td>9992</td>\n",
              "      <td>2169.0</td>\n",
              "      <td>7823.0</td>\n",
              "      <td>0.57</td>\n",
              "      <td>0.48</td>\n",
              "      <td>1907.5</td>\n",
              "      <td>1.14</td>\n",
              "      <td>9.0</td>\n",
              "      <td>21.71</td>\n",
              "    </tr>\n",
              "    <tr>\n",
              "      <th>5</th>\n",
              "      <td>1998</td>\n",
              "      <td>365.0</td>\n",
              "      <td>1633.0</td>\n",
              "      <td>11990</td>\n",
              "      <td>2534.0</td>\n",
              "      <td>9456.0</td>\n",
              "      <td>0.66</td>\n",
              "      <td>0.58</td>\n",
              "      <td>2289.0</td>\n",
              "      <td>1.11</td>\n",
              "      <td>8.0</td>\n",
              "      <td>21.13</td>\n",
              "    </tr>\n",
              "    <tr>\n",
              "      <th>6</th>\n",
              "      <td>1999</td>\n",
              "      <td>353.0</td>\n",
              "      <td>1646.0</td>\n",
              "      <td>13989</td>\n",
              "      <td>2887.0</td>\n",
              "      <td>11102.0</td>\n",
              "      <td>0.76</td>\n",
              "      <td>0.69</td>\n",
              "      <td>2670.5</td>\n",
              "      <td>1.08</td>\n",
              "      <td>7.0</td>\n",
              "      <td>20.64</td>\n",
              "    </tr>\n",
              "    <tr>\n",
              "      <th>7</th>\n",
              "      <td>1998</td>\n",
              "      <td>311.0</td>\n",
              "      <td>1687.0</td>\n",
              "      <td>15987</td>\n",
              "      <td>3198.0</td>\n",
              "      <td>12789.0</td>\n",
              "      <td>0.84</td>\n",
              "      <td>0.79</td>\n",
              "      <td>3052.0</td>\n",
              "      <td>1.05</td>\n",
              "      <td>5.0</td>\n",
              "      <td>20.00</td>\n",
              "    </tr>\n",
              "    <tr>\n",
              "      <th>8</th>\n",
              "      <td>1998</td>\n",
              "      <td>291.0</td>\n",
              "      <td>1707.0</td>\n",
              "      <td>17985</td>\n",
              "      <td>3489.0</td>\n",
              "      <td>14496.0</td>\n",
              "      <td>0.91</td>\n",
              "      <td>0.90</td>\n",
              "      <td>3433.5</td>\n",
              "      <td>1.02</td>\n",
              "      <td>1.0</td>\n",
              "      <td>19.40</td>\n",
              "    </tr>\n",
              "    <tr>\n",
              "      <th>9</th>\n",
              "      <td>1998</td>\n",
              "      <td>326.0</td>\n",
              "      <td>1672.0</td>\n",
              "      <td>19983</td>\n",
              "      <td>3815.0</td>\n",
              "      <td>16168.0</td>\n",
              "      <td>1.00</td>\n",
              "      <td>1.00</td>\n",
              "      <td>3815.0</td>\n",
              "      <td>1.00</td>\n",
              "      <td>0.0</td>\n",
              "      <td>19.09</td>\n",
              "    </tr>\n",
              "  </tbody>\n",
              "</table>\n",
              "</div>"
            ],
            "text/plain": [
              "        count  actual  non_actual  cum_count  ...  if_random  lift   K_S   gain\n",
              "decile                                        ...                              \n",
              "0        1999   610.0      1389.0       1999  ...      381.5  1.60   7.0  30.52\n",
              "1        1998   600.0      1398.0       3997  ...      763.0  1.59  15.0  30.27\n",
              "2        1998   331.0      1667.0       5995  ...     1144.5  1.35  12.0  25.70\n",
              "3        1999   322.0      1677.0       7994  ...     1526.0  1.22  11.0  23.30\n",
              "4        1998   306.0      1692.0       9992  ...     1907.5  1.14   9.0  21.71\n",
              "5        1998   365.0      1633.0      11990  ...     2289.0  1.11   8.0  21.13\n",
              "6        1999   353.0      1646.0      13989  ...     2670.5  1.08   7.0  20.64\n",
              "7        1998   311.0      1687.0      15987  ...     3052.0  1.05   5.0  20.00\n",
              "8        1998   291.0      1707.0      17985  ...     3433.5  1.02   1.0  19.40\n",
              "9        1998   326.0      1672.0      19983  ...     3815.0  1.00   0.0  19.09\n",
              "\n",
              "[10 rows x 12 columns]"
            ]
          },
          "metadata": {
            "tags": []
          },
          "execution_count": 122
        }
      ]
    },
    {
      "cell_type": "code",
      "metadata": {
        "id": "TP_TRtJPAfSt",
        "colab_type": "code",
        "colab": {
          "base_uri": "https://localhost:8080/",
          "height": 34
        },
        "outputId": "07469fe8-d941-4b49-f2e1-bc2284ca19bb"
      },
      "source": [
        "from sklearn.metrics import roc_auc_score\n",
        "roc_auc_score(test_y,prediction)"
      ],
      "execution_count": 123,
      "outputs": [
        {
          "output_type": "execute_result",
          "data": {
            "text/plain": [
              "0.5723751688528641"
            ]
          },
          "metadata": {
            "tags": []
          },
          "execution_count": 123
        }
      ]
    },
    {
      "cell_type": "code",
      "metadata": {
        "id": "VEWF4ou4EVaS",
        "colab_type": "code",
        "colab": {}
      },
      "source": [
        ""
      ],
      "execution_count": 0,
      "outputs": []
    }
  ]
}