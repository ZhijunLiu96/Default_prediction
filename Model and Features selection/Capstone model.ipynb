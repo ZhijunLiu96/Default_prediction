{
 "cells": [
  {
   "cell_type": "code",
   "execution_count": 1,
   "metadata": {},
   "outputs": [],
   "source": [
    "import pandas as pd\n",
    "import pickle\n",
    "import numpy as np\n",
    "import re\n",
    "from sklearn import linear_model\n",
    "\n",
    "import matplotlib.pyplot as plt\n",
    "%matplotlib inline\n",
    "\n",
    "from sklearn.ensemble import RandomForestRegressor\n",
    "from sklearn.svm import SVR\n",
    "from sklearn import linear_model\n",
    "from sklearn import ensemble \n",
    "from sklearn.metrics import mean_squared_error\n",
    "\n",
    "\n",
    "from sklearn.ensemble import RandomForestRegressor\n",
    "from sklearn.model_selection import KFold\n",
    "import xgboost as xgb\n",
    "## even though xgb is not in the scikit learning package,\n",
    "## it is a power model for both linear regression and tree model \n",
    "\n",
    "from sklearn.model_selection import train_test_split\n",
    "\n",
    "\n",
    "from sklearn.model_selection import GridSearchCV\n",
    "from sklearn.model_selection import cross_val_score, KFold\n",
    "\n",
    "from sklearn.linear_model import Lasso\n",
    "from sklearn.linear_model import Ridge\n",
    "from sklearn.kernel_ridge import KernelRidge\n",
    "from sklearn.svm import SVR\n",
    "from sklearn.ensemble import RandomForestRegressor\n",
    "from sklearn import preprocessing\n",
    "from sklearn.metrics import classification_report\n",
    "from sklearn.preprocessing import StandardScaler, Normalizer, PolynomialFeatures\n",
    "import os\n",
    "from sklearn.metrics import roc_auc_score\n",
    "from sklearn.datasets import make_classification\n",
    "\n",
    "from imblearn.over_sampling import SMOTE\n",
    "\n",
    "from collections import Counter"
   ]
  },
  {
   "cell_type": "code",
   "execution_count": 2,
   "metadata": {},
   "outputs": [],
   "source": [
    "from sklearn.model_selection import train_test_split"
   ]
  },
  {
   "cell_type": "code",
   "execution_count": 3,
   "metadata": {},
   "outputs": [],
   "source": [
    "os.chdir(r\"C:\\Users\\13479\\Desktop\\dataset\")\n",
    "\n",
    "train = pd.read_csv('manual_train.csv') # parse_dates is used for non-standatd time data\n",
    "test= pd.read_csv('manual_test.csv')"
   ]
  },
  {
   "cell_type": "code",
   "execution_count": 4,
   "metadata": {},
   "outputs": [],
   "source": [
    "train=train.fillna(0)\n",
    "test=test.fillna(0)"
   ]
  },
  {
   "cell_type": "code",
   "execution_count": 5,
   "metadata": {},
   "outputs": [
    {
     "data": {
      "text/html": [
       "<div>\n",
       "<style scoped>\n",
       "    .dataframe tbody tr th:only-of-type {\n",
       "        vertical-align: middle;\n",
       "    }\n",
       "\n",
       "    .dataframe tbody tr th {\n",
       "        vertical-align: top;\n",
       "    }\n",
       "\n",
       "    .dataframe thead th {\n",
       "        text-align: right;\n",
       "    }\n",
       "</style>\n",
       "<table border=\"1\" class=\"dataframe\">\n",
       "  <thead>\n",
       "    <tr style=\"text-align: right;\">\n",
       "      <th></th>\n",
       "      <th>ym2888</th>\n",
       "      <th>ym2592</th>\n",
       "      <th>ym2468</th>\n",
       "      <th>ym2281</th>\n",
       "      <th>ym2158</th>\n",
       "      <th>ym2074</th>\n",
       "      <th>ym2070</th>\n",
       "      <th>ym2065</th>\n",
       "      <th>ym2061</th>\n",
       "      <th>ym2058</th>\n",
       "      <th>...</th>\n",
       "      <th>CD018</th>\n",
       "      <th>CD014</th>\n",
       "      <th>CD002</th>\n",
       "      <th>AP007</th>\n",
       "      <th>AP006</th>\n",
       "      <th>AP004</th>\n",
       "      <th>AP003</th>\n",
       "      <th>AP002</th>\n",
       "      <th>AP001</th>\n",
       "      <th>bad30</th>\n",
       "    </tr>\n",
       "  </thead>\n",
       "  <tbody>\n",
       "    <tr>\n",
       "      <td>0</td>\n",
       "      <td>0.0</td>\n",
       "      <td>0.0</td>\n",
       "      <td>0.0</td>\n",
       "      <td>0.0</td>\n",
       "      <td>0.0</td>\n",
       "      <td>21.0</td>\n",
       "      <td>0.0</td>\n",
       "      <td>0.0396</td>\n",
       "      <td>0.0611</td>\n",
       "      <td>0.0006</td>\n",
       "      <td>...</td>\n",
       "      <td>1276.0</td>\n",
       "      <td>59789.0</td>\n",
       "      <td>2268.0</td>\n",
       "      <td>1</td>\n",
       "      <td>ios</td>\n",
       "      <td>12</td>\n",
       "      <td>4.0</td>\n",
       "      <td>1</td>\n",
       "      <td>29</td>\n",
       "      <td>0.0</td>\n",
       "    </tr>\n",
       "    <tr>\n",
       "      <td>1</td>\n",
       "      <td>0.0</td>\n",
       "      <td>18.0</td>\n",
       "      <td>0.0</td>\n",
       "      <td>0.0</td>\n",
       "      <td>0.0</td>\n",
       "      <td>37.0</td>\n",
       "      <td>1.0</td>\n",
       "      <td>0.0000</td>\n",
       "      <td>0.0000</td>\n",
       "      <td>0.0015</td>\n",
       "      <td>...</td>\n",
       "      <td>65.0</td>\n",
       "      <td>8622.0</td>\n",
       "      <td>254.0</td>\n",
       "      <td>1</td>\n",
       "      <td>android</td>\n",
       "      <td>12</td>\n",
       "      <td>3.0</td>\n",
       "      <td>2</td>\n",
       "      <td>24</td>\n",
       "      <td>1.0</td>\n",
       "    </tr>\n",
       "    <tr>\n",
       "      <td>2</td>\n",
       "      <td>1.0</td>\n",
       "      <td>0.0</td>\n",
       "      <td>0.0</td>\n",
       "      <td>2.0</td>\n",
       "      <td>0.0</td>\n",
       "      <td>16.0</td>\n",
       "      <td>0.0</td>\n",
       "      <td>0.0000</td>\n",
       "      <td>0.0067</td>\n",
       "      <td>0.0027</td>\n",
       "      <td>...</td>\n",
       "      <td>210.0</td>\n",
       "      <td>7559.0</td>\n",
       "      <td>276.0</td>\n",
       "      <td>1</td>\n",
       "      <td>ios</td>\n",
       "      <td>12</td>\n",
       "      <td>3.0</td>\n",
       "      <td>1</td>\n",
       "      <td>32</td>\n",
       "      <td>0.0</td>\n",
       "    </tr>\n",
       "    <tr>\n",
       "      <td>3</td>\n",
       "      <td>0.0</td>\n",
       "      <td>0.0</td>\n",
       "      <td>0.0</td>\n",
       "      <td>0.0</td>\n",
       "      <td>0.0</td>\n",
       "      <td>33.0</td>\n",
       "      <td>1.0</td>\n",
       "      <td>0.0035</td>\n",
       "      <td>0.0011</td>\n",
       "      <td>0.0012</td>\n",
       "      <td>...</td>\n",
       "      <td>96.0</td>\n",
       "      <td>14095.0</td>\n",
       "      <td>267.0</td>\n",
       "      <td>1</td>\n",
       "      <td>ios</td>\n",
       "      <td>12</td>\n",
       "      <td>1.0</td>\n",
       "      <td>1</td>\n",
       "      <td>43</td>\n",
       "      <td>0.0</td>\n",
       "    </tr>\n",
       "    <tr>\n",
       "      <td>4</td>\n",
       "      <td>0.0</td>\n",
       "      <td>0.0</td>\n",
       "      <td>0.0</td>\n",
       "      <td>0.0</td>\n",
       "      <td>0.0</td>\n",
       "      <td>9.0</td>\n",
       "      <td>0.0</td>\n",
       "      <td>0.0000</td>\n",
       "      <td>0.0000</td>\n",
       "      <td>0.0000</td>\n",
       "      <td>...</td>\n",
       "      <td>205.0</td>\n",
       "      <td>37725.0</td>\n",
       "      <td>513.0</td>\n",
       "      <td>1</td>\n",
       "      <td>ios</td>\n",
       "      <td>6</td>\n",
       "      <td>1.0</td>\n",
       "      <td>1</td>\n",
       "      <td>24</td>\n",
       "      <td>0.0</td>\n",
       "    </tr>\n",
       "  </tbody>\n",
       "</table>\n",
       "<p>5 rows × 151 columns</p>\n",
       "</div>"
      ],
      "text/plain": [
       "   ym2888  ym2592  ym2468  ym2281  ym2158  ym2074  ym2070  ym2065  ym2061  \\\n",
       "0     0.0     0.0     0.0     0.0     0.0    21.0     0.0  0.0396  0.0611   \n",
       "1     0.0    18.0     0.0     0.0     0.0    37.0     1.0  0.0000  0.0000   \n",
       "2     1.0     0.0     0.0     2.0     0.0    16.0     0.0  0.0000  0.0067   \n",
       "3     0.0     0.0     0.0     0.0     0.0    33.0     1.0  0.0035  0.0011   \n",
       "4     0.0     0.0     0.0     0.0     0.0     9.0     0.0  0.0000  0.0000   \n",
       "\n",
       "   ym2058  ...   CD018    CD014   CD002  AP007    AP006  AP004  AP003  AP002  \\\n",
       "0  0.0006  ...  1276.0  59789.0  2268.0      1      ios     12    4.0      1   \n",
       "1  0.0015  ...    65.0   8622.0   254.0      1  android     12    3.0      2   \n",
       "2  0.0027  ...   210.0   7559.0   276.0      1      ios     12    3.0      1   \n",
       "3  0.0012  ...    96.0  14095.0   267.0      1      ios     12    1.0      1   \n",
       "4  0.0000  ...   205.0  37725.0   513.0      1      ios      6    1.0      1   \n",
       "\n",
       "   AP001  bad30  \n",
       "0     29    0.0  \n",
       "1     24    1.0  \n",
       "2     32    0.0  \n",
       "3     43    0.0  \n",
       "4     24    0.0  \n",
       "\n",
       "[5 rows x 151 columns]"
      ]
     },
     "execution_count": 5,
     "metadata": {},
     "output_type": "execute_result"
    }
   ],
   "source": [
    "train.head()"
   ]
  },
  {
   "cell_type": "code",
   "execution_count": 5,
   "metadata": {},
   "outputs": [],
   "source": [
    "train = train.drop(['AP006','MB006'], axis=1)\n",
    "test = test.drop(['AP006','MB006'], axis=1)"
   ]
  },
  {
   "cell_type": "code",
   "execution_count": 6,
   "metadata": {},
   "outputs": [],
   "source": [
    "def ks_statistic(Y,Y_hat):\n",
    "\tdata = {\"Y\":Y,\"Y_hat\":Y_hat}\n",
    "\tdf = pd.DataFrame(data)\n",
    "\tbins = np.array([-0.1,0.1,0.2,0.3,0.4,0.5,0.6,0.7,0.8,0.9,1.0])\n",
    "\tcategory = pd.cut(df[\"Y_hat\"],bins=bins)\n",
    "\tcategory = category.sort_values()\n",
    "\t#max_index = len(np.unique(df[\"Y_hat\"]))\n",
    "\tY = df.ix[category.index,:]['Y']\n",
    "\tY_hat = df.ix[category.index,:]['Y_hat']\n",
    "\tdf2 = pd.concat([Y,Y_hat],axis=1)\n",
    "\tdf3 = pd.pivot_table(df2,values = ['Y_hat'],index ='Y_hat',columns='Y',aggfunc=len,fill_value=0)\n",
    "\tdf4 = np.cumsum(df3)\n",
    "\tdf5 = df4/df4.iloc[:,1].max()\n",
    "\tks = max(abs(df5.iloc[:,0] - df5.iloc[:,1]))\n",
    "\treturn ks/len(bins)"
   ]
  },
  {
   "cell_type": "code",
   "execution_count": 7,
   "metadata": {},
   "outputs": [],
   "source": [
    "def ks_calc_cross(data,pred,y_label):\n",
    "\tcrossfreq = pd.crosstab(data[pred[0]],data[y_label[0]])\n",
    "\tcrossdens = crossfreq.cumsum(axis=0) / crossfreq.sum()\n",
    "\tcrossdens['gap'] = abs(crossdens[0] - crossdens[1])\n",
    "\tks = crossdens[crossdens['gap'] == crossdens['gap'].max()]\n",
    "\treturn ks,crossdens"
   ]
  },
  {
   "cell_type": "code",
   "execution_count": 8,
   "metadata": {},
   "outputs": [],
   "source": [
    "def print_acc(test_x, test_y, model):\n",
    "\tprint ('Accuracy of Classifier:%f'%model.score(test_x, test_y))"
   ]
  },
  {
   "cell_type": "code",
   "execution_count": 10,
   "metadata": {},
   "outputs": [],
   "source": [
    "def array_trans(x, y): \n",
    "    # x: prediction\n",
    "    # y: actual value\n",
    "    a = np.array(x) \n",
    "    b = np.array(y)\n",
    "    result = np.vstack((a,b))\n",
    "    \n",
    "    return result  \n",
    "\n",
    "def cal_rate(result, thres):\n",
    "    all_number = len(result[0])\n",
    "    # print all_number\n",
    "    TP = 0\n",
    "    FP = 0\n",
    "    FN = 0\n",
    "    TN = 0\n",
    "    for item in range(all_number):\n",
    "        prediction = result[0][item]\n",
    "        if prediction >= thres:\n",
    "            prediction = 1\n",
    "        if prediction == 1:\n",
    "            if result[1][item] == 1:\n",
    "                TP += 1\n",
    "            else:\n",
    "                FP += 1\n",
    "        else:\n",
    "            if result[1][item] == 0:\n",
    "                TN += 1\n",
    "            else:\n",
    "                FN += 1\n",
    "    # print TP+FP+TN+FN\n",
    "    accracy = float(TP+TN) / float(all_number)\n",
    "    if TP+FP == 0:\n",
    "        precision = 0\n",
    "    else:\n",
    "        precision = float(TP) / float(TP+FP)\n",
    "    TPR = float(TP) / float(TP+FN)\n",
    "    TNR = float(TN) / float(FP+TN)\n",
    "    FNR = float(FN) / float(TP+FN)\n",
    "    FPR = float(FP) / float(FP+TN)\n",
    "    print('accuracy')\n",
    "    print(accracy)\n",
    "    print('precision')\n",
    "    print(precision)\n",
    "    print('sensitivity')\n",
    "    print(TPR)\n",
    "    print('specificity')\n",
    "    print(TNR)\n",
    "    # print accracy, precision, TPR, TNR, FNR, FPR\n",
    "    return accracy, precision, TPR, TNR, FNR, FPR\n",
    "\n",
    "def AUROC_func(result):\n",
    "    prob = np.hstack((np.random.rand(98),[0,1]))\n",
    "    threshold_vaule = sorted(prob)\n",
    "    threshold_num = len(threshold_vaule)\n",
    "    #get a array for plot  \n",
    "    accracy_array = np.zeros(threshold_num)\n",
    "    precision_array = np.zeros(threshold_num)\n",
    "    TPR_array = np.zeros(threshold_num)\n",
    "    TNR_array = np.zeros(threshold_num)\n",
    "    FNR_array = np.zeros(threshold_num)\n",
    "    FPR_array = np.zeros(threshold_num)\n",
    "\n",
    "    #calculate all the rates\n",
    "    for thres in range(threshold_num):\n",
    "        accracy_array[thres] = np.array(cal_rate(result, threshold_vaule[thres]))[0]\n",
    "        precision_array[thres] = np.array(cal_rate(result, threshold_vaule[thres]))[1]\n",
    "        TPR_array[thres] = np.array(cal_rate(result, threshold_vaule[thres]))[2]\n",
    "        TNR_array[thres] = np.array(cal_rate(result, threshold_vaule[thres]))[3]\n",
    "        FNR_array[thres] = np.array(cal_rate(result, threshold_vaule[thres]))[4]\n",
    "        FPR_array[thres] = np.array(cal_rate(result, threshold_vaule[thres]))[5]\n",
    "        print('threshold #: %d, threshold: %f' % (thres+1,threshold_vaule[thres]))\n",
    "\n",
    "    #draw the plot with the rates array\n",
    "\n",
    "    AUC = np.trapz(-TPR_array, FPR_array)\n",
    "    threshold = np.argmin(abs(FNR_array - FPR_array))\n",
    "    EER = (FNR_array[threshold]+FPR_array[threshold])/2\n",
    "    plt.plot(FPR_array, TPR_array)\n",
    "    plt.title('roc')\n",
    "    plt.xlabel('FPR_array')\n",
    "    plt.ylabel('TPR_array')\n",
    "    plt.show()\n",
    "    \n",
    "    return AUC"
   ]
  },
  {
   "cell_type": "code",
   "execution_count": 53,
   "metadata": {},
   "outputs": [],
   "source": [
    "def createGains(Y,Yhat):\n",
    "    data = {\"Y\":Y_test['bad30'],'Y_hat':Yhat}\n",
    "    test_scores = pd.DataFrame(data)\n",
    "    test_scores.columns = ['true', 'predict']\n",
    "\n",
    "    #sort on prediction (descending), add id, and decile for groups containing 1/10 of datapoints\n",
    "    test_scores = test_scores.sort_values(by='predict',ascending=False)\n",
    "    test_scores['row_id'] = range(0,0+len(test_scores))\n",
    "    test_scores['decile'] = ( test_scores['row_id'] / (len(test_scores)/10) ).astype(int)\n",
    "    #see count by decile\n",
    "    test_scores.loc[test_scores['decile'] == 10]=9\n",
    "    test_scores['decile'].value_counts()\n",
    "\n",
    "    #create gains table\n",
    "    gains = test_scores.groupby('decile')['true'].agg(['count','sum'])\n",
    "    gains.columns = ['count','actual']\n",
    "    gains\n",
    "\n",
    "    #add features to gains table\n",
    "    gains['non_actual'] = gains['count'] - gains['actual']\n",
    "    gains['cum_count'] = gains['count'].cumsum()\n",
    "    gains['cum_actual'] = gains['actual'].cumsum()\n",
    "    gains['cum_non_actual'] = gains['non_actual'].cumsum()\n",
    "    gains['percent_cum_actual'] = (gains['cum_actual'] / np.max(gains['cum_actual'])).round(2)\n",
    "    gains['percent_cum_non_actual'] = (gains['cum_non_actual'] / np.max(gains['cum_non_actual'])).round(2)\n",
    "    gains['if_random'] = np.max(gains['cum_actual']) /10 \n",
    "    gains['if_random'] = gains['if_random'].cumsum()\n",
    "    gains['lift'] = (gains['cum_actual'] / gains['if_random']).round(2)\n",
    "    gains['K_S'] = np.abs( gains['percent_cum_actual'] -  gains['percent_cum_non_actual'] ) * 100\n",
    "    gains['gain']=(gains['cum_actual']/gains['cum_count']*100).round(2)\n",
    "    gains = pd.DataFrame(gains)\n",
    "    return(gains)"
   ]
  },
  {
   "cell_type": "code",
   "execution_count": 13,
   "metadata": {},
   "outputs": [],
   "source": [
    "X_train = train.drop(['bad30'], axis=1)\n",
    "Y_train = train['bad30']\n",
    "X_test = test.drop(['bad30'], axis=1)\n",
    "Y_test = test['bad30']\n",
    "Y_test = Y_test.reset_index().drop('index',axis = 1)"
   ]
  },
  {
   "cell_type": "code",
   "execution_count": 57,
   "metadata": {},
   "outputs": [],
   "source": [
    "def lasso_autotune(X,y):\n",
    "\t\n",
    "\tparam_test = {\n",
    "\t 'alpha':[1e-10, 1e-8, 1e-4,1e-2, 1, 5, 10, 100, 500, 1000] #set different levels of penalties and substitute into lasso model \n",
    "\t}\n",
    "   ##we run the cross validation 5 time for each penalty level and find the best tune\n",
    "   ## refit = True allows to put best parameters into lasso and get the best-fit model  \n",
    "\tgsearch = GridSearchCV(Lasso(fit_intercept=True, normalize=True, selection='random'),refit=True,\n",
    "\t                        param_grid = param_test, scoring='neg_mean_absolute_error',iid=True, cv=5)\n",
    "    \n",
    "\tgsearch.fit(X,y)\n",
    "\tprint('____________________________________________')\n",
    "\tprint('tune lasso')\n",
    "\tprint('____________________________________________')\n",
    "\tprint(gsearch.cv_results_)\n",
    "\tprint(gsearch.best_params_)\n",
    "\tprint(gsearch.best_score_)\n",
    "\tprint('ks_statistic: ', ks_statistic(y,gsearch.predict(X)))\n",
    "\treturn gsearch.best_estimator_"
   ]
  },
  {
   "cell_type": "code",
   "execution_count": 58,
   "metadata": {},
   "outputs": [
    {
     "name": "stdout",
     "output_type": "stream",
     "text": [
      "____________________________________________\n",
      "tune lasso\n",
      "____________________________________________\n",
      "{'mean_fit_time': array([2.5488874 , 1.64322152, 0.31785688, 0.31096611, 0.30935407,\n",
      "       0.31266956, 0.31371574, 0.29442925, 0.3232688 , 0.32168474]), 'std_fit_time': array([0.28422694, 0.21579969, 0.00284565, 0.00776935, 0.01412105,\n",
      "       0.00670276, 0.00576156, 0.01187341, 0.01368807, 0.01053179]), 'mean_score_time': array([0.02134342, 0.02254009, 0.01985645, 0.01894956, 0.02154551,\n",
      "       0.02284136, 0.02313762, 0.01875   , 0.02134385, 0.02154651]), 'std_score_time': array([0.00518609, 0.00360145, 0.00274535, 0.00327757, 0.00306676,\n",
      "       0.00354462, 0.00341973, 0.00193335, 0.00232565, 0.00336956]), 'param_alpha': masked_array(data=[1e-10, 1e-08, 0.0001, 0.01, 1, 5, 10, 100, 500, 1000],\n",
      "             mask=[False, False, False, False, False, False, False, False,\n",
      "                   False, False],\n",
      "       fill_value='?',\n",
      "            dtype=object), 'params': [{'alpha': 1e-10}, {'alpha': 1e-08}, {'alpha': 0.0001}, {'alpha': 0.01}, {'alpha': 1}, {'alpha': 5}, {'alpha': 10}, {'alpha': 100}, {'alpha': 500}, {'alpha': 1000}], 'split0_test_score': array([-0.29585484, -0.29585509, -0.30315462, -0.30687204, -0.30687204,\n",
      "       -0.30687204, -0.30687204, -0.30687204, -0.30687204, -0.30687204]), 'split1_test_score': array([-0.29628562, -0.29628567, -0.30434207, -0.30901515, -0.30901515,\n",
      "       -0.30901515, -0.30901515, -0.30901515, -0.30901515, -0.30901515]), 'split2_test_score': array([-0.29717635, -0.29717597, -0.30460002, -0.30889876, -0.30889876,\n",
      "       -0.30889876, -0.30889876, -0.30889876, -0.30889876, -0.30889876]), 'split3_test_score': array([-0.29722418, -0.29722413, -0.30482667, -0.30910248, -0.30910248,\n",
      "       -0.30910248, -0.30910248, -0.30910248, -0.30910248, -0.30910248]), 'split4_test_score': array([-0.29703865, -0.29703858, -0.30444893, -0.30849741, -0.30849741,\n",
      "       -0.30849741, -0.30849741, -0.30849741, -0.30849741, -0.30849741]), 'mean_test_score': array([-0.29671592, -0.29671588, -0.30427446, -0.30847717, -0.30847717,\n",
      "       -0.30847717, -0.30847717, -0.30847717, -0.30847717, -0.30847717]), 'std_test_score': array([0.00054793, 0.00054776, 0.00058309, 0.00082886, 0.00082886,\n",
      "       0.00082886, 0.00082886, 0.00082886, 0.00082886, 0.00082886]), 'rank_test_score': array([2, 1, 3, 4, 4, 4, 4, 4, 4, 4]), 'split0_train_score': array([-0.29707687, -0.29707764, -0.30526551, -0.30954711, -0.30954711,\n",
      "       -0.30954711, -0.30954711, -0.30954711, -0.30954711, -0.30954711]), 'split1_train_score': array([-0.29587286, -0.2958735 , -0.30399835, -0.30811612, -0.30811612,\n",
      "       -0.30811612, -0.30811612, -0.30811612, -0.30811612, -0.30811612]), 'split2_train_score': array([-0.29579538, -0.29579605, -0.30403469, -0.30819361, -0.30819361,\n",
      "       -0.30819361, -0.30819361, -0.30819361, -0.30819361, -0.30819361]), 'split3_train_score': array([-0.29571866, -0.29571934, -0.30384093, -0.30805799, -0.30805799,\n",
      "       -0.30805799, -0.30805799, -0.30805799, -0.30805799, -0.30805799]), 'split4_train_score': array([-0.29597463, -0.29597538, -0.30419905, -0.308461  , -0.308461  ,\n",
      "       -0.308461  , -0.308461  , -0.308461  , -0.308461  , -0.308461  ]), 'mean_train_score': array([-0.29608768, -0.29608838, -0.30426771, -0.30847517, -0.30847517,\n",
      "       -0.30847517, -0.30847517, -0.30847517, -0.30847517, -0.30847517]), 'std_train_score': array([0.00050181, 0.00050184, 0.00051172, 0.00055344, 0.00055344,\n",
      "       0.00055344, 0.00055344, 0.00055344, 0.00055344, 0.00055344])}\n",
      "{'alpha': 1e-08}\n",
      "-0.29671588131437215\n"
     ]
    },
    {
     "name": "stderr",
     "output_type": "stream",
     "text": [
      "C:\\Users\\13479\\Anaconda3\\lib\\site-packages\\ipykernel_launcher.py:8: FutureWarning: \n",
      ".ix is deprecated. Please use\n",
      ".loc for label based indexing or\n",
      ".iloc for positional indexing\n",
      "\n",
      "See the documentation here:\n",
      "http://pandas.pydata.org/pandas-docs/stable/user_guide/indexing.html#ix-indexer-is-deprecated\n",
      "  \n",
      "C:\\Users\\13479\\Anaconda3\\lib\\site-packages\\pandas\\core\\indexing.py:822: FutureWarning: \n",
      ".ix is deprecated. Please use\n",
      ".loc for label based indexing or\n",
      ".iloc for positional indexing\n",
      "\n",
      "See the documentation here:\n",
      "http://pandas.pydata.org/pandas-docs/stable/user_guide/indexing.html#ix-indexer-is-deprecated\n",
      "  retval = getattr(retval, self.name)._getitem_axis(key, axis=i)\n",
      "C:\\Users\\13479\\Anaconda3\\lib\\site-packages\\ipykernel_launcher.py:9: FutureWarning: \n",
      ".ix is deprecated. Please use\n",
      ".loc for label based indexing or\n",
      ".iloc for positional indexing\n",
      "\n",
      "See the documentation here:\n",
      "http://pandas.pydata.org/pandas-docs/stable/user_guide/indexing.html#ix-indexer-is-deprecated\n",
      "  if __name__ == '__main__':\n"
     ]
    },
    {
     "name": "stdout",
     "output_type": "stream",
     "text": [
      "ks_statistic:  0.29529936974789917\n",
      "===============\n",
      "lasso test score\n"
     ]
    },
    {
     "name": "stderr",
     "output_type": "stream",
     "text": [
      "C:\\Users\\13479\\Anaconda3\\lib\\site-packages\\ipykernel_launcher.py:8: FutureWarning: \n",
      ".ix is deprecated. Please use\n",
      ".loc for label based indexing or\n",
      ".iloc for positional indexing\n",
      "\n",
      "See the documentation here:\n",
      "http://pandas.pydata.org/pandas-docs/stable/user_guide/indexing.html#ix-indexer-is-deprecated\n",
      "  \n",
      "C:\\Users\\13479\\Anaconda3\\lib\\site-packages\\pandas\\core\\indexing.py:822: FutureWarning: \n",
      ".ix is deprecated. Please use\n",
      ".loc for label based indexing or\n",
      ".iloc for positional indexing\n",
      "\n",
      "See the documentation here:\n",
      "http://pandas.pydata.org/pandas-docs/stable/user_guide/indexing.html#ix-indexer-is-deprecated\n",
      "  retval = getattr(retval, self.name)._getitem_axis(key, axis=i)\n",
      "C:\\Users\\13479\\Anaconda3\\lib\\site-packages\\ipykernel_launcher.py:9: FutureWarning: \n",
      ".ix is deprecated. Please use\n",
      ".loc for label based indexing or\n",
      ".iloc for positional indexing\n",
      "\n",
      "See the documentation here:\n",
      "http://pandas.pydata.org/pandas-docs/stable/user_guide/indexing.html#ix-indexer-is-deprecated\n",
      "  if __name__ == '__main__':\n"
     ]
    },
    {
     "name": "stdout",
     "output_type": "stream",
     "text": [
      "ks_statistic:  0.29436435124508525\n",
      "===============\n"
     ]
    }
   ],
   "source": [
    "lasso_param = lasso_autotune(X_train, Y_train)\n",
    "print('='*15)\n",
    "print('lasso test score')\n",
    "print('ks_statistic: ', ks_statistic(Y_test['bad30'],lasso_param.predict(X_test)))\n",
    "print('='*15)"
   ]
  },
  {
   "cell_type": "code",
   "execution_count": 59,
   "metadata": {},
   "outputs": [
    {
     "data": {
      "text/plain": [
       "0.6629888788948024"
      ]
     },
     "execution_count": 59,
     "metadata": {},
     "output_type": "execute_result"
    }
   ],
   "source": [
    "roc_auc_score(Y_test['bad30'],lasso_param.predict(X_test))"
   ]
  },
  {
   "cell_type": "code",
   "execution_count": 60,
   "metadata": {},
   "outputs": [
    {
     "data": {
      "text/html": [
       "<div>\n",
       "<style scoped>\n",
       "    .dataframe tbody tr th:only-of-type {\n",
       "        vertical-align: middle;\n",
       "    }\n",
       "\n",
       "    .dataframe tbody tr th {\n",
       "        vertical-align: top;\n",
       "    }\n",
       "\n",
       "    .dataframe thead th {\n",
       "        text-align: right;\n",
       "    }\n",
       "</style>\n",
       "<table border=\"1\" class=\"dataframe\">\n",
       "  <thead>\n",
       "    <tr style=\"text-align: right;\">\n",
       "      <th></th>\n",
       "      <th>count</th>\n",
       "      <th>actual</th>\n",
       "      <th>non_actual</th>\n",
       "      <th>cum_count</th>\n",
       "      <th>cum_actual</th>\n",
       "      <th>cum_non_actual</th>\n",
       "      <th>percent_cum_actual</th>\n",
       "      <th>percent_cum_non_actual</th>\n",
       "      <th>if_random</th>\n",
       "      <th>lift</th>\n",
       "      <th>K_S</th>\n",
       "      <th>gain</th>\n",
       "    </tr>\n",
       "    <tr>\n",
       "      <th>decile</th>\n",
       "      <th></th>\n",
       "      <th></th>\n",
       "      <th></th>\n",
       "      <th></th>\n",
       "      <th></th>\n",
       "      <th></th>\n",
       "      <th></th>\n",
       "      <th></th>\n",
       "      <th></th>\n",
       "      <th></th>\n",
       "      <th></th>\n",
       "      <th></th>\n",
       "    </tr>\n",
       "  </thead>\n",
       "  <tbody>\n",
       "    <tr>\n",
       "      <td>0</td>\n",
       "      <td>1999</td>\n",
       "      <td>661.0</td>\n",
       "      <td>1338.0</td>\n",
       "      <td>1999</td>\n",
       "      <td>661.0</td>\n",
       "      <td>1338.0</td>\n",
       "      <td>0.17</td>\n",
       "      <td>0.08</td>\n",
       "      <td>381.5</td>\n",
       "      <td>1.73</td>\n",
       "      <td>9.0</td>\n",
       "      <td>33.07</td>\n",
       "    </tr>\n",
       "    <tr>\n",
       "      <td>1</td>\n",
       "      <td>1998</td>\n",
       "      <td>580.0</td>\n",
       "      <td>1418.0</td>\n",
       "      <td>3997</td>\n",
       "      <td>1241.0</td>\n",
       "      <td>2756.0</td>\n",
       "      <td>0.33</td>\n",
       "      <td>0.17</td>\n",
       "      <td>763.0</td>\n",
       "      <td>1.63</td>\n",
       "      <td>16.0</td>\n",
       "      <td>31.05</td>\n",
       "    </tr>\n",
       "    <tr>\n",
       "      <td>2</td>\n",
       "      <td>1998</td>\n",
       "      <td>538.0</td>\n",
       "      <td>1460.0</td>\n",
       "      <td>5995</td>\n",
       "      <td>1779.0</td>\n",
       "      <td>4216.0</td>\n",
       "      <td>0.47</td>\n",
       "      <td>0.26</td>\n",
       "      <td>1144.5</td>\n",
       "      <td>1.55</td>\n",
       "      <td>21.0</td>\n",
       "      <td>29.67</td>\n",
       "    </tr>\n",
       "    <tr>\n",
       "      <td>3</td>\n",
       "      <td>1999</td>\n",
       "      <td>440.0</td>\n",
       "      <td>1559.0</td>\n",
       "      <td>7994</td>\n",
       "      <td>2219.0</td>\n",
       "      <td>5775.0</td>\n",
       "      <td>0.58</td>\n",
       "      <td>0.36</td>\n",
       "      <td>1526.0</td>\n",
       "      <td>1.45</td>\n",
       "      <td>22.0</td>\n",
       "      <td>27.76</td>\n",
       "    </tr>\n",
       "    <tr>\n",
       "      <td>4</td>\n",
       "      <td>1998</td>\n",
       "      <td>404.0</td>\n",
       "      <td>1594.0</td>\n",
       "      <td>9992</td>\n",
       "      <td>2623.0</td>\n",
       "      <td>7369.0</td>\n",
       "      <td>0.69</td>\n",
       "      <td>0.46</td>\n",
       "      <td>1907.5</td>\n",
       "      <td>1.38</td>\n",
       "      <td>23.0</td>\n",
       "      <td>26.25</td>\n",
       "    </tr>\n",
       "    <tr>\n",
       "      <td>5</td>\n",
       "      <td>1998</td>\n",
       "      <td>370.0</td>\n",
       "      <td>1628.0</td>\n",
       "      <td>11990</td>\n",
       "      <td>2993.0</td>\n",
       "      <td>8997.0</td>\n",
       "      <td>0.78</td>\n",
       "      <td>0.56</td>\n",
       "      <td>2289.0</td>\n",
       "      <td>1.31</td>\n",
       "      <td>22.0</td>\n",
       "      <td>24.96</td>\n",
       "    </tr>\n",
       "    <tr>\n",
       "      <td>6</td>\n",
       "      <td>1999</td>\n",
       "      <td>313.0</td>\n",
       "      <td>1686.0</td>\n",
       "      <td>13989</td>\n",
       "      <td>3306.0</td>\n",
       "      <td>10683.0</td>\n",
       "      <td>0.87</td>\n",
       "      <td>0.66</td>\n",
       "      <td>2670.5</td>\n",
       "      <td>1.24</td>\n",
       "      <td>21.0</td>\n",
       "      <td>23.63</td>\n",
       "    </tr>\n",
       "    <tr>\n",
       "      <td>7</td>\n",
       "      <td>1998</td>\n",
       "      <td>263.0</td>\n",
       "      <td>1735.0</td>\n",
       "      <td>15987</td>\n",
       "      <td>3569.0</td>\n",
       "      <td>12418.0</td>\n",
       "      <td>0.94</td>\n",
       "      <td>0.77</td>\n",
       "      <td>3052.0</td>\n",
       "      <td>1.17</td>\n",
       "      <td>17.0</td>\n",
       "      <td>22.32</td>\n",
       "    </tr>\n",
       "    <tr>\n",
       "      <td>8</td>\n",
       "      <td>1998</td>\n",
       "      <td>160.0</td>\n",
       "      <td>1838.0</td>\n",
       "      <td>17985</td>\n",
       "      <td>3729.0</td>\n",
       "      <td>14256.0</td>\n",
       "      <td>0.98</td>\n",
       "      <td>0.88</td>\n",
       "      <td>3433.5</td>\n",
       "      <td>1.09</td>\n",
       "      <td>10.0</td>\n",
       "      <td>20.73</td>\n",
       "    </tr>\n",
       "    <tr>\n",
       "      <td>9</td>\n",
       "      <td>1998</td>\n",
       "      <td>86.0</td>\n",
       "      <td>1912.0</td>\n",
       "      <td>19983</td>\n",
       "      <td>3815.0</td>\n",
       "      <td>16168.0</td>\n",
       "      <td>1.00</td>\n",
       "      <td>1.00</td>\n",
       "      <td>3815.0</td>\n",
       "      <td>1.00</td>\n",
       "      <td>0.0</td>\n",
       "      <td>19.09</td>\n",
       "    </tr>\n",
       "  </tbody>\n",
       "</table>\n",
       "</div>"
      ],
      "text/plain": [
       "        count  actual  non_actual  cum_count  cum_actual  cum_non_actual  \\\n",
       "decile                                                                     \n",
       "0        1999   661.0      1338.0       1999       661.0          1338.0   \n",
       "1        1998   580.0      1418.0       3997      1241.0          2756.0   \n",
       "2        1998   538.0      1460.0       5995      1779.0          4216.0   \n",
       "3        1999   440.0      1559.0       7994      2219.0          5775.0   \n",
       "4        1998   404.0      1594.0       9992      2623.0          7369.0   \n",
       "5        1998   370.0      1628.0      11990      2993.0          8997.0   \n",
       "6        1999   313.0      1686.0      13989      3306.0         10683.0   \n",
       "7        1998   263.0      1735.0      15987      3569.0         12418.0   \n",
       "8        1998   160.0      1838.0      17985      3729.0         14256.0   \n",
       "9        1998    86.0      1912.0      19983      3815.0         16168.0   \n",
       "\n",
       "        percent_cum_actual  percent_cum_non_actual  if_random  lift   K_S  \\\n",
       "decile                                                                      \n",
       "0                     0.17                    0.08      381.5  1.73   9.0   \n",
       "1                     0.33                    0.17      763.0  1.63  16.0   \n",
       "2                     0.47                    0.26     1144.5  1.55  21.0   \n",
       "3                     0.58                    0.36     1526.0  1.45  22.0   \n",
       "4                     0.69                    0.46     1907.5  1.38  23.0   \n",
       "5                     0.78                    0.56     2289.0  1.31  22.0   \n",
       "6                     0.87                    0.66     2670.5  1.24  21.0   \n",
       "7                     0.94                    0.77     3052.0  1.17  17.0   \n",
       "8                     0.98                    0.88     3433.5  1.09  10.0   \n",
       "9                     1.00                    1.00     3815.0  1.00   0.0   \n",
       "\n",
       "         gain  \n",
       "decile         \n",
       "0       33.07  \n",
       "1       31.05  \n",
       "2       29.67  \n",
       "3       27.76  \n",
       "4       26.25  \n",
       "5       24.96  \n",
       "6       23.63  \n",
       "7       22.32  \n",
       "8       20.73  \n",
       "9       19.09  "
      ]
     },
     "execution_count": 60,
     "metadata": {},
     "output_type": "execute_result"
    }
   ],
   "source": [
    "createGains(Y_test['bad30'],lasso_param.predict(X_test))"
   ]
  },
  {
   "cell_type": "code",
   "execution_count": 24,
   "metadata": {},
   "outputs": [],
   "source": [
    "def ridge_autotune(X,y):\n",
    "\t\n",
    "\tparam_test = {\n",
    "\t 'alpha':[1e-10, 1e-8, 1e-4,1e-2, 1, 5, 10, 100],\n",
    "\t 'solver':['auto', 'svd', 'cholesky', 'lsqr', 'sparse_cg', 'sag', 'saga']\n",
    "\t}\n",
    "\n",
    "\tgsearch = GridSearchCV(Ridge(),refit=True,\n",
    "\t                        param_grid = param_test, scoring='neg_mean_absolute_error',iid=True, cv=5)\n",
    "\tgsearch.fit(X,y)\n",
    "\tprint('____________________________________________')\n",
    "\tprint('tune ridge')\n",
    "\tprint('____________________________________________')\n",
    "\tprint(gsearch.cv_results_)\n",
    "\tprint(gsearch.best_params_)\n",
    "\tprint(gsearch.best_score_)\n",
    "\tprint(ks_statistic(gsearch.predict(X),y))\n",
    "\n",
    "\treturn gsearch.best_estimator_"
   ]
  },
  {
   "cell_type": "code",
   "execution_count": 26,
   "metadata": {},
   "outputs": [
    {
     "name": "stdout",
     "output_type": "stream",
     "text": [
      "____________________________________________\n",
      "tune ridge\n",
      "____________________________________________\n",
      "{'mean_fit_time': array([ 0.20485177,  0.45538173,  0.21123524,  0.18710165,  0.34985838,\n",
      "       60.6587513 , 71.4405458 ,  0.19487872,  0.46854758,  0.20385475,\n",
      "        0.17174144,  0.37719507, 60.96168666, 86.98515553,  0.22490516,\n",
      "        0.54329481,  0.23846197,  0.23348293,  0.46022406, 69.89666176,\n",
      "       80.51625772,  0.23199248,  0.59234247,  0.24066119,  0.24648094,\n",
      "        0.46775279, 70.40808916, 80.55457335,  0.2431571 ,  0.62883859,\n",
      "        0.2550818 ,  0.24115858,  0.46365538, 67.71954484, 81.27643542,\n",
      "        0.22849598,  0.54511533,  0.22232919,  0.23058877,  0.45051584,\n",
      "       68.38036933, 76.30807066,  0.23278093,  0.5295167 ,  0.22960572,\n",
      "        0.21783872,  0.4537921 , 67.51474714, 74.10936003,  0.21476088,\n",
      "        0.50073905,  0.2085494 ,  0.21203413,  0.45780921, 61.56576552,\n",
      "       71.56058164]), 'std_fit_time': array([1.98021799e-02, 1.34037325e-02, 4.69531528e-03, 1.31795190e-02,\n",
      "       3.73496652e-02, 1.08765660e+01, 1.00227108e+01, 2.30090544e-02,\n",
      "       1.77907712e-02, 1.60016909e-02, 1.08777014e-02, 4.76398970e-02,\n",
      "       1.14747532e+01, 2.14742141e+01, 8.45768820e-03, 1.55679510e-02,\n",
      "       9.85039885e-03, 7.50149588e-03, 2.23281349e-02, 1.41098185e+01,\n",
      "       9.95122324e+00, 3.91793252e-03, 2.43142890e-02, 1.44541155e-02,\n",
      "       1.37423086e-02, 2.96535114e-02, 1.39015100e+01, 1.10968602e+01,\n",
      "       1.61108883e-02, 3.56856628e-02, 2.50449824e-02, 1.19021484e-02,\n",
      "       4.59652777e-02, 1.37090664e+01, 1.22637945e+01, 1.10276431e-02,\n",
      "       1.63385290e-02, 9.51053317e-03, 1.54700709e-02, 2.28066951e-02,\n",
      "       1.40621704e+01, 1.10192848e+01, 1.77298713e-02, 1.16038508e-02,\n",
      "       1.63296221e-02, 1.12897431e-02, 2.75146146e-02, 1.22096785e+01,\n",
      "       9.67614431e+00, 1.43968498e-02, 2.03021229e-02, 2.34801187e-02,\n",
      "       1.64076391e-02, 1.23613525e-01, 1.21227917e+01, 1.00133099e+01]), 'mean_score_time': array([0.01775227, 0.01695485, 0.02154217, 0.01954575, 0.01775122,\n",
      "       0.01474805, 0.01433783, 0.0177526 , 0.01456099, 0.01715441,\n",
      "       0.02353616, 0.01794844, 0.02432289, 0.01776996, 0.01954818,\n",
      "       0.02094417, 0.02204304, 0.024929  , 0.02333741, 0.01734753,\n",
      "       0.03698878, 0.02044697, 0.02234035, 0.02094316, 0.02343712,\n",
      "       0.02712665, 0.01665955, 0.01674504, 0.02054501, 0.02453341,\n",
      "       0.02293673, 0.01914639, 0.02333689, 0.01753349, 0.01740799,\n",
      "       0.01894908, 0.01975026, 0.02014842, 0.05704594, 0.02373533,\n",
      "       0.01714792, 0.01674867, 0.01934853, 0.01815119, 0.02064667,\n",
      "       0.02154031, 0.0196444 , 0.01573062, 0.0154129 , 0.02014594,\n",
      "       0.01994896, 0.01815147, 0.02273798, 0.01937957, 0.01734648,\n",
      "       0.01496983]), 'std_score_time': array([0.00405838, 0.00227416, 0.00312917, 0.00376335, 0.00434242,\n",
      "       0.00074362, 0.00049895, 0.00375302, 0.00048836, 0.00405855,\n",
      "       0.00240939, 0.00383504, 0.02027642, 0.00178904, 0.00430754,\n",
      "       0.00432443, 0.00286287, 0.00295712, 0.00499111, 0.00185449,\n",
      "       0.0393402 , 0.0031201 , 0.0022389 , 0.0030252 , 0.00183945,\n",
      "       0.00311524, 0.00134626, 0.00159099, 0.00232553, 0.00337161,\n",
      "       0.00383509, 0.0029184 , 0.00101609, 0.00206595, 0.00156774,\n",
      "       0.00274943, 0.00171165, 0.00369795, 0.07373303, 0.00405898,\n",
      "       0.00097845, 0.0016025 , 0.00312826, 0.00263062, 0.00153048,\n",
      "       0.00325213, 0.00500211, 0.00147193, 0.00115711, 0.00364499,\n",
      "       0.0043244 , 0.00159565, 0.0027054 , 0.00203412, 0.002648  ,\n",
      "       0.00066484]), 'param_alpha': masked_array(data=[1e-10, 1e-10, 1e-10, 1e-10, 1e-10, 1e-10, 1e-10, 1e-08,\n",
      "                   1e-08, 1e-08, 1e-08, 1e-08, 1e-08, 1e-08, 0.0001,\n",
      "                   0.0001, 0.0001, 0.0001, 0.0001, 0.0001, 0.0001, 0.01,\n",
      "                   0.01, 0.01, 0.01, 0.01, 0.01, 0.01, 1, 1, 1, 1, 1, 1,\n",
      "                   1, 5, 5, 5, 5, 5, 5, 5, 10, 10, 10, 10, 10, 10, 10,\n",
      "                   100, 100, 100, 100, 100, 100, 100],\n",
      "             mask=[False, False, False, False, False, False, False, False,\n",
      "                   False, False, False, False, False, False, False, False,\n",
      "                   False, False, False, False, False, False, False, False,\n",
      "                   False, False, False, False, False, False, False, False,\n",
      "                   False, False, False, False, False, False, False, False,\n",
      "                   False, False, False, False, False, False, False, False,\n",
      "                   False, False, False, False, False, False, False, False],\n",
      "       fill_value='?',\n",
      "            dtype=object), 'param_solver': masked_array(data=['auto', 'svd', 'cholesky', 'lsqr', 'sparse_cg', 'sag',\n",
      "                   'saga', 'auto', 'svd', 'cholesky', 'lsqr', 'sparse_cg',\n",
      "                   'sag', 'saga', 'auto', 'svd', 'cholesky', 'lsqr',\n",
      "                   'sparse_cg', 'sag', 'saga', 'auto', 'svd', 'cholesky',\n",
      "                   'lsqr', 'sparse_cg', 'sag', 'saga', 'auto', 'svd',\n",
      "                   'cholesky', 'lsqr', 'sparse_cg', 'sag', 'saga', 'auto',\n",
      "                   'svd', 'cholesky', 'lsqr', 'sparse_cg', 'sag', 'saga',\n",
      "                   'auto', 'svd', 'cholesky', 'lsqr', 'sparse_cg', 'sag',\n",
      "                   'saga', 'auto', 'svd', 'cholesky', 'lsqr', 'sparse_cg',\n",
      "                   'sag', 'saga'],\n",
      "             mask=[False, False, False, False, False, False, False, False,\n",
      "                   False, False, False, False, False, False, False, False,\n",
      "                   False, False, False, False, False, False, False, False,\n",
      "                   False, False, False, False, False, False, False, False,\n",
      "                   False, False, False, False, False, False, False, False,\n",
      "                   False, False, False, False, False, False, False, False,\n",
      "                   False, False, False, False, False, False, False, False],\n",
      "       fill_value='?',\n",
      "            dtype=object), 'params': [{'alpha': 1e-10, 'solver': 'auto'}, {'alpha': 1e-10, 'solver': 'svd'}, {'alpha': 1e-10, 'solver': 'cholesky'}, {'alpha': 1e-10, 'solver': 'lsqr'}, {'alpha': 1e-10, 'solver': 'sparse_cg'}, {'alpha': 1e-10, 'solver': 'sag'}, {'alpha': 1e-10, 'solver': 'saga'}, {'alpha': 1e-08, 'solver': 'auto'}, {'alpha': 1e-08, 'solver': 'svd'}, {'alpha': 1e-08, 'solver': 'cholesky'}, {'alpha': 1e-08, 'solver': 'lsqr'}, {'alpha': 1e-08, 'solver': 'sparse_cg'}, {'alpha': 1e-08, 'solver': 'sag'}, {'alpha': 1e-08, 'solver': 'saga'}, {'alpha': 0.0001, 'solver': 'auto'}, {'alpha': 0.0001, 'solver': 'svd'}, {'alpha': 0.0001, 'solver': 'cholesky'}, {'alpha': 0.0001, 'solver': 'lsqr'}, {'alpha': 0.0001, 'solver': 'sparse_cg'}, {'alpha': 0.0001, 'solver': 'sag'}, {'alpha': 0.0001, 'solver': 'saga'}, {'alpha': 0.01, 'solver': 'auto'}, {'alpha': 0.01, 'solver': 'svd'}, {'alpha': 0.01, 'solver': 'cholesky'}, {'alpha': 0.01, 'solver': 'lsqr'}, {'alpha': 0.01, 'solver': 'sparse_cg'}, {'alpha': 0.01, 'solver': 'sag'}, {'alpha': 0.01, 'solver': 'saga'}, {'alpha': 1, 'solver': 'auto'}, {'alpha': 1, 'solver': 'svd'}, {'alpha': 1, 'solver': 'cholesky'}, {'alpha': 1, 'solver': 'lsqr'}, {'alpha': 1, 'solver': 'sparse_cg'}, {'alpha': 1, 'solver': 'sag'}, {'alpha': 1, 'solver': 'saga'}, {'alpha': 5, 'solver': 'auto'}, {'alpha': 5, 'solver': 'svd'}, {'alpha': 5, 'solver': 'cholesky'}, {'alpha': 5, 'solver': 'lsqr'}, {'alpha': 5, 'solver': 'sparse_cg'}, {'alpha': 5, 'solver': 'sag'}, {'alpha': 5, 'solver': 'saga'}, {'alpha': 10, 'solver': 'auto'}, {'alpha': 10, 'solver': 'svd'}, {'alpha': 10, 'solver': 'cholesky'}, {'alpha': 10, 'solver': 'lsqr'}, {'alpha': 10, 'solver': 'sparse_cg'}, {'alpha': 10, 'solver': 'sag'}, {'alpha': 10, 'solver': 'saga'}, {'alpha': 100, 'solver': 'auto'}, {'alpha': 100, 'solver': 'svd'}, {'alpha': 100, 'solver': 'cholesky'}, {'alpha': 100, 'solver': 'lsqr'}, {'alpha': 100, 'solver': 'sparse_cg'}, {'alpha': 100, 'solver': 'sag'}, {'alpha': 100, 'solver': 'saga'}], 'split0_test_score': array([-0.29585483, -0.29585483, -0.29585483, -0.30677846, -0.30538161,\n",
      "       -0.3067579 , -0.3067671 , -0.29585483, -0.29585483, -0.29585483,\n",
      "       -0.30677846, -0.30538161, -0.30675785, -0.30676709, -0.29585483,\n",
      "       -0.29585483, -0.29585483, -0.30677846, -0.30538269, -0.30675787,\n",
      "       -0.30676711, -0.29585495, -0.29585495, -0.29585495, -0.30677846,\n",
      "       -0.30537743, -0.30675787, -0.30676709, -0.29586187, -0.29586187,\n",
      "       -0.29586187, -0.30677846, -0.30515472, -0.30675786, -0.3067671 ,\n",
      "       -0.29588088, -0.29588088, -0.29588088, -0.30677846, -0.30515464,\n",
      "       -0.30675785, -0.30676709, -0.29589455, -0.29589455, -0.29589455,\n",
      "       -0.30677846, -0.30515465, -0.30675787, -0.30676707, -0.29596953,\n",
      "       -0.29596953, -0.29596953, -0.30677846, -0.30537831, -0.30675786,\n",
      "       -0.30676709]), 'split1_test_score': array([-0.29628562, -0.29628562, -0.29628562, -0.30904594, -0.30727928,\n",
      "       -0.30905138, -0.30906352, -0.29628562, -0.29628562, -0.29628562,\n",
      "       -0.30904594, -0.30727928, -0.3090514 , -0.30906351, -0.29628562,\n",
      "       -0.29628562, -0.29628562, -0.30904594, -0.30699962, -0.30905138,\n",
      "       -0.30906352, -0.29628546, -0.29628546, -0.29628546, -0.30904594,\n",
      "       -0.30699949, -0.30905137, -0.30906353, -0.29627818, -0.29627818,\n",
      "       -0.29627818, -0.30904594, -0.30699956, -0.30905137, -0.30906354,\n",
      "       -0.29628016, -0.29628016, -0.29628016, -0.30904594, -0.30727947,\n",
      "       -0.30905137, -0.30906352, -0.29628634, -0.29628634, -0.29628634,\n",
      "       -0.30904594, -0.30699979, -0.30905136, -0.30906353, -0.29634264,\n",
      "       -0.29634264, -0.29634264, -0.30904594, -0.30727939, -0.30905139,\n",
      "       -0.30906349]), 'split2_test_score': array([-0.29717636, -0.29717636, -0.29717636, -0.30883149, -0.30768643,\n",
      "       -0.30878392, -0.30879849, -0.29717636, -0.29717636, -0.29717636,\n",
      "       -0.30883149, -0.30768643, -0.30878398, -0.30879849, -0.29717636,\n",
      "       -0.29717636, -0.29717636, -0.30883149, -0.30768653, -0.30878397,\n",
      "       -0.30879852, -0.29717624, -0.29717624, -0.29717624, -0.30883149,\n",
      "       -0.30768704, -0.30878396, -0.30879851, -0.29717134, -0.29717134,\n",
      "       -0.29717134, -0.30883149, -0.3076871 , -0.30878394, -0.3087985 ,\n",
      "       -0.29718444, -0.29718444, -0.29718444, -0.30883149, -0.30768839,\n",
      "       -0.30878396, -0.30879848, -0.29720479, -0.29720479, -0.29720479,\n",
      "       -0.30883149, -0.30768746, -0.30878394, -0.30879847, -0.29728222,\n",
      "       -0.29728222, -0.29728222, -0.30883149, -0.30768619, -0.30878394,\n",
      "       -0.30879847]), 'split3_test_score': array([-0.29722418, -0.29722418, -0.29722418, -0.30899257, -0.30749582,\n",
      "       -0.30896098, -0.30896999, -0.29722418, -0.29722418, -0.29722418,\n",
      "       -0.30899257, -0.30749582, -0.30896098, -0.30897   , -0.29722418,\n",
      "       -0.29722418, -0.29722418, -0.30899257, -0.3074959 , -0.30896099,\n",
      "       -0.30897   , -0.29722434, -0.29722434, -0.29722434, -0.30899257,\n",
      "       -0.30722239, -0.30896096, -0.30896999, -0.29723793, -0.29723793,\n",
      "       -0.29723793, -0.30899257, -0.30749596, -0.30896094, -0.30897001,\n",
      "       -0.29727863, -0.29727863, -0.29727863, -0.30899257, -0.30722191,\n",
      "       -0.30896098, -0.30896999, -0.29731254, -0.29731254, -0.29731254,\n",
      "       -0.30899257, -0.30749573, -0.30896097, -0.30897   , -0.29744316,\n",
      "       -0.29744316, -0.29744316, -0.30899257, -0.30722283, -0.30896095,\n",
      "       -0.30897   ]), 'split4_test_score': array([-0.29703865, -0.29703865, -0.29703865, -0.30846195, -0.30669795,\n",
      "       -0.30842441, -0.30843744, -0.29703865, -0.29703865, -0.29703865,\n",
      "       -0.30846195, -0.30669796, -0.30842442, -0.30843743, -0.29703865,\n",
      "       -0.29703865, -0.29703865, -0.30846195, -0.30680661, -0.30842442,\n",
      "       -0.30843745, -0.29703878, -0.29703878, -0.29703878, -0.30846195,\n",
      "       -0.30680546, -0.30842442, -0.30843746, -0.2970522 , -0.2970522 ,\n",
      "       -0.2970522 , -0.30846195, -0.30680569, -0.30842448, -0.30843747,\n",
      "       -0.29709438, -0.29709438, -0.29709438, -0.30846195, -0.30680385,\n",
      "       -0.30842439, -0.30843747, -0.29711783, -0.29711783, -0.29711783,\n",
      "       -0.30846195, -0.30680383, -0.30842443, -0.30843747, -0.29714273,\n",
      "       -0.29714273, -0.29714273, -0.30846195, -0.30669532, -0.30842443,\n",
      "       -0.30843746]), 'mean_test_score': array([-0.29671592, -0.29671592, -0.29671592, -0.30842208, -0.30690822,\n",
      "       -0.30839572, -0.30840731, -0.29671592, -0.29671592, -0.29671592,\n",
      "       -0.30842208, -0.30690822, -0.30839573, -0.30840731, -0.29671592,\n",
      "       -0.29671592, -0.29671592, -0.30842208, -0.30687427, -0.30839572,\n",
      "       -0.30840732, -0.29671595, -0.29671595, -0.29671595, -0.30842208,\n",
      "       -0.30681836, -0.30839571, -0.30840731, -0.2967203 , -0.2967203 ,\n",
      "       -0.2967203 , -0.30842208, -0.3068286 , -0.30839572, -0.30840732,\n",
      "       -0.29674369, -0.29674369, -0.29674369, -0.30842208, -0.30682965,\n",
      "       -0.30839571, -0.30840731, -0.29676321, -0.29676321, -0.29676321,\n",
      "       -0.30842208, -0.30682829, -0.30839571, -0.30840731, -0.29683605,\n",
      "       -0.29683605, -0.29683605, -0.30842208, -0.30685241, -0.30839571,\n",
      "       -0.3084073 ]), 'std_test_score': array([0.00054793, 0.00054793, 0.00054793, 0.0008468 , 0.00083227,\n",
      "       0.00084657, 0.00084752, 0.00054793, 0.00054793, 0.00054793,\n",
      "       0.0008468 , 0.00083227, 0.0008466 , 0.00084753, 0.00054793,\n",
      "       0.00054793, 0.00054793, 0.0008468 , 0.00081134, 0.00084659,\n",
      "       0.00084752, 0.00054794, 0.00054794, 0.00054794, 0.0008468 ,\n",
      "       0.00077809, 0.00084658, 0.00084753, 0.00055026, 0.00055026,\n",
      "       0.00055026, 0.0008468 , 0.000896  , 0.00084658, 0.00084753,\n",
      "       0.00055906, 0.00055906, 0.00055906, 0.0008468 , 0.00088318,\n",
      "       0.00084659, 0.00084753, 0.00056648, 0.00056648, 0.00056648,\n",
      "       0.0008468 , 0.00089608, 0.00084658, 0.00084754, 0.00057551,\n",
      "       0.00057551, 0.00057551, 0.0008468 , 0.00080155, 0.00084659,\n",
      "       0.00084752]), 'rank_test_score': array([ 1,  3,  1, 49, 31, 38, 45,  4,  6,  4, 49, 32, 40, 42,  7,  9,  7,\n",
      "       49, 30, 39, 47, 10, 12, 10, 49, 25, 36, 46, 13, 15, 13, 49, 27, 37,\n",
      "       48, 16, 18, 16, 56, 28, 33, 44, 19, 21, 19, 49, 26, 35, 43, 22, 24,\n",
      "       22, 49, 29, 34, 41]), 'split0_train_score': array([-0.29707686, -0.29707686, -0.29707686, -0.30946153, -0.30770563,\n",
      "       -0.30942288, -0.30943293, -0.29707686, -0.29707686, -0.29707686,\n",
      "       -0.30946153, -0.30770563, -0.30942285, -0.30943292, -0.29707687,\n",
      "       -0.29707687, -0.29707687, -0.30946153, -0.30770598, -0.30942286,\n",
      "       -0.30943294, -0.29707709, -0.29707709, -0.29707709, -0.30946153,\n",
      "       -0.30770432, -0.30942285, -0.30943293, -0.2970958 , -0.2970958 ,\n",
      "       -0.2970958 , -0.30946153, -0.3074421 , -0.30942285, -0.30943294,\n",
      "       -0.2971442 , -0.2971442 , -0.2971442 , -0.30946153, -0.30744211,\n",
      "       -0.30942285, -0.30943294, -0.29718019, -0.29718019, -0.29718019,\n",
      "       -0.30946153, -0.30744211, -0.30942286, -0.30943292, -0.29730856,\n",
      "       -0.29730856, -0.29730856, -0.30946153, -0.3077046 , -0.30942284,\n",
      "       -0.30943292]), 'split1_train_score': array([-0.29587286, -0.29587286, -0.29587286, -0.30803816, -0.30645029,\n",
      "       -0.30791813, -0.3079557 , -0.29587286, -0.29587286, -0.29587286,\n",
      "       -0.30803816, -0.30645029, -0.30791813, -0.30795574, -0.29587286,\n",
      "       -0.29587286, -0.29587286, -0.30803816, -0.30619507, -0.30791812,\n",
      "       -0.3079557 , -0.29587309, -0.29587309, -0.29587309, -0.30803816,\n",
      "       -0.306195  , -0.30791813, -0.30795571, -0.29589373, -0.29589373,\n",
      "       -0.29589373, -0.30803816, -0.30619492, -0.30791812, -0.3079557 ,\n",
      "       -0.29594615, -0.29594615, -0.29594615, -0.30803816, -0.3064479 ,\n",
      "       -0.30791813, -0.30795575, -0.29598362, -0.29598362, -0.29598362,\n",
      "       -0.30803816, -0.3061951 , -0.30791811, -0.30795568, -0.29611165,\n",
      "       -0.29611165, -0.29611165, -0.30803816, -0.30645024, -0.30791813,\n",
      "       -0.30795569]), 'split2_train_score': array([-0.29579537, -0.29579537, -0.29579537, -0.30810593, -0.30637722,\n",
      "       -0.30808304, -0.30809103, -0.29579537, -0.29579537, -0.29579537,\n",
      "       -0.30810593, -0.30637722, -0.30808309, -0.30809104, -0.29579537,\n",
      "       -0.29579537, -0.29579537, -0.30810593, -0.30637727, -0.30808309,\n",
      "       -0.30809106, -0.2957956 , -0.2957956 , -0.2957956 , -0.30810593,\n",
      "       -0.30637754, -0.30808309, -0.30809104, -0.29581521, -0.29581521,\n",
      "       -0.29581521, -0.30810593, -0.30637747, -0.30808305, -0.30809104,\n",
      "       -0.29586533, -0.29586533, -0.29586533, -0.30810593, -0.30637799,\n",
      "       -0.30808307, -0.30809103, -0.29589929, -0.29589929, -0.29589929,\n",
      "       -0.30810593, -0.30637765, -0.30808307, -0.30809102, -0.29602358,\n",
      "       -0.29602358, -0.29602358, -0.30810593, -0.30637719, -0.30808305,\n",
      "       -0.30809102]), 'split3_train_score': array([-0.29571865, -0.29571865, -0.29571865, -0.30799318, -0.30648016,\n",
      "       -0.30796062, -0.30796888, -0.29571865, -0.29571865, -0.29571865,\n",
      "       -0.30799318, -0.30648016, -0.3079606 , -0.30796889, -0.29571865,\n",
      "       -0.29571865, -0.29571865, -0.30799318, -0.30648017, -0.30796062,\n",
      "       -0.30796888, -0.29571878, -0.29571878, -0.29571878, -0.30799318,\n",
      "       -0.30624968, -0.30796058, -0.30796888, -0.29573138, -0.29573138,\n",
      "       -0.29573138, -0.30799318, -0.30647977, -0.3079606 , -0.3079689 ,\n",
      "       -0.29577074, -0.29577074, -0.29577074, -0.30799318, -0.30624967,\n",
      "       -0.30796064, -0.30796887, -0.29580051, -0.29580051, -0.29580051,\n",
      "       -0.30799318, -0.3064803 , -0.30796061, -0.3079689 , -0.29591318,\n",
      "       -0.29591318, -0.29591318, -0.30799318, -0.30624964, -0.30796059,\n",
      "       -0.30796889]), 'split4_train_score': array([-0.29597462, -0.29597462, -0.29597462, -0.308402  , -0.30637117,\n",
      "       -0.30835863, -0.30836931, -0.29597462, -0.29597462, -0.29597462,\n",
      "       -0.308402  , -0.30637118, -0.30835865, -0.3083693 , -0.29597463,\n",
      "       -0.29597463, -0.29597463, -0.308402  , -0.30664972, -0.30835865,\n",
      "       -0.30836932, -0.29597478, -0.29597478, -0.29597478, -0.308402  ,\n",
      "       -0.30664802, -0.30835866, -0.30836933, -0.29599202, -0.29599202,\n",
      "       -0.29599202, -0.308402  , -0.30664817, -0.30835871, -0.30836934,\n",
      "       -0.29603867, -0.29603867, -0.29603867, -0.308402  , -0.30664528,\n",
      "       -0.30835864, -0.30836933, -0.29607199, -0.29607199, -0.29607199,\n",
      "       -0.308402  , -0.30664524, -0.30835865, -0.30836933, -0.29619321,\n",
      "       -0.29619321, -0.29619321, -0.308402  , -0.30637117, -0.30835868,\n",
      "       -0.30836933]), 'mean_train_score': array([-0.29608767, -0.29608767, -0.29608767, -0.30840016, -0.30667689,\n",
      "       -0.30834866, -0.30836357, -0.29608767, -0.29608767, -0.29608767,\n",
      "       -0.30840016, -0.30667689, -0.30834867, -0.30836358, -0.29608768,\n",
      "       -0.29608768, -0.29608768, -0.30840016, -0.30668164, -0.30834867,\n",
      "       -0.30836358, -0.29608787, -0.29608787, -0.29608787, -0.30840016,\n",
      "       -0.30663491, -0.30834866, -0.30836358, -0.29610563, -0.29610563,\n",
      "       -0.29610563, -0.30840016, -0.30662849, -0.30834867, -0.30836358,\n",
      "       -0.29615302, -0.29615302, -0.29615302, -0.30840016, -0.30663259,\n",
      "       -0.30834867, -0.30836358, -0.29618712, -0.29618712, -0.29618712,\n",
      "       -0.30840016, -0.30662808, -0.30834866, -0.30836357, -0.29631004,\n",
      "       -0.29631004, -0.29631004, -0.30840016, -0.30663057, -0.30834866,\n",
      "       -0.30836357]), 'std_train_score': array([0.00050181, 0.00050181, 0.00050181, 0.0005495 , 0.00051607,\n",
      "       0.00055867, 0.00055497, 0.00050181, 0.00050181, 0.00050181,\n",
      "       0.0005495 , 0.00051607, 0.00055865, 0.00055496, 0.00050181,\n",
      "       0.00050181, 0.00050181, 0.0005495 , 0.00053297, 0.00055865,\n",
      "       0.00055497, 0.00050182, 0.00050182, 0.00050182, 0.0005495 ,\n",
      "       0.00055713, 0.00055865, 0.00055497, 0.00050252, 0.00050252,\n",
      "       0.00050252, 0.0005495 , 0.00043254, 0.00055866, 0.00055497,\n",
      "       0.00050343, 0.00050343, 0.00050343, 0.0005495 , 0.00042451,\n",
      "       0.00055865, 0.00055497, 0.00050461, 0.00050461, 0.00050461,\n",
      "       0.0005495 , 0.00043243, 0.00055866, 0.00055497, 0.00050786,\n",
      "       0.00050786, 0.00050786, 0.0005495 , 0.00054086, 0.00055865,\n",
      "       0.00055497])}\n",
      "{'alpha': 1e-10, 'solver': 'auto'}\n",
      "-0.2967159240077599\n"
     ]
    },
    {
     "name": "stderr",
     "output_type": "stream",
     "text": [
      "C:\\Users\\13479\\Anaconda3\\lib\\site-packages\\ipykernel_launcher.py:8: FutureWarning: \n",
      ".ix is deprecated. Please use\n",
      ".loc for label based indexing or\n",
      ".iloc for positional indexing\n",
      "\n",
      "See the documentation here:\n",
      "http://pandas.pydata.org/pandas-docs/stable/user_guide/indexing.html#ix-indexer-is-deprecated\n",
      "  \n",
      "C:\\Users\\13479\\Anaconda3\\lib\\site-packages\\pandas\\core\\indexing.py:822: FutureWarning: \n",
      ".ix is deprecated. Please use\n",
      ".loc for label based indexing or\n",
      ".iloc for positional indexing\n",
      "\n",
      "See the documentation here:\n",
      "http://pandas.pydata.org/pandas-docs/stable/user_guide/indexing.html#ix-indexer-is-deprecated\n",
      "  retval = getattr(retval, self.name)._getitem_axis(key, axis=i)\n",
      "C:\\Users\\13479\\Anaconda3\\lib\\site-packages\\ipykernel_launcher.py:9: FutureWarning: \n",
      ".ix is deprecated. Please use\n",
      ".loc for label based indexing or\n",
      ".iloc for positional indexing\n",
      "\n",
      "See the documentation here:\n",
      "http://pandas.pydata.org/pandas-docs/stable/user_guide/indexing.html#ix-indexer-is-deprecated\n",
      "  if __name__ == '__main__':\n"
     ]
    },
    {
     "name": "stdout",
     "output_type": "stream",
     "text": [
      "0.0\n",
      "===============\n",
      "ridge test score\n",
      "ks_statistic:  0.29436435124508525\n",
      "===============\n"
     ]
    },
    {
     "name": "stderr",
     "output_type": "stream",
     "text": [
      "C:\\Users\\13479\\Anaconda3\\lib\\site-packages\\ipykernel_launcher.py:8: FutureWarning: \n",
      ".ix is deprecated. Please use\n",
      ".loc for label based indexing or\n",
      ".iloc for positional indexing\n",
      "\n",
      "See the documentation here:\n",
      "http://pandas.pydata.org/pandas-docs/stable/user_guide/indexing.html#ix-indexer-is-deprecated\n",
      "  \n",
      "C:\\Users\\13479\\Anaconda3\\lib\\site-packages\\pandas\\core\\indexing.py:822: FutureWarning: \n",
      ".ix is deprecated. Please use\n",
      ".loc for label based indexing or\n",
      ".iloc for positional indexing\n",
      "\n",
      "See the documentation here:\n",
      "http://pandas.pydata.org/pandas-docs/stable/user_guide/indexing.html#ix-indexer-is-deprecated\n",
      "  retval = getattr(retval, self.name)._getitem_axis(key, axis=i)\n",
      "C:\\Users\\13479\\Anaconda3\\lib\\site-packages\\ipykernel_launcher.py:9: FutureWarning: \n",
      ".ix is deprecated. Please use\n",
      ".loc for label based indexing or\n",
      ".iloc for positional indexing\n",
      "\n",
      "See the documentation here:\n",
      "http://pandas.pydata.org/pandas-docs/stable/user_guide/indexing.html#ix-indexer-is-deprecated\n",
      "  if __name__ == '__main__':\n"
     ]
    }
   ],
   "source": [
    "ridge_param = ridge_autotune(X_train,Y_train)\n",
    "print('='*15)\n",
    "print('ridge test score')\n",
    "print('ks_statistic: ', ks_statistic(Y_test['bad30'],ridge_param.predict(X_test)))\n",
    "print('='*15)"
   ]
  },
  {
   "cell_type": "code",
   "execution_count": 27,
   "metadata": {},
   "outputs": [
    {
     "data": {
      "text/plain": [
       "0.6629814697964946"
      ]
     },
     "execution_count": 27,
     "metadata": {},
     "output_type": "execute_result"
    }
   ],
   "source": [
    "roc_auc_score(Y_test['bad30'],ridge_param.predict(X_test))"
   ]
  },
  {
   "cell_type": "code",
   "execution_count": 54,
   "metadata": {},
   "outputs": [
    {
     "data": {
      "text/html": [
       "<div>\n",
       "<style scoped>\n",
       "    .dataframe tbody tr th:only-of-type {\n",
       "        vertical-align: middle;\n",
       "    }\n",
       "\n",
       "    .dataframe tbody tr th {\n",
       "        vertical-align: top;\n",
       "    }\n",
       "\n",
       "    .dataframe thead th {\n",
       "        text-align: right;\n",
       "    }\n",
       "</style>\n",
       "<table border=\"1\" class=\"dataframe\">\n",
       "  <thead>\n",
       "    <tr style=\"text-align: right;\">\n",
       "      <th></th>\n",
       "      <th>count</th>\n",
       "      <th>actual</th>\n",
       "      <th>non_actual</th>\n",
       "      <th>cum_count</th>\n",
       "      <th>cum_actual</th>\n",
       "      <th>cum_non_actual</th>\n",
       "      <th>percent_cum_actual</th>\n",
       "      <th>percent_cum_non_actual</th>\n",
       "      <th>if_random</th>\n",
       "      <th>lift</th>\n",
       "      <th>K_S</th>\n",
       "      <th>gain</th>\n",
       "    </tr>\n",
       "    <tr>\n",
       "      <th>decile</th>\n",
       "      <th></th>\n",
       "      <th></th>\n",
       "      <th></th>\n",
       "      <th></th>\n",
       "      <th></th>\n",
       "      <th></th>\n",
       "      <th></th>\n",
       "      <th></th>\n",
       "      <th></th>\n",
       "      <th></th>\n",
       "      <th></th>\n",
       "      <th></th>\n",
       "    </tr>\n",
       "  </thead>\n",
       "  <tbody>\n",
       "    <tr>\n",
       "      <td>0</td>\n",
       "      <td>1999</td>\n",
       "      <td>661.0</td>\n",
       "      <td>1338.0</td>\n",
       "      <td>1999</td>\n",
       "      <td>661.0</td>\n",
       "      <td>1338.0</td>\n",
       "      <td>0.17</td>\n",
       "      <td>0.08</td>\n",
       "      <td>381.5</td>\n",
       "      <td>1.73</td>\n",
       "      <td>9.0</td>\n",
       "      <td>33.07</td>\n",
       "    </tr>\n",
       "    <tr>\n",
       "      <td>1</td>\n",
       "      <td>1998</td>\n",
       "      <td>580.0</td>\n",
       "      <td>1418.0</td>\n",
       "      <td>3997</td>\n",
       "      <td>1241.0</td>\n",
       "      <td>2756.0</td>\n",
       "      <td>0.33</td>\n",
       "      <td>0.17</td>\n",
       "      <td>763.0</td>\n",
       "      <td>1.63</td>\n",
       "      <td>16.0</td>\n",
       "      <td>31.05</td>\n",
       "    </tr>\n",
       "    <tr>\n",
       "      <td>2</td>\n",
       "      <td>1998</td>\n",
       "      <td>537.0</td>\n",
       "      <td>1461.0</td>\n",
       "      <td>5995</td>\n",
       "      <td>1778.0</td>\n",
       "      <td>4217.0</td>\n",
       "      <td>0.47</td>\n",
       "      <td>0.26</td>\n",
       "      <td>1144.5</td>\n",
       "      <td>1.55</td>\n",
       "      <td>21.0</td>\n",
       "      <td>29.66</td>\n",
       "    </tr>\n",
       "    <tr>\n",
       "      <td>3</td>\n",
       "      <td>1999</td>\n",
       "      <td>442.0</td>\n",
       "      <td>1557.0</td>\n",
       "      <td>7994</td>\n",
       "      <td>2220.0</td>\n",
       "      <td>5774.0</td>\n",
       "      <td>0.58</td>\n",
       "      <td>0.36</td>\n",
       "      <td>1526.0</td>\n",
       "      <td>1.45</td>\n",
       "      <td>22.0</td>\n",
       "      <td>27.77</td>\n",
       "    </tr>\n",
       "    <tr>\n",
       "      <td>4</td>\n",
       "      <td>1998</td>\n",
       "      <td>403.0</td>\n",
       "      <td>1595.0</td>\n",
       "      <td>9992</td>\n",
       "      <td>2623.0</td>\n",
       "      <td>7369.0</td>\n",
       "      <td>0.69</td>\n",
       "      <td>0.46</td>\n",
       "      <td>1907.5</td>\n",
       "      <td>1.38</td>\n",
       "      <td>23.0</td>\n",
       "      <td>26.25</td>\n",
       "    </tr>\n",
       "    <tr>\n",
       "      <td>5</td>\n",
       "      <td>1998</td>\n",
       "      <td>370.0</td>\n",
       "      <td>1628.0</td>\n",
       "      <td>11990</td>\n",
       "      <td>2993.0</td>\n",
       "      <td>8997.0</td>\n",
       "      <td>0.78</td>\n",
       "      <td>0.56</td>\n",
       "      <td>2289.0</td>\n",
       "      <td>1.31</td>\n",
       "      <td>22.0</td>\n",
       "      <td>24.96</td>\n",
       "    </tr>\n",
       "    <tr>\n",
       "      <td>6</td>\n",
       "      <td>1999</td>\n",
       "      <td>313.0</td>\n",
       "      <td>1686.0</td>\n",
       "      <td>13989</td>\n",
       "      <td>3306.0</td>\n",
       "      <td>10683.0</td>\n",
       "      <td>0.87</td>\n",
       "      <td>0.66</td>\n",
       "      <td>2670.5</td>\n",
       "      <td>1.24</td>\n",
       "      <td>21.0</td>\n",
       "      <td>23.63</td>\n",
       "    </tr>\n",
       "    <tr>\n",
       "      <td>7</td>\n",
       "      <td>1998</td>\n",
       "      <td>263.0</td>\n",
       "      <td>1735.0</td>\n",
       "      <td>15987</td>\n",
       "      <td>3569.0</td>\n",
       "      <td>12418.0</td>\n",
       "      <td>0.94</td>\n",
       "      <td>0.77</td>\n",
       "      <td>3052.0</td>\n",
       "      <td>1.17</td>\n",
       "      <td>17.0</td>\n",
       "      <td>22.32</td>\n",
       "    </tr>\n",
       "    <tr>\n",
       "      <td>8</td>\n",
       "      <td>1998</td>\n",
       "      <td>160.0</td>\n",
       "      <td>1838.0</td>\n",
       "      <td>17985</td>\n",
       "      <td>3729.0</td>\n",
       "      <td>14256.0</td>\n",
       "      <td>0.98</td>\n",
       "      <td>0.88</td>\n",
       "      <td>3433.5</td>\n",
       "      <td>1.09</td>\n",
       "      <td>10.0</td>\n",
       "      <td>20.73</td>\n",
       "    </tr>\n",
       "    <tr>\n",
       "      <td>9</td>\n",
       "      <td>1998</td>\n",
       "      <td>86.0</td>\n",
       "      <td>1912.0</td>\n",
       "      <td>19983</td>\n",
       "      <td>3815.0</td>\n",
       "      <td>16168.0</td>\n",
       "      <td>1.00</td>\n",
       "      <td>1.00</td>\n",
       "      <td>3815.0</td>\n",
       "      <td>1.00</td>\n",
       "      <td>0.0</td>\n",
       "      <td>19.09</td>\n",
       "    </tr>\n",
       "  </tbody>\n",
       "</table>\n",
       "</div>"
      ],
      "text/plain": [
       "        count  actual  non_actual  cum_count  cum_actual  cum_non_actual  \\\n",
       "decile                                                                     \n",
       "0        1999   661.0      1338.0       1999       661.0          1338.0   \n",
       "1        1998   580.0      1418.0       3997      1241.0          2756.0   \n",
       "2        1998   537.0      1461.0       5995      1778.0          4217.0   \n",
       "3        1999   442.0      1557.0       7994      2220.0          5774.0   \n",
       "4        1998   403.0      1595.0       9992      2623.0          7369.0   \n",
       "5        1998   370.0      1628.0      11990      2993.0          8997.0   \n",
       "6        1999   313.0      1686.0      13989      3306.0         10683.0   \n",
       "7        1998   263.0      1735.0      15987      3569.0         12418.0   \n",
       "8        1998   160.0      1838.0      17985      3729.0         14256.0   \n",
       "9        1998    86.0      1912.0      19983      3815.0         16168.0   \n",
       "\n",
       "        percent_cum_actual  percent_cum_non_actual  if_random  lift   K_S  \\\n",
       "decile                                                                      \n",
       "0                     0.17                    0.08      381.5  1.73   9.0   \n",
       "1                     0.33                    0.17      763.0  1.63  16.0   \n",
       "2                     0.47                    0.26     1144.5  1.55  21.0   \n",
       "3                     0.58                    0.36     1526.0  1.45  22.0   \n",
       "4                     0.69                    0.46     1907.5  1.38  23.0   \n",
       "5                     0.78                    0.56     2289.0  1.31  22.0   \n",
       "6                     0.87                    0.66     2670.5  1.24  21.0   \n",
       "7                     0.94                    0.77     3052.0  1.17  17.0   \n",
       "8                     0.98                    0.88     3433.5  1.09  10.0   \n",
       "9                     1.00                    1.00     3815.0  1.00   0.0   \n",
       "\n",
       "         gain  \n",
       "decile         \n",
       "0       33.07  \n",
       "1       31.05  \n",
       "2       29.66  \n",
       "3       27.77  \n",
       "4       26.25  \n",
       "5       24.96  \n",
       "6       23.63  \n",
       "7       22.32  \n",
       "8       20.73  \n",
       "9       19.09  "
      ]
     },
     "execution_count": 54,
     "metadata": {},
     "output_type": "execute_result"
    }
   ],
   "source": [
    "createGains(Y_test['bad30'],ridge_param.predict(X_test))"
   ]
  },
  {
   "cell_type": "code",
   "execution_count": 15,
   "metadata": {},
   "outputs": [],
   "source": [
    "def random_forest_autotune(X,y):\n",
    "\n",
    "\tparam_test = {\n",
    "\t 'max_depth':[5,10,13],## set different heights for each tree \n",
    "\t 'max_features':['auto','sqrt'], ##the maximum amount of features for each tree is limited to square root of the total amount of features in the original dataset\n",
    "\t 'n_estimators': [200,400,600] ## set different numbers of tree to build in each model \n",
    "\t}\n",
    "    \n",
    "  ## the process of cross validation for random forest is the same as lasso, but more complex \n",
    "  ##since we have 3 levels of depth and number of trees so that the total number of running time is 3*3*5=45 runs\n",
    "    \n",
    "\tgsearch = GridSearchCV(RandomForestRegressor(),refit=True,\n",
    "\t                        param_grid = param_test, scoring='neg_mean_absolute_error',iid=True, cv=5)\n",
    "\tgsearch.fit(X,y)\n",
    "\tprint('____________________________________________')\n",
    "\tprint('tune random forest')\n",
    "\tprint('____________________________________________')\n",
    "\tprint(gsearch.cv_results_)\n",
    "\tprint(gsearch.best_params_)\n",
    "\tprint(gsearch.best_score_)\n",
    "\tprint(ks_statistic(gsearch.predict(X),y))\n",
    "\n",
    "\treturn gsearch.best_estimator_"
   ]
  },
  {
   "cell_type": "code",
   "execution_count": 17,
   "metadata": {},
   "outputs": [
    {
     "name": "stdout",
     "output_type": "stream",
     "text": [
      "____________________________________________\n",
      "tune random forest\n",
      "____________________________________________\n",
      "{'mean_fit_time': array([ 164.62300415,  328.04364367,  491.95872002,   13.95226345,\n",
      "         27.73436809,   41.57797275,  344.08700366,  688.97703338,\n",
      "       1032.48317871,   28.9230001 ,   57.73539128,   86.66933212,\n",
      "        450.37123857,  900.04461899, 1394.72956309,   42.04180942,\n",
      "         83.11603651,  124.80244961]), 'std_fit_time': array([5.61939745e-01, 3.54067701e-01, 4.38475536e-01, 5.64393116e-02,\n",
      "       9.33955804e-02, 1.50310991e-01, 2.79140533e-01, 6.69236363e-01,\n",
      "       9.43145959e-01, 7.59248828e-02, 6.40442369e-02, 2.28543149e-01,\n",
      "       6.10505015e-01, 8.32166432e-01, 6.78813864e+01, 5.05567450e-01,\n",
      "       9.12567510e-01, 8.60805317e-01]), 'mean_score_time': array([0.11309996, 0.2078382 , 0.30239086, 0.11230636, 0.20664158,\n",
      "       0.30139551, 0.25990415, 0.49268966, 0.73502798, 0.27826061,\n",
      "       0.52539515, 0.79418516, 0.33765302, 0.65625186, 1.10027924,\n",
      "       0.45793986, 0.87411394, 1.33769274]), 'std_score_time': array([0.00233074, 0.00223287, 0.00354534, 0.00119363, 0.00097855,\n",
      "       0.0027779 , 0.00742024, 0.01058717, 0.00839013, 0.00762092,\n",
      "       0.00683333, 0.00810236, 0.00166525, 0.00871368, 0.12765055,\n",
      "       0.02412464, 0.01540352, 0.04491616]), 'param_max_depth': masked_array(data=[5, 5, 5, 5, 5, 5, 10, 10, 10, 10, 10, 10, 13, 13, 13,\n",
      "                   13, 13, 13],\n",
      "             mask=[False, False, False, False, False, False, False, False,\n",
      "                   False, False, False, False, False, False, False, False,\n",
      "                   False, False],\n",
      "       fill_value='?',\n",
      "            dtype=object), 'param_max_features': masked_array(data=['auto', 'auto', 'auto', 'sqrt', 'sqrt', 'sqrt', 'auto',\n",
      "                   'auto', 'auto', 'sqrt', 'sqrt', 'sqrt', 'auto', 'auto',\n",
      "                   'auto', 'sqrt', 'sqrt', 'sqrt'],\n",
      "             mask=[False, False, False, False, False, False, False, False,\n",
      "                   False, False, False, False, False, False, False, False,\n",
      "                   False, False],\n",
      "       fill_value='?',\n",
      "            dtype=object), 'param_n_estimators': masked_array(data=[200, 400, 600, 200, 400, 600, 200, 400, 600, 200, 400,\n",
      "                   600, 200, 400, 600, 200, 400, 600],\n",
      "             mask=[False, False, False, False, False, False, False, False,\n",
      "                   False, False, False, False, False, False, False, False,\n",
      "                   False, False],\n",
      "       fill_value='?',\n",
      "            dtype=object), 'params': [{'max_depth': 5, 'max_features': 'auto', 'n_estimators': 200}, {'max_depth': 5, 'max_features': 'auto', 'n_estimators': 400}, {'max_depth': 5, 'max_features': 'auto', 'n_estimators': 600}, {'max_depth': 5, 'max_features': 'sqrt', 'n_estimators': 200}, {'max_depth': 5, 'max_features': 'sqrt', 'n_estimators': 400}, {'max_depth': 5, 'max_features': 'sqrt', 'n_estimators': 600}, {'max_depth': 10, 'max_features': 'auto', 'n_estimators': 200}, {'max_depth': 10, 'max_features': 'auto', 'n_estimators': 400}, {'max_depth': 10, 'max_features': 'auto', 'n_estimators': 600}, {'max_depth': 10, 'max_features': 'sqrt', 'n_estimators': 200}, {'max_depth': 10, 'max_features': 'sqrt', 'n_estimators': 400}, {'max_depth': 10, 'max_features': 'sqrt', 'n_estimators': 600}, {'max_depth': 13, 'max_features': 'auto', 'n_estimators': 200}, {'max_depth': 13, 'max_features': 'auto', 'n_estimators': 400}, {'max_depth': 13, 'max_features': 'auto', 'n_estimators': 600}, {'max_depth': 13, 'max_features': 'sqrt', 'n_estimators': 200}, {'max_depth': 13, 'max_features': 'sqrt', 'n_estimators': 400}, {'max_depth': 13, 'max_features': 'sqrt', 'n_estimators': 600}], 'split0_test_score': array([-0.29718828, -0.2971936 , -0.29717933, -0.30261976, -0.3027514 ,\n",
      "       -0.30271826, -0.29457227, -0.29463549, -0.29478729, -0.2995837 ,\n",
      "       -0.29960455, -0.29973438, -0.29320119, -0.29313867, -0.29328384,\n",
      "       -0.29815822, -0.29820869, -0.29835328]), 'split1_test_score': array([-0.29757329, -0.29780232, -0.29773822, -0.30433476, -0.30435764,\n",
      "       -0.30423349, -0.2952366 , -0.29515871, -0.29511261, -0.30078143,\n",
      "       -0.30075565, -0.30069012, -0.29374569, -0.29364439, -0.29366362,\n",
      "       -0.29902998, -0.29930439, -0.29922635]), 'split2_test_score': array([-0.29804757, -0.29797195, -0.29800929, -0.30466096, -0.30444997,\n",
      "       -0.304573  , -0.29560247, -0.29542717, -0.2956041 , -0.30103937,\n",
      "       -0.30134487, -0.30129699, -0.29408103, -0.29396625, -0.29392185,\n",
      "       -0.29934397, -0.2992732 , -0.29959814]), 'split3_test_score': array([-0.29852228, -0.2984097 , -0.29851157, -0.30477469, -0.30478976,\n",
      "       -0.30479729, -0.29597737, -0.29597675, -0.29595551, -0.30151939,\n",
      "       -0.30151337, -0.30144567, -0.29448842, -0.29438047, -0.29432914,\n",
      "       -0.29998066, -0.29982975, -0.29981245]), 'split4_test_score': array([-0.29813733, -0.29822029, -0.29823838, -0.30438789, -0.30439384,\n",
      "       -0.30457321, -0.29541628, -0.295397  , -0.29542662, -0.30071768,\n",
      "       -0.30111554, -0.30126756, -0.29382594, -0.29383985, -0.29380659,\n",
      "       -0.29913897, -0.29937359, -0.29953402]), 'mean_test_score': array([-0.29789375, -0.29791957, -0.29793535, -0.30415561, -0.30414852,\n",
      "       -0.30417904, -0.295361  , -0.29531902, -0.29537723, -0.30072831,\n",
      "       -0.30086679, -0.30088694, -0.29386845, -0.29379392, -0.29380101,\n",
      "       -0.29913036, -0.29919792, -0.29930484]), 'std_test_score': array([0.00046442, 0.00041813, 0.00045602, 0.00078531, 0.00071526,\n",
      "       0.00075229, 0.00046451, 0.00043435, 0.00040159, 0.00063807,\n",
      "       0.00068031, 0.00063124, 0.0004223 , 0.00040684, 0.00034056,\n",
      "       0.00058718, 0.00053398, 0.00051144]), 'rank_test_score': array([ 7,  8,  9, 17, 16, 18,  5,  4,  6, 13, 14, 15,  3,  1,  2, 10, 11,\n",
      "       12]), 'split0_train_score': array([-0.29758866, -0.29758818, -0.29756503, -0.30399129, -0.30415597,\n",
      "       -0.304067  , -0.27980764, -0.27969298, -0.27982561, -0.28872437,\n",
      "       -0.28878134, -0.28896865, -0.25631075, -0.25613078, -0.25623966,\n",
      "       -0.26807296, -0.26824101, -0.26790592]), 'split1_train_score': array([-0.29618429, -0.29639456, -0.29635733, -0.30281076, -0.30286943,\n",
      "       -0.30273713, -0.27910002, -0.27938598, -0.27924496, -0.28792557,\n",
      "       -0.2880357 , -0.2878042 , -0.25706482, -0.25720906, -0.25671522,\n",
      "       -0.26762405, -0.26794811, -0.26775717]), 'split2_train_score': array([-0.29642607, -0.29628932, -0.29634454, -0.30288951, -0.30266928,\n",
      "       -0.3027939 , -0.27872413, -0.27872266, -0.278888  , -0.28752984,\n",
      "       -0.28771686, -0.28760152, -0.255508  , -0.25597964, -0.25556929,\n",
      "       -0.26640286, -0.26693901, -0.26676935]), 'split3_train_score': array([-0.29624023, -0.29612077, -0.29624284, -0.30265102, -0.30261901,\n",
      "       -0.30266788, -0.27873725, -0.2786765 , -0.27865611, -0.28769207,\n",
      "       -0.2876146 , -0.28764913, -0.25555444, -0.25561436, -0.25558558,\n",
      "       -0.26722262, -0.26693579, -0.26691746]), 'split4_train_score': array([-0.29645262, -0.29651484, -0.2965489 , -0.30296094, -0.30298908,\n",
      "       -0.3031829 , -0.27873359, -0.27865665, -0.27871749, -0.2876201 ,\n",
      "       -0.28788135, -0.28799247, -0.25489165, -0.25458009, -0.25500767,\n",
      "       -0.26735351, -0.26672453, -0.26693812]), 'mean_train_score': array([-0.29657837, -0.29658153, -0.29661173, -0.3030607 , -0.30306055,\n",
      "       -0.30308976, -0.27902053, -0.27902695, -0.27906644, -0.28789839,\n",
      "       -0.28800597, -0.28800319, -0.25586593, -0.25590279, -0.25582348,\n",
      "       -0.2673352 , -0.26735769, -0.2672576 ]), 'std_train_score': array([0.00051562, 0.0005197 , 0.00048681, 0.00047656, 0.00056385,\n",
      "       0.0005203 , 0.00041864, 0.00043013, 0.00043132, 0.00043332,\n",
      "       0.00041337, 0.0005017 , 0.00074961, 0.00084817, 0.00059248,\n",
      "       0.00054954, 0.00061368, 0.00047456])}\n",
      "{'max_depth': 13, 'max_features': 'auto', 'n_estimators': 400}\n",
      "-0.2937939241629098\n"
     ]
    },
    {
     "name": "stderr",
     "output_type": "stream",
     "text": [
      "C:\\Users\\13479\\Anaconda3\\lib\\site-packages\\ipykernel_launcher.py:8: FutureWarning: \n",
      ".ix is deprecated. Please use\n",
      ".loc for label based indexing or\n",
      ".iloc for positional indexing\n",
      "\n",
      "See the documentation here:\n",
      "http://pandas.pydata.org/pandas-docs/stable/user_guide/indexing.html#ix-indexer-is-deprecated\n",
      "  \n",
      "C:\\Users\\13479\\Anaconda3\\lib\\site-packages\\pandas\\core\\indexing.py:822: FutureWarning: \n",
      ".ix is deprecated. Please use\n",
      ".loc for label based indexing or\n",
      ".iloc for positional indexing\n",
      "\n",
      "See the documentation here:\n",
      "http://pandas.pydata.org/pandas-docs/stable/user_guide/indexing.html#ix-indexer-is-deprecated\n",
      "  retval = getattr(retval, self.name)._getitem_axis(key, axis=i)\n",
      "C:\\Users\\13479\\Anaconda3\\lib\\site-packages\\ipykernel_launcher.py:9: FutureWarning: \n",
      ".ix is deprecated. Please use\n",
      ".loc for label based indexing or\n",
      ".iloc for positional indexing\n",
      "\n",
      "See the documentation here:\n",
      "http://pandas.pydata.org/pandas-docs/stable/user_guide/indexing.html#ix-indexer-is-deprecated\n",
      "  if __name__ == '__main__':\n"
     ]
    },
    {
     "name": "stdout",
     "output_type": "stream",
     "text": [
      "0.0\n",
      "===============\n",
      "random forest test score\n",
      "ks_statistic:  0.2945311569164781\n",
      "===============\n"
     ]
    },
    {
     "name": "stderr",
     "output_type": "stream",
     "text": [
      "C:\\Users\\13479\\Anaconda3\\lib\\site-packages\\ipykernel_launcher.py:8: FutureWarning: \n",
      ".ix is deprecated. Please use\n",
      ".loc for label based indexing or\n",
      ".iloc for positional indexing\n",
      "\n",
      "See the documentation here:\n",
      "http://pandas.pydata.org/pandas-docs/stable/user_guide/indexing.html#ix-indexer-is-deprecated\n",
      "  \n",
      "C:\\Users\\13479\\Anaconda3\\lib\\site-packages\\pandas\\core\\indexing.py:822: FutureWarning: \n",
      ".ix is deprecated. Please use\n",
      ".loc for label based indexing or\n",
      ".iloc for positional indexing\n",
      "\n",
      "See the documentation here:\n",
      "http://pandas.pydata.org/pandas-docs/stable/user_guide/indexing.html#ix-indexer-is-deprecated\n",
      "  retval = getattr(retval, self.name)._getitem_axis(key, axis=i)\n",
      "C:\\Users\\13479\\Anaconda3\\lib\\site-packages\\ipykernel_launcher.py:9: FutureWarning: \n",
      ".ix is deprecated. Please use\n",
      ".loc for label based indexing or\n",
      ".iloc for positional indexing\n",
      "\n",
      "See the documentation here:\n",
      "http://pandas.pydata.org/pandas-docs/stable/user_guide/indexing.html#ix-indexer-is-deprecated\n",
      "  if __name__ == '__main__':\n"
     ]
    }
   ],
   "source": [
    "random_forest_param = random_forest_autotune(X_train, Y_train)\n",
    "print('='*15)\n",
    "print('random forest test score')\n",
    "print('ks_statistic: ', ks_statistic(Y_test['bad30'],random_forest_param.predict(X_test)))\n",
    "print('='*15)"
   ]
  },
  {
   "cell_type": "code",
   "execution_count": 28,
   "metadata": {},
   "outputs": [
    {
     "data": {
      "text/plain": [
       "0.6629295898958705"
      ]
     },
     "execution_count": 28,
     "metadata": {},
     "output_type": "execute_result"
    }
   ],
   "source": [
    "roc_auc_score(Y_test['bad30'],random_forest_param.predict(X_test))"
   ]
  },
  {
   "cell_type": "code",
   "execution_count": 55,
   "metadata": {},
   "outputs": [
    {
     "data": {
      "text/html": [
       "<div>\n",
       "<style scoped>\n",
       "    .dataframe tbody tr th:only-of-type {\n",
       "        vertical-align: middle;\n",
       "    }\n",
       "\n",
       "    .dataframe tbody tr th {\n",
       "        vertical-align: top;\n",
       "    }\n",
       "\n",
       "    .dataframe thead th {\n",
       "        text-align: right;\n",
       "    }\n",
       "</style>\n",
       "<table border=\"1\" class=\"dataframe\">\n",
       "  <thead>\n",
       "    <tr style=\"text-align: right;\">\n",
       "      <th></th>\n",
       "      <th>count</th>\n",
       "      <th>actual</th>\n",
       "      <th>non_actual</th>\n",
       "      <th>cum_count</th>\n",
       "      <th>cum_actual</th>\n",
       "      <th>cum_non_actual</th>\n",
       "      <th>percent_cum_actual</th>\n",
       "      <th>percent_cum_non_actual</th>\n",
       "      <th>if_random</th>\n",
       "      <th>lift</th>\n",
       "      <th>K_S</th>\n",
       "      <th>gain</th>\n",
       "    </tr>\n",
       "    <tr>\n",
       "      <th>decile</th>\n",
       "      <th></th>\n",
       "      <th></th>\n",
       "      <th></th>\n",
       "      <th></th>\n",
       "      <th></th>\n",
       "      <th></th>\n",
       "      <th></th>\n",
       "      <th></th>\n",
       "      <th></th>\n",
       "      <th></th>\n",
       "      <th></th>\n",
       "      <th></th>\n",
       "    </tr>\n",
       "  </thead>\n",
       "  <tbody>\n",
       "    <tr>\n",
       "      <td>0</td>\n",
       "      <td>1999</td>\n",
       "      <td>671.0</td>\n",
       "      <td>1328.0</td>\n",
       "      <td>1999</td>\n",
       "      <td>671.0</td>\n",
       "      <td>1328.0</td>\n",
       "      <td>0.18</td>\n",
       "      <td>0.08</td>\n",
       "      <td>381.5</td>\n",
       "      <td>1.76</td>\n",
       "      <td>10.0</td>\n",
       "      <td>33.57</td>\n",
       "    </tr>\n",
       "    <tr>\n",
       "      <td>1</td>\n",
       "      <td>1998</td>\n",
       "      <td>592.0</td>\n",
       "      <td>1406.0</td>\n",
       "      <td>3997</td>\n",
       "      <td>1263.0</td>\n",
       "      <td>2734.0</td>\n",
       "      <td>0.33</td>\n",
       "      <td>0.17</td>\n",
       "      <td>763.0</td>\n",
       "      <td>1.66</td>\n",
       "      <td>16.0</td>\n",
       "      <td>31.60</td>\n",
       "    </tr>\n",
       "    <tr>\n",
       "      <td>2</td>\n",
       "      <td>1998</td>\n",
       "      <td>524.0</td>\n",
       "      <td>1474.0</td>\n",
       "      <td>5995</td>\n",
       "      <td>1787.0</td>\n",
       "      <td>4208.0</td>\n",
       "      <td>0.47</td>\n",
       "      <td>0.26</td>\n",
       "      <td>1144.5</td>\n",
       "      <td>1.56</td>\n",
       "      <td>21.0</td>\n",
       "      <td>29.81</td>\n",
       "    </tr>\n",
       "    <tr>\n",
       "      <td>3</td>\n",
       "      <td>1999</td>\n",
       "      <td>468.0</td>\n",
       "      <td>1531.0</td>\n",
       "      <td>7994</td>\n",
       "      <td>2255.0</td>\n",
       "      <td>5739.0</td>\n",
       "      <td>0.59</td>\n",
       "      <td>0.35</td>\n",
       "      <td>1526.0</td>\n",
       "      <td>1.48</td>\n",
       "      <td>24.0</td>\n",
       "      <td>28.21</td>\n",
       "    </tr>\n",
       "    <tr>\n",
       "      <td>4</td>\n",
       "      <td>1998</td>\n",
       "      <td>381.0</td>\n",
       "      <td>1617.0</td>\n",
       "      <td>9992</td>\n",
       "      <td>2636.0</td>\n",
       "      <td>7356.0</td>\n",
       "      <td>0.69</td>\n",
       "      <td>0.45</td>\n",
       "      <td>1907.5</td>\n",
       "      <td>1.38</td>\n",
       "      <td>24.0</td>\n",
       "      <td>26.38</td>\n",
       "    </tr>\n",
       "    <tr>\n",
       "      <td>5</td>\n",
       "      <td>1998</td>\n",
       "      <td>362.0</td>\n",
       "      <td>1636.0</td>\n",
       "      <td>11990</td>\n",
       "      <td>2998.0</td>\n",
       "      <td>8992.0</td>\n",
       "      <td>0.79</td>\n",
       "      <td>0.56</td>\n",
       "      <td>2289.0</td>\n",
       "      <td>1.31</td>\n",
       "      <td>23.0</td>\n",
       "      <td>25.00</td>\n",
       "    </tr>\n",
       "    <tr>\n",
       "      <td>6</td>\n",
       "      <td>1999</td>\n",
       "      <td>290.0</td>\n",
       "      <td>1709.0</td>\n",
       "      <td>13989</td>\n",
       "      <td>3288.0</td>\n",
       "      <td>10701.0</td>\n",
       "      <td>0.86</td>\n",
       "      <td>0.66</td>\n",
       "      <td>2670.5</td>\n",
       "      <td>1.23</td>\n",
       "      <td>20.0</td>\n",
       "      <td>23.50</td>\n",
       "    </tr>\n",
       "    <tr>\n",
       "      <td>7</td>\n",
       "      <td>1998</td>\n",
       "      <td>252.0</td>\n",
       "      <td>1746.0</td>\n",
       "      <td>15987</td>\n",
       "      <td>3540.0</td>\n",
       "      <td>12447.0</td>\n",
       "      <td>0.93</td>\n",
       "      <td>0.77</td>\n",
       "      <td>3052.0</td>\n",
       "      <td>1.16</td>\n",
       "      <td>16.0</td>\n",
       "      <td>22.14</td>\n",
       "    </tr>\n",
       "    <tr>\n",
       "      <td>8</td>\n",
       "      <td>1998</td>\n",
       "      <td>179.0</td>\n",
       "      <td>1819.0</td>\n",
       "      <td>17985</td>\n",
       "      <td>3719.0</td>\n",
       "      <td>14266.0</td>\n",
       "      <td>0.97</td>\n",
       "      <td>0.88</td>\n",
       "      <td>3433.5</td>\n",
       "      <td>1.08</td>\n",
       "      <td>9.0</td>\n",
       "      <td>20.68</td>\n",
       "    </tr>\n",
       "    <tr>\n",
       "      <td>9</td>\n",
       "      <td>1998</td>\n",
       "      <td>96.0</td>\n",
       "      <td>1902.0</td>\n",
       "      <td>19983</td>\n",
       "      <td>3815.0</td>\n",
       "      <td>16168.0</td>\n",
       "      <td>1.00</td>\n",
       "      <td>1.00</td>\n",
       "      <td>3815.0</td>\n",
       "      <td>1.00</td>\n",
       "      <td>0.0</td>\n",
       "      <td>19.09</td>\n",
       "    </tr>\n",
       "  </tbody>\n",
       "</table>\n",
       "</div>"
      ],
      "text/plain": [
       "        count  actual  non_actual  cum_count  cum_actual  cum_non_actual  \\\n",
       "decile                                                                     \n",
       "0        1999   671.0      1328.0       1999       671.0          1328.0   \n",
       "1        1998   592.0      1406.0       3997      1263.0          2734.0   \n",
       "2        1998   524.0      1474.0       5995      1787.0          4208.0   \n",
       "3        1999   468.0      1531.0       7994      2255.0          5739.0   \n",
       "4        1998   381.0      1617.0       9992      2636.0          7356.0   \n",
       "5        1998   362.0      1636.0      11990      2998.0          8992.0   \n",
       "6        1999   290.0      1709.0      13989      3288.0         10701.0   \n",
       "7        1998   252.0      1746.0      15987      3540.0         12447.0   \n",
       "8        1998   179.0      1819.0      17985      3719.0         14266.0   \n",
       "9        1998    96.0      1902.0      19983      3815.0         16168.0   \n",
       "\n",
       "        percent_cum_actual  percent_cum_non_actual  if_random  lift   K_S  \\\n",
       "decile                                                                      \n",
       "0                     0.18                    0.08      381.5  1.76  10.0   \n",
       "1                     0.33                    0.17      763.0  1.66  16.0   \n",
       "2                     0.47                    0.26     1144.5  1.56  21.0   \n",
       "3                     0.59                    0.35     1526.0  1.48  24.0   \n",
       "4                     0.69                    0.45     1907.5  1.38  24.0   \n",
       "5                     0.79                    0.56     2289.0  1.31  23.0   \n",
       "6                     0.86                    0.66     2670.5  1.23  20.0   \n",
       "7                     0.93                    0.77     3052.0  1.16  16.0   \n",
       "8                     0.97                    0.88     3433.5  1.08   9.0   \n",
       "9                     1.00                    1.00     3815.0  1.00   0.0   \n",
       "\n",
       "         gain  \n",
       "decile         \n",
       "0       33.57  \n",
       "1       31.60  \n",
       "2       29.81  \n",
       "3       28.21  \n",
       "4       26.38  \n",
       "5       25.00  \n",
       "6       23.50  \n",
       "7       22.14  \n",
       "8       20.68  \n",
       "9       19.09  "
      ]
     },
     "execution_count": 55,
     "metadata": {},
     "output_type": "execute_result"
    }
   ],
   "source": [
    "createGains(Y_test['bad30'],random_forest_param.predict(X_test))"
   ]
  },
  {
   "cell_type": "code",
   "execution_count": 71,
   "metadata": {},
   "outputs": [],
   "source": [
    "def xgb_autotune(X,y):\n",
    "\tparam = {\n",
    "\t        'objective':'reg:linear', # use linear regression\n",
    "\t        'n_estimators':500, # number of regression\n",
    "\t        'learning_rate':0.05, #Step shrinkage used in update to prevents overfitting. \n",
    "\t        'gamma':0, # Minimum loss reduction required to make a further partition on a leaf node \n",
    "                       #of the tree. The larger gamma is, the more conservative the algorithm will be\n",
    "\t        'max_depth':5,# maximum height for each regression, increasing depth means more likely of overfitting\n",
    "\t        'min_child_weight':1, #Minimum sum of instance weight (hessian) needed in a child. \n",
    "                                 #If the tree partition step results in a leaf node with the sum of instance \n",
    "                                 #weight less than min_child_weight, then the building process will stop further partitioning\n",
    "\t        'colsample_bytree':0.5,\n",
    "\t        'subsample': 0.8, \n",
    "\t        'verbose':1,\n",
    "\t        'reg_alpha':0} # alpha approaches to 1 means more consertive for creating each new regression\n",
    "\n",
    "\n",
    "\tparam_test1 = {\n",
    "\t 'max_depth':[5,7,13],\n",
    "\t 'reg_alpha':[0.1,1,10],\n",
    "\t 'learning_rate':[0.05,0.1],    #set different level of parameter for cross valiadation \n",
    "\t}\n",
    " ## there are 3*3*2*5=90 runs for cross validation\n",
    " ## the geenral concept is the same as lasso\n",
    "\tgsearch = GridSearchCV(xgb.XGBRegressor(objective=param['objective'],\n",
    "\t                          n_estimators=param['n_estimators'], learning_rate = param['learning_rate'], gamma=param['gamma'],\n",
    "\t                          colsample_bytree=param['colsample_bytree'], subsample=param['subsample'], reg_alpha=param['reg_alpha']\n",
    "\t                          ),\n",
    "\t                        param_grid = param_test1, scoring='neg_mean_absolute_error',iid=False, cv=5)\n",
    "\tgsearch.fit(X,y)\n",
    "\tprint('____________________________________________')\n",
    "\tprint('tune max_depth, min_child_weight')\n",
    "\tprint('____________________________________________')\n",
    "\tprint(gsearch.cv_results_)\n",
    "\tprint(gsearch.best_params_)\n",
    "\tprint(gsearch.best_score_)\n",
    "\tprint(ks_statistic(gsearch.predict(X),y))\n",
    "\n",
    "\treturn gsearch.best_estimator_\n",
    "    "
   ]
  },
  {
   "cell_type": "code",
   "execution_count": 19,
   "metadata": {},
   "outputs": [
    {
     "name": "stderr",
     "output_type": "stream",
     "text": [
      "C:\\Users\\13479\\Anaconda3\\lib\\site-packages\\xgboost\\core.py:587: FutureWarning: Series.base is deprecated and will be removed in a future version\n",
      "  if getattr(data, 'base', None) is not None and \\\n"
     ]
    },
    {
     "name": "stdout",
     "output_type": "stream",
     "text": [
      "[10:28:39] WARNING: src/objective/regression_obj.cu:152: reg:linear is now deprecated in favor of reg:squarederror.\n"
     ]
    },
    {
     "name": "stderr",
     "output_type": "stream",
     "text": [
      "C:\\Users\\13479\\Anaconda3\\lib\\site-packages\\xgboost\\core.py:587: FutureWarning: Series.base is deprecated and will be removed in a future version\n",
      "  if getattr(data, 'base', None) is not None and \\\n"
     ]
    },
    {
     "name": "stdout",
     "output_type": "stream",
     "text": [
      "[10:31:42] WARNING: src/objective/regression_obj.cu:152: reg:linear is now deprecated in favor of reg:squarederror.\n"
     ]
    },
    {
     "name": "stderr",
     "output_type": "stream",
     "text": [
      "C:\\Users\\13479\\Anaconda3\\lib\\site-packages\\xgboost\\core.py:587: FutureWarning: Series.base is deprecated and will be removed in a future version\n",
      "  if getattr(data, 'base', None) is not None and \\\n"
     ]
    },
    {
     "name": "stdout",
     "output_type": "stream",
     "text": [
      "[10:34:46] WARNING: src/objective/regression_obj.cu:152: reg:linear is now deprecated in favor of reg:squarederror.\n"
     ]
    },
    {
     "name": "stderr",
     "output_type": "stream",
     "text": [
      "C:\\Users\\13479\\Anaconda3\\lib\\site-packages\\xgboost\\core.py:587: FutureWarning: Series.base is deprecated and will be removed in a future version\n",
      "  if getattr(data, 'base', None) is not None and \\\n"
     ]
    },
    {
     "name": "stdout",
     "output_type": "stream",
     "text": [
      "[10:37:48] WARNING: src/objective/regression_obj.cu:152: reg:linear is now deprecated in favor of reg:squarederror.\n"
     ]
    },
    {
     "name": "stderr",
     "output_type": "stream",
     "text": [
      "C:\\Users\\13479\\Anaconda3\\lib\\site-packages\\xgboost\\core.py:587: FutureWarning: Series.base is deprecated and will be removed in a future version\n",
      "  if getattr(data, 'base', None) is not None and \\\n"
     ]
    },
    {
     "name": "stdout",
     "output_type": "stream",
     "text": [
      "[10:40:52] WARNING: src/objective/regression_obj.cu:152: reg:linear is now deprecated in favor of reg:squarederror.\n"
     ]
    },
    {
     "name": "stderr",
     "output_type": "stream",
     "text": [
      "C:\\Users\\13479\\Anaconda3\\lib\\site-packages\\xgboost\\core.py:587: FutureWarning: Series.base is deprecated and will be removed in a future version\n",
      "  if getattr(data, 'base', None) is not None and \\\n"
     ]
    },
    {
     "name": "stdout",
     "output_type": "stream",
     "text": [
      "[10:43:55] WARNING: src/objective/regression_obj.cu:152: reg:linear is now deprecated in favor of reg:squarederror.\n"
     ]
    },
    {
     "name": "stderr",
     "output_type": "stream",
     "text": [
      "C:\\Users\\13479\\Anaconda3\\lib\\site-packages\\xgboost\\core.py:587: FutureWarning: Series.base is deprecated and will be removed in a future version\n",
      "  if getattr(data, 'base', None) is not None and \\\n"
     ]
    },
    {
     "name": "stdout",
     "output_type": "stream",
     "text": [
      "[10:47:00] WARNING: src/objective/regression_obj.cu:152: reg:linear is now deprecated in favor of reg:squarederror.\n"
     ]
    },
    {
     "name": "stderr",
     "output_type": "stream",
     "text": [
      "C:\\Users\\13479\\Anaconda3\\lib\\site-packages\\xgboost\\core.py:587: FutureWarning: Series.base is deprecated and will be removed in a future version\n",
      "  if getattr(data, 'base', None) is not None and \\\n"
     ]
    },
    {
     "name": "stdout",
     "output_type": "stream",
     "text": [
      "[10:50:06] WARNING: src/objective/regression_obj.cu:152: reg:linear is now deprecated in favor of reg:squarederror.\n"
     ]
    },
    {
     "name": "stderr",
     "output_type": "stream",
     "text": [
      "C:\\Users\\13479\\Anaconda3\\lib\\site-packages\\xgboost\\core.py:587: FutureWarning: Series.base is deprecated and will be removed in a future version\n",
      "  if getattr(data, 'base', None) is not None and \\\n"
     ]
    },
    {
     "name": "stdout",
     "output_type": "stream",
     "text": [
      "[10:53:12] WARNING: src/objective/regression_obj.cu:152: reg:linear is now deprecated in favor of reg:squarederror.\n"
     ]
    },
    {
     "name": "stderr",
     "output_type": "stream",
     "text": [
      "C:\\Users\\13479\\Anaconda3\\lib\\site-packages\\xgboost\\core.py:587: FutureWarning: Series.base is deprecated and will be removed in a future version\n",
      "  if getattr(data, 'base', None) is not None and \\\n"
     ]
    },
    {
     "name": "stdout",
     "output_type": "stream",
     "text": [
      "[10:56:19] WARNING: src/objective/regression_obj.cu:152: reg:linear is now deprecated in favor of reg:squarederror.\n"
     ]
    },
    {
     "name": "stderr",
     "output_type": "stream",
     "text": [
      "C:\\Users\\13479\\Anaconda3\\lib\\site-packages\\xgboost\\core.py:587: FutureWarning: Series.base is deprecated and will be removed in a future version\n",
      "  if getattr(data, 'base', None) is not None and \\\n"
     ]
    },
    {
     "name": "stdout",
     "output_type": "stream",
     "text": [
      "[10:59:25] WARNING: src/objective/regression_obj.cu:152: reg:linear is now deprecated in favor of reg:squarederror.\n"
     ]
    },
    {
     "name": "stderr",
     "output_type": "stream",
     "text": [
      "C:\\Users\\13479\\Anaconda3\\lib\\site-packages\\xgboost\\core.py:587: FutureWarning: Series.base is deprecated and will be removed in a future version\n",
      "  if getattr(data, 'base', None) is not None and \\\n"
     ]
    },
    {
     "name": "stdout",
     "output_type": "stream",
     "text": [
      "[11:02:33] WARNING: src/objective/regression_obj.cu:152: reg:linear is now deprecated in favor of reg:squarederror.\n"
     ]
    },
    {
     "name": "stderr",
     "output_type": "stream",
     "text": [
      "C:\\Users\\13479\\Anaconda3\\lib\\site-packages\\xgboost\\core.py:587: FutureWarning: Series.base is deprecated and will be removed in a future version\n",
      "  if getattr(data, 'base', None) is not None and \\\n"
     ]
    },
    {
     "name": "stdout",
     "output_type": "stream",
     "text": [
      "[11:05:40] WARNING: src/objective/regression_obj.cu:152: reg:linear is now deprecated in favor of reg:squarederror.\n"
     ]
    },
    {
     "name": "stderr",
     "output_type": "stream",
     "text": [
      "C:\\Users\\13479\\Anaconda3\\lib\\site-packages\\xgboost\\core.py:587: FutureWarning: Series.base is deprecated and will be removed in a future version\n",
      "  if getattr(data, 'base', None) is not None and \\\n"
     ]
    },
    {
     "name": "stdout",
     "output_type": "stream",
     "text": [
      "[11:08:55] WARNING: src/objective/regression_obj.cu:152: reg:linear is now deprecated in favor of reg:squarederror.\n"
     ]
    },
    {
     "name": "stderr",
     "output_type": "stream",
     "text": [
      "C:\\Users\\13479\\Anaconda3\\lib\\site-packages\\xgboost\\core.py:587: FutureWarning: Series.base is deprecated and will be removed in a future version\n",
      "  if getattr(data, 'base', None) is not None and \\\n"
     ]
    },
    {
     "name": "stdout",
     "output_type": "stream",
     "text": [
      "[11:12:11] WARNING: src/objective/regression_obj.cu:152: reg:linear is now deprecated in favor of reg:squarederror.\n"
     ]
    },
    {
     "name": "stderr",
     "output_type": "stream",
     "text": [
      "C:\\Users\\13479\\Anaconda3\\lib\\site-packages\\xgboost\\core.py:587: FutureWarning: Series.base is deprecated and will be removed in a future version\n",
      "  if getattr(data, 'base', None) is not None and \\\n"
     ]
    },
    {
     "name": "stdout",
     "output_type": "stream",
     "text": [
      "[11:15:24] WARNING: src/objective/regression_obj.cu:152: reg:linear is now deprecated in favor of reg:squarederror.\n"
     ]
    },
    {
     "name": "stderr",
     "output_type": "stream",
     "text": [
      "C:\\Users\\13479\\Anaconda3\\lib\\site-packages\\xgboost\\core.py:587: FutureWarning: Series.base is deprecated and will be removed in a future version\n",
      "  if getattr(data, 'base', None) is not None and \\\n"
     ]
    },
    {
     "name": "stdout",
     "output_type": "stream",
     "text": [
      "[11:18:06] WARNING: src/objective/regression_obj.cu:152: reg:linear is now deprecated in favor of reg:squarederror.\n"
     ]
    },
    {
     "name": "stderr",
     "output_type": "stream",
     "text": [
      "C:\\Users\\13479\\Anaconda3\\lib\\site-packages\\xgboost\\core.py:587: FutureWarning: Series.base is deprecated and will be removed in a future version\n",
      "  if getattr(data, 'base', None) is not None and \\\n"
     ]
    },
    {
     "name": "stdout",
     "output_type": "stream",
     "text": [
      "[11:20:43] WARNING: src/objective/regression_obj.cu:152: reg:linear is now deprecated in favor of reg:squarederror.\n"
     ]
    },
    {
     "name": "stderr",
     "output_type": "stream",
     "text": [
      "C:\\Users\\13479\\Anaconda3\\lib\\site-packages\\xgboost\\core.py:587: FutureWarning: Series.base is deprecated and will be removed in a future version\n",
      "  if getattr(data, 'base', None) is not None and \\\n"
     ]
    },
    {
     "name": "stdout",
     "output_type": "stream",
     "text": [
      "[11:23:23] WARNING: src/objective/regression_obj.cu:152: reg:linear is now deprecated in favor of reg:squarederror.\n"
     ]
    },
    {
     "name": "stderr",
     "output_type": "stream",
     "text": [
      "C:\\Users\\13479\\Anaconda3\\lib\\site-packages\\xgboost\\core.py:587: FutureWarning: Series.base is deprecated and will be removed in a future version\n",
      "  if getattr(data, 'base', None) is not None and \\\n"
     ]
    },
    {
     "name": "stdout",
     "output_type": "stream",
     "text": [
      "[11:26:02] WARNING: src/objective/regression_obj.cu:152: reg:linear is now deprecated in favor of reg:squarederror.\n"
     ]
    },
    {
     "name": "stderr",
     "output_type": "stream",
     "text": [
      "C:\\Users\\13479\\Anaconda3\\lib\\site-packages\\xgboost\\core.py:587: FutureWarning: Series.base is deprecated and will be removed in a future version\n",
      "  if getattr(data, 'base', None) is not None and \\\n"
     ]
    },
    {
     "name": "stdout",
     "output_type": "stream",
     "text": [
      "[11:28:41] WARNING: src/objective/regression_obj.cu:152: reg:linear is now deprecated in favor of reg:squarederror.\n"
     ]
    },
    {
     "name": "stderr",
     "output_type": "stream",
     "text": [
      "C:\\Users\\13479\\Anaconda3\\lib\\site-packages\\xgboost\\core.py:587: FutureWarning: Series.base is deprecated and will be removed in a future version\n",
      "  if getattr(data, 'base', None) is not None and \\\n"
     ]
    },
    {
     "name": "stdout",
     "output_type": "stream",
     "text": [
      "[11:33:08] WARNING: src/objective/regression_obj.cu:152: reg:linear is now deprecated in favor of reg:squarederror.\n"
     ]
    },
    {
     "name": "stderr",
     "output_type": "stream",
     "text": [
      "C:\\Users\\13479\\Anaconda3\\lib\\site-packages\\xgboost\\core.py:587: FutureWarning: Series.base is deprecated and will be removed in a future version\n",
      "  if getattr(data, 'base', None) is not None and \\\n"
     ]
    },
    {
     "name": "stdout",
     "output_type": "stream",
     "text": [
      "[11:37:32] WARNING: src/objective/regression_obj.cu:152: reg:linear is now deprecated in favor of reg:squarederror.\n"
     ]
    },
    {
     "name": "stderr",
     "output_type": "stream",
     "text": [
      "C:\\Users\\13479\\Anaconda3\\lib\\site-packages\\xgboost\\core.py:587: FutureWarning: Series.base is deprecated and will be removed in a future version\n",
      "  if getattr(data, 'base', None) is not None and \\\n"
     ]
    },
    {
     "name": "stdout",
     "output_type": "stream",
     "text": [
      "[11:41:55] WARNING: src/objective/regression_obj.cu:152: reg:linear is now deprecated in favor of reg:squarederror.\n"
     ]
    },
    {
     "name": "stderr",
     "output_type": "stream",
     "text": [
      "C:\\Users\\13479\\Anaconda3\\lib\\site-packages\\xgboost\\core.py:587: FutureWarning: Series.base is deprecated and will be removed in a future version\n",
      "  if getattr(data, 'base', None) is not None and \\\n"
     ]
    },
    {
     "name": "stdout",
     "output_type": "stream",
     "text": [
      "[11:46:20] WARNING: src/objective/regression_obj.cu:152: reg:linear is now deprecated in favor of reg:squarederror.\n"
     ]
    },
    {
     "name": "stderr",
     "output_type": "stream",
     "text": [
      "C:\\Users\\13479\\Anaconda3\\lib\\site-packages\\xgboost\\core.py:587: FutureWarning: Series.base is deprecated and will be removed in a future version\n",
      "  if getattr(data, 'base', None) is not None and \\\n"
     ]
    },
    {
     "name": "stdout",
     "output_type": "stream",
     "text": [
      "[11:50:48] WARNING: src/objective/regression_obj.cu:152: reg:linear is now deprecated in favor of reg:squarederror.\n"
     ]
    },
    {
     "name": "stderr",
     "output_type": "stream",
     "text": [
      "C:\\Users\\13479\\Anaconda3\\lib\\site-packages\\xgboost\\core.py:587: FutureWarning: Series.base is deprecated and will be removed in a future version\n",
      "  if getattr(data, 'base', None) is not None and \\\n"
     ]
    },
    {
     "name": "stdout",
     "output_type": "stream",
     "text": [
      "[11:55:19] WARNING: src/objective/regression_obj.cu:152: reg:linear is now deprecated in favor of reg:squarederror.\n"
     ]
    },
    {
     "name": "stderr",
     "output_type": "stream",
     "text": [
      "C:\\Users\\13479\\Anaconda3\\lib\\site-packages\\xgboost\\core.py:587: FutureWarning: Series.base is deprecated and will be removed in a future version\n",
      "  if getattr(data, 'base', None) is not None and \\\n"
     ]
    },
    {
     "name": "stdout",
     "output_type": "stream",
     "text": [
      "[11:59:49] WARNING: src/objective/regression_obj.cu:152: reg:linear is now deprecated in favor of reg:squarederror.\n"
     ]
    },
    {
     "name": "stderr",
     "output_type": "stream",
     "text": [
      "C:\\Users\\13479\\Anaconda3\\lib\\site-packages\\xgboost\\core.py:587: FutureWarning: Series.base is deprecated and will be removed in a future version\n",
      "  if getattr(data, 'base', None) is not None and \\\n"
     ]
    },
    {
     "name": "stdout",
     "output_type": "stream",
     "text": [
      "[12:04:25] WARNING: src/objective/regression_obj.cu:152: reg:linear is now deprecated in favor of reg:squarederror.\n"
     ]
    },
    {
     "name": "stderr",
     "output_type": "stream",
     "text": [
      "C:\\Users\\13479\\Anaconda3\\lib\\site-packages\\xgboost\\core.py:587: FutureWarning: Series.base is deprecated and will be removed in a future version\n",
      "  if getattr(data, 'base', None) is not None and \\\n"
     ]
    },
    {
     "name": "stdout",
     "output_type": "stream",
     "text": [
      "[12:08:58] WARNING: src/objective/regression_obj.cu:152: reg:linear is now deprecated in favor of reg:squarederror.\n"
     ]
    },
    {
     "name": "stderr",
     "output_type": "stream",
     "text": [
      "C:\\Users\\13479\\Anaconda3\\lib\\site-packages\\xgboost\\core.py:587: FutureWarning: Series.base is deprecated and will be removed in a future version\n",
      "  if getattr(data, 'base', None) is not None and \\\n"
     ]
    },
    {
     "name": "stdout",
     "output_type": "stream",
     "text": [
      "[12:13:34] WARNING: src/objective/regression_obj.cu:152: reg:linear is now deprecated in favor of reg:squarederror.\n"
     ]
    },
    {
     "name": "stderr",
     "output_type": "stream",
     "text": [
      "C:\\Users\\13479\\Anaconda3\\lib\\site-packages\\xgboost\\core.py:587: FutureWarning: Series.base is deprecated and will be removed in a future version\n",
      "  if getattr(data, 'base', None) is not None and \\\n"
     ]
    },
    {
     "name": "stdout",
     "output_type": "stream",
     "text": [
      "[12:18:16] WARNING: src/objective/regression_obj.cu:152: reg:linear is now deprecated in favor of reg:squarederror.\n"
     ]
    },
    {
     "name": "stderr",
     "output_type": "stream",
     "text": [
      "C:\\Users\\13479\\Anaconda3\\lib\\site-packages\\xgboost\\core.py:587: FutureWarning: Series.base is deprecated and will be removed in a future version\n",
      "  if getattr(data, 'base', None) is not None and \\\n"
     ]
    },
    {
     "name": "stdout",
     "output_type": "stream",
     "text": [
      "[12:23:01] WARNING: src/objective/regression_obj.cu:152: reg:linear is now deprecated in favor of reg:squarederror.\n"
     ]
    },
    {
     "name": "stderr",
     "output_type": "stream",
     "text": [
      "C:\\Users\\13479\\Anaconda3\\lib\\site-packages\\xgboost\\core.py:587: FutureWarning: Series.base is deprecated and will be removed in a future version\n",
      "  if getattr(data, 'base', None) is not None and \\\n"
     ]
    },
    {
     "name": "stdout",
     "output_type": "stream",
     "text": [
      "[12:28:13] WARNING: src/objective/regression_obj.cu:152: reg:linear is now deprecated in favor of reg:squarederror.\n"
     ]
    },
    {
     "name": "stderr",
     "output_type": "stream",
     "text": [
      "C:\\Users\\13479\\Anaconda3\\lib\\site-packages\\xgboost\\core.py:587: FutureWarning: Series.base is deprecated and will be removed in a future version\n",
      "  if getattr(data, 'base', None) is not None and \\\n"
     ]
    },
    {
     "name": "stdout",
     "output_type": "stream",
     "text": [
      "[12:33:28] WARNING: src/objective/regression_obj.cu:152: reg:linear is now deprecated in favor of reg:squarederror.\n"
     ]
    },
    {
     "name": "stderr",
     "output_type": "stream",
     "text": [
      "C:\\Users\\13479\\Anaconda3\\lib\\site-packages\\xgboost\\core.py:587: FutureWarning: Series.base is deprecated and will be removed in a future version\n",
      "  if getattr(data, 'base', None) is not None and \\\n"
     ]
    },
    {
     "name": "stdout",
     "output_type": "stream",
     "text": [
      "[12:38:41] WARNING: src/objective/regression_obj.cu:152: reg:linear is now deprecated in favor of reg:squarederror.\n"
     ]
    },
    {
     "name": "stderr",
     "output_type": "stream",
     "text": [
      "C:\\Users\\13479\\Anaconda3\\lib\\site-packages\\xgboost\\core.py:587: FutureWarning: Series.base is deprecated and will be removed in a future version\n",
      "  if getattr(data, 'base', None) is not None and \\\n"
     ]
    },
    {
     "name": "stdout",
     "output_type": "stream",
     "text": [
      "[12:42:22] WARNING: src/objective/regression_obj.cu:152: reg:linear is now deprecated in favor of reg:squarederror.\n"
     ]
    },
    {
     "name": "stderr",
     "output_type": "stream",
     "text": [
      "C:\\Users\\13479\\Anaconda3\\lib\\site-packages\\xgboost\\core.py:587: FutureWarning: Series.base is deprecated and will be removed in a future version\n",
      "  if getattr(data, 'base', None) is not None and \\\n"
     ]
    },
    {
     "name": "stdout",
     "output_type": "stream",
     "text": [
      "[12:46:01] WARNING: src/objective/regression_obj.cu:152: reg:linear is now deprecated in favor of reg:squarederror.\n"
     ]
    },
    {
     "name": "stderr",
     "output_type": "stream",
     "text": [
      "C:\\Users\\13479\\Anaconda3\\lib\\site-packages\\xgboost\\core.py:587: FutureWarning: Series.base is deprecated and will be removed in a future version\n",
      "  if getattr(data, 'base', None) is not None and \\\n"
     ]
    },
    {
     "name": "stdout",
     "output_type": "stream",
     "text": [
      "[12:49:41] WARNING: src/objective/regression_obj.cu:152: reg:linear is now deprecated in favor of reg:squarederror.\n"
     ]
    },
    {
     "name": "stderr",
     "output_type": "stream",
     "text": [
      "C:\\Users\\13479\\Anaconda3\\lib\\site-packages\\xgboost\\core.py:587: FutureWarning: Series.base is deprecated and will be removed in a future version\n",
      "  if getattr(data, 'base', None) is not None and \\\n"
     ]
    },
    {
     "name": "stdout",
     "output_type": "stream",
     "text": [
      "[12:53:22] WARNING: src/objective/regression_obj.cu:152: reg:linear is now deprecated in favor of reg:squarederror.\n"
     ]
    },
    {
     "name": "stderr",
     "output_type": "stream",
     "text": [
      "C:\\Users\\13479\\Anaconda3\\lib\\site-packages\\xgboost\\core.py:587: FutureWarning: Series.base is deprecated and will be removed in a future version\n",
      "  if getattr(data, 'base', None) is not None and \\\n"
     ]
    },
    {
     "name": "stdout",
     "output_type": "stream",
     "text": [
      "[12:56:52] WARNING: src/objective/regression_obj.cu:152: reg:linear is now deprecated in favor of reg:squarederror.\n"
     ]
    },
    {
     "name": "stderr",
     "output_type": "stream",
     "text": [
      "C:\\Users\\13479\\Anaconda3\\lib\\site-packages\\xgboost\\core.py:587: FutureWarning: Series.base is deprecated and will be removed in a future version\n",
      "  if getattr(data, 'base', None) is not None and \\\n"
     ]
    },
    {
     "name": "stdout",
     "output_type": "stream",
     "text": [
      "[13:10:06] WARNING: src/objective/regression_obj.cu:152: reg:linear is now deprecated in favor of reg:squarederror.\n"
     ]
    },
    {
     "name": "stderr",
     "output_type": "stream",
     "text": [
      "C:\\Users\\13479\\Anaconda3\\lib\\site-packages\\xgboost\\core.py:587: FutureWarning: Series.base is deprecated and will be removed in a future version\n",
      "  if getattr(data, 'base', None) is not None and \\\n"
     ]
    },
    {
     "name": "stdout",
     "output_type": "stream",
     "text": [
      "[13:22:28] WARNING: src/objective/regression_obj.cu:152: reg:linear is now deprecated in favor of reg:squarederror.\n"
     ]
    },
    {
     "name": "stderr",
     "output_type": "stream",
     "text": [
      "C:\\Users\\13479\\Anaconda3\\lib\\site-packages\\xgboost\\core.py:587: FutureWarning: Series.base is deprecated and will be removed in a future version\n",
      "  if getattr(data, 'base', None) is not None and \\\n"
     ]
    },
    {
     "name": "stdout",
     "output_type": "stream",
     "text": [
      "[13:34:22] WARNING: src/objective/regression_obj.cu:152: reg:linear is now deprecated in favor of reg:squarederror.\n"
     ]
    },
    {
     "name": "stderr",
     "output_type": "stream",
     "text": [
      "C:\\Users\\13479\\Anaconda3\\lib\\site-packages\\xgboost\\core.py:587: FutureWarning: Series.base is deprecated and will be removed in a future version\n",
      "  if getattr(data, 'base', None) is not None and \\\n"
     ]
    },
    {
     "name": "stdout",
     "output_type": "stream",
     "text": [
      "[13:45:49] WARNING: src/objective/regression_obj.cu:152: reg:linear is now deprecated in favor of reg:squarederror.\n"
     ]
    },
    {
     "name": "stderr",
     "output_type": "stream",
     "text": [
      "C:\\Users\\13479\\Anaconda3\\lib\\site-packages\\xgboost\\core.py:587: FutureWarning: Series.base is deprecated and will be removed in a future version\n",
      "  if getattr(data, 'base', None) is not None and \\\n"
     ]
    },
    {
     "name": "stdout",
     "output_type": "stream",
     "text": [
      "[13:57:20] WARNING: src/objective/regression_obj.cu:152: reg:linear is now deprecated in favor of reg:squarederror.\n"
     ]
    },
    {
     "name": "stderr",
     "output_type": "stream",
     "text": [
      "C:\\Users\\13479\\Anaconda3\\lib\\site-packages\\xgboost\\core.py:587: FutureWarning: Series.base is deprecated and will be removed in a future version\n",
      "  if getattr(data, 'base', None) is not None and \\\n"
     ]
    },
    {
     "name": "stdout",
     "output_type": "stream",
     "text": [
      "[14:08:41] WARNING: src/objective/regression_obj.cu:152: reg:linear is now deprecated in favor of reg:squarederror.\n"
     ]
    },
    {
     "name": "stderr",
     "output_type": "stream",
     "text": [
      "C:\\Users\\13479\\Anaconda3\\lib\\site-packages\\xgboost\\core.py:587: FutureWarning: Series.base is deprecated and will be removed in a future version\n",
      "  if getattr(data, 'base', None) is not None and \\\n"
     ]
    },
    {
     "name": "stdout",
     "output_type": "stream",
     "text": [
      "[14:20:06] WARNING: src/objective/regression_obj.cu:152: reg:linear is now deprecated in favor of reg:squarederror.\n"
     ]
    },
    {
     "name": "stderr",
     "output_type": "stream",
     "text": [
      "C:\\Users\\13479\\Anaconda3\\lib\\site-packages\\xgboost\\core.py:587: FutureWarning: Series.base is deprecated and will be removed in a future version\n",
      "  if getattr(data, 'base', None) is not None and \\\n"
     ]
    },
    {
     "name": "stdout",
     "output_type": "stream",
     "text": [
      "[14:31:29] WARNING: src/objective/regression_obj.cu:152: reg:linear is now deprecated in favor of reg:squarederror.\n"
     ]
    },
    {
     "name": "stderr",
     "output_type": "stream",
     "text": [
      "C:\\Users\\13479\\Anaconda3\\lib\\site-packages\\xgboost\\core.py:587: FutureWarning: Series.base is deprecated and will be removed in a future version\n",
      "  if getattr(data, 'base', None) is not None and \\\n"
     ]
    },
    {
     "name": "stdout",
     "output_type": "stream",
     "text": [
      "[14:42:37] WARNING: src/objective/regression_obj.cu:152: reg:linear is now deprecated in favor of reg:squarederror.\n"
     ]
    },
    {
     "name": "stderr",
     "output_type": "stream",
     "text": [
      "C:\\Users\\13479\\Anaconda3\\lib\\site-packages\\xgboost\\core.py:587: FutureWarning: Series.base is deprecated and will be removed in a future version\n",
      "  if getattr(data, 'base', None) is not None and \\\n"
     ]
    },
    {
     "name": "stdout",
     "output_type": "stream",
     "text": [
      "[14:53:40] WARNING: src/objective/regression_obj.cu:152: reg:linear is now deprecated in favor of reg:squarederror.\n"
     ]
    },
    {
     "name": "stderr",
     "output_type": "stream",
     "text": [
      "C:\\Users\\13479\\Anaconda3\\lib\\site-packages\\xgboost\\core.py:587: FutureWarning: Series.base is deprecated and will be removed in a future version\n",
      "  if getattr(data, 'base', None) is not None and \\\n"
     ]
    },
    {
     "name": "stdout",
     "output_type": "stream",
     "text": [
      "[15:03:31] WARNING: src/objective/regression_obj.cu:152: reg:linear is now deprecated in favor of reg:squarederror.\n"
     ]
    },
    {
     "name": "stderr",
     "output_type": "stream",
     "text": [
      "C:\\Users\\13479\\Anaconda3\\lib\\site-packages\\xgboost\\core.py:587: FutureWarning: Series.base is deprecated and will be removed in a future version\n",
      "  if getattr(data, 'base', None) is not None and \\\n"
     ]
    },
    {
     "name": "stdout",
     "output_type": "stream",
     "text": [
      "[15:14:14] WARNING: src/objective/regression_obj.cu:152: reg:linear is now deprecated in favor of reg:squarederror.\n"
     ]
    },
    {
     "name": "stderr",
     "output_type": "stream",
     "text": [
      "C:\\Users\\13479\\Anaconda3\\lib\\site-packages\\xgboost\\core.py:587: FutureWarning: Series.base is deprecated and will be removed in a future version\n",
      "  if getattr(data, 'base', None) is not None and \\\n"
     ]
    },
    {
     "name": "stdout",
     "output_type": "stream",
     "text": [
      "[15:24:26] WARNING: src/objective/regression_obj.cu:152: reg:linear is now deprecated in favor of reg:squarederror.\n"
     ]
    },
    {
     "name": "stderr",
     "output_type": "stream",
     "text": [
      "C:\\Users\\13479\\Anaconda3\\lib\\site-packages\\xgboost\\core.py:587: FutureWarning: Series.base is deprecated and will be removed in a future version\n",
      "  if getattr(data, 'base', None) is not None and \\\n"
     ]
    },
    {
     "name": "stdout",
     "output_type": "stream",
     "text": [
      "[15:34:41] WARNING: src/objective/regression_obj.cu:152: reg:linear is now deprecated in favor of reg:squarederror.\n"
     ]
    },
    {
     "name": "stderr",
     "output_type": "stream",
     "text": [
      "C:\\Users\\13479\\Anaconda3\\lib\\site-packages\\xgboost\\core.py:587: FutureWarning: Series.base is deprecated and will be removed in a future version\n",
      "  if getattr(data, 'base', None) is not None and \\\n"
     ]
    },
    {
     "name": "stdout",
     "output_type": "stream",
     "text": [
      "[15:44:50] WARNING: src/objective/regression_obj.cu:152: reg:linear is now deprecated in favor of reg:squarederror.\n"
     ]
    },
    {
     "name": "stderr",
     "output_type": "stream",
     "text": [
      "C:\\Users\\13479\\Anaconda3\\lib\\site-packages\\xgboost\\core.py:587: FutureWarning: Series.base is deprecated and will be removed in a future version\n",
      "  if getattr(data, 'base', None) is not None and \\\n"
     ]
    },
    {
     "name": "stdout",
     "output_type": "stream",
     "text": [
      "[15:50:02] WARNING: src/objective/regression_obj.cu:152: reg:linear is now deprecated in favor of reg:squarederror.\n"
     ]
    },
    {
     "name": "stderr",
     "output_type": "stream",
     "text": [
      "C:\\Users\\13479\\Anaconda3\\lib\\site-packages\\xgboost\\core.py:587: FutureWarning: Series.base is deprecated and will be removed in a future version\n",
      "  if getattr(data, 'base', None) is not None and \\\n"
     ]
    },
    {
     "name": "stdout",
     "output_type": "stream",
     "text": [
      "[15:55:11] WARNING: src/objective/regression_obj.cu:152: reg:linear is now deprecated in favor of reg:squarederror.\n"
     ]
    },
    {
     "name": "stderr",
     "output_type": "stream",
     "text": [
      "C:\\Users\\13479\\Anaconda3\\lib\\site-packages\\xgboost\\core.py:587: FutureWarning: Series.base is deprecated and will be removed in a future version\n",
      "  if getattr(data, 'base', None) is not None and \\\n"
     ]
    },
    {
     "name": "stdout",
     "output_type": "stream",
     "text": [
      "[16:00:18] WARNING: src/objective/regression_obj.cu:152: reg:linear is now deprecated in favor of reg:squarederror.\n"
     ]
    },
    {
     "name": "stderr",
     "output_type": "stream",
     "text": [
      "C:\\Users\\13479\\Anaconda3\\lib\\site-packages\\xgboost\\core.py:587: FutureWarning: Series.base is deprecated and will be removed in a future version\n",
      "  if getattr(data, 'base', None) is not None and \\\n"
     ]
    },
    {
     "name": "stdout",
     "output_type": "stream",
     "text": [
      "[16:05:27] WARNING: src/objective/regression_obj.cu:152: reg:linear is now deprecated in favor of reg:squarederror.\n"
     ]
    },
    {
     "name": "stderr",
     "output_type": "stream",
     "text": [
      "C:\\Users\\13479\\Anaconda3\\lib\\site-packages\\xgboost\\core.py:587: FutureWarning: Series.base is deprecated and will be removed in a future version\n",
      "  if getattr(data, 'base', None) is not None and \\\n"
     ]
    },
    {
     "name": "stdout",
     "output_type": "stream",
     "text": [
      "[16:10:36] WARNING: src/objective/regression_obj.cu:152: reg:linear is now deprecated in favor of reg:squarederror.\n"
     ]
    },
    {
     "name": "stderr",
     "output_type": "stream",
     "text": [
      "C:\\Users\\13479\\Anaconda3\\lib\\site-packages\\xgboost\\core.py:587: FutureWarning: Series.base is deprecated and will be removed in a future version\n",
      "  if getattr(data, 'base', None) is not None and \\\n"
     ]
    },
    {
     "name": "stdout",
     "output_type": "stream",
     "text": [
      "[16:13:41] WARNING: src/objective/regression_obj.cu:152: reg:linear is now deprecated in favor of reg:squarederror.\n"
     ]
    },
    {
     "name": "stderr",
     "output_type": "stream",
     "text": [
      "C:\\Users\\13479\\Anaconda3\\lib\\site-packages\\xgboost\\core.py:587: FutureWarning: Series.base is deprecated and will be removed in a future version\n",
      "  if getattr(data, 'base', None) is not None and \\\n"
     ]
    },
    {
     "name": "stdout",
     "output_type": "stream",
     "text": [
      "[16:16:41] WARNING: src/objective/regression_obj.cu:152: reg:linear is now deprecated in favor of reg:squarederror.\n"
     ]
    },
    {
     "name": "stderr",
     "output_type": "stream",
     "text": [
      "C:\\Users\\13479\\Anaconda3\\lib\\site-packages\\xgboost\\core.py:587: FutureWarning: Series.base is deprecated and will be removed in a future version\n",
      "  if getattr(data, 'base', None) is not None and \\\n"
     ]
    },
    {
     "name": "stdout",
     "output_type": "stream",
     "text": [
      "[16:19:43] WARNING: src/objective/regression_obj.cu:152: reg:linear is now deprecated in favor of reg:squarederror.\n"
     ]
    },
    {
     "name": "stderr",
     "output_type": "stream",
     "text": [
      "C:\\Users\\13479\\Anaconda3\\lib\\site-packages\\xgboost\\core.py:587: FutureWarning: Series.base is deprecated and will be removed in a future version\n",
      "  if getattr(data, 'base', None) is not None and \\\n"
     ]
    },
    {
     "name": "stdout",
     "output_type": "stream",
     "text": [
      "[16:22:47] WARNING: src/objective/regression_obj.cu:152: reg:linear is now deprecated in favor of reg:squarederror.\n"
     ]
    },
    {
     "name": "stderr",
     "output_type": "stream",
     "text": [
      "C:\\Users\\13479\\Anaconda3\\lib\\site-packages\\xgboost\\core.py:587: FutureWarning: Series.base is deprecated and will be removed in a future version\n",
      "  if getattr(data, 'base', None) is not None and \\\n"
     ]
    },
    {
     "name": "stdout",
     "output_type": "stream",
     "text": [
      "[16:25:49] WARNING: src/objective/regression_obj.cu:152: reg:linear is now deprecated in favor of reg:squarederror.\n"
     ]
    },
    {
     "name": "stderr",
     "output_type": "stream",
     "text": [
      "C:\\Users\\13479\\Anaconda3\\lib\\site-packages\\xgboost\\core.py:587: FutureWarning: Series.base is deprecated and will be removed in a future version\n",
      "  if getattr(data, 'base', None) is not None and \\\n"
     ]
    },
    {
     "name": "stdout",
     "output_type": "stream",
     "text": [
      "[16:28:55] WARNING: src/objective/regression_obj.cu:152: reg:linear is now deprecated in favor of reg:squarederror.\n"
     ]
    },
    {
     "name": "stderr",
     "output_type": "stream",
     "text": [
      "C:\\Users\\13479\\Anaconda3\\lib\\site-packages\\xgboost\\core.py:587: FutureWarning: Series.base is deprecated and will be removed in a future version\n",
      "  if getattr(data, 'base', None) is not None and \\\n"
     ]
    },
    {
     "name": "stdout",
     "output_type": "stream",
     "text": [
      "[16:32:02] WARNING: src/objective/regression_obj.cu:152: reg:linear is now deprecated in favor of reg:squarederror.\n"
     ]
    },
    {
     "name": "stderr",
     "output_type": "stream",
     "text": [
      "C:\\Users\\13479\\Anaconda3\\lib\\site-packages\\xgboost\\core.py:587: FutureWarning: Series.base is deprecated and will be removed in a future version\n",
      "  if getattr(data, 'base', None) is not None and \\\n"
     ]
    },
    {
     "name": "stdout",
     "output_type": "stream",
     "text": [
      "[16:35:09] WARNING: src/objective/regression_obj.cu:152: reg:linear is now deprecated in favor of reg:squarederror.\n"
     ]
    },
    {
     "name": "stderr",
     "output_type": "stream",
     "text": [
      "C:\\Users\\13479\\Anaconda3\\lib\\site-packages\\xgboost\\core.py:587: FutureWarning: Series.base is deprecated and will be removed in a future version\n",
      "  if getattr(data, 'base', None) is not None and \\\n"
     ]
    },
    {
     "name": "stdout",
     "output_type": "stream",
     "text": [
      "[16:38:14] WARNING: src/objective/regression_obj.cu:152: reg:linear is now deprecated in favor of reg:squarederror.\n"
     ]
    },
    {
     "name": "stderr",
     "output_type": "stream",
     "text": [
      "C:\\Users\\13479\\Anaconda3\\lib\\site-packages\\xgboost\\core.py:587: FutureWarning: Series.base is deprecated and will be removed in a future version\n",
      "  if getattr(data, 'base', None) is not None and \\\n"
     ]
    },
    {
     "name": "stdout",
     "output_type": "stream",
     "text": [
      "[16:41:20] WARNING: src/objective/regression_obj.cu:152: reg:linear is now deprecated in favor of reg:squarederror.\n"
     ]
    },
    {
     "name": "stderr",
     "output_type": "stream",
     "text": [
      "C:\\Users\\13479\\Anaconda3\\lib\\site-packages\\xgboost\\core.py:587: FutureWarning: Series.base is deprecated and will be removed in a future version\n",
      "  if getattr(data, 'base', None) is not None and \\\n"
     ]
    },
    {
     "name": "stdout",
     "output_type": "stream",
     "text": [
      "[16:44:32] WARNING: src/objective/regression_obj.cu:152: reg:linear is now deprecated in favor of reg:squarederror.\n"
     ]
    },
    {
     "name": "stderr",
     "output_type": "stream",
     "text": [
      "C:\\Users\\13479\\Anaconda3\\lib\\site-packages\\xgboost\\core.py:587: FutureWarning: Series.base is deprecated and will be removed in a future version\n",
      "  if getattr(data, 'base', None) is not None and \\\n"
     ]
    },
    {
     "name": "stdout",
     "output_type": "stream",
     "text": [
      "[16:47:44] WARNING: src/objective/regression_obj.cu:152: reg:linear is now deprecated in favor of reg:squarederror.\n"
     ]
    },
    {
     "name": "stderr",
     "output_type": "stream",
     "text": [
      "C:\\Users\\13479\\Anaconda3\\lib\\site-packages\\xgboost\\core.py:587: FutureWarning: Series.base is deprecated and will be removed in a future version\n",
      "  if getattr(data, 'base', None) is not None and \\\n"
     ]
    },
    {
     "name": "stdout",
     "output_type": "stream",
     "text": [
      "[16:50:57] WARNING: src/objective/regression_obj.cu:152: reg:linear is now deprecated in favor of reg:squarederror.\n"
     ]
    },
    {
     "name": "stderr",
     "output_type": "stream",
     "text": [
      "C:\\Users\\13479\\Anaconda3\\lib\\site-packages\\xgboost\\core.py:587: FutureWarning: Series.base is deprecated and will be removed in a future version\n",
      "  if getattr(data, 'base', None) is not None and \\\n"
     ]
    },
    {
     "name": "stdout",
     "output_type": "stream",
     "text": [
      "[16:54:07] WARNING: src/objective/regression_obj.cu:152: reg:linear is now deprecated in favor of reg:squarederror.\n"
     ]
    },
    {
     "name": "stderr",
     "output_type": "stream",
     "text": [
      "C:\\Users\\13479\\Anaconda3\\lib\\site-packages\\xgboost\\core.py:587: FutureWarning: Series.base is deprecated and will be removed in a future version\n",
      "  if getattr(data, 'base', None) is not None and \\\n"
     ]
    },
    {
     "name": "stdout",
     "output_type": "stream",
     "text": [
      "[16:57:19] WARNING: src/objective/regression_obj.cu:152: reg:linear is now deprecated in favor of reg:squarederror.\n"
     ]
    },
    {
     "name": "stderr",
     "output_type": "stream",
     "text": [
      "C:\\Users\\13479\\Anaconda3\\lib\\site-packages\\xgboost\\core.py:587: FutureWarning: Series.base is deprecated and will be removed in a future version\n",
      "  if getattr(data, 'base', None) is not None and \\\n"
     ]
    },
    {
     "name": "stdout",
     "output_type": "stream",
     "text": [
      "[16:59:35] WARNING: src/objective/regression_obj.cu:152: reg:linear is now deprecated in favor of reg:squarederror.\n"
     ]
    },
    {
     "name": "stderr",
     "output_type": "stream",
     "text": [
      "C:\\Users\\13479\\Anaconda3\\lib\\site-packages\\xgboost\\core.py:587: FutureWarning: Series.base is deprecated and will be removed in a future version\n",
      "  if getattr(data, 'base', None) is not None and \\\n"
     ]
    },
    {
     "name": "stdout",
     "output_type": "stream",
     "text": [
      "[17:01:49] WARNING: src/objective/regression_obj.cu:152: reg:linear is now deprecated in favor of reg:squarederror.\n"
     ]
    },
    {
     "name": "stderr",
     "output_type": "stream",
     "text": [
      "C:\\Users\\13479\\Anaconda3\\lib\\site-packages\\xgboost\\core.py:587: FutureWarning: Series.base is deprecated and will be removed in a future version\n",
      "  if getattr(data, 'base', None) is not None and \\\n"
     ]
    },
    {
     "name": "stdout",
     "output_type": "stream",
     "text": [
      "[17:04:04] WARNING: src/objective/regression_obj.cu:152: reg:linear is now deprecated in favor of reg:squarederror.\n"
     ]
    },
    {
     "name": "stderr",
     "output_type": "stream",
     "text": [
      "C:\\Users\\13479\\Anaconda3\\lib\\site-packages\\xgboost\\core.py:587: FutureWarning: Series.base is deprecated and will be removed in a future version\n",
      "  if getattr(data, 'base', None) is not None and \\\n"
     ]
    },
    {
     "name": "stdout",
     "output_type": "stream",
     "text": [
      "[17:06:15] WARNING: src/objective/regression_obj.cu:152: reg:linear is now deprecated in favor of reg:squarederror.\n"
     ]
    },
    {
     "name": "stderr",
     "output_type": "stream",
     "text": [
      "C:\\Users\\13479\\Anaconda3\\lib\\site-packages\\xgboost\\core.py:587: FutureWarning: Series.base is deprecated and will be removed in a future version\n",
      "  if getattr(data, 'base', None) is not None and \\\n"
     ]
    },
    {
     "name": "stdout",
     "output_type": "stream",
     "text": [
      "[17:08:29] WARNING: src/objective/regression_obj.cu:152: reg:linear is now deprecated in favor of reg:squarederror.\n"
     ]
    },
    {
     "name": "stderr",
     "output_type": "stream",
     "text": [
      "C:\\Users\\13479\\Anaconda3\\lib\\site-packages\\xgboost\\core.py:587: FutureWarning: Series.base is deprecated and will be removed in a future version\n",
      "  if getattr(data, 'base', None) is not None and \\\n"
     ]
    },
    {
     "name": "stdout",
     "output_type": "stream",
     "text": [
      "[17:12:55] WARNING: src/objective/regression_obj.cu:152: reg:linear is now deprecated in favor of reg:squarederror.\n"
     ]
    },
    {
     "name": "stderr",
     "output_type": "stream",
     "text": [
      "C:\\Users\\13479\\Anaconda3\\lib\\site-packages\\xgboost\\core.py:587: FutureWarning: Series.base is deprecated and will be removed in a future version\n",
      "  if getattr(data, 'base', None) is not None and \\\n"
     ]
    },
    {
     "name": "stdout",
     "output_type": "stream",
     "text": [
      "[17:17:20] WARNING: src/objective/regression_obj.cu:152: reg:linear is now deprecated in favor of reg:squarederror.\n"
     ]
    },
    {
     "name": "stderr",
     "output_type": "stream",
     "text": [
      "C:\\Users\\13479\\Anaconda3\\lib\\site-packages\\xgboost\\core.py:587: FutureWarning: Series.base is deprecated and will be removed in a future version\n",
      "  if getattr(data, 'base', None) is not None and \\\n"
     ]
    },
    {
     "name": "stdout",
     "output_type": "stream",
     "text": [
      "[17:21:49] WARNING: src/objective/regression_obj.cu:152: reg:linear is now deprecated in favor of reg:squarederror.\n"
     ]
    },
    {
     "name": "stderr",
     "output_type": "stream",
     "text": [
      "C:\\Users\\13479\\Anaconda3\\lib\\site-packages\\xgboost\\core.py:587: FutureWarning: Series.base is deprecated and will be removed in a future version\n",
      "  if getattr(data, 'base', None) is not None and \\\n"
     ]
    },
    {
     "name": "stdout",
     "output_type": "stream",
     "text": [
      "[17:26:19] WARNING: src/objective/regression_obj.cu:152: reg:linear is now deprecated in favor of reg:squarederror.\n"
     ]
    },
    {
     "name": "stderr",
     "output_type": "stream",
     "text": [
      "C:\\Users\\13479\\Anaconda3\\lib\\site-packages\\xgboost\\core.py:587: FutureWarning: Series.base is deprecated and will be removed in a future version\n",
      "  if getattr(data, 'base', None) is not None and \\\n"
     ]
    },
    {
     "name": "stdout",
     "output_type": "stream",
     "text": [
      "[17:30:45] WARNING: src/objective/regression_obj.cu:152: reg:linear is now deprecated in favor of reg:squarederror.\n"
     ]
    },
    {
     "name": "stderr",
     "output_type": "stream",
     "text": [
      "C:\\Users\\13479\\Anaconda3\\lib\\site-packages\\xgboost\\core.py:587: FutureWarning: Series.base is deprecated and will be removed in a future version\n",
      "  if getattr(data, 'base', None) is not None and \\\n"
     ]
    },
    {
     "name": "stdout",
     "output_type": "stream",
     "text": [
      "[17:35:23] WARNING: src/objective/regression_obj.cu:152: reg:linear is now deprecated in favor of reg:squarederror.\n"
     ]
    },
    {
     "name": "stderr",
     "output_type": "stream",
     "text": [
      "C:\\Users\\13479\\Anaconda3\\lib\\site-packages\\xgboost\\core.py:587: FutureWarning: Series.base is deprecated and will be removed in a future version\n",
      "  if getattr(data, 'base', None) is not None and \\\n"
     ]
    },
    {
     "name": "stdout",
     "output_type": "stream",
     "text": [
      "[17:40:03] WARNING: src/objective/regression_obj.cu:152: reg:linear is now deprecated in favor of reg:squarederror.\n"
     ]
    },
    {
     "name": "stderr",
     "output_type": "stream",
     "text": [
      "C:\\Users\\13479\\Anaconda3\\lib\\site-packages\\xgboost\\core.py:587: FutureWarning: Series.base is deprecated and will be removed in a future version\n",
      "  if getattr(data, 'base', None) is not None and \\\n"
     ]
    },
    {
     "name": "stdout",
     "output_type": "stream",
     "text": [
      "[17:44:42] WARNING: src/objective/regression_obj.cu:152: reg:linear is now deprecated in favor of reg:squarederror.\n"
     ]
    },
    {
     "name": "stderr",
     "output_type": "stream",
     "text": [
      "C:\\Users\\13479\\Anaconda3\\lib\\site-packages\\xgboost\\core.py:587: FutureWarning: Series.base is deprecated and will be removed in a future version\n",
      "  if getattr(data, 'base', None) is not None and \\\n"
     ]
    },
    {
     "name": "stdout",
     "output_type": "stream",
     "text": [
      "[17:49:21] WARNING: src/objective/regression_obj.cu:152: reg:linear is now deprecated in favor of reg:squarederror.\n"
     ]
    },
    {
     "name": "stderr",
     "output_type": "stream",
     "text": [
      "C:\\Users\\13479\\Anaconda3\\lib\\site-packages\\xgboost\\core.py:587: FutureWarning: Series.base is deprecated and will be removed in a future version\n",
      "  if getattr(data, 'base', None) is not None and \\\n"
     ]
    },
    {
     "name": "stdout",
     "output_type": "stream",
     "text": [
      "[17:54:02] WARNING: src/objective/regression_obj.cu:152: reg:linear is now deprecated in favor of reg:squarederror.\n"
     ]
    },
    {
     "name": "stderr",
     "output_type": "stream",
     "text": [
      "C:\\Users\\13479\\Anaconda3\\lib\\site-packages\\xgboost\\core.py:587: FutureWarning: Series.base is deprecated and will be removed in a future version\n",
      "  if getattr(data, 'base', None) is not None and \\\n"
     ]
    },
    {
     "name": "stdout",
     "output_type": "stream",
     "text": [
      "[17:58:51] WARNING: src/objective/regression_obj.cu:152: reg:linear is now deprecated in favor of reg:squarederror.\n"
     ]
    },
    {
     "name": "stderr",
     "output_type": "stream",
     "text": [
      "C:\\Users\\13479\\Anaconda3\\lib\\site-packages\\xgboost\\core.py:587: FutureWarning: Series.base is deprecated and will be removed in a future version\n",
      "  if getattr(data, 'base', None) is not None and \\\n"
     ]
    },
    {
     "name": "stdout",
     "output_type": "stream",
     "text": [
      "[18:03:32] WARNING: src/objective/regression_obj.cu:152: reg:linear is now deprecated in favor of reg:squarederror.\n"
     ]
    },
    {
     "name": "stderr",
     "output_type": "stream",
     "text": [
      "C:\\Users\\13479\\Anaconda3\\lib\\site-packages\\xgboost\\core.py:587: FutureWarning: Series.base is deprecated and will be removed in a future version\n",
      "  if getattr(data, 'base', None) is not None and \\\n"
     ]
    },
    {
     "name": "stdout",
     "output_type": "stream",
     "text": [
      "[18:08:08] WARNING: src/objective/regression_obj.cu:152: reg:linear is now deprecated in favor of reg:squarederror.\n"
     ]
    },
    {
     "name": "stderr",
     "output_type": "stream",
     "text": [
      "C:\\Users\\13479\\Anaconda3\\lib\\site-packages\\xgboost\\core.py:587: FutureWarning: Series.base is deprecated and will be removed in a future version\n",
      "  if getattr(data, 'base', None) is not None and \\\n"
     ]
    },
    {
     "name": "stdout",
     "output_type": "stream",
     "text": [
      "[18:12:42] WARNING: src/objective/regression_obj.cu:152: reg:linear is now deprecated in favor of reg:squarederror.\n"
     ]
    },
    {
     "name": "stderr",
     "output_type": "stream",
     "text": [
      "C:\\Users\\13479\\Anaconda3\\lib\\site-packages\\xgboost\\core.py:587: FutureWarning: Series.base is deprecated and will be removed in a future version\n",
      "  if getattr(data, 'base', None) is not None and \\\n"
     ]
    },
    {
     "name": "stdout",
     "output_type": "stream",
     "text": [
      "[18:17:15] WARNING: src/objective/regression_obj.cu:152: reg:linear is now deprecated in favor of reg:squarederror.\n"
     ]
    },
    {
     "name": "stderr",
     "output_type": "stream",
     "text": [
      "C:\\Users\\13479\\Anaconda3\\lib\\site-packages\\xgboost\\core.py:587: FutureWarning: Series.base is deprecated and will be removed in a future version\n",
      "  if getattr(data, 'base', None) is not None and \\\n"
     ]
    },
    {
     "name": "stdout",
     "output_type": "stream",
     "text": [
      "[18:19:50] WARNING: src/objective/regression_obj.cu:152: reg:linear is now deprecated in favor of reg:squarederror.\n"
     ]
    },
    {
     "name": "stderr",
     "output_type": "stream",
     "text": [
      "C:\\Users\\13479\\Anaconda3\\lib\\site-packages\\xgboost\\core.py:587: FutureWarning: Series.base is deprecated and will be removed in a future version\n",
      "  if getattr(data, 'base', None) is not None and \\\n"
     ]
    },
    {
     "name": "stdout",
     "output_type": "stream",
     "text": [
      "[18:22:21] WARNING: src/objective/regression_obj.cu:152: reg:linear is now deprecated in favor of reg:squarederror.\n"
     ]
    },
    {
     "name": "stderr",
     "output_type": "stream",
     "text": [
      "C:\\Users\\13479\\Anaconda3\\lib\\site-packages\\xgboost\\core.py:587: FutureWarning: Series.base is deprecated and will be removed in a future version\n",
      "  if getattr(data, 'base', None) is not None and \\\n"
     ]
    },
    {
     "name": "stdout",
     "output_type": "stream",
     "text": [
      "[18:24:54] WARNING: src/objective/regression_obj.cu:152: reg:linear is now deprecated in favor of reg:squarederror.\n"
     ]
    },
    {
     "name": "stderr",
     "output_type": "stream",
     "text": [
      "C:\\Users\\13479\\Anaconda3\\lib\\site-packages\\xgboost\\core.py:587: FutureWarning: Series.base is deprecated and will be removed in a future version\n",
      "  if getattr(data, 'base', None) is not None and \\\n"
     ]
    },
    {
     "name": "stdout",
     "output_type": "stream",
     "text": [
      "[18:27:27] WARNING: src/objective/regression_obj.cu:152: reg:linear is now deprecated in favor of reg:squarederror.\n"
     ]
    },
    {
     "name": "stderr",
     "output_type": "stream",
     "text": [
      "C:\\Users\\13479\\Anaconda3\\lib\\site-packages\\xgboost\\core.py:587: FutureWarning: Series.base is deprecated and will be removed in a future version\n",
      "  if getattr(data, 'base', None) is not None and \\\n"
     ]
    },
    {
     "name": "stdout",
     "output_type": "stream",
     "text": [
      "[18:29:59] WARNING: src/objective/regression_obj.cu:152: reg:linear is now deprecated in favor of reg:squarederror.\n"
     ]
    },
    {
     "name": "stderr",
     "output_type": "stream",
     "text": [
      "C:\\Users\\13479\\Anaconda3\\lib\\site-packages\\xgboost\\core.py:587: FutureWarning: Series.base is deprecated and will be removed in a future version\n",
      "  if getattr(data, 'base', None) is not None and \\\n"
     ]
    },
    {
     "name": "stdout",
     "output_type": "stream",
     "text": [
      "[18:40:00] WARNING: src/objective/regression_obj.cu:152: reg:linear is now deprecated in favor of reg:squarederror.\n"
     ]
    },
    {
     "name": "stderr",
     "output_type": "stream",
     "text": [
      "C:\\Users\\13479\\Anaconda3\\lib\\site-packages\\xgboost\\core.py:587: FutureWarning: Series.base is deprecated and will be removed in a future version\n",
      "  if getattr(data, 'base', None) is not None and \\\n"
     ]
    },
    {
     "name": "stdout",
     "output_type": "stream",
     "text": [
      "[18:50:02] WARNING: src/objective/regression_obj.cu:152: reg:linear is now deprecated in favor of reg:squarederror.\n"
     ]
    },
    {
     "name": "stderr",
     "output_type": "stream",
     "text": [
      "C:\\Users\\13479\\Anaconda3\\lib\\site-packages\\xgboost\\core.py:587: FutureWarning: Series.base is deprecated and will be removed in a future version\n",
      "  if getattr(data, 'base', None) is not None and \\\n"
     ]
    },
    {
     "name": "stdout",
     "output_type": "stream",
     "text": [
      "[19:00:01] WARNING: src/objective/regression_obj.cu:152: reg:linear is now deprecated in favor of reg:squarederror.\n"
     ]
    },
    {
     "name": "stderr",
     "output_type": "stream",
     "text": [
      "C:\\Users\\13479\\Anaconda3\\lib\\site-packages\\xgboost\\core.py:587: FutureWarning: Series.base is deprecated and will be removed in a future version\n",
      "  if getattr(data, 'base', None) is not None and \\\n"
     ]
    },
    {
     "name": "stdout",
     "output_type": "stream",
     "text": [
      "[19:10:02] WARNING: src/objective/regression_obj.cu:152: reg:linear is now deprecated in favor of reg:squarederror.\n"
     ]
    },
    {
     "name": "stderr",
     "output_type": "stream",
     "text": [
      "C:\\Users\\13479\\Anaconda3\\lib\\site-packages\\xgboost\\core.py:587: FutureWarning: Series.base is deprecated and will be removed in a future version\n",
      "  if getattr(data, 'base', None) is not None and \\\n"
     ]
    },
    {
     "name": "stdout",
     "output_type": "stream",
     "text": [
      "[19:20:03] WARNING: src/objective/regression_obj.cu:152: reg:linear is now deprecated in favor of reg:squarederror.\n"
     ]
    },
    {
     "name": "stderr",
     "output_type": "stream",
     "text": [
      "C:\\Users\\13479\\Anaconda3\\lib\\site-packages\\xgboost\\core.py:587: FutureWarning: Series.base is deprecated and will be removed in a future version\n",
      "  if getattr(data, 'base', None) is not None and \\\n"
     ]
    },
    {
     "name": "stdout",
     "output_type": "stream",
     "text": [
      "[19:29:49] WARNING: src/objective/regression_obj.cu:152: reg:linear is now deprecated in favor of reg:squarederror.\n"
     ]
    },
    {
     "name": "stderr",
     "output_type": "stream",
     "text": [
      "C:\\Users\\13479\\Anaconda3\\lib\\site-packages\\xgboost\\core.py:587: FutureWarning: Series.base is deprecated and will be removed in a future version\n",
      "  if getattr(data, 'base', None) is not None and \\\n"
     ]
    },
    {
     "name": "stdout",
     "output_type": "stream",
     "text": [
      "[19:39:35] WARNING: src/objective/regression_obj.cu:152: reg:linear is now deprecated in favor of reg:squarederror.\n"
     ]
    },
    {
     "name": "stderr",
     "output_type": "stream",
     "text": [
      "C:\\Users\\13479\\Anaconda3\\lib\\site-packages\\xgboost\\core.py:587: FutureWarning: Series.base is deprecated and will be removed in a future version\n",
      "  if getattr(data, 'base', None) is not None and \\\n"
     ]
    },
    {
     "name": "stdout",
     "output_type": "stream",
     "text": [
      "[19:49:21] WARNING: src/objective/regression_obj.cu:152: reg:linear is now deprecated in favor of reg:squarederror.\n"
     ]
    },
    {
     "name": "stderr",
     "output_type": "stream",
     "text": [
      "C:\\Users\\13479\\Anaconda3\\lib\\site-packages\\xgboost\\core.py:587: FutureWarning: Series.base is deprecated and will be removed in a future version\n",
      "  if getattr(data, 'base', None) is not None and \\\n"
     ]
    },
    {
     "name": "stdout",
     "output_type": "stream",
     "text": [
      "[19:59:07] WARNING: src/objective/regression_obj.cu:152: reg:linear is now deprecated in favor of reg:squarederror.\n"
     ]
    },
    {
     "name": "stderr",
     "output_type": "stream",
     "text": [
      "C:\\Users\\13479\\Anaconda3\\lib\\site-packages\\xgboost\\core.py:587: FutureWarning: Series.base is deprecated and will be removed in a future version\n",
      "  if getattr(data, 'base', None) is not None and \\\n"
     ]
    },
    {
     "name": "stdout",
     "output_type": "stream",
     "text": [
      "[20:08:54] WARNING: src/objective/regression_obj.cu:152: reg:linear is now deprecated in favor of reg:squarederror.\n"
     ]
    },
    {
     "name": "stderr",
     "output_type": "stream",
     "text": [
      "C:\\Users\\13479\\Anaconda3\\lib\\site-packages\\xgboost\\core.py:587: FutureWarning: Series.base is deprecated and will be removed in a future version\n",
      "  if getattr(data, 'base', None) is not None and \\\n"
     ]
    },
    {
     "name": "stdout",
     "output_type": "stream",
     "text": [
      "[20:17:50] WARNING: src/objective/regression_obj.cu:152: reg:linear is now deprecated in favor of reg:squarederror.\n"
     ]
    },
    {
     "name": "stderr",
     "output_type": "stream",
     "text": [
      "C:\\Users\\13479\\Anaconda3\\lib\\site-packages\\xgboost\\core.py:587: FutureWarning: Series.base is deprecated and will be removed in a future version\n",
      "  if getattr(data, 'base', None) is not None and \\\n"
     ]
    },
    {
     "name": "stdout",
     "output_type": "stream",
     "text": [
      "[20:26:45] WARNING: src/objective/regression_obj.cu:152: reg:linear is now deprecated in favor of reg:squarederror.\n"
     ]
    },
    {
     "name": "stderr",
     "output_type": "stream",
     "text": [
      "C:\\Users\\13479\\Anaconda3\\lib\\site-packages\\xgboost\\core.py:587: FutureWarning: Series.base is deprecated and will be removed in a future version\n",
      "  if getattr(data, 'base', None) is not None and \\\n"
     ]
    },
    {
     "name": "stdout",
     "output_type": "stream",
     "text": [
      "[20:35:42] WARNING: src/objective/regression_obj.cu:152: reg:linear is now deprecated in favor of reg:squarederror.\n"
     ]
    },
    {
     "name": "stderr",
     "output_type": "stream",
     "text": [
      "C:\\Users\\13479\\Anaconda3\\lib\\site-packages\\xgboost\\core.py:587: FutureWarning: Series.base is deprecated and will be removed in a future version\n",
      "  if getattr(data, 'base', None) is not None and \\\n"
     ]
    },
    {
     "name": "stdout",
     "output_type": "stream",
     "text": [
      "[20:44:26] WARNING: src/objective/regression_obj.cu:152: reg:linear is now deprecated in favor of reg:squarederror.\n"
     ]
    },
    {
     "name": "stderr",
     "output_type": "stream",
     "text": [
      "C:\\Users\\13479\\Anaconda3\\lib\\site-packages\\xgboost\\core.py:587: FutureWarning: Series.base is deprecated and will be removed in a future version\n",
      "  if getattr(data, 'base', None) is not None and \\\n"
     ]
    },
    {
     "name": "stdout",
     "output_type": "stream",
     "text": [
      "[20:53:09] WARNING: src/objective/regression_obj.cu:152: reg:linear is now deprecated in favor of reg:squarederror.\n"
     ]
    },
    {
     "name": "stderr",
     "output_type": "stream",
     "text": [
      "C:\\Users\\13479\\Anaconda3\\lib\\site-packages\\xgboost\\core.py:587: FutureWarning: Series.base is deprecated and will be removed in a future version\n",
      "  if getattr(data, 'base', None) is not None and \\\n"
     ]
    },
    {
     "name": "stdout",
     "output_type": "stream",
     "text": [
      "[20:56:49] WARNING: src/objective/regression_obj.cu:152: reg:linear is now deprecated in favor of reg:squarederror.\n"
     ]
    },
    {
     "name": "stderr",
     "output_type": "stream",
     "text": [
      "C:\\Users\\13479\\Anaconda3\\lib\\site-packages\\xgboost\\core.py:587: FutureWarning: Series.base is deprecated and will be removed in a future version\n",
      "  if getattr(data, 'base', None) is not None and \\\n"
     ]
    },
    {
     "name": "stdout",
     "output_type": "stream",
     "text": [
      "[21:00:27] WARNING: src/objective/regression_obj.cu:152: reg:linear is now deprecated in favor of reg:squarederror.\n"
     ]
    },
    {
     "name": "stderr",
     "output_type": "stream",
     "text": [
      "C:\\Users\\13479\\Anaconda3\\lib\\site-packages\\xgboost\\core.py:587: FutureWarning: Series.base is deprecated and will be removed in a future version\n",
      "  if getattr(data, 'base', None) is not None and \\\n"
     ]
    },
    {
     "name": "stdout",
     "output_type": "stream",
     "text": [
      "[21:04:06] WARNING: src/objective/regression_obj.cu:152: reg:linear is now deprecated in favor of reg:squarederror.\n"
     ]
    },
    {
     "name": "stderr",
     "output_type": "stream",
     "text": [
      "C:\\Users\\13479\\Anaconda3\\lib\\site-packages\\xgboost\\core.py:587: FutureWarning: Series.base is deprecated and will be removed in a future version\n",
      "  if getattr(data, 'base', None) is not None and \\\n"
     ]
    },
    {
     "name": "stdout",
     "output_type": "stream",
     "text": [
      "[21:07:41] WARNING: src/objective/regression_obj.cu:152: reg:linear is now deprecated in favor of reg:squarederror.\n"
     ]
    },
    {
     "name": "stderr",
     "output_type": "stream",
     "text": [
      "C:\\Users\\13479\\Anaconda3\\lib\\site-packages\\xgboost\\core.py:587: FutureWarning: Series.base is deprecated and will be removed in a future version\n",
      "  if getattr(data, 'base', None) is not None and \\\n",
      "C:\\Users\\13479\\Anaconda3\\lib\\site-packages\\xgboost\\core.py:588: FutureWarning: Series.base is deprecated and will be removed in a future version\n",
      "  data.base is not None and isinstance(data, np.ndarray) \\\n"
     ]
    },
    {
     "name": "stdout",
     "output_type": "stream",
     "text": [
      "[21:11:18] WARNING: src/objective/regression_obj.cu:152: reg:linear is now deprecated in favor of reg:squarederror.\n",
      "____________________________________________\n",
      "tune max_depth, min_child_weight\n",
      "____________________________________________\n",
      "{'mean_fit_time': array([179.77452545, 182.54762726, 187.98064685, 156.20256267,\n",
      "       259.71082749, 267.18730502, 293.79204245, 214.63280983,\n",
      "       683.27478337, 640.2024869 , 590.33417211, 304.73367801,\n",
      "       179.39398613, 182.62718983, 187.81179028, 131.4291676 ,\n",
      "       261.33722095, 273.10487957, 272.35594802, 150.14718294,\n",
      "       575.46042995, 564.23902869, 516.59444757, 214.91344471]), 'std_fit_time': array([ 0.45850391,  0.17432048,  3.51509592,  1.69126473,  1.78465568,\n",
      "        2.16637682, 14.02199694,  3.96750139, 35.92514141,  7.84795893,\n",
      "       22.48895067,  1.5222999 ,  1.95608127,  0.94726538,  0.94972897,\n",
      "        1.26927391,  2.09859346,  0.97068962,  5.59852643,  1.23973725,\n",
      "        0.85465355,  0.33011971,  5.66733516,  1.89668907]), 'mean_score_time': array([0.71045265, 0.73456526, 0.8115911 , 0.63699756, 1.19079456,\n",
      "       1.25429502, 1.58967028, 0.76462555, 8.49577489, 7.12450714,\n",
      "       4.85420189, 0.9153265 , 0.7056922 , 0.72723265, 0.83287659,\n",
      "       0.55275817, 1.21299706, 1.3045166 , 1.2938971 , 0.55035658,\n",
      "       5.05583076, 4.38965945, 2.99095058, 0.62812047]), 'std_score_time': array([0.02552397, 0.02132398, 0.0295198 , 0.01115065, 0.04811014,\n",
      "       0.03871682, 0.17062023, 0.02303921, 0.73292133, 0.22944962,\n",
      "       0.23406696, 0.01397268, 0.01633748, 0.01487735, 0.01468987,\n",
      "       0.03196413, 0.05618755, 0.03866761, 0.02618248, 0.0129126 ,\n",
      "       0.07391514, 0.0323184 , 0.25156823, 0.00456434]), 'param_learning_rate': masked_array(data=[0.05, 0.05, 0.05, 0.05, 0.05, 0.05, 0.05, 0.05, 0.05,\n",
      "                   0.05, 0.05, 0.05, 0.1, 0.1, 0.1, 0.1, 0.1, 0.1, 0.1,\n",
      "                   0.1, 0.1, 0.1, 0.1, 0.1],\n",
      "             mask=[False, False, False, False, False, False, False, False,\n",
      "                   False, False, False, False, False, False, False, False,\n",
      "                   False, False, False, False, False, False, False, False],\n",
      "       fill_value='?',\n",
      "            dtype=object), 'param_max_depth': masked_array(data=[5, 5, 5, 5, 7, 7, 7, 7, 13, 13, 13, 13, 5, 5, 5, 5, 7,\n",
      "                   7, 7, 7, 13, 13, 13, 13],\n",
      "             mask=[False, False, False, False, False, False, False, False,\n",
      "                   False, False, False, False, False, False, False, False,\n",
      "                   False, False, False, False, False, False, False, False],\n",
      "       fill_value='?',\n",
      "            dtype=object), 'param_reg_alpha': masked_array(data=[0.1, 1, 10, 100, 0.1, 1, 10, 100, 0.1, 1, 10, 100, 0.1,\n",
      "                   1, 10, 100, 0.1, 1, 10, 100, 0.1, 1, 10, 100],\n",
      "             mask=[False, False, False, False, False, False, False, False,\n",
      "                   False, False, False, False, False, False, False, False,\n",
      "                   False, False, False, False, False, False, False, False],\n",
      "       fill_value='?',\n",
      "            dtype=object), 'params': [{'learning_rate': 0.05, 'max_depth': 5, 'reg_alpha': 0.1}, {'learning_rate': 0.05, 'max_depth': 5, 'reg_alpha': 1}, {'learning_rate': 0.05, 'max_depth': 5, 'reg_alpha': 10}, {'learning_rate': 0.05, 'max_depth': 5, 'reg_alpha': 100}, {'learning_rate': 0.05, 'max_depth': 7, 'reg_alpha': 0.1}, {'learning_rate': 0.05, 'max_depth': 7, 'reg_alpha': 1}, {'learning_rate': 0.05, 'max_depth': 7, 'reg_alpha': 10}, {'learning_rate': 0.05, 'max_depth': 7, 'reg_alpha': 100}, {'learning_rate': 0.05, 'max_depth': 13, 'reg_alpha': 0.1}, {'learning_rate': 0.05, 'max_depth': 13, 'reg_alpha': 1}, {'learning_rate': 0.05, 'max_depth': 13, 'reg_alpha': 10}, {'learning_rate': 0.05, 'max_depth': 13, 'reg_alpha': 100}, {'learning_rate': 0.1, 'max_depth': 5, 'reg_alpha': 0.1}, {'learning_rate': 0.1, 'max_depth': 5, 'reg_alpha': 1}, {'learning_rate': 0.1, 'max_depth': 5, 'reg_alpha': 10}, {'learning_rate': 0.1, 'max_depth': 5, 'reg_alpha': 100}, {'learning_rate': 0.1, 'max_depth': 7, 'reg_alpha': 0.1}, {'learning_rate': 0.1, 'max_depth': 7, 'reg_alpha': 1}, {'learning_rate': 0.1, 'max_depth': 7, 'reg_alpha': 10}, {'learning_rate': 0.1, 'max_depth': 7, 'reg_alpha': 100}, {'learning_rate': 0.1, 'max_depth': 13, 'reg_alpha': 0.1}, {'learning_rate': 0.1, 'max_depth': 13, 'reg_alpha': 1}, {'learning_rate': 0.1, 'max_depth': 13, 'reg_alpha': 10}, {'learning_rate': 0.1, 'max_depth': 13, 'reg_alpha': 100}], 'split0_test_score': array([-0.29299737, -0.29285099, -0.29196697, -0.29329931, -0.29389432,\n",
      "       -0.29241157, -0.29199883, -0.29296996, -0.29658881, -0.29392608,\n",
      "       -0.29227698, -0.29272511, -0.29464547, -0.29439965, -0.2941888 ,\n",
      "       -0.29287182, -0.29864821, -0.29537378, -0.29421022, -0.29263656,\n",
      "       -0.29864862, -0.295281  , -0.29353969, -0.29231191]), 'split1_test_score': array([-0.29370208, -0.29326415, -0.29246074, -0.29354897, -0.2944984 ,\n",
      "       -0.2931486 , -0.29211162, -0.29313592, -0.29766261, -0.29522679,\n",
      "       -0.29168194, -0.29282775, -0.29540667, -0.29584606, -0.29374047,\n",
      "       -0.29314004, -0.29837651, -0.29674756, -0.29482898, -0.29281137,\n",
      "       -0.29945607, -0.29653426, -0.293719  , -0.2928688 ]), 'split2_test_score': array([-0.29437573, -0.29383116, -0.29310118, -0.29408474, -0.29524845,\n",
      "       -0.29387874, -0.29331099, -0.29376904, -0.29795235, -0.29561191,\n",
      "       -0.29253505, -0.29350274, -0.29677779, -0.29697161, -0.29491467,\n",
      "       -0.29379352, -0.29952717, -0.29752699, -0.29578954, -0.29347039,\n",
      "       -0.29897686, -0.29544284, -0.29543485, -0.29365736]), 'split3_test_score': array([-0.29522055, -0.29402161, -0.29409537, -0.29458868, -0.29465389,\n",
      "       -0.29462198, -0.29403384, -0.29441091, -0.29856992, -0.29578901,\n",
      "       -0.29302924, -0.29394514, -0.29757578, -0.2968484 , -0.29608334,\n",
      "       -0.29441054, -0.29801128, -0.29756776, -0.29754608, -0.29426421,\n",
      "       -0.30037022, -0.29684828, -0.29441827, -0.29410916]), 'split4_test_score': array([-0.29486406, -0.29416451, -0.29388648, -0.29432202, -0.29568076,\n",
      "       -0.29451397, -0.29328883, -0.29395761, -0.29858505, -0.29632638,\n",
      "       -0.29307127, -0.29374034, -0.29642535, -0.29629289, -0.29501092,\n",
      "       -0.29400068, -0.29914533, -0.29876038, -0.29607401, -0.29371664,\n",
      "       -0.29876931, -0.29603096, -0.29462156, -0.29379317]), 'mean_test_score': array([-0.29423196, -0.29362648, -0.29310215, -0.29396874, -0.29479516,\n",
      "       -0.29371497, -0.29294882, -0.29364869, -0.29787175, -0.29537603,\n",
      "       -0.2925189 , -0.29334822, -0.29616621, -0.29607172, -0.29478764,\n",
      "       -0.29364332, -0.2987417 , -0.2971953 , -0.29568977, -0.29337983,\n",
      "       -0.29924422, -0.29602747, -0.29434667, -0.29334808]), 'std_test_score': array([0.00080031, 0.000494  , 0.00081261, 0.00047894, 0.00061795,\n",
      "       0.00083756, 0.00077813, 0.00053188, 0.00073381, 0.00080672,\n",
      "       0.00051475, 0.00048849, 0.00103127, 0.0009283 , 0.0008    ,\n",
      "       0.00056345, 0.00053954, 0.00111504, 0.00114311, 0.00059655,\n",
      "       0.00062682, 0.00060491, 0.00067971, 0.00065975]), 'rank_test_score': array([12,  7,  3, 11, 15, 10,  2,  9, 22, 16,  1,  5, 20, 19, 14,  8, 23,\n",
      "       21, 17,  6, 24, 18, 13,  4]), 'split0_train_score': array([-0.24622691, -0.24506332, -0.26021057, -0.28995481, -0.17308633,\n",
      "       -0.16795342, -0.21538461, -0.28785677, -0.00285014, -0.0159563 ,\n",
      "       -0.1140998 , -0.28346878, -0.20996631, -0.21009962, -0.23527658,\n",
      "       -0.2883535 , -0.10509828, -0.10448564, -0.16936969, -0.28572167,\n",
      "       -0.00126937, -0.00957085, -0.08367308, -0.280134  ]), 'split1_train_score': array([-0.24528227, -0.24490987, -0.2593511 , -0.28931885, -0.17320975,\n",
      "       -0.16882015, -0.21404479, -0.28727923, -0.00254014, -0.01582774,\n",
      "       -0.1141973 , -0.28253533, -0.21028519, -0.21029168, -0.23451356,\n",
      "       -0.28782883, -0.10477558, -0.10452915, -0.16889905, -0.28524022,\n",
      "       -0.00116643, -0.00961088, -0.08366205, -0.27968332]), 'split2_train_score': array([-0.24535799, -0.24479096, -0.25934421, -0.28907362, -0.17234068,\n",
      "       -0.16794217, -0.21484226, -0.28702137, -0.00286184, -0.01583905,\n",
      "       -0.11399618, -0.2825942 , -0.21008297, -0.20917567, -0.2343588 ,\n",
      "       -0.28764744, -0.10571811, -0.10453628, -0.16846992, -0.28488858,\n",
      "       -0.00128509, -0.00953774, -0.08365396, -0.27929242]), 'split3_train_score': array([-0.24539692, -0.24498087, -0.25912099, -0.28907405, -0.17356558,\n",
      "       -0.16999564, -0.21446383, -0.28704601, -0.00271819, -0.01590052,\n",
      "       -0.11421899, -0.28248852, -0.20926189, -0.20981865, -0.23436063,\n",
      "       -0.28765041, -0.1070975 , -0.10536502, -0.16838287, -0.28511207,\n",
      "       -0.00121344, -0.00956824, -0.08359613, -0.27935245]), 'split4_train_score': array([-0.24551121, -0.2451714 , -0.25950866, -0.28882314, -0.17296615,\n",
      "       -0.16812931, -0.21449957, -0.28661853, -0.00263897, -0.01590451,\n",
      "       -0.11421973, -0.28212406, -0.20971201, -0.20929356, -0.23414126,\n",
      "       -0.28727239, -0.10395612, -0.1037564 , -0.16865466, -0.28462357,\n",
      "       -0.00120529, -0.0095757 , -0.08375574, -0.27894793]), 'mean_train_score': array([-0.24555506, -0.24498328, -0.25950711, -0.28924889, -0.1730337 ,\n",
      "       -0.16856814, -0.21464701, -0.28716438, -0.00272185, -0.01588563,\n",
      "       -0.1141464 , -0.28264218, -0.20986167, -0.20973584, -0.23453016,\n",
      "       -0.28775051, -0.10532912, -0.1045345 , -0.16875524, -0.28511722,\n",
      "       -0.00122793, -0.00957268, -0.08366819, -0.27948203]), 'std_train_score': array([3.43965349e-04, 1.29752679e-04, 3.72780801e-04, 3.86207034e-04,\n",
      "       4.00376188e-04, 7.82757611e-04, 4.47244761e-04, 4.06206004e-04,\n",
      "       1.23254117e-04, 4.71035351e-05, 8.71499275e-05, 4.44756535e-04,\n",
      "       3.52540395e-04, 4.37617642e-04, 3.91603928e-04, 3.51846380e-04,\n",
      "       1.05102823e-03, 5.09434963e-04, 3.54517642e-04, 3.67825464e-04,\n",
      "       4.35619155e-05, 2.32904191e-05, 5.12293849e-05, 4.00895208e-04])}\n",
      "{'learning_rate': 0.05, 'max_depth': 13, 'reg_alpha': 10}\n",
      "-0.2925188966693347\n"
     ]
    },
    {
     "name": "stderr",
     "output_type": "stream",
     "text": [
      "C:\\Users\\13479\\Anaconda3\\lib\\site-packages\\ipykernel_launcher.py:8: FutureWarning: \n",
      ".ix is deprecated. Please use\n",
      ".loc for label based indexing or\n",
      ".iloc for positional indexing\n",
      "\n",
      "See the documentation here:\n",
      "http://pandas.pydata.org/pandas-docs/stable/user_guide/indexing.html#ix-indexer-is-deprecated\n",
      "  \n",
      "C:\\Users\\13479\\Anaconda3\\lib\\site-packages\\pandas\\core\\indexing.py:822: FutureWarning: \n",
      ".ix is deprecated. Please use\n",
      ".loc for label based indexing or\n",
      ".iloc for positional indexing\n",
      "\n",
      "See the documentation here:\n",
      "http://pandas.pydata.org/pandas-docs/stable/user_guide/indexing.html#ix-indexer-is-deprecated\n",
      "  retval = getattr(retval, self.name)._getitem_axis(key, axis=i)\n",
      "C:\\Users\\13479\\Anaconda3\\lib\\site-packages\\ipykernel_launcher.py:9: FutureWarning: \n",
      ".ix is deprecated. Please use\n",
      ".loc for label based indexing or\n",
      ".iloc for positional indexing\n",
      "\n",
      "See the documentation here:\n",
      "http://pandas.pydata.org/pandas-docs/stable/user_guide/indexing.html#ix-indexer-is-deprecated\n",
      "  if __name__ == '__main__':\n"
     ]
    },
    {
     "name": "stdout",
     "output_type": "stream",
     "text": [
      "0.0\n",
      "===============\n",
      "xgb test score\n",
      "ks_statistic:  0.2962707017752889\n",
      "===============\n"
     ]
    }
   ],
   "source": [
    "xgb_param = xgb_autotune(X_train,Y_train)\n",
    "print('='*15)\n",
    "print('xgb test score')\n",
    "print('ks_statistic: ', ks_statistic(Y_test['bad30'],xgb_param.predict(X_test)))\n",
    "print('='*15)"
   ]
  },
  {
   "cell_type": "code",
   "execution_count": 29,
   "metadata": {},
   "outputs": [
    {
     "data": {
      "text/plain": [
       "0.6562756116478159"
      ]
     },
     "execution_count": 29,
     "metadata": {},
     "output_type": "execute_result"
    }
   ],
   "source": [
    "roc_auc_score(Y_test['bad30'],xgb_param.predict(X_test))"
   ]
  },
  {
   "cell_type": "code",
   "execution_count": 56,
   "metadata": {},
   "outputs": [
    {
     "data": {
      "text/html": [
       "<div>\n",
       "<style scoped>\n",
       "    .dataframe tbody tr th:only-of-type {\n",
       "        vertical-align: middle;\n",
       "    }\n",
       "\n",
       "    .dataframe tbody tr th {\n",
       "        vertical-align: top;\n",
       "    }\n",
       "\n",
       "    .dataframe thead th {\n",
       "        text-align: right;\n",
       "    }\n",
       "</style>\n",
       "<table border=\"1\" class=\"dataframe\">\n",
       "  <thead>\n",
       "    <tr style=\"text-align: right;\">\n",
       "      <th></th>\n",
       "      <th>count</th>\n",
       "      <th>actual</th>\n",
       "      <th>non_actual</th>\n",
       "      <th>cum_count</th>\n",
       "      <th>cum_actual</th>\n",
       "      <th>cum_non_actual</th>\n",
       "      <th>percent_cum_actual</th>\n",
       "      <th>percent_cum_non_actual</th>\n",
       "      <th>if_random</th>\n",
       "      <th>lift</th>\n",
       "      <th>K_S</th>\n",
       "      <th>gain</th>\n",
       "    </tr>\n",
       "    <tr>\n",
       "      <th>decile</th>\n",
       "      <th></th>\n",
       "      <th></th>\n",
       "      <th></th>\n",
       "      <th></th>\n",
       "      <th></th>\n",
       "      <th></th>\n",
       "      <th></th>\n",
       "      <th></th>\n",
       "      <th></th>\n",
       "      <th></th>\n",
       "      <th></th>\n",
       "      <th></th>\n",
       "    </tr>\n",
       "  </thead>\n",
       "  <tbody>\n",
       "    <tr>\n",
       "      <td>0</td>\n",
       "      <td>1999</td>\n",
       "      <td>728.0</td>\n",
       "      <td>1271.0</td>\n",
       "      <td>1999</td>\n",
       "      <td>728.0</td>\n",
       "      <td>1271.0</td>\n",
       "      <td>0.19</td>\n",
       "      <td>0.08</td>\n",
       "      <td>381.5</td>\n",
       "      <td>1.91</td>\n",
       "      <td>11.0</td>\n",
       "      <td>36.42</td>\n",
       "    </tr>\n",
       "    <tr>\n",
       "      <td>1</td>\n",
       "      <td>1998</td>\n",
       "      <td>558.0</td>\n",
       "      <td>1440.0</td>\n",
       "      <td>3997</td>\n",
       "      <td>1286.0</td>\n",
       "      <td>2711.0</td>\n",
       "      <td>0.34</td>\n",
       "      <td>0.17</td>\n",
       "      <td>763.0</td>\n",
       "      <td>1.69</td>\n",
       "      <td>17.0</td>\n",
       "      <td>32.17</td>\n",
       "    </tr>\n",
       "    <tr>\n",
       "      <td>2</td>\n",
       "      <td>1998</td>\n",
       "      <td>464.0</td>\n",
       "      <td>1534.0</td>\n",
       "      <td>5995</td>\n",
       "      <td>1750.0</td>\n",
       "      <td>4245.0</td>\n",
       "      <td>0.46</td>\n",
       "      <td>0.26</td>\n",
       "      <td>1144.5</td>\n",
       "      <td>1.53</td>\n",
       "      <td>20.0</td>\n",
       "      <td>29.19</td>\n",
       "    </tr>\n",
       "    <tr>\n",
       "      <td>3</td>\n",
       "      <td>1999</td>\n",
       "      <td>463.0</td>\n",
       "      <td>1536.0</td>\n",
       "      <td>7994</td>\n",
       "      <td>2213.0</td>\n",
       "      <td>5781.0</td>\n",
       "      <td>0.58</td>\n",
       "      <td>0.36</td>\n",
       "      <td>1526.0</td>\n",
       "      <td>1.45</td>\n",
       "      <td>22.0</td>\n",
       "      <td>27.68</td>\n",
       "    </tr>\n",
       "    <tr>\n",
       "      <td>4</td>\n",
       "      <td>1998</td>\n",
       "      <td>387.0</td>\n",
       "      <td>1611.0</td>\n",
       "      <td>9992</td>\n",
       "      <td>2600.0</td>\n",
       "      <td>7392.0</td>\n",
       "      <td>0.68</td>\n",
       "      <td>0.46</td>\n",
       "      <td>1907.5</td>\n",
       "      <td>1.36</td>\n",
       "      <td>22.0</td>\n",
       "      <td>26.02</td>\n",
       "    </tr>\n",
       "    <tr>\n",
       "      <td>5</td>\n",
       "      <td>1998</td>\n",
       "      <td>338.0</td>\n",
       "      <td>1660.0</td>\n",
       "      <td>11990</td>\n",
       "      <td>2938.0</td>\n",
       "      <td>9052.0</td>\n",
       "      <td>0.77</td>\n",
       "      <td>0.56</td>\n",
       "      <td>2289.0</td>\n",
       "      <td>1.28</td>\n",
       "      <td>21.0</td>\n",
       "      <td>24.50</td>\n",
       "    </tr>\n",
       "    <tr>\n",
       "      <td>6</td>\n",
       "      <td>1999</td>\n",
       "      <td>299.0</td>\n",
       "      <td>1700.0</td>\n",
       "      <td>13989</td>\n",
       "      <td>3237.0</td>\n",
       "      <td>10752.0</td>\n",
       "      <td>0.85</td>\n",
       "      <td>0.67</td>\n",
       "      <td>2670.5</td>\n",
       "      <td>1.21</td>\n",
       "      <td>18.0</td>\n",
       "      <td>23.14</td>\n",
       "    </tr>\n",
       "    <tr>\n",
       "      <td>7</td>\n",
       "      <td>1998</td>\n",
       "      <td>256.0</td>\n",
       "      <td>1742.0</td>\n",
       "      <td>15987</td>\n",
       "      <td>3493.0</td>\n",
       "      <td>12494.0</td>\n",
       "      <td>0.92</td>\n",
       "      <td>0.77</td>\n",
       "      <td>3052.0</td>\n",
       "      <td>1.14</td>\n",
       "      <td>15.0</td>\n",
       "      <td>21.85</td>\n",
       "    </tr>\n",
       "    <tr>\n",
       "      <td>8</td>\n",
       "      <td>1998</td>\n",
       "      <td>185.0</td>\n",
       "      <td>1813.0</td>\n",
       "      <td>17985</td>\n",
       "      <td>3678.0</td>\n",
       "      <td>14307.0</td>\n",
       "      <td>0.96</td>\n",
       "      <td>0.88</td>\n",
       "      <td>3433.5</td>\n",
       "      <td>1.07</td>\n",
       "      <td>8.0</td>\n",
       "      <td>20.45</td>\n",
       "    </tr>\n",
       "    <tr>\n",
       "      <td>9</td>\n",
       "      <td>1998</td>\n",
       "      <td>137.0</td>\n",
       "      <td>1861.0</td>\n",
       "      <td>19983</td>\n",
       "      <td>3815.0</td>\n",
       "      <td>16168.0</td>\n",
       "      <td>1.00</td>\n",
       "      <td>1.00</td>\n",
       "      <td>3815.0</td>\n",
       "      <td>1.00</td>\n",
       "      <td>0.0</td>\n",
       "      <td>19.09</td>\n",
       "    </tr>\n",
       "  </tbody>\n",
       "</table>\n",
       "</div>"
      ],
      "text/plain": [
       "        count  actual  non_actual  cum_count  cum_actual  cum_non_actual  \\\n",
       "decile                                                                     \n",
       "0        1999   728.0      1271.0       1999       728.0          1271.0   \n",
       "1        1998   558.0      1440.0       3997      1286.0          2711.0   \n",
       "2        1998   464.0      1534.0       5995      1750.0          4245.0   \n",
       "3        1999   463.0      1536.0       7994      2213.0          5781.0   \n",
       "4        1998   387.0      1611.0       9992      2600.0          7392.0   \n",
       "5        1998   338.0      1660.0      11990      2938.0          9052.0   \n",
       "6        1999   299.0      1700.0      13989      3237.0         10752.0   \n",
       "7        1998   256.0      1742.0      15987      3493.0         12494.0   \n",
       "8        1998   185.0      1813.0      17985      3678.0         14307.0   \n",
       "9        1998   137.0      1861.0      19983      3815.0         16168.0   \n",
       "\n",
       "        percent_cum_actual  percent_cum_non_actual  if_random  lift   K_S  \\\n",
       "decile                                                                      \n",
       "0                     0.19                    0.08      381.5  1.91  11.0   \n",
       "1                     0.34                    0.17      763.0  1.69  17.0   \n",
       "2                     0.46                    0.26     1144.5  1.53  20.0   \n",
       "3                     0.58                    0.36     1526.0  1.45  22.0   \n",
       "4                     0.68                    0.46     1907.5  1.36  22.0   \n",
       "5                     0.77                    0.56     2289.0  1.28  21.0   \n",
       "6                     0.85                    0.67     2670.5  1.21  18.0   \n",
       "7                     0.92                    0.77     3052.0  1.14  15.0   \n",
       "8                     0.96                    0.88     3433.5  1.07   8.0   \n",
       "9                     1.00                    1.00     3815.0  1.00   0.0   \n",
       "\n",
       "         gain  \n",
       "decile         \n",
       "0       36.42  \n",
       "1       32.17  \n",
       "2       29.19  \n",
       "3       27.68  \n",
       "4       26.02  \n",
       "5       24.50  \n",
       "6       23.14  \n",
       "7       21.85  \n",
       "8       20.45  \n",
       "9       19.09  "
      ]
     },
     "execution_count": 56,
     "metadata": {},
     "output_type": "execute_result"
    }
   ],
   "source": [
    "createGains(Y_test['bad30'],xgb_param.predict(X_test))"
   ]
  },
  {
   "cell_type": "code",
   "execution_count": 72,
   "metadata": {},
   "outputs": [
    {
     "name": "stderr",
     "output_type": "stream",
     "text": [
      "C:\\Users\\13479\\Anaconda3\\lib\\site-packages\\xgboost\\core.py:587: FutureWarning: Series.base is deprecated and will be removed in a future version\n",
      "  if getattr(data, 'base', None) is not None and \\\n"
     ]
    },
    {
     "name": "stdout",
     "output_type": "stream",
     "text": [
      "[01:18:52] WARNING: src/objective/regression_obj.cu:152: reg:linear is now deprecated in favor of reg:squarederror.\n"
     ]
    },
    {
     "name": "stderr",
     "output_type": "stream",
     "text": [
      "C:\\Users\\13479\\Anaconda3\\lib\\site-packages\\xgboost\\core.py:587: FutureWarning: Series.base is deprecated and will be removed in a future version\n",
      "  if getattr(data, 'base', None) is not None and \\\n"
     ]
    },
    {
     "name": "stdout",
     "output_type": "stream",
     "text": [
      "[01:21:04] WARNING: src/objective/regression_obj.cu:152: reg:linear is now deprecated in favor of reg:squarederror.\n"
     ]
    },
    {
     "name": "stderr",
     "output_type": "stream",
     "text": [
      "C:\\Users\\13479\\Anaconda3\\lib\\site-packages\\xgboost\\core.py:587: FutureWarning: Series.base is deprecated and will be removed in a future version\n",
      "  if getattr(data, 'base', None) is not None and \\\n"
     ]
    },
    {
     "name": "stdout",
     "output_type": "stream",
     "text": [
      "[01:22:35] WARNING: src/objective/regression_obj.cu:152: reg:linear is now deprecated in favor of reg:squarederror.\n"
     ]
    },
    {
     "name": "stderr",
     "output_type": "stream",
     "text": [
      "C:\\Users\\13479\\Anaconda3\\lib\\site-packages\\xgboost\\core.py:587: FutureWarning: Series.base is deprecated and will be removed in a future version\n",
      "  if getattr(data, 'base', None) is not None and \\\n"
     ]
    },
    {
     "name": "stdout",
     "output_type": "stream",
     "text": [
      "[01:24:08] WARNING: src/objective/regression_obj.cu:152: reg:linear is now deprecated in favor of reg:squarederror.\n"
     ]
    },
    {
     "name": "stderr",
     "output_type": "stream",
     "text": [
      "C:\\Users\\13479\\Anaconda3\\lib\\site-packages\\xgboost\\core.py:587: FutureWarning: Series.base is deprecated and will be removed in a future version\n",
      "  if getattr(data, 'base', None) is not None and \\\n"
     ]
    },
    {
     "name": "stdout",
     "output_type": "stream",
     "text": [
      "[01:25:39] WARNING: src/objective/regression_obj.cu:152: reg:linear is now deprecated in favor of reg:squarederror.\n"
     ]
    },
    {
     "name": "stderr",
     "output_type": "stream",
     "text": [
      "C:\\Users\\13479\\Anaconda3\\lib\\site-packages\\xgboost\\core.py:587: FutureWarning: Series.base is deprecated and will be removed in a future version\n",
      "  if getattr(data, 'base', None) is not None and \\\n"
     ]
    },
    {
     "name": "stdout",
     "output_type": "stream",
     "text": [
      "[01:27:12] WARNING: src/objective/regression_obj.cu:152: reg:linear is now deprecated in favor of reg:squarederror.\n"
     ]
    },
    {
     "name": "stderr",
     "output_type": "stream",
     "text": [
      "C:\\Users\\13479\\Anaconda3\\lib\\site-packages\\xgboost\\core.py:587: FutureWarning: Series.base is deprecated and will be removed in a future version\n",
      "  if getattr(data, 'base', None) is not None and \\\n"
     ]
    },
    {
     "name": "stdout",
     "output_type": "stream",
     "text": [
      "[01:28:48] WARNING: src/objective/regression_obj.cu:152: reg:linear is now deprecated in favor of reg:squarederror.\n"
     ]
    },
    {
     "name": "stderr",
     "output_type": "stream",
     "text": [
      "C:\\Users\\13479\\Anaconda3\\lib\\site-packages\\xgboost\\core.py:587: FutureWarning: Series.base is deprecated and will be removed in a future version\n",
      "  if getattr(data, 'base', None) is not None and \\\n"
     ]
    },
    {
     "name": "stdout",
     "output_type": "stream",
     "text": [
      "[01:30:23] WARNING: src/objective/regression_obj.cu:152: reg:linear is now deprecated in favor of reg:squarederror.\n"
     ]
    },
    {
     "name": "stderr",
     "output_type": "stream",
     "text": [
      "C:\\Users\\13479\\Anaconda3\\lib\\site-packages\\xgboost\\core.py:587: FutureWarning: Series.base is deprecated and will be removed in a future version\n",
      "  if getattr(data, 'base', None) is not None and \\\n"
     ]
    },
    {
     "name": "stdout",
     "output_type": "stream",
     "text": [
      "[01:31:59] WARNING: src/objective/regression_obj.cu:152: reg:linear is now deprecated in favor of reg:squarederror.\n"
     ]
    },
    {
     "name": "stderr",
     "output_type": "stream",
     "text": [
      "C:\\Users\\13479\\Anaconda3\\lib\\site-packages\\xgboost\\core.py:587: FutureWarning: Series.base is deprecated and will be removed in a future version\n",
      "  if getattr(data, 'base', None) is not None and \\\n"
     ]
    },
    {
     "name": "stdout",
     "output_type": "stream",
     "text": [
      "[01:33:34] WARNING: src/objective/regression_obj.cu:152: reg:linear is now deprecated in favor of reg:squarederror.\n"
     ]
    },
    {
     "name": "stderr",
     "output_type": "stream",
     "text": [
      "C:\\Users\\13479\\Anaconda3\\lib\\site-packages\\xgboost\\core.py:587: FutureWarning: Series.base is deprecated and will be removed in a future version\n",
      "  if getattr(data, 'base', None) is not None and \\\n"
     ]
    },
    {
     "name": "stdout",
     "output_type": "stream",
     "text": [
      "[01:35:10] WARNING: src/objective/regression_obj.cu:152: reg:linear is now deprecated in favor of reg:squarederror.\n"
     ]
    },
    {
     "name": "stderr",
     "output_type": "stream",
     "text": [
      "C:\\Users\\13479\\Anaconda3\\lib\\site-packages\\xgboost\\core.py:587: FutureWarning: Series.base is deprecated and will be removed in a future version\n",
      "  if getattr(data, 'base', None) is not None and \\\n"
     ]
    },
    {
     "name": "stdout",
     "output_type": "stream",
     "text": [
      "[01:36:48] WARNING: src/objective/regression_obj.cu:152: reg:linear is now deprecated in favor of reg:squarederror.\n"
     ]
    },
    {
     "name": "stderr",
     "output_type": "stream",
     "text": [
      "C:\\Users\\13479\\Anaconda3\\lib\\site-packages\\xgboost\\core.py:587: FutureWarning: Series.base is deprecated and will be removed in a future version\n",
      "  if getattr(data, 'base', None) is not None and \\\n"
     ]
    },
    {
     "name": "stdout",
     "output_type": "stream",
     "text": [
      "[01:38:26] WARNING: src/objective/regression_obj.cu:152: reg:linear is now deprecated in favor of reg:squarederror.\n"
     ]
    },
    {
     "name": "stderr",
     "output_type": "stream",
     "text": [
      "C:\\Users\\13479\\Anaconda3\\lib\\site-packages\\xgboost\\core.py:587: FutureWarning: Series.base is deprecated and will be removed in a future version\n",
      "  if getattr(data, 'base', None) is not None and \\\n"
     ]
    },
    {
     "name": "stdout",
     "output_type": "stream",
     "text": [
      "[01:40:03] WARNING: src/objective/regression_obj.cu:152: reg:linear is now deprecated in favor of reg:squarederror.\n"
     ]
    },
    {
     "name": "stderr",
     "output_type": "stream",
     "text": [
      "C:\\Users\\13479\\Anaconda3\\lib\\site-packages\\xgboost\\core.py:587: FutureWarning: Series.base is deprecated and will be removed in a future version\n",
      "  if getattr(data, 'base', None) is not None and \\\n"
     ]
    },
    {
     "name": "stdout",
     "output_type": "stream",
     "text": [
      "[01:41:41] WARNING: src/objective/regression_obj.cu:152: reg:linear is now deprecated in favor of reg:squarederror.\n"
     ]
    },
    {
     "name": "stderr",
     "output_type": "stream",
     "text": [
      "C:\\Users\\13479\\Anaconda3\\lib\\site-packages\\xgboost\\core.py:587: FutureWarning: Series.base is deprecated and will be removed in a future version\n",
      "  if getattr(data, 'base', None) is not None and \\\n"
     ]
    },
    {
     "name": "stdout",
     "output_type": "stream",
     "text": [
      "[01:43:17] WARNING: src/objective/regression_obj.cu:152: reg:linear is now deprecated in favor of reg:squarederror.\n"
     ]
    },
    {
     "name": "stderr",
     "output_type": "stream",
     "text": [
      "C:\\Users\\13479\\Anaconda3\\lib\\site-packages\\xgboost\\core.py:587: FutureWarning: Series.base is deprecated and will be removed in a future version\n",
      "  if getattr(data, 'base', None) is not None and \\\n"
     ]
    },
    {
     "name": "stdout",
     "output_type": "stream",
     "text": [
      "[01:45:31] WARNING: src/objective/regression_obj.cu:152: reg:linear is now deprecated in favor of reg:squarederror.\n"
     ]
    },
    {
     "name": "stderr",
     "output_type": "stream",
     "text": [
      "C:\\Users\\13479\\Anaconda3\\lib\\site-packages\\xgboost\\core.py:587: FutureWarning: Series.base is deprecated and will be removed in a future version\n",
      "  if getattr(data, 'base', None) is not None and \\\n"
     ]
    },
    {
     "name": "stdout",
     "output_type": "stream",
     "text": [
      "[01:47:46] WARNING: src/objective/regression_obj.cu:152: reg:linear is now deprecated in favor of reg:squarederror.\n"
     ]
    },
    {
     "name": "stderr",
     "output_type": "stream",
     "text": [
      "C:\\Users\\13479\\Anaconda3\\lib\\site-packages\\xgboost\\core.py:587: FutureWarning: Series.base is deprecated and will be removed in a future version\n",
      "  if getattr(data, 'base', None) is not None and \\\n"
     ]
    },
    {
     "name": "stdout",
     "output_type": "stream",
     "text": [
      "[01:50:01] WARNING: src/objective/regression_obj.cu:152: reg:linear is now deprecated in favor of reg:squarederror.\n"
     ]
    },
    {
     "name": "stderr",
     "output_type": "stream",
     "text": [
      "C:\\Users\\13479\\Anaconda3\\lib\\site-packages\\xgboost\\core.py:587: FutureWarning: Series.base is deprecated and will be removed in a future version\n",
      "  if getattr(data, 'base', None) is not None and \\\n"
     ]
    },
    {
     "name": "stdout",
     "output_type": "stream",
     "text": [
      "[01:52:17] WARNING: src/objective/regression_obj.cu:152: reg:linear is now deprecated in favor of reg:squarederror.\n"
     ]
    },
    {
     "name": "stderr",
     "output_type": "stream",
     "text": [
      "C:\\Users\\13479\\Anaconda3\\lib\\site-packages\\xgboost\\core.py:587: FutureWarning: Series.base is deprecated and will be removed in a future version\n",
      "  if getattr(data, 'base', None) is not None and \\\n"
     ]
    },
    {
     "name": "stdout",
     "output_type": "stream",
     "text": [
      "[01:54:32] WARNING: src/objective/regression_obj.cu:152: reg:linear is now deprecated in favor of reg:squarederror.\n"
     ]
    },
    {
     "name": "stderr",
     "output_type": "stream",
     "text": [
      "C:\\Users\\13479\\Anaconda3\\lib\\site-packages\\xgboost\\core.py:587: FutureWarning: Series.base is deprecated and will be removed in a future version\n",
      "  if getattr(data, 'base', None) is not None and \\\n"
     ]
    },
    {
     "name": "stdout",
     "output_type": "stream",
     "text": [
      "[01:56:51] WARNING: src/objective/regression_obj.cu:152: reg:linear is now deprecated in favor of reg:squarederror.\n"
     ]
    },
    {
     "name": "stderr",
     "output_type": "stream",
     "text": [
      "C:\\Users\\13479\\Anaconda3\\lib\\site-packages\\xgboost\\core.py:587: FutureWarning: Series.base is deprecated and will be removed in a future version\n",
      "  if getattr(data, 'base', None) is not None and \\\n"
     ]
    },
    {
     "name": "stdout",
     "output_type": "stream",
     "text": [
      "[01:59:11] WARNING: src/objective/regression_obj.cu:152: reg:linear is now deprecated in favor of reg:squarederror.\n"
     ]
    },
    {
     "name": "stderr",
     "output_type": "stream",
     "text": [
      "C:\\Users\\13479\\Anaconda3\\lib\\site-packages\\xgboost\\core.py:587: FutureWarning: Series.base is deprecated and will be removed in a future version\n",
      "  if getattr(data, 'base', None) is not None and \\\n"
     ]
    },
    {
     "name": "stdout",
     "output_type": "stream",
     "text": [
      "[02:01:29] WARNING: src/objective/regression_obj.cu:152: reg:linear is now deprecated in favor of reg:squarederror.\n"
     ]
    },
    {
     "name": "stderr",
     "output_type": "stream",
     "text": [
      "C:\\Users\\13479\\Anaconda3\\lib\\site-packages\\xgboost\\core.py:587: FutureWarning: Series.base is deprecated and will be removed in a future version\n",
      "  if getattr(data, 'base', None) is not None and \\\n"
     ]
    },
    {
     "name": "stdout",
     "output_type": "stream",
     "text": [
      "[02:03:47] WARNING: src/objective/regression_obj.cu:152: reg:linear is now deprecated in favor of reg:squarederror.\n"
     ]
    },
    {
     "name": "stderr",
     "output_type": "stream",
     "text": [
      "C:\\Users\\13479\\Anaconda3\\lib\\site-packages\\xgboost\\core.py:587: FutureWarning: Series.base is deprecated and will be removed in a future version\n",
      "  if getattr(data, 'base', None) is not None and \\\n"
     ]
    },
    {
     "name": "stdout",
     "output_type": "stream",
     "text": [
      "[02:06:04] WARNING: src/objective/regression_obj.cu:152: reg:linear is now deprecated in favor of reg:squarederror.\n"
     ]
    },
    {
     "name": "stderr",
     "output_type": "stream",
     "text": [
      "C:\\Users\\13479\\Anaconda3\\lib\\site-packages\\xgboost\\core.py:587: FutureWarning: Series.base is deprecated and will be removed in a future version\n",
      "  if getattr(data, 'base', None) is not None and \\\n"
     ]
    },
    {
     "name": "stdout",
     "output_type": "stream",
     "text": [
      "[02:08:25] WARNING: src/objective/regression_obj.cu:152: reg:linear is now deprecated in favor of reg:squarederror.\n"
     ]
    },
    {
     "name": "stderr",
     "output_type": "stream",
     "text": [
      "C:\\Users\\13479\\Anaconda3\\lib\\site-packages\\xgboost\\core.py:587: FutureWarning: Series.base is deprecated and will be removed in a future version\n",
      "  if getattr(data, 'base', None) is not None and \\\n"
     ]
    },
    {
     "name": "stdout",
     "output_type": "stream",
     "text": [
      "[02:10:47] WARNING: src/objective/regression_obj.cu:152: reg:linear is now deprecated in favor of reg:squarederror.\n"
     ]
    },
    {
     "name": "stderr",
     "output_type": "stream",
     "text": [
      "C:\\Users\\13479\\Anaconda3\\lib\\site-packages\\xgboost\\core.py:587: FutureWarning: Series.base is deprecated and will be removed in a future version\n",
      "  if getattr(data, 'base', None) is not None and \\\n"
     ]
    },
    {
     "name": "stdout",
     "output_type": "stream",
     "text": [
      "[02:13:11] WARNING: src/objective/regression_obj.cu:152: reg:linear is now deprecated in favor of reg:squarederror.\n"
     ]
    },
    {
     "name": "stderr",
     "output_type": "stream",
     "text": [
      "C:\\Users\\13479\\Anaconda3\\lib\\site-packages\\xgboost\\core.py:587: FutureWarning: Series.base is deprecated and will be removed in a future version\n",
      "  if getattr(data, 'base', None) is not None and \\\n"
     ]
    },
    {
     "name": "stdout",
     "output_type": "stream",
     "text": [
      "[02:15:31] WARNING: src/objective/regression_obj.cu:152: reg:linear is now deprecated in favor of reg:squarederror.\n"
     ]
    },
    {
     "name": "stderr",
     "output_type": "stream",
     "text": [
      "C:\\Users\\13479\\Anaconda3\\lib\\site-packages\\xgboost\\core.py:587: FutureWarning: Series.base is deprecated and will be removed in a future version\n",
      "  if getattr(data, 'base', None) is not None and \\\n"
     ]
    },
    {
     "name": "stdout",
     "output_type": "stream",
     "text": [
      "[02:17:53] WARNING: src/objective/regression_obj.cu:152: reg:linear is now deprecated in favor of reg:squarederror.\n"
     ]
    },
    {
     "name": "stderr",
     "output_type": "stream",
     "text": [
      "C:\\Users\\13479\\Anaconda3\\lib\\site-packages\\xgboost\\core.py:587: FutureWarning: Series.base is deprecated and will be removed in a future version\n",
      "  if getattr(data, 'base', None) is not None and \\\n"
     ]
    },
    {
     "name": "stdout",
     "output_type": "stream",
     "text": [
      "[02:23:38] WARNING: src/objective/regression_obj.cu:152: reg:linear is now deprecated in favor of reg:squarederror.\n"
     ]
    },
    {
     "name": "stderr",
     "output_type": "stream",
     "text": [
      "C:\\Users\\13479\\Anaconda3\\lib\\site-packages\\xgboost\\core.py:587: FutureWarning: Series.base is deprecated and will be removed in a future version\n",
      "  if getattr(data, 'base', None) is not None and \\\n"
     ]
    },
    {
     "name": "stdout",
     "output_type": "stream",
     "text": [
      "[02:29:18] WARNING: src/objective/regression_obj.cu:152: reg:linear is now deprecated in favor of reg:squarederror.\n"
     ]
    },
    {
     "name": "stderr",
     "output_type": "stream",
     "text": [
      "C:\\Users\\13479\\Anaconda3\\lib\\site-packages\\xgboost\\core.py:587: FutureWarning: Series.base is deprecated and will be removed in a future version\n",
      "  if getattr(data, 'base', None) is not None and \\\n"
     ]
    },
    {
     "name": "stdout",
     "output_type": "stream",
     "text": [
      "[02:35:00] WARNING: src/objective/regression_obj.cu:152: reg:linear is now deprecated in favor of reg:squarederror.\n"
     ]
    },
    {
     "name": "stderr",
     "output_type": "stream",
     "text": [
      "C:\\Users\\13479\\Anaconda3\\lib\\site-packages\\xgboost\\core.py:587: FutureWarning: Series.base is deprecated and will be removed in a future version\n",
      "  if getattr(data, 'base', None) is not None and \\\n"
     ]
    },
    {
     "name": "stdout",
     "output_type": "stream",
     "text": [
      "[02:40:44] WARNING: src/objective/regression_obj.cu:152: reg:linear is now deprecated in favor of reg:squarederror.\n"
     ]
    },
    {
     "name": "stderr",
     "output_type": "stream",
     "text": [
      "C:\\Users\\13479\\Anaconda3\\lib\\site-packages\\xgboost\\core.py:587: FutureWarning: Series.base is deprecated and will be removed in a future version\n",
      "  if getattr(data, 'base', None) is not None and \\\n"
     ]
    },
    {
     "name": "stdout",
     "output_type": "stream",
     "text": [
      "[02:46:24] WARNING: src/objective/regression_obj.cu:152: reg:linear is now deprecated in favor of reg:squarederror.\n"
     ]
    },
    {
     "name": "stderr",
     "output_type": "stream",
     "text": [
      "C:\\Users\\13479\\Anaconda3\\lib\\site-packages\\xgboost\\core.py:587: FutureWarning: Series.base is deprecated and will be removed in a future version\n",
      "  if getattr(data, 'base', None) is not None and \\\n"
     ]
    },
    {
     "name": "stdout",
     "output_type": "stream",
     "text": [
      "[02:52:11] WARNING: src/objective/regression_obj.cu:152: reg:linear is now deprecated in favor of reg:squarederror.\n"
     ]
    },
    {
     "name": "stderr",
     "output_type": "stream",
     "text": [
      "C:\\Users\\13479\\Anaconda3\\lib\\site-packages\\xgboost\\core.py:587: FutureWarning: Series.base is deprecated and will be removed in a future version\n",
      "  if getattr(data, 'base', None) is not None and \\\n"
     ]
    },
    {
     "name": "stdout",
     "output_type": "stream",
     "text": [
      "[02:57:59] WARNING: src/objective/regression_obj.cu:152: reg:linear is now deprecated in favor of reg:squarederror.\n"
     ]
    },
    {
     "name": "stderr",
     "output_type": "stream",
     "text": [
      "C:\\Users\\13479\\Anaconda3\\lib\\site-packages\\xgboost\\core.py:587: FutureWarning: Series.base is deprecated and will be removed in a future version\n",
      "  if getattr(data, 'base', None) is not None and \\\n"
     ]
    },
    {
     "name": "stdout",
     "output_type": "stream",
     "text": [
      "[03:03:52] WARNING: src/objective/regression_obj.cu:152: reg:linear is now deprecated in favor of reg:squarederror.\n"
     ]
    },
    {
     "name": "stderr",
     "output_type": "stream",
     "text": [
      "C:\\Users\\13479\\Anaconda3\\lib\\site-packages\\xgboost\\core.py:587: FutureWarning: Series.base is deprecated and will be removed in a future version\n",
      "  if getattr(data, 'base', None) is not None and \\\n"
     ]
    },
    {
     "name": "stdout",
     "output_type": "stream",
     "text": [
      "[03:09:48] WARNING: src/objective/regression_obj.cu:152: reg:linear is now deprecated in favor of reg:squarederror.\n"
     ]
    },
    {
     "name": "stderr",
     "output_type": "stream",
     "text": [
      "C:\\Users\\13479\\Anaconda3\\lib\\site-packages\\xgboost\\core.py:587: FutureWarning: Series.base is deprecated and will be removed in a future version\n",
      "  if getattr(data, 'base', None) is not None and \\\n"
     ]
    },
    {
     "name": "stdout",
     "output_type": "stream",
     "text": [
      "[03:15:40] WARNING: src/objective/regression_obj.cu:152: reg:linear is now deprecated in favor of reg:squarederror.\n"
     ]
    },
    {
     "name": "stderr",
     "output_type": "stream",
     "text": [
      "C:\\Users\\13479\\Anaconda3\\lib\\site-packages\\xgboost\\core.py:587: FutureWarning: Series.base is deprecated and will be removed in a future version\n",
      "  if getattr(data, 'base', None) is not None and \\\n"
     ]
    },
    {
     "name": "stdout",
     "output_type": "stream",
     "text": [
      "[03:20:41] WARNING: src/objective/regression_obj.cu:152: reg:linear is now deprecated in favor of reg:squarederror.\n"
     ]
    },
    {
     "name": "stderr",
     "output_type": "stream",
     "text": [
      "C:\\Users\\13479\\Anaconda3\\lib\\site-packages\\xgboost\\core.py:587: FutureWarning: Series.base is deprecated and will be removed in a future version\n",
      "  if getattr(data, 'base', None) is not None and \\\n"
     ]
    },
    {
     "name": "stdout",
     "output_type": "stream",
     "text": [
      "[03:25:30] WARNING: src/objective/regression_obj.cu:152: reg:linear is now deprecated in favor of reg:squarederror.\n"
     ]
    },
    {
     "name": "stderr",
     "output_type": "stream",
     "text": [
      "C:\\Users\\13479\\Anaconda3\\lib\\site-packages\\xgboost\\core.py:587: FutureWarning: Series.base is deprecated and will be removed in a future version\n",
      "  if getattr(data, 'base', None) is not None and \\\n"
     ]
    },
    {
     "name": "stdout",
     "output_type": "stream",
     "text": [
      "[03:30:18] WARNING: src/objective/regression_obj.cu:152: reg:linear is now deprecated in favor of reg:squarederror.\n"
     ]
    },
    {
     "name": "stderr",
     "output_type": "stream",
     "text": [
      "C:\\Users\\13479\\Anaconda3\\lib\\site-packages\\xgboost\\core.py:587: FutureWarning: Series.base is deprecated and will be removed in a future version\n",
      "  if getattr(data, 'base', None) is not None and \\\n"
     ]
    },
    {
     "name": "stdout",
     "output_type": "stream",
     "text": [
      "[03:35:07] WARNING: src/objective/regression_obj.cu:152: reg:linear is now deprecated in favor of reg:squarederror.\n"
     ]
    },
    {
     "name": "stderr",
     "output_type": "stream",
     "text": [
      "C:\\Users\\13479\\Anaconda3\\lib\\site-packages\\xgboost\\core.py:587: FutureWarning: Series.base is deprecated and will be removed in a future version\n",
      "  if getattr(data, 'base', None) is not None and \\\n"
     ]
    },
    {
     "name": "stdout",
     "output_type": "stream",
     "text": [
      "[03:39:55] WARNING: src/objective/regression_obj.cu:152: reg:linear is now deprecated in favor of reg:squarederror.\n"
     ]
    },
    {
     "name": "stderr",
     "output_type": "stream",
     "text": [
      "C:\\Users\\13479\\Anaconda3\\lib\\site-packages\\xgboost\\core.py:587: FutureWarning: Series.base is deprecated and will be removed in a future version\n",
      "  if getattr(data, 'base', None) is not None and \\\n"
     ]
    },
    {
     "name": "stdout",
     "output_type": "stream",
     "text": [
      "[03:41:20] WARNING: src/objective/regression_obj.cu:152: reg:linear is now deprecated in favor of reg:squarederror.\n"
     ]
    },
    {
     "name": "stderr",
     "output_type": "stream",
     "text": [
      "C:\\Users\\13479\\Anaconda3\\lib\\site-packages\\xgboost\\core.py:587: FutureWarning: Series.base is deprecated and will be removed in a future version\n",
      "  if getattr(data, 'base', None) is not None and \\\n"
     ]
    },
    {
     "name": "stdout",
     "output_type": "stream",
     "text": [
      "[03:42:44] WARNING: src/objective/regression_obj.cu:152: reg:linear is now deprecated in favor of reg:squarederror.\n"
     ]
    },
    {
     "name": "stderr",
     "output_type": "stream",
     "text": [
      "C:\\Users\\13479\\Anaconda3\\lib\\site-packages\\xgboost\\core.py:587: FutureWarning: Series.base is deprecated and will be removed in a future version\n",
      "  if getattr(data, 'base', None) is not None and \\\n"
     ]
    },
    {
     "name": "stdout",
     "output_type": "stream",
     "text": [
      "[03:44:08] WARNING: src/objective/regression_obj.cu:152: reg:linear is now deprecated in favor of reg:squarederror.\n"
     ]
    },
    {
     "name": "stderr",
     "output_type": "stream",
     "text": [
      "C:\\Users\\13479\\Anaconda3\\lib\\site-packages\\xgboost\\core.py:587: FutureWarning: Series.base is deprecated and will be removed in a future version\n",
      "  if getattr(data, 'base', None) is not None and \\\n"
     ]
    },
    {
     "name": "stdout",
     "output_type": "stream",
     "text": [
      "[03:45:33] WARNING: src/objective/regression_obj.cu:152: reg:linear is now deprecated in favor of reg:squarederror.\n"
     ]
    },
    {
     "name": "stderr",
     "output_type": "stream",
     "text": [
      "C:\\Users\\13479\\Anaconda3\\lib\\site-packages\\xgboost\\core.py:587: FutureWarning: Series.base is deprecated and will be removed in a future version\n",
      "  if getattr(data, 'base', None) is not None and \\\n"
     ]
    },
    {
     "name": "stdout",
     "output_type": "stream",
     "text": [
      "[03:46:57] WARNING: src/objective/regression_obj.cu:152: reg:linear is now deprecated in favor of reg:squarederror.\n"
     ]
    },
    {
     "name": "stderr",
     "output_type": "stream",
     "text": [
      "C:\\Users\\13479\\Anaconda3\\lib\\site-packages\\xgboost\\core.py:587: FutureWarning: Series.base is deprecated and will be removed in a future version\n",
      "  if getattr(data, 'base', None) is not None and \\\n"
     ]
    },
    {
     "name": "stdout",
     "output_type": "stream",
     "text": [
      "[03:48:23] WARNING: src/objective/regression_obj.cu:152: reg:linear is now deprecated in favor of reg:squarederror.\n"
     ]
    },
    {
     "name": "stderr",
     "output_type": "stream",
     "text": [
      "C:\\Users\\13479\\Anaconda3\\lib\\site-packages\\xgboost\\core.py:587: FutureWarning: Series.base is deprecated and will be removed in a future version\n",
      "  if getattr(data, 'base', None) is not None and \\\n"
     ]
    },
    {
     "name": "stdout",
     "output_type": "stream",
     "text": [
      "[03:49:49] WARNING: src/objective/regression_obj.cu:152: reg:linear is now deprecated in favor of reg:squarederror.\n"
     ]
    },
    {
     "name": "stderr",
     "output_type": "stream",
     "text": [
      "C:\\Users\\13479\\Anaconda3\\lib\\site-packages\\xgboost\\core.py:587: FutureWarning: Series.base is deprecated and will be removed in a future version\n",
      "  if getattr(data, 'base', None) is not None and \\\n"
     ]
    },
    {
     "name": "stdout",
     "output_type": "stream",
     "text": [
      "[03:51:14] WARNING: src/objective/regression_obj.cu:152: reg:linear is now deprecated in favor of reg:squarederror.\n"
     ]
    },
    {
     "name": "stderr",
     "output_type": "stream",
     "text": [
      "C:\\Users\\13479\\Anaconda3\\lib\\site-packages\\xgboost\\core.py:587: FutureWarning: Series.base is deprecated and will be removed in a future version\n",
      "  if getattr(data, 'base', None) is not None and \\\n"
     ]
    },
    {
     "name": "stdout",
     "output_type": "stream",
     "text": [
      "[03:52:40] WARNING: src/objective/regression_obj.cu:152: reg:linear is now deprecated in favor of reg:squarederror.\n"
     ]
    },
    {
     "name": "stderr",
     "output_type": "stream",
     "text": [
      "C:\\Users\\13479\\Anaconda3\\lib\\site-packages\\xgboost\\core.py:587: FutureWarning: Series.base is deprecated and will be removed in a future version\n",
      "  if getattr(data, 'base', None) is not None and \\\n"
     ]
    },
    {
     "name": "stdout",
     "output_type": "stream",
     "text": [
      "[03:54:06] WARNING: src/objective/regression_obj.cu:152: reg:linear is now deprecated in favor of reg:squarederror.\n"
     ]
    },
    {
     "name": "stderr",
     "output_type": "stream",
     "text": [
      "C:\\Users\\13479\\Anaconda3\\lib\\site-packages\\xgboost\\core.py:587: FutureWarning: Series.base is deprecated and will be removed in a future version\n",
      "  if getattr(data, 'base', None) is not None and \\\n"
     ]
    },
    {
     "name": "stdout",
     "output_type": "stream",
     "text": [
      "[03:55:34] WARNING: src/objective/regression_obj.cu:152: reg:linear is now deprecated in favor of reg:squarederror.\n"
     ]
    },
    {
     "name": "stderr",
     "output_type": "stream",
     "text": [
      "C:\\Users\\13479\\Anaconda3\\lib\\site-packages\\xgboost\\core.py:587: FutureWarning: Series.base is deprecated and will be removed in a future version\n",
      "  if getattr(data, 'base', None) is not None and \\\n"
     ]
    },
    {
     "name": "stdout",
     "output_type": "stream",
     "text": [
      "[03:57:02] WARNING: src/objective/regression_obj.cu:152: reg:linear is now deprecated in favor of reg:squarederror.\n"
     ]
    },
    {
     "name": "stderr",
     "output_type": "stream",
     "text": [
      "C:\\Users\\13479\\Anaconda3\\lib\\site-packages\\xgboost\\core.py:587: FutureWarning: Series.base is deprecated and will be removed in a future version\n",
      "  if getattr(data, 'base', None) is not None and \\\n"
     ]
    },
    {
     "name": "stdout",
     "output_type": "stream",
     "text": [
      "[03:58:30] WARNING: src/objective/regression_obj.cu:152: reg:linear is now deprecated in favor of reg:squarederror.\n"
     ]
    },
    {
     "name": "stderr",
     "output_type": "stream",
     "text": [
      "C:\\Users\\13479\\Anaconda3\\lib\\site-packages\\xgboost\\core.py:587: FutureWarning: Series.base is deprecated and will be removed in a future version\n",
      "  if getattr(data, 'base', None) is not None and \\\n"
     ]
    },
    {
     "name": "stdout",
     "output_type": "stream",
     "text": [
      "[03:59:58] WARNING: src/objective/regression_obj.cu:152: reg:linear is now deprecated in favor of reg:squarederror.\n"
     ]
    },
    {
     "name": "stderr",
     "output_type": "stream",
     "text": [
      "C:\\Users\\13479\\Anaconda3\\lib\\site-packages\\xgboost\\core.py:587: FutureWarning: Series.base is deprecated and will be removed in a future version\n",
      "  if getattr(data, 'base', None) is not None and \\\n"
     ]
    },
    {
     "name": "stdout",
     "output_type": "stream",
     "text": [
      "[04:01:26] WARNING: src/objective/regression_obj.cu:152: reg:linear is now deprecated in favor of reg:squarederror.\n"
     ]
    },
    {
     "name": "stderr",
     "output_type": "stream",
     "text": [
      "C:\\Users\\13479\\Anaconda3\\lib\\site-packages\\xgboost\\core.py:587: FutureWarning: Series.base is deprecated and will be removed in a future version\n",
      "  if getattr(data, 'base', None) is not None and \\\n"
     ]
    },
    {
     "name": "stdout",
     "output_type": "stream",
     "text": [
      "[04:03:28] WARNING: src/objective/regression_obj.cu:152: reg:linear is now deprecated in favor of reg:squarederror.\n"
     ]
    },
    {
     "name": "stderr",
     "output_type": "stream",
     "text": [
      "C:\\Users\\13479\\Anaconda3\\lib\\site-packages\\xgboost\\core.py:587: FutureWarning: Series.base is deprecated and will be removed in a future version\n",
      "  if getattr(data, 'base', None) is not None and \\\n"
     ]
    },
    {
     "name": "stdout",
     "output_type": "stream",
     "text": [
      "[04:05:30] WARNING: src/objective/regression_obj.cu:152: reg:linear is now deprecated in favor of reg:squarederror.\n"
     ]
    },
    {
     "name": "stderr",
     "output_type": "stream",
     "text": [
      "C:\\Users\\13479\\Anaconda3\\lib\\site-packages\\xgboost\\core.py:587: FutureWarning: Series.base is deprecated and will be removed in a future version\n",
      "  if getattr(data, 'base', None) is not None and \\\n"
     ]
    },
    {
     "name": "stdout",
     "output_type": "stream",
     "text": [
      "[04:07:32] WARNING: src/objective/regression_obj.cu:152: reg:linear is now deprecated in favor of reg:squarederror.\n"
     ]
    },
    {
     "name": "stderr",
     "output_type": "stream",
     "text": [
      "C:\\Users\\13479\\Anaconda3\\lib\\site-packages\\xgboost\\core.py:587: FutureWarning: Series.base is deprecated and will be removed in a future version\n",
      "  if getattr(data, 'base', None) is not None and \\\n"
     ]
    },
    {
     "name": "stdout",
     "output_type": "stream",
     "text": [
      "[04:09:33] WARNING: src/objective/regression_obj.cu:152: reg:linear is now deprecated in favor of reg:squarederror.\n"
     ]
    },
    {
     "name": "stderr",
     "output_type": "stream",
     "text": [
      "C:\\Users\\13479\\Anaconda3\\lib\\site-packages\\xgboost\\core.py:587: FutureWarning: Series.base is deprecated and will be removed in a future version\n",
      "  if getattr(data, 'base', None) is not None and \\\n"
     ]
    },
    {
     "name": "stdout",
     "output_type": "stream",
     "text": [
      "[04:11:35] WARNING: src/objective/regression_obj.cu:152: reg:linear is now deprecated in favor of reg:squarederror.\n"
     ]
    },
    {
     "name": "stderr",
     "output_type": "stream",
     "text": [
      "C:\\Users\\13479\\Anaconda3\\lib\\site-packages\\xgboost\\core.py:587: FutureWarning: Series.base is deprecated and will be removed in a future version\n",
      "  if getattr(data, 'base', None) is not None and \\\n"
     ]
    },
    {
     "name": "stdout",
     "output_type": "stream",
     "text": [
      "[04:13:42] WARNING: src/objective/regression_obj.cu:152: reg:linear is now deprecated in favor of reg:squarederror.\n"
     ]
    },
    {
     "name": "stderr",
     "output_type": "stream",
     "text": [
      "C:\\Users\\13479\\Anaconda3\\lib\\site-packages\\xgboost\\core.py:587: FutureWarning: Series.base is deprecated and will be removed in a future version\n",
      "  if getattr(data, 'base', None) is not None and \\\n"
     ]
    },
    {
     "name": "stdout",
     "output_type": "stream",
     "text": [
      "[04:15:48] WARNING: src/objective/regression_obj.cu:152: reg:linear is now deprecated in favor of reg:squarederror.\n"
     ]
    },
    {
     "name": "stderr",
     "output_type": "stream",
     "text": [
      "C:\\Users\\13479\\Anaconda3\\lib\\site-packages\\xgboost\\core.py:587: FutureWarning: Series.base is deprecated and will be removed in a future version\n",
      "  if getattr(data, 'base', None) is not None and \\\n"
     ]
    },
    {
     "name": "stdout",
     "output_type": "stream",
     "text": [
      "[04:17:53] WARNING: src/objective/regression_obj.cu:152: reg:linear is now deprecated in favor of reg:squarederror.\n"
     ]
    },
    {
     "name": "stderr",
     "output_type": "stream",
     "text": [
      "C:\\Users\\13479\\Anaconda3\\lib\\site-packages\\xgboost\\core.py:587: FutureWarning: Series.base is deprecated and will be removed in a future version\n",
      "  if getattr(data, 'base', None) is not None and \\\n"
     ]
    },
    {
     "name": "stdout",
     "output_type": "stream",
     "text": [
      "[04:19:59] WARNING: src/objective/regression_obj.cu:152: reg:linear is now deprecated in favor of reg:squarederror.\n"
     ]
    },
    {
     "name": "stderr",
     "output_type": "stream",
     "text": [
      "C:\\Users\\13479\\Anaconda3\\lib\\site-packages\\xgboost\\core.py:587: FutureWarning: Series.base is deprecated and will be removed in a future version\n",
      "  if getattr(data, 'base', None) is not None and \\\n"
     ]
    },
    {
     "name": "stdout",
     "output_type": "stream",
     "text": [
      "[04:22:05] WARNING: src/objective/regression_obj.cu:152: reg:linear is now deprecated in favor of reg:squarederror.\n"
     ]
    },
    {
     "name": "stderr",
     "output_type": "stream",
     "text": [
      "C:\\Users\\13479\\Anaconda3\\lib\\site-packages\\xgboost\\core.py:587: FutureWarning: Series.base is deprecated and will be removed in a future version\n",
      "  if getattr(data, 'base', None) is not None and \\\n"
     ]
    },
    {
     "name": "stdout",
     "output_type": "stream",
     "text": [
      "[04:24:16] WARNING: src/objective/regression_obj.cu:152: reg:linear is now deprecated in favor of reg:squarederror.\n"
     ]
    },
    {
     "name": "stderr",
     "output_type": "stream",
     "text": [
      "C:\\Users\\13479\\Anaconda3\\lib\\site-packages\\xgboost\\core.py:587: FutureWarning: Series.base is deprecated and will be removed in a future version\n",
      "  if getattr(data, 'base', None) is not None and \\\n"
     ]
    },
    {
     "name": "stdout",
     "output_type": "stream",
     "text": [
      "[04:26:26] WARNING: src/objective/regression_obj.cu:152: reg:linear is now deprecated in favor of reg:squarederror.\n"
     ]
    },
    {
     "name": "stderr",
     "output_type": "stream",
     "text": [
      "C:\\Users\\13479\\Anaconda3\\lib\\site-packages\\xgboost\\core.py:587: FutureWarning: Series.base is deprecated and will be removed in a future version\n",
      "  if getattr(data, 'base', None) is not None and \\\n"
     ]
    },
    {
     "name": "stdout",
     "output_type": "stream",
     "text": [
      "[04:28:37] WARNING: src/objective/regression_obj.cu:152: reg:linear is now deprecated in favor of reg:squarederror.\n"
     ]
    },
    {
     "name": "stderr",
     "output_type": "stream",
     "text": [
      "C:\\Users\\13479\\Anaconda3\\lib\\site-packages\\xgboost\\core.py:587: FutureWarning: Series.base is deprecated and will be removed in a future version\n",
      "  if getattr(data, 'base', None) is not None and \\\n"
     ]
    },
    {
     "name": "stdout",
     "output_type": "stream",
     "text": [
      "[04:30:48] WARNING: src/objective/regression_obj.cu:152: reg:linear is now deprecated in favor of reg:squarederror.\n"
     ]
    },
    {
     "name": "stderr",
     "output_type": "stream",
     "text": [
      "C:\\Users\\13479\\Anaconda3\\lib\\site-packages\\xgboost\\core.py:587: FutureWarning: Series.base is deprecated and will be removed in a future version\n",
      "  if getattr(data, 'base', None) is not None and \\\n"
     ]
    },
    {
     "name": "stdout",
     "output_type": "stream",
     "text": [
      "[04:32:58] WARNING: src/objective/regression_obj.cu:152: reg:linear is now deprecated in favor of reg:squarederror.\n"
     ]
    },
    {
     "name": "stderr",
     "output_type": "stream",
     "text": [
      "C:\\Users\\13479\\Anaconda3\\lib\\site-packages\\xgboost\\core.py:587: FutureWarning: Series.base is deprecated and will be removed in a future version\n",
      "  if getattr(data, 'base', None) is not None and \\\n"
     ]
    },
    {
     "name": "stdout",
     "output_type": "stream",
     "text": [
      "[04:38:12] WARNING: src/objective/regression_obj.cu:152: reg:linear is now deprecated in favor of reg:squarederror.\n"
     ]
    },
    {
     "name": "stderr",
     "output_type": "stream",
     "text": [
      "C:\\Users\\13479\\Anaconda3\\lib\\site-packages\\xgboost\\core.py:587: FutureWarning: Series.base is deprecated and will be removed in a future version\n",
      "  if getattr(data, 'base', None) is not None and \\\n"
     ]
    },
    {
     "name": "stdout",
     "output_type": "stream",
     "text": [
      "[04:43:27] WARNING: src/objective/regression_obj.cu:152: reg:linear is now deprecated in favor of reg:squarederror.\n"
     ]
    },
    {
     "name": "stderr",
     "output_type": "stream",
     "text": [
      "C:\\Users\\13479\\Anaconda3\\lib\\site-packages\\xgboost\\core.py:587: FutureWarning: Series.base is deprecated and will be removed in a future version\n",
      "  if getattr(data, 'base', None) is not None and \\\n"
     ]
    },
    {
     "name": "stdout",
     "output_type": "stream",
     "text": [
      "[04:48:40] WARNING: src/objective/regression_obj.cu:152: reg:linear is now deprecated in favor of reg:squarederror.\n"
     ]
    },
    {
     "name": "stderr",
     "output_type": "stream",
     "text": [
      "C:\\Users\\13479\\Anaconda3\\lib\\site-packages\\xgboost\\core.py:587: FutureWarning: Series.base is deprecated and will be removed in a future version\n",
      "  if getattr(data, 'base', None) is not None and \\\n"
     ]
    },
    {
     "name": "stdout",
     "output_type": "stream",
     "text": [
      "[04:53:55] WARNING: src/objective/regression_obj.cu:152: reg:linear is now deprecated in favor of reg:squarederror.\n"
     ]
    },
    {
     "name": "stderr",
     "output_type": "stream",
     "text": [
      "C:\\Users\\13479\\Anaconda3\\lib\\site-packages\\xgboost\\core.py:587: FutureWarning: Series.base is deprecated and will be removed in a future version\n",
      "  if getattr(data, 'base', None) is not None and \\\n"
     ]
    },
    {
     "name": "stdout",
     "output_type": "stream",
     "text": [
      "[04:59:10] WARNING: src/objective/regression_obj.cu:152: reg:linear is now deprecated in favor of reg:squarederror.\n"
     ]
    },
    {
     "name": "stderr",
     "output_type": "stream",
     "text": [
      "C:\\Users\\13479\\Anaconda3\\lib\\site-packages\\xgboost\\core.py:587: FutureWarning: Series.base is deprecated and will be removed in a future version\n",
      "  if getattr(data, 'base', None) is not None and \\\n"
     ]
    },
    {
     "name": "stdout",
     "output_type": "stream",
     "text": [
      "[05:04:23] WARNING: src/objective/regression_obj.cu:152: reg:linear is now deprecated in favor of reg:squarederror.\n"
     ]
    },
    {
     "name": "stderr",
     "output_type": "stream",
     "text": [
      "C:\\Users\\13479\\Anaconda3\\lib\\site-packages\\xgboost\\core.py:587: FutureWarning: Series.base is deprecated and will be removed in a future version\n",
      "  if getattr(data, 'base', None) is not None and \\\n"
     ]
    },
    {
     "name": "stdout",
     "output_type": "stream",
     "text": [
      "[05:09:35] WARNING: src/objective/regression_obj.cu:152: reg:linear is now deprecated in favor of reg:squarederror.\n"
     ]
    },
    {
     "name": "stderr",
     "output_type": "stream",
     "text": [
      "C:\\Users\\13479\\Anaconda3\\lib\\site-packages\\xgboost\\core.py:587: FutureWarning: Series.base is deprecated and will be removed in a future version\n",
      "  if getattr(data, 'base', None) is not None and \\\n"
     ]
    },
    {
     "name": "stdout",
     "output_type": "stream",
     "text": [
      "[05:14:48] WARNING: src/objective/regression_obj.cu:152: reg:linear is now deprecated in favor of reg:squarederror.\n"
     ]
    },
    {
     "name": "stderr",
     "output_type": "stream",
     "text": [
      "C:\\Users\\13479\\Anaconda3\\lib\\site-packages\\xgboost\\core.py:587: FutureWarning: Series.base is deprecated and will be removed in a future version\n",
      "  if getattr(data, 'base', None) is not None and \\\n"
     ]
    },
    {
     "name": "stdout",
     "output_type": "stream",
     "text": [
      "[05:20:01] WARNING: src/objective/regression_obj.cu:152: reg:linear is now deprecated in favor of reg:squarederror.\n"
     ]
    },
    {
     "name": "stderr",
     "output_type": "stream",
     "text": [
      "C:\\Users\\13479\\Anaconda3\\lib\\site-packages\\xgboost\\core.py:587: FutureWarning: Series.base is deprecated and will be removed in a future version\n",
      "  if getattr(data, 'base', None) is not None and \\\n"
     ]
    },
    {
     "name": "stdout",
     "output_type": "stream",
     "text": [
      "[05:25:14] WARNING: src/objective/regression_obj.cu:152: reg:linear is now deprecated in favor of reg:squarederror.\n"
     ]
    },
    {
     "name": "stderr",
     "output_type": "stream",
     "text": [
      "C:\\Users\\13479\\Anaconda3\\lib\\site-packages\\xgboost\\core.py:587: FutureWarning: Series.base is deprecated and will be removed in a future version\n",
      "  if getattr(data, 'base', None) is not None and \\\n"
     ]
    },
    {
     "name": "stdout",
     "output_type": "stream",
     "text": [
      "[05:29:53] WARNING: src/objective/regression_obj.cu:152: reg:linear is now deprecated in favor of reg:squarederror.\n"
     ]
    },
    {
     "name": "stderr",
     "output_type": "stream",
     "text": [
      "C:\\Users\\13479\\Anaconda3\\lib\\site-packages\\xgboost\\core.py:587: FutureWarning: Series.base is deprecated and will be removed in a future version\n",
      "  if getattr(data, 'base', None) is not None and \\\n"
     ]
    },
    {
     "name": "stdout",
     "output_type": "stream",
     "text": [
      "[05:34:33] WARNING: src/objective/regression_obj.cu:152: reg:linear is now deprecated in favor of reg:squarederror.\n"
     ]
    },
    {
     "name": "stderr",
     "output_type": "stream",
     "text": [
      "C:\\Users\\13479\\Anaconda3\\lib\\site-packages\\xgboost\\core.py:587: FutureWarning: Series.base is deprecated and will be removed in a future version\n",
      "  if getattr(data, 'base', None) is not None and \\\n"
     ]
    },
    {
     "name": "stdout",
     "output_type": "stream",
     "text": [
      "[05:39:12] WARNING: src/objective/regression_obj.cu:152: reg:linear is now deprecated in favor of reg:squarederror.\n"
     ]
    },
    {
     "name": "stderr",
     "output_type": "stream",
     "text": [
      "C:\\Users\\13479\\Anaconda3\\lib\\site-packages\\xgboost\\core.py:587: FutureWarning: Series.base is deprecated and will be removed in a future version\n",
      "  if getattr(data, 'base', None) is not None and \\\n"
     ]
    },
    {
     "name": "stdout",
     "output_type": "stream",
     "text": [
      "[05:43:51] WARNING: src/objective/regression_obj.cu:152: reg:linear is now deprecated in favor of reg:squarederror.\n"
     ]
    },
    {
     "name": "stderr",
     "output_type": "stream",
     "text": [
      "C:\\Users\\13479\\Anaconda3\\lib\\site-packages\\xgboost\\core.py:587: FutureWarning: Series.base is deprecated and will be removed in a future version\n",
      "  if getattr(data, 'base', None) is not None and \\\n",
      "C:\\Users\\13479\\Anaconda3\\lib\\site-packages\\xgboost\\core.py:588: FutureWarning: Series.base is deprecated and will be removed in a future version\n",
      "  data.base is not None and isinstance(data, np.ndarray) \\\n"
     ]
    },
    {
     "name": "stdout",
     "output_type": "stream",
     "text": [
      "[05:48:30] WARNING: src/objective/regression_obj.cu:152: reg:linear is now deprecated in favor of reg:squarederror.\n",
      "____________________________________________\n",
      "tune max_depth, min_child_weight\n",
      "____________________________________________\n",
      "{'mean_fit_time': array([ 98.08737841,  93.59494977,  95.30126171, 131.98271499,\n",
      "       135.44488854, 138.44222775, 325.86797256, 334.91880851,\n",
      "       283.31989703,  82.73082542,  83.89378824,  86.06643953,\n",
      "       119.1862041 , 123.02317104, 127.49302239, 301.6605001 ,\n",
      "       301.45452714, 272.5656889 ]), 'std_fit_time': array([16.98923577,  0.37798782,  0.79045124,  0.39722497,  1.09904225,\n",
      "        1.1377527 ,  1.91426568,  3.24788594,  4.78217926,  0.20902058,\n",
      "        0.14906013,  0.13626478,  0.10204175,  0.29762433,  0.20897345,\n",
      "        0.92041781,  0.30448988,  0.26813678]), 'mean_score_time': array([0.40363784, 0.43238564, 0.47646027, 0.60930557, 0.66368008,\n",
      "       0.70421548, 3.32051067, 3.27150888, 1.57778072, 0.38955297,\n",
      "       0.40231123, 0.43342953, 0.56429005, 0.59461002, 0.65524197,\n",
      "       2.60482202, 2.29648924, 1.36557102]), 'std_score_time': array([0.01713077, 0.01458417, 0.01244349, 0.00317728, 0.03564057,\n",
      "       0.02409856, 0.09728376, 0.13147798, 0.04303506, 0.01268648,\n",
      "       0.01200218, 0.01342061, 0.01254324, 0.01825628, 0.01045418,\n",
      "       0.0290079 , 0.05608877, 0.05645404]), 'param_learning_rate': masked_array(data=[0.05, 0.05, 0.05, 0.05, 0.05, 0.05, 0.05, 0.05, 0.05,\n",
      "                   0.1, 0.1, 0.1, 0.1, 0.1, 0.1, 0.1, 0.1, 0.1],\n",
      "             mask=[False, False, False, False, False, False, False, False,\n",
      "                   False, False, False, False, False, False, False, False,\n",
      "                   False, False],\n",
      "       fill_value='?',\n",
      "            dtype=object), 'param_max_depth': masked_array(data=[5, 5, 5, 7, 7, 7, 13, 13, 13, 5, 5, 5, 7, 7, 7, 13, 13,\n",
      "                   13],\n",
      "             mask=[False, False, False, False, False, False, False, False,\n",
      "                   False, False, False, False, False, False, False, False,\n",
      "                   False, False],\n",
      "       fill_value='?',\n",
      "            dtype=object), 'param_reg_alpha': masked_array(data=[0.1, 1, 10, 0.1, 1, 10, 0.1, 1, 10, 0.1, 1, 10, 0.1, 1,\n",
      "                   10, 0.1, 1, 10],\n",
      "             mask=[False, False, False, False, False, False, False, False,\n",
      "                   False, False, False, False, False, False, False, False,\n",
      "                   False, False],\n",
      "       fill_value='?',\n",
      "            dtype=object), 'params': [{'learning_rate': 0.05, 'max_depth': 5, 'reg_alpha': 0.1}, {'learning_rate': 0.05, 'max_depth': 5, 'reg_alpha': 1}, {'learning_rate': 0.05, 'max_depth': 5, 'reg_alpha': 10}, {'learning_rate': 0.05, 'max_depth': 7, 'reg_alpha': 0.1}, {'learning_rate': 0.05, 'max_depth': 7, 'reg_alpha': 1}, {'learning_rate': 0.05, 'max_depth': 7, 'reg_alpha': 10}, {'learning_rate': 0.05, 'max_depth': 13, 'reg_alpha': 0.1}, {'learning_rate': 0.05, 'max_depth': 13, 'reg_alpha': 1}, {'learning_rate': 0.05, 'max_depth': 13, 'reg_alpha': 10}, {'learning_rate': 0.1, 'max_depth': 5, 'reg_alpha': 0.1}, {'learning_rate': 0.1, 'max_depth': 5, 'reg_alpha': 1}, {'learning_rate': 0.1, 'max_depth': 5, 'reg_alpha': 10}, {'learning_rate': 0.1, 'max_depth': 7, 'reg_alpha': 0.1}, {'learning_rate': 0.1, 'max_depth': 7, 'reg_alpha': 1}, {'learning_rate': 0.1, 'max_depth': 7, 'reg_alpha': 10}, {'learning_rate': 0.1, 'max_depth': 13, 'reg_alpha': 0.1}, {'learning_rate': 0.1, 'max_depth': 13, 'reg_alpha': 1}, {'learning_rate': 0.1, 'max_depth': 13, 'reg_alpha': 10}], 'split0_test_score': array([-0.29298644, -0.29296047, -0.29240796, -0.29292422, -0.29208466,\n",
      "       -0.29192821, -0.29640425, -0.29402542, -0.29217571, -0.2937579 ,\n",
      "       -0.29344557, -0.29344616, -0.29614509, -0.29441604, -0.29301844,\n",
      "       -0.29867165, -0.29532652, -0.29323714]), 'split1_test_score': array([-0.29351065, -0.29295836, -0.29253868, -0.29340665, -0.29272566,\n",
      "       -0.29179449, -0.29746093, -0.29521253, -0.29156953, -0.29369876,\n",
      "       -0.29408269, -0.29252009, -0.29638707, -0.29469019, -0.29317774,\n",
      "       -0.29940351, -0.29661982, -0.29301099]), 'split2_test_score': array([-0.29418079, -0.29354898, -0.2933213 , -0.29443573, -0.29394939,\n",
      "       -0.29288946, -0.29769992, -0.29559307, -0.29219227, -0.29444282,\n",
      "       -0.29584314, -0.29348558, -0.29712477, -0.29629153, -0.29424596,\n",
      "       -0.29898748, -0.29542863, -0.29499175]), 'split3_test_score': array([-0.29478479, -0.29386925, -0.29388121, -0.29404321, -0.29411373,\n",
      "       -0.2935413 , -0.29834752, -0.29578886, -0.2928646 , -0.29569126,\n",
      "       -0.29516965, -0.29463775, -0.2961073 , -0.29543183, -0.2954407 ,\n",
      "       -0.30035558, -0.29687587, -0.29401378]), 'split4_test_score': array([-0.29462019, -0.29412156, -0.29381471, -0.29480749, -0.2940066 ,\n",
      "       -0.29292568, -0.29835539, -0.29639506, -0.29283181, -0.29531489,\n",
      "       -0.29478091, -0.29387278, -0.29690894, -0.29666106, -0.29419917,\n",
      "       -0.29875569, -0.29604448, -0.29405348]), 'mean_test_score': array([-0.29401657, -0.29349172, -0.29319277, -0.29392346, -0.29337601,\n",
      "       -0.29261583, -0.2976536 , -0.29540299, -0.29232678, -0.29458113,\n",
      "       -0.29466439, -0.29359247, -0.29653464, -0.29549813, -0.2940164 ,\n",
      "       -0.29923478, -0.29605906, -0.29386143]), 'std_test_score': array([0.00067803, 0.000471  , 0.00061985, 0.00068174, 0.0008199 ,\n",
      "       0.00065951, 0.00071752, 0.00078781, 0.00048138, 0.00080575,\n",
      "       0.00083453, 0.00068615, 0.00041097, 0.00087292, 0.00087338,\n",
      "       0.00061522, 0.00061902, 0.0007001 ]), 'rank_test_score': array([10,  5,  3,  8,  4,  2, 17, 13,  1, 11, 12,  6, 16, 14,  9, 18, 15,\n",
      "        7]), 'split0_train_score': array([-0.26800901, -0.26728643, -0.27587594, -0.22370324, -0.21970742,\n",
      "       -0.24946121, -0.01730835, -0.03507032, -0.15660621, -0.24681077,\n",
      "       -0.24623636, -0.26060654, -0.17475396, -0.16955776, -0.21612703,\n",
      "       -0.00320326, -0.01656113, -0.11555648]), 'split1_train_score': array([-0.26737159, -0.26711318, -0.2747392 , -0.22435344, -0.22117387,\n",
      "       -0.24836592, -0.01650392, -0.03456139, -0.15676125, -0.24645227,\n",
      "       -0.24604729, -0.2597612 , -0.17536973, -0.17028047, -0.21533886,\n",
      "       -0.00302322, -0.01659959, -0.11521086]), 'split2_train_score': array([-0.26665843, -0.26639104, -0.2749388 , -0.22290355, -0.22027802,\n",
      "       -0.24864576, -0.01650582, -0.03431087, -0.1563011 , -0.24608567,\n",
      "       -0.24518252, -0.25967519, -0.17547443, -0.17151149, -0.21471218,\n",
      "       -0.00326439, -0.01642543, -0.11520506]), 'split3_train_score': array([-0.26700405, -0.26689947, -0.2747061 , -0.22456182, -0.22175279,\n",
      "       -0.24875262, -0.01696762, -0.03472196, -0.15681319, -0.24609473,\n",
      "       -0.24555396, -0.25964547, -0.17724026, -0.17154581, -0.21474256,\n",
      "       -0.00305012, -0.01641837, -0.11472162]), 'split4_train_score': array([-0.26691737, -0.26702558, -0.27526832, -0.22321421, -0.22012304,\n",
      "       -0.24920211, -0.01742598, -0.03499317, -0.15680479, -0.24660988,\n",
      "       -0.245669  , -0.25996911, -0.17335598, -0.16977318, -0.21568249,\n",
      "       -0.00305935, -0.01652593, -0.11530057]), 'mean_train_score': array([-0.26719209, -0.26694314, -0.27510567, -0.22374725, -0.22060703,\n",
      "       -0.24888553, -0.01694234, -0.03473154, -0.15665731, -0.24641066,\n",
      "       -0.24573783, -0.2599315 , -0.17523887, -0.17053374, -0.21532063,\n",
      "       -0.00312007, -0.01650609, -0.11519892]), 'std_train_score': array([4.68016432e-04, 3.03408608e-04, 4.33951053e-04, 6.37007877e-04,\n",
      "       7.46441528e-04, 3.94153179e-04, 3.87627463e-04, 2.79009252e-04,\n",
      "       1.93052125e-04, 2.85289076e-04, 3.71808108e-04, 3.55977987e-04,\n",
      "       1.25368159e-03, 8.45626890e-04, 5.45148337e-04, 9.56115010e-05,\n",
      "       7.26170760e-05, 2.70620547e-04])}\n",
      "{'learning_rate': 0.05, 'max_depth': 13, 'reg_alpha': 10}\n",
      "-0.2923267832868999\n"
     ]
    },
    {
     "name": "stderr",
     "output_type": "stream",
     "text": [
      "C:\\Users\\13479\\Anaconda3\\lib\\site-packages\\ipykernel_launcher.py:8: FutureWarning: \n",
      ".ix is deprecated. Please use\n",
      ".loc for label based indexing or\n",
      ".iloc for positional indexing\n",
      "\n",
      "See the documentation here:\n",
      "http://pandas.pydata.org/pandas-docs/stable/user_guide/indexing.html#ix-indexer-is-deprecated\n",
      "  \n",
      "C:\\Users\\13479\\Anaconda3\\lib\\site-packages\\pandas\\core\\indexing.py:822: FutureWarning: \n",
      ".ix is deprecated. Please use\n",
      ".loc for label based indexing or\n",
      ".iloc for positional indexing\n",
      "\n",
      "See the documentation here:\n",
      "http://pandas.pydata.org/pandas-docs/stable/user_guide/indexing.html#ix-indexer-is-deprecated\n",
      "  retval = getattr(retval, self.name)._getitem_axis(key, axis=i)\n",
      "C:\\Users\\13479\\Anaconda3\\lib\\site-packages\\ipykernel_launcher.py:9: FutureWarning: \n",
      ".ix is deprecated. Please use\n",
      ".loc for label based indexing or\n",
      ".iloc for positional indexing\n",
      "\n",
      "See the documentation here:\n",
      "http://pandas.pydata.org/pandas-docs/stable/user_guide/indexing.html#ix-indexer-is-deprecated\n",
      "  if __name__ == '__main__':\n"
     ]
    },
    {
     "name": "stdout",
     "output_type": "stream",
     "text": [
      "0.0\n",
      "===============\n",
      "xgb test score\n",
      "ks_statistic:  0.2955796497080901\n",
      "===============\n"
     ]
    }
   ],
   "source": [
    "xgb_param = xgb_autotune(X_train,Y_train)\n",
    "print('='*15)\n",
    "print('xgb test score')\n",
    "print('ks_statistic: ', ks_statistic(Y_test['bad30'],xgb_param.predict(X_test)))\n",
    "print('='*15)"
   ]
  },
  {
   "cell_type": "code",
   "execution_count": 73,
   "metadata": {},
   "outputs": [
    {
     "data": {
      "text/plain": [
       "0.6624005040780846"
      ]
     },
     "execution_count": 73,
     "metadata": {},
     "output_type": "execute_result"
    }
   ],
   "source": [
    "roc_auc_score(Y_test['bad30'],xgb_param.predict(X_test))"
   ]
  },
  {
   "cell_type": "code",
   "execution_count": 74,
   "metadata": {},
   "outputs": [
    {
     "data": {
      "text/html": [
       "<div>\n",
       "<style scoped>\n",
       "    .dataframe tbody tr th:only-of-type {\n",
       "        vertical-align: middle;\n",
       "    }\n",
       "\n",
       "    .dataframe tbody tr th {\n",
       "        vertical-align: top;\n",
       "    }\n",
       "\n",
       "    .dataframe thead th {\n",
       "        text-align: right;\n",
       "    }\n",
       "</style>\n",
       "<table border=\"1\" class=\"dataframe\">\n",
       "  <thead>\n",
       "    <tr style=\"text-align: right;\">\n",
       "      <th></th>\n",
       "      <th>count</th>\n",
       "      <th>actual</th>\n",
       "      <th>non_actual</th>\n",
       "      <th>cum_count</th>\n",
       "      <th>cum_actual</th>\n",
       "      <th>cum_non_actual</th>\n",
       "      <th>percent_cum_actual</th>\n",
       "      <th>percent_cum_non_actual</th>\n",
       "      <th>if_random</th>\n",
       "      <th>lift</th>\n",
       "      <th>K_S</th>\n",
       "      <th>gain</th>\n",
       "    </tr>\n",
       "    <tr>\n",
       "      <th>decile</th>\n",
       "      <th></th>\n",
       "      <th></th>\n",
       "      <th></th>\n",
       "      <th></th>\n",
       "      <th></th>\n",
       "      <th></th>\n",
       "      <th></th>\n",
       "      <th></th>\n",
       "      <th></th>\n",
       "      <th></th>\n",
       "      <th></th>\n",
       "      <th></th>\n",
       "    </tr>\n",
       "  </thead>\n",
       "  <tbody>\n",
       "    <tr>\n",
       "      <td>0</td>\n",
       "      <td>1999</td>\n",
       "      <td>743.0</td>\n",
       "      <td>1256.0</td>\n",
       "      <td>1999</td>\n",
       "      <td>743.0</td>\n",
       "      <td>1256.0</td>\n",
       "      <td>0.19</td>\n",
       "      <td>0.08</td>\n",
       "      <td>381.5</td>\n",
       "      <td>1.95</td>\n",
       "      <td>11.0</td>\n",
       "      <td>37.17</td>\n",
       "    </tr>\n",
       "    <tr>\n",
       "      <td>1</td>\n",
       "      <td>1998</td>\n",
       "      <td>547.0</td>\n",
       "      <td>1451.0</td>\n",
       "      <td>3997</td>\n",
       "      <td>1290.0</td>\n",
       "      <td>2707.0</td>\n",
       "      <td>0.34</td>\n",
       "      <td>0.17</td>\n",
       "      <td>763.0</td>\n",
       "      <td>1.69</td>\n",
       "      <td>17.0</td>\n",
       "      <td>32.27</td>\n",
       "    </tr>\n",
       "    <tr>\n",
       "      <td>2</td>\n",
       "      <td>1998</td>\n",
       "      <td>482.0</td>\n",
       "      <td>1516.0</td>\n",
       "      <td>5995</td>\n",
       "      <td>1772.0</td>\n",
       "      <td>4223.0</td>\n",
       "      <td>0.46</td>\n",
       "      <td>0.26</td>\n",
       "      <td>1144.5</td>\n",
       "      <td>1.55</td>\n",
       "      <td>20.0</td>\n",
       "      <td>29.56</td>\n",
       "    </tr>\n",
       "    <tr>\n",
       "      <td>3</td>\n",
       "      <td>1999</td>\n",
       "      <td>455.0</td>\n",
       "      <td>1544.0</td>\n",
       "      <td>7994</td>\n",
       "      <td>2227.0</td>\n",
       "      <td>5767.0</td>\n",
       "      <td>0.58</td>\n",
       "      <td>0.36</td>\n",
       "      <td>1526.0</td>\n",
       "      <td>1.46</td>\n",
       "      <td>22.0</td>\n",
       "      <td>27.86</td>\n",
       "    </tr>\n",
       "    <tr>\n",
       "      <td>4</td>\n",
       "      <td>1998</td>\n",
       "      <td>404.0</td>\n",
       "      <td>1594.0</td>\n",
       "      <td>9992</td>\n",
       "      <td>2631.0</td>\n",
       "      <td>7361.0</td>\n",
       "      <td>0.69</td>\n",
       "      <td>0.46</td>\n",
       "      <td>1907.5</td>\n",
       "      <td>1.38</td>\n",
       "      <td>23.0</td>\n",
       "      <td>26.33</td>\n",
       "    </tr>\n",
       "    <tr>\n",
       "      <td>5</td>\n",
       "      <td>1998</td>\n",
       "      <td>356.0</td>\n",
       "      <td>1642.0</td>\n",
       "      <td>11990</td>\n",
       "      <td>2987.0</td>\n",
       "      <td>9003.0</td>\n",
       "      <td>0.78</td>\n",
       "      <td>0.56</td>\n",
       "      <td>2289.0</td>\n",
       "      <td>1.30</td>\n",
       "      <td>22.0</td>\n",
       "      <td>24.91</td>\n",
       "    </tr>\n",
       "    <tr>\n",
       "      <td>6</td>\n",
       "      <td>1999</td>\n",
       "      <td>286.0</td>\n",
       "      <td>1713.0</td>\n",
       "      <td>13989</td>\n",
       "      <td>3273.0</td>\n",
       "      <td>10716.0</td>\n",
       "      <td>0.86</td>\n",
       "      <td>0.66</td>\n",
       "      <td>2670.5</td>\n",
       "      <td>1.23</td>\n",
       "      <td>20.0</td>\n",
       "      <td>23.40</td>\n",
       "    </tr>\n",
       "    <tr>\n",
       "      <td>7</td>\n",
       "      <td>1998</td>\n",
       "      <td>244.0</td>\n",
       "      <td>1754.0</td>\n",
       "      <td>15987</td>\n",
       "      <td>3517.0</td>\n",
       "      <td>12470.0</td>\n",
       "      <td>0.92</td>\n",
       "      <td>0.77</td>\n",
       "      <td>3052.0</td>\n",
       "      <td>1.15</td>\n",
       "      <td>15.0</td>\n",
       "      <td>22.00</td>\n",
       "    </tr>\n",
       "    <tr>\n",
       "      <td>8</td>\n",
       "      <td>1998</td>\n",
       "      <td>166.0</td>\n",
       "      <td>1832.0</td>\n",
       "      <td>17985</td>\n",
       "      <td>3683.0</td>\n",
       "      <td>14302.0</td>\n",
       "      <td>0.97</td>\n",
       "      <td>0.88</td>\n",
       "      <td>3433.5</td>\n",
       "      <td>1.07</td>\n",
       "      <td>9.0</td>\n",
       "      <td>20.48</td>\n",
       "    </tr>\n",
       "    <tr>\n",
       "      <td>9</td>\n",
       "      <td>1998</td>\n",
       "      <td>132.0</td>\n",
       "      <td>1866.0</td>\n",
       "      <td>19983</td>\n",
       "      <td>3815.0</td>\n",
       "      <td>16168.0</td>\n",
       "      <td>1.00</td>\n",
       "      <td>1.00</td>\n",
       "      <td>3815.0</td>\n",
       "      <td>1.00</td>\n",
       "      <td>0.0</td>\n",
       "      <td>19.09</td>\n",
       "    </tr>\n",
       "  </tbody>\n",
       "</table>\n",
       "</div>"
      ],
      "text/plain": [
       "        count  actual  non_actual  cum_count  cum_actual  cum_non_actual  \\\n",
       "decile                                                                     \n",
       "0        1999   743.0      1256.0       1999       743.0          1256.0   \n",
       "1        1998   547.0      1451.0       3997      1290.0          2707.0   \n",
       "2        1998   482.0      1516.0       5995      1772.0          4223.0   \n",
       "3        1999   455.0      1544.0       7994      2227.0          5767.0   \n",
       "4        1998   404.0      1594.0       9992      2631.0          7361.0   \n",
       "5        1998   356.0      1642.0      11990      2987.0          9003.0   \n",
       "6        1999   286.0      1713.0      13989      3273.0         10716.0   \n",
       "7        1998   244.0      1754.0      15987      3517.0         12470.0   \n",
       "8        1998   166.0      1832.0      17985      3683.0         14302.0   \n",
       "9        1998   132.0      1866.0      19983      3815.0         16168.0   \n",
       "\n",
       "        percent_cum_actual  percent_cum_non_actual  if_random  lift   K_S  \\\n",
       "decile                                                                      \n",
       "0                     0.19                    0.08      381.5  1.95  11.0   \n",
       "1                     0.34                    0.17      763.0  1.69  17.0   \n",
       "2                     0.46                    0.26     1144.5  1.55  20.0   \n",
       "3                     0.58                    0.36     1526.0  1.46  22.0   \n",
       "4                     0.69                    0.46     1907.5  1.38  23.0   \n",
       "5                     0.78                    0.56     2289.0  1.30  22.0   \n",
       "6                     0.86                    0.66     2670.5  1.23  20.0   \n",
       "7                     0.92                    0.77     3052.0  1.15  15.0   \n",
       "8                     0.97                    0.88     3433.5  1.07   9.0   \n",
       "9                     1.00                    1.00     3815.0  1.00   0.0   \n",
       "\n",
       "         gain  \n",
       "decile         \n",
       "0       37.17  \n",
       "1       32.27  \n",
       "2       29.56  \n",
       "3       27.86  \n",
       "4       26.33  \n",
       "5       24.91  \n",
       "6       23.40  \n",
       "7       22.00  \n",
       "8       20.48  \n",
       "9       19.09  "
      ]
     },
     "execution_count": 74,
     "metadata": {},
     "output_type": "execute_result"
    }
   ],
   "source": [
    "createGains(Y_test['bad30'],xgb_param.predict(X_test))"
   ]
  },
  {
   "cell_type": "code",
   "execution_count": 94,
   "metadata": {},
   "outputs": [],
   "source": [
    "L = []\n",
    "for i in xgb_param.predict(X_test):\n",
    "    if i > 0.14:\n",
    "        L.append(1)\n",
    "    else:\n",
    "        L.append(0)\n",
    "ypred = L"
   ]
  },
  {
   "cell_type": "code",
   "execution_count": 95,
   "metadata": {},
   "outputs": [
    {
     "data": {
      "text/plain": [
       "0.6069295253702441"
      ]
     },
     "execution_count": 95,
     "metadata": {},
     "output_type": "execute_result"
    }
   ],
   "source": [
    "roc_auc_score(Y_test['bad30'],ypred)"
   ]
  },
  {
   "cell_type": "code",
   "execution_count": 96,
   "metadata": {},
   "outputs": [
    {
     "data": {
      "text/html": [
       "<div>\n",
       "<style scoped>\n",
       "    .dataframe tbody tr th:only-of-type {\n",
       "        vertical-align: middle;\n",
       "    }\n",
       "\n",
       "    .dataframe tbody tr th {\n",
       "        vertical-align: top;\n",
       "    }\n",
       "\n",
       "    .dataframe thead th {\n",
       "        text-align: right;\n",
       "    }\n",
       "</style>\n",
       "<table border=\"1\" class=\"dataframe\">\n",
       "  <thead>\n",
       "    <tr style=\"text-align: right;\">\n",
       "      <th></th>\n",
       "      <th>count</th>\n",
       "      <th>actual</th>\n",
       "      <th>non_actual</th>\n",
       "      <th>cum_count</th>\n",
       "      <th>cum_actual</th>\n",
       "      <th>cum_non_actual</th>\n",
       "      <th>percent_cum_actual</th>\n",
       "      <th>percent_cum_non_actual</th>\n",
       "      <th>if_random</th>\n",
       "      <th>lift</th>\n",
       "      <th>K_S</th>\n",
       "      <th>gain</th>\n",
       "    </tr>\n",
       "    <tr>\n",
       "      <th>decile</th>\n",
       "      <th></th>\n",
       "      <th></th>\n",
       "      <th></th>\n",
       "      <th></th>\n",
       "      <th></th>\n",
       "      <th></th>\n",
       "      <th></th>\n",
       "      <th></th>\n",
       "      <th></th>\n",
       "      <th></th>\n",
       "      <th></th>\n",
       "      <th></th>\n",
       "    </tr>\n",
       "  </thead>\n",
       "  <tbody>\n",
       "    <tr>\n",
       "      <td>0</td>\n",
       "      <td>1999</td>\n",
       "      <td>484.0</td>\n",
       "      <td>1515.0</td>\n",
       "      <td>1999</td>\n",
       "      <td>484.0</td>\n",
       "      <td>1515.0</td>\n",
       "      <td>0.13</td>\n",
       "      <td>0.09</td>\n",
       "      <td>381.5</td>\n",
       "      <td>1.27</td>\n",
       "      <td>4.0</td>\n",
       "      <td>24.21</td>\n",
       "    </tr>\n",
       "    <tr>\n",
       "      <td>1</td>\n",
       "      <td>1998</td>\n",
       "      <td>473.0</td>\n",
       "      <td>1525.0</td>\n",
       "      <td>3997</td>\n",
       "      <td>957.0</td>\n",
       "      <td>3040.0</td>\n",
       "      <td>0.25</td>\n",
       "      <td>0.19</td>\n",
       "      <td>763.0</td>\n",
       "      <td>1.25</td>\n",
       "      <td>6.0</td>\n",
       "      <td>23.94</td>\n",
       "    </tr>\n",
       "    <tr>\n",
       "      <td>2</td>\n",
       "      <td>1998</td>\n",
       "      <td>469.0</td>\n",
       "      <td>1529.0</td>\n",
       "      <td>5995</td>\n",
       "      <td>1426.0</td>\n",
       "      <td>4569.0</td>\n",
       "      <td>0.37</td>\n",
       "      <td>0.28</td>\n",
       "      <td>1144.5</td>\n",
       "      <td>1.25</td>\n",
       "      <td>9.0</td>\n",
       "      <td>23.79</td>\n",
       "    </tr>\n",
       "    <tr>\n",
       "      <td>3</td>\n",
       "      <td>1999</td>\n",
       "      <td>476.0</td>\n",
       "      <td>1523.0</td>\n",
       "      <td>7994</td>\n",
       "      <td>1902.0</td>\n",
       "      <td>6092.0</td>\n",
       "      <td>0.50</td>\n",
       "      <td>0.38</td>\n",
       "      <td>1526.0</td>\n",
       "      <td>1.25</td>\n",
       "      <td>12.0</td>\n",
       "      <td>23.79</td>\n",
       "    </tr>\n",
       "    <tr>\n",
       "      <td>4</td>\n",
       "      <td>1998</td>\n",
       "      <td>519.0</td>\n",
       "      <td>1479.0</td>\n",
       "      <td>9992</td>\n",
       "      <td>2421.0</td>\n",
       "      <td>7571.0</td>\n",
       "      <td>0.63</td>\n",
       "      <td>0.47</td>\n",
       "      <td>1907.5</td>\n",
       "      <td>1.27</td>\n",
       "      <td>16.0</td>\n",
       "      <td>24.23</td>\n",
       "    </tr>\n",
       "    <tr>\n",
       "      <td>5</td>\n",
       "      <td>1998</td>\n",
       "      <td>478.0</td>\n",
       "      <td>1520.0</td>\n",
       "      <td>11990</td>\n",
       "      <td>2899.0</td>\n",
       "      <td>9091.0</td>\n",
       "      <td>0.76</td>\n",
       "      <td>0.56</td>\n",
       "      <td>2289.0</td>\n",
       "      <td>1.27</td>\n",
       "      <td>20.0</td>\n",
       "      <td>24.18</td>\n",
       "    </tr>\n",
       "    <tr>\n",
       "      <td>6</td>\n",
       "      <td>1999</td>\n",
       "      <td>355.0</td>\n",
       "      <td>1644.0</td>\n",
       "      <td>13989</td>\n",
       "      <td>3254.0</td>\n",
       "      <td>10735.0</td>\n",
       "      <td>0.85</td>\n",
       "      <td>0.66</td>\n",
       "      <td>2670.5</td>\n",
       "      <td>1.22</td>\n",
       "      <td>19.0</td>\n",
       "      <td>23.26</td>\n",
       "    </tr>\n",
       "    <tr>\n",
       "      <td>7</td>\n",
       "      <td>1998</td>\n",
       "      <td>186.0</td>\n",
       "      <td>1812.0</td>\n",
       "      <td>15987</td>\n",
       "      <td>3440.0</td>\n",
       "      <td>12547.0</td>\n",
       "      <td>0.90</td>\n",
       "      <td>0.78</td>\n",
       "      <td>3052.0</td>\n",
       "      <td>1.13</td>\n",
       "      <td>12.0</td>\n",
       "      <td>21.52</td>\n",
       "    </tr>\n",
       "    <tr>\n",
       "      <td>8</td>\n",
       "      <td>1998</td>\n",
       "      <td>190.0</td>\n",
       "      <td>1808.0</td>\n",
       "      <td>17985</td>\n",
       "      <td>3630.0</td>\n",
       "      <td>14355.0</td>\n",
       "      <td>0.95</td>\n",
       "      <td>0.89</td>\n",
       "      <td>3433.5</td>\n",
       "      <td>1.06</td>\n",
       "      <td>6.0</td>\n",
       "      <td>20.18</td>\n",
       "    </tr>\n",
       "    <tr>\n",
       "      <td>9</td>\n",
       "      <td>1998</td>\n",
       "      <td>185.0</td>\n",
       "      <td>1813.0</td>\n",
       "      <td>19983</td>\n",
       "      <td>3815.0</td>\n",
       "      <td>16168.0</td>\n",
       "      <td>1.00</td>\n",
       "      <td>1.00</td>\n",
       "      <td>3815.0</td>\n",
       "      <td>1.00</td>\n",
       "      <td>0.0</td>\n",
       "      <td>19.09</td>\n",
       "    </tr>\n",
       "  </tbody>\n",
       "</table>\n",
       "</div>"
      ],
      "text/plain": [
       "        count  actual  non_actual  cum_count  cum_actual  cum_non_actual  \\\n",
       "decile                                                                     \n",
       "0        1999   484.0      1515.0       1999       484.0          1515.0   \n",
       "1        1998   473.0      1525.0       3997       957.0          3040.0   \n",
       "2        1998   469.0      1529.0       5995      1426.0          4569.0   \n",
       "3        1999   476.0      1523.0       7994      1902.0          6092.0   \n",
       "4        1998   519.0      1479.0       9992      2421.0          7571.0   \n",
       "5        1998   478.0      1520.0      11990      2899.0          9091.0   \n",
       "6        1999   355.0      1644.0      13989      3254.0         10735.0   \n",
       "7        1998   186.0      1812.0      15987      3440.0         12547.0   \n",
       "8        1998   190.0      1808.0      17985      3630.0         14355.0   \n",
       "9        1998   185.0      1813.0      19983      3815.0         16168.0   \n",
       "\n",
       "        percent_cum_actual  percent_cum_non_actual  if_random  lift   K_S  \\\n",
       "decile                                                                      \n",
       "0                     0.13                    0.09      381.5  1.27   4.0   \n",
       "1                     0.25                    0.19      763.0  1.25   6.0   \n",
       "2                     0.37                    0.28     1144.5  1.25   9.0   \n",
       "3                     0.50                    0.38     1526.0  1.25  12.0   \n",
       "4                     0.63                    0.47     1907.5  1.27  16.0   \n",
       "5                     0.76                    0.56     2289.0  1.27  20.0   \n",
       "6                     0.85                    0.66     2670.5  1.22  19.0   \n",
       "7                     0.90                    0.78     3052.0  1.13  12.0   \n",
       "8                     0.95                    0.89     3433.5  1.06   6.0   \n",
       "9                     1.00                    1.00     3815.0  1.00   0.0   \n",
       "\n",
       "         gain  \n",
       "decile         \n",
       "0       24.21  \n",
       "1       23.94  \n",
       "2       23.79  \n",
       "3       23.79  \n",
       "4       24.23  \n",
       "5       24.18  \n",
       "6       23.26  \n",
       "7       21.52  \n",
       "8       20.18  \n",
       "9       19.09  "
      ]
     },
     "execution_count": 96,
     "metadata": {},
     "output_type": "execute_result"
    }
   ],
   "source": [
    "createGains(Y_test['bad30'],ypred)"
   ]
  },
  {
   "cell_type": "code",
   "execution_count": 75,
   "metadata": {},
   "outputs": [],
   "source": [
    "predict_met = pd.DataFrame(data={method: [np.nan] * X_train.shape[0] for method in ['lasso', 'ridge', \n",
    "                                                                                  'xgb', 'random forest']})"
   ]
  },
  {
   "cell_type": "code",
   "execution_count": 76,
   "metadata": {},
   "outputs": [],
   "source": [
    "predict_met['lasso'] = lasso_param.predict(X_train)\n",
    "predict_met['ridge'] = ridge_param.predict(X_train)\n",
    "predict_met['random forest'] = random_forest_param.predict(X_train)\n",
    "predict_met['xgb'] = xgb_param.predict(X_train)"
   ]
  },
  {
   "cell_type": "code",
   "execution_count": 77,
   "metadata": {},
   "outputs": [
    {
     "name": "stderr",
     "output_type": "stream",
     "text": [
      "C:\\Users\\13479\\Anaconda3\\lib\\site-packages\\xgboost\\core.py:587: FutureWarning: Series.base is deprecated and will be removed in a future version\n",
      "  if getattr(data, 'base', None) is not None and \\\n"
     ]
    },
    {
     "name": "stdout",
     "output_type": "stream",
     "text": [
      "[10:38:57] WARNING: src/objective/regression_obj.cu:152: reg:linear is now deprecated in favor of reg:squarederror.\n"
     ]
    },
    {
     "name": "stderr",
     "output_type": "stream",
     "text": [
      "C:\\Users\\13479\\Anaconda3\\lib\\site-packages\\xgboost\\core.py:587: FutureWarning: Series.base is deprecated and will be removed in a future version\n",
      "  if getattr(data, 'base', None) is not None and \\\n"
     ]
    },
    {
     "name": "stdout",
     "output_type": "stream",
     "text": [
      "[10:39:07] WARNING: src/objective/regression_obj.cu:152: reg:linear is now deprecated in favor of reg:squarederror.\n"
     ]
    },
    {
     "name": "stderr",
     "output_type": "stream",
     "text": [
      "C:\\Users\\13479\\Anaconda3\\lib\\site-packages\\xgboost\\core.py:587: FutureWarning: Series.base is deprecated and will be removed in a future version\n",
      "  if getattr(data, 'base', None) is not None and \\\n"
     ]
    },
    {
     "name": "stdout",
     "output_type": "stream",
     "text": [
      "[10:39:17] WARNING: src/objective/regression_obj.cu:152: reg:linear is now deprecated in favor of reg:squarederror.\n"
     ]
    },
    {
     "name": "stderr",
     "output_type": "stream",
     "text": [
      "C:\\Users\\13479\\Anaconda3\\lib\\site-packages\\xgboost\\core.py:587: FutureWarning: Series.base is deprecated and will be removed in a future version\n",
      "  if getattr(data, 'base', None) is not None and \\\n"
     ]
    },
    {
     "name": "stdout",
     "output_type": "stream",
     "text": [
      "[10:39:28] WARNING: src/objective/regression_obj.cu:152: reg:linear is now deprecated in favor of reg:squarederror.\n"
     ]
    },
    {
     "name": "stderr",
     "output_type": "stream",
     "text": [
      "C:\\Users\\13479\\Anaconda3\\lib\\site-packages\\xgboost\\core.py:587: FutureWarning: Series.base is deprecated and will be removed in a future version\n",
      "  if getattr(data, 'base', None) is not None and \\\n"
     ]
    },
    {
     "name": "stdout",
     "output_type": "stream",
     "text": [
      "[10:39:38] WARNING: src/objective/regression_obj.cu:152: reg:linear is now deprecated in favor of reg:squarederror.\n"
     ]
    },
    {
     "name": "stderr",
     "output_type": "stream",
     "text": [
      "C:\\Users\\13479\\Anaconda3\\lib\\site-packages\\xgboost\\core.py:587: FutureWarning: Series.base is deprecated and will be removed in a future version\n",
      "  if getattr(data, 'base', None) is not None and \\\n"
     ]
    },
    {
     "name": "stdout",
     "output_type": "stream",
     "text": [
      "[10:39:48] WARNING: src/objective/regression_obj.cu:152: reg:linear is now deprecated in favor of reg:squarederror.\n"
     ]
    },
    {
     "name": "stderr",
     "output_type": "stream",
     "text": [
      "C:\\Users\\13479\\Anaconda3\\lib\\site-packages\\xgboost\\core.py:587: FutureWarning: Series.base is deprecated and will be removed in a future version\n",
      "  if getattr(data, 'base', None) is not None and \\\n"
     ]
    },
    {
     "name": "stdout",
     "output_type": "stream",
     "text": [
      "[10:39:58] WARNING: src/objective/regression_obj.cu:152: reg:linear is now deprecated in favor of reg:squarederror.\n"
     ]
    },
    {
     "name": "stderr",
     "output_type": "stream",
     "text": [
      "C:\\Users\\13479\\Anaconda3\\lib\\site-packages\\xgboost\\core.py:587: FutureWarning: Series.base is deprecated and will be removed in a future version\n",
      "  if getattr(data, 'base', None) is not None and \\\n"
     ]
    },
    {
     "name": "stdout",
     "output_type": "stream",
     "text": [
      "[10:40:09] WARNING: src/objective/regression_obj.cu:152: reg:linear is now deprecated in favor of reg:squarederror.\n"
     ]
    },
    {
     "name": "stderr",
     "output_type": "stream",
     "text": [
      "C:\\Users\\13479\\Anaconda3\\lib\\site-packages\\xgboost\\core.py:587: FutureWarning: Series.base is deprecated and will be removed in a future version\n",
      "  if getattr(data, 'base', None) is not None and \\\n"
     ]
    },
    {
     "name": "stdout",
     "output_type": "stream",
     "text": [
      "[10:40:19] WARNING: src/objective/regression_obj.cu:152: reg:linear is now deprecated in favor of reg:squarederror.\n"
     ]
    },
    {
     "name": "stderr",
     "output_type": "stream",
     "text": [
      "C:\\Users\\13479\\Anaconda3\\lib\\site-packages\\xgboost\\core.py:587: FutureWarning: Series.base is deprecated and will be removed in a future version\n",
      "  if getattr(data, 'base', None) is not None and \\\n"
     ]
    },
    {
     "name": "stdout",
     "output_type": "stream",
     "text": [
      "[10:40:30] WARNING: src/objective/regression_obj.cu:152: reg:linear is now deprecated in favor of reg:squarederror.\n"
     ]
    },
    {
     "name": "stderr",
     "output_type": "stream",
     "text": [
      "C:\\Users\\13479\\Anaconda3\\lib\\site-packages\\xgboost\\core.py:587: FutureWarning: Series.base is deprecated and will be removed in a future version\n",
      "  if getattr(data, 'base', None) is not None and \\\n"
     ]
    },
    {
     "name": "stdout",
     "output_type": "stream",
     "text": [
      "[10:40:40] WARNING: src/objective/regression_obj.cu:152: reg:linear is now deprecated in favor of reg:squarederror.\n"
     ]
    },
    {
     "name": "stderr",
     "output_type": "stream",
     "text": [
      "C:\\Users\\13479\\Anaconda3\\lib\\site-packages\\xgboost\\core.py:587: FutureWarning: Series.base is deprecated and will be removed in a future version\n",
      "  if getattr(data, 'base', None) is not None and \\\n"
     ]
    },
    {
     "name": "stdout",
     "output_type": "stream",
     "text": [
      "[10:40:49] WARNING: src/objective/regression_obj.cu:152: reg:linear is now deprecated in favor of reg:squarederror.\n"
     ]
    },
    {
     "name": "stderr",
     "output_type": "stream",
     "text": [
      "C:\\Users\\13479\\Anaconda3\\lib\\site-packages\\xgboost\\core.py:587: FutureWarning: Series.base is deprecated and will be removed in a future version\n",
      "  if getattr(data, 'base', None) is not None and \\\n"
     ]
    },
    {
     "name": "stdout",
     "output_type": "stream",
     "text": [
      "[10:40:58] WARNING: src/objective/regression_obj.cu:152: reg:linear is now deprecated in favor of reg:squarederror.\n"
     ]
    },
    {
     "name": "stderr",
     "output_type": "stream",
     "text": [
      "C:\\Users\\13479\\Anaconda3\\lib\\site-packages\\xgboost\\core.py:587: FutureWarning: Series.base is deprecated and will be removed in a future version\n",
      "  if getattr(data, 'base', None) is not None and \\\n"
     ]
    },
    {
     "name": "stdout",
     "output_type": "stream",
     "text": [
      "[10:41:08] WARNING: src/objective/regression_obj.cu:152: reg:linear is now deprecated in favor of reg:squarederror.\n"
     ]
    },
    {
     "name": "stderr",
     "output_type": "stream",
     "text": [
      "C:\\Users\\13479\\Anaconda3\\lib\\site-packages\\xgboost\\core.py:587: FutureWarning: Series.base is deprecated and will be removed in a future version\n",
      "  if getattr(data, 'base', None) is not None and \\\n"
     ]
    },
    {
     "name": "stdout",
     "output_type": "stream",
     "text": [
      "[10:41:17] WARNING: src/objective/regression_obj.cu:152: reg:linear is now deprecated in favor of reg:squarederror.\n"
     ]
    },
    {
     "name": "stderr",
     "output_type": "stream",
     "text": [
      "C:\\Users\\13479\\Anaconda3\\lib\\site-packages\\xgboost\\core.py:587: FutureWarning: Series.base is deprecated and will be removed in a future version\n",
      "  if getattr(data, 'base', None) is not None and \\\n"
     ]
    },
    {
     "name": "stdout",
     "output_type": "stream",
     "text": [
      "[10:41:26] WARNING: src/objective/regression_obj.cu:152: reg:linear is now deprecated in favor of reg:squarederror.\n"
     ]
    },
    {
     "name": "stderr",
     "output_type": "stream",
     "text": [
      "C:\\Users\\13479\\Anaconda3\\lib\\site-packages\\xgboost\\core.py:587: FutureWarning: Series.base is deprecated and will be removed in a future version\n",
      "  if getattr(data, 'base', None) is not None and \\\n"
     ]
    },
    {
     "name": "stdout",
     "output_type": "stream",
     "text": [
      "[10:41:41] WARNING: src/objective/regression_obj.cu:152: reg:linear is now deprecated in favor of reg:squarederror.\n"
     ]
    },
    {
     "name": "stderr",
     "output_type": "stream",
     "text": [
      "C:\\Users\\13479\\Anaconda3\\lib\\site-packages\\xgboost\\core.py:587: FutureWarning: Series.base is deprecated and will be removed in a future version\n",
      "  if getattr(data, 'base', None) is not None and \\\n"
     ]
    },
    {
     "name": "stdout",
     "output_type": "stream",
     "text": [
      "[10:41:55] WARNING: src/objective/regression_obj.cu:152: reg:linear is now deprecated in favor of reg:squarederror.\n"
     ]
    },
    {
     "name": "stderr",
     "output_type": "stream",
     "text": [
      "C:\\Users\\13479\\Anaconda3\\lib\\site-packages\\xgboost\\core.py:587: FutureWarning: Series.base is deprecated and will be removed in a future version\n",
      "  if getattr(data, 'base', None) is not None and \\\n"
     ]
    },
    {
     "name": "stdout",
     "output_type": "stream",
     "text": [
      "[10:42:10] WARNING: src/objective/regression_obj.cu:152: reg:linear is now deprecated in favor of reg:squarederror.\n"
     ]
    },
    {
     "name": "stderr",
     "output_type": "stream",
     "text": [
      "C:\\Users\\13479\\Anaconda3\\lib\\site-packages\\xgboost\\core.py:587: FutureWarning: Series.base is deprecated and will be removed in a future version\n",
      "  if getattr(data, 'base', None) is not None and \\\n"
     ]
    },
    {
     "name": "stdout",
     "output_type": "stream",
     "text": [
      "[10:42:24] WARNING: src/objective/regression_obj.cu:152: reg:linear is now deprecated in favor of reg:squarederror.\n"
     ]
    },
    {
     "name": "stderr",
     "output_type": "stream",
     "text": [
      "C:\\Users\\13479\\Anaconda3\\lib\\site-packages\\xgboost\\core.py:587: FutureWarning: Series.base is deprecated and will be removed in a future version\n",
      "  if getattr(data, 'base', None) is not None and \\\n"
     ]
    },
    {
     "name": "stdout",
     "output_type": "stream",
     "text": [
      "[10:42:38] WARNING: src/objective/regression_obj.cu:152: reg:linear is now deprecated in favor of reg:squarederror.\n"
     ]
    },
    {
     "name": "stderr",
     "output_type": "stream",
     "text": [
      "C:\\Users\\13479\\Anaconda3\\lib\\site-packages\\xgboost\\core.py:587: FutureWarning: Series.base is deprecated and will be removed in a future version\n",
      "  if getattr(data, 'base', None) is not None and \\\n"
     ]
    },
    {
     "name": "stdout",
     "output_type": "stream",
     "text": [
      "[10:42:52] WARNING: src/objective/regression_obj.cu:152: reg:linear is now deprecated in favor of reg:squarederror.\n"
     ]
    },
    {
     "name": "stderr",
     "output_type": "stream",
     "text": [
      "C:\\Users\\13479\\Anaconda3\\lib\\site-packages\\xgboost\\core.py:587: FutureWarning: Series.base is deprecated and will be removed in a future version\n",
      "  if getattr(data, 'base', None) is not None and \\\n"
     ]
    },
    {
     "name": "stdout",
     "output_type": "stream",
     "text": [
      "[10:43:06] WARNING: src/objective/regression_obj.cu:152: reg:linear is now deprecated in favor of reg:squarederror.\n"
     ]
    },
    {
     "name": "stderr",
     "output_type": "stream",
     "text": [
      "C:\\Users\\13479\\Anaconda3\\lib\\site-packages\\xgboost\\core.py:587: FutureWarning: Series.base is deprecated and will be removed in a future version\n",
      "  if getattr(data, 'base', None) is not None and \\\n"
     ]
    },
    {
     "name": "stdout",
     "output_type": "stream",
     "text": [
      "[10:43:20] WARNING: src/objective/regression_obj.cu:152: reg:linear is now deprecated in favor of reg:squarederror.\n"
     ]
    },
    {
     "name": "stderr",
     "output_type": "stream",
     "text": [
      "C:\\Users\\13479\\Anaconda3\\lib\\site-packages\\xgboost\\core.py:587: FutureWarning: Series.base is deprecated and will be removed in a future version\n",
      "  if getattr(data, 'base', None) is not None and \\\n"
     ]
    },
    {
     "name": "stdout",
     "output_type": "stream",
     "text": [
      "[10:43:35] WARNING: src/objective/regression_obj.cu:152: reg:linear is now deprecated in favor of reg:squarederror.\n"
     ]
    },
    {
     "name": "stderr",
     "output_type": "stream",
     "text": [
      "C:\\Users\\13479\\Anaconda3\\lib\\site-packages\\xgboost\\core.py:587: FutureWarning: Series.base is deprecated and will be removed in a future version\n",
      "  if getattr(data, 'base', None) is not None and \\\n"
     ]
    },
    {
     "name": "stdout",
     "output_type": "stream",
     "text": [
      "[10:43:48] WARNING: src/objective/regression_obj.cu:152: reg:linear is now deprecated in favor of reg:squarederror.\n"
     ]
    },
    {
     "name": "stderr",
     "output_type": "stream",
     "text": [
      "C:\\Users\\13479\\Anaconda3\\lib\\site-packages\\xgboost\\core.py:587: FutureWarning: Series.base is deprecated and will be removed in a future version\n",
      "  if getattr(data, 'base', None) is not None and \\\n"
     ]
    },
    {
     "name": "stdout",
     "output_type": "stream",
     "text": [
      "[10:43:59] WARNING: src/objective/regression_obj.cu:152: reg:linear is now deprecated in favor of reg:squarederror.\n"
     ]
    },
    {
     "name": "stderr",
     "output_type": "stream",
     "text": [
      "C:\\Users\\13479\\Anaconda3\\lib\\site-packages\\xgboost\\core.py:587: FutureWarning: Series.base is deprecated and will be removed in a future version\n",
      "  if getattr(data, 'base', None) is not None and \\\n"
     ]
    },
    {
     "name": "stdout",
     "output_type": "stream",
     "text": [
      "[10:44:10] WARNING: src/objective/regression_obj.cu:152: reg:linear is now deprecated in favor of reg:squarederror.\n"
     ]
    },
    {
     "name": "stderr",
     "output_type": "stream",
     "text": [
      "C:\\Users\\13479\\Anaconda3\\lib\\site-packages\\xgboost\\core.py:587: FutureWarning: Series.base is deprecated and will be removed in a future version\n",
      "  if getattr(data, 'base', None) is not None and \\\n"
     ]
    },
    {
     "name": "stdout",
     "output_type": "stream",
     "text": [
      "[10:44:21] WARNING: src/objective/regression_obj.cu:152: reg:linear is now deprecated in favor of reg:squarederror.\n"
     ]
    },
    {
     "name": "stderr",
     "output_type": "stream",
     "text": [
      "C:\\Users\\13479\\Anaconda3\\lib\\site-packages\\xgboost\\core.py:587: FutureWarning: Series.base is deprecated and will be removed in a future version\n",
      "  if getattr(data, 'base', None) is not None and \\\n"
     ]
    },
    {
     "name": "stdout",
     "output_type": "stream",
     "text": [
      "[10:44:32] WARNING: src/objective/regression_obj.cu:152: reg:linear is now deprecated in favor of reg:squarederror.\n"
     ]
    },
    {
     "name": "stderr",
     "output_type": "stream",
     "text": [
      "C:\\Users\\13479\\Anaconda3\\lib\\site-packages\\xgboost\\core.py:587: FutureWarning: Series.base is deprecated and will be removed in a future version\n",
      "  if getattr(data, 'base', None) is not None and \\\n"
     ]
    },
    {
     "name": "stdout",
     "output_type": "stream",
     "text": [
      "[10:44:42] WARNING: src/objective/regression_obj.cu:152: reg:linear is now deprecated in favor of reg:squarederror.\n"
     ]
    },
    {
     "name": "stderr",
     "output_type": "stream",
     "text": [
      "C:\\Users\\13479\\Anaconda3\\lib\\site-packages\\xgboost\\core.py:587: FutureWarning: Series.base is deprecated and will be removed in a future version\n",
      "  if getattr(data, 'base', None) is not None and \\\n"
     ]
    },
    {
     "name": "stdout",
     "output_type": "stream",
     "text": [
      "[10:45:13] WARNING: src/objective/regression_obj.cu:152: reg:linear is now deprecated in favor of reg:squarederror.\n"
     ]
    },
    {
     "name": "stderr",
     "output_type": "stream",
     "text": [
      "C:\\Users\\13479\\Anaconda3\\lib\\site-packages\\xgboost\\core.py:587: FutureWarning: Series.base is deprecated and will be removed in a future version\n",
      "  if getattr(data, 'base', None) is not None and \\\n"
     ]
    },
    {
     "name": "stdout",
     "output_type": "stream",
     "text": [
      "[10:45:43] WARNING: src/objective/regression_obj.cu:152: reg:linear is now deprecated in favor of reg:squarederror.\n"
     ]
    },
    {
     "name": "stderr",
     "output_type": "stream",
     "text": [
      "C:\\Users\\13479\\Anaconda3\\lib\\site-packages\\xgboost\\core.py:587: FutureWarning: Series.base is deprecated and will be removed in a future version\n",
      "  if getattr(data, 'base', None) is not None and \\\n"
     ]
    },
    {
     "name": "stdout",
     "output_type": "stream",
     "text": [
      "[10:46:13] WARNING: src/objective/regression_obj.cu:152: reg:linear is now deprecated in favor of reg:squarederror.\n"
     ]
    },
    {
     "name": "stderr",
     "output_type": "stream",
     "text": [
      "C:\\Users\\13479\\Anaconda3\\lib\\site-packages\\xgboost\\core.py:587: FutureWarning: Series.base is deprecated and will be removed in a future version\n",
      "  if getattr(data, 'base', None) is not None and \\\n"
     ]
    },
    {
     "name": "stdout",
     "output_type": "stream",
     "text": [
      "[10:46:44] WARNING: src/objective/regression_obj.cu:152: reg:linear is now deprecated in favor of reg:squarederror.\n"
     ]
    },
    {
     "name": "stderr",
     "output_type": "stream",
     "text": [
      "C:\\Users\\13479\\Anaconda3\\lib\\site-packages\\xgboost\\core.py:587: FutureWarning: Series.base is deprecated and will be removed in a future version\n",
      "  if getattr(data, 'base', None) is not None and \\\n"
     ]
    },
    {
     "name": "stdout",
     "output_type": "stream",
     "text": [
      "[10:47:10] WARNING: src/objective/regression_obj.cu:152: reg:linear is now deprecated in favor of reg:squarederror.\n"
     ]
    },
    {
     "name": "stderr",
     "output_type": "stream",
     "text": [
      "C:\\Users\\13479\\Anaconda3\\lib\\site-packages\\xgboost\\core.py:587: FutureWarning: Series.base is deprecated and will be removed in a future version\n",
      "  if getattr(data, 'base', None) is not None and \\\n"
     ]
    },
    {
     "name": "stdout",
     "output_type": "stream",
     "text": [
      "[10:47:30] WARNING: src/objective/regression_obj.cu:152: reg:linear is now deprecated in favor of reg:squarederror.\n"
     ]
    },
    {
     "name": "stderr",
     "output_type": "stream",
     "text": [
      "C:\\Users\\13479\\Anaconda3\\lib\\site-packages\\xgboost\\core.py:587: FutureWarning: Series.base is deprecated and will be removed in a future version\n",
      "  if getattr(data, 'base', None) is not None and \\\n"
     ]
    },
    {
     "name": "stdout",
     "output_type": "stream",
     "text": [
      "[10:47:48] WARNING: src/objective/regression_obj.cu:152: reg:linear is now deprecated in favor of reg:squarederror.\n"
     ]
    },
    {
     "name": "stderr",
     "output_type": "stream",
     "text": [
      "C:\\Users\\13479\\Anaconda3\\lib\\site-packages\\xgboost\\core.py:587: FutureWarning: Series.base is deprecated and will be removed in a future version\n",
      "  if getattr(data, 'base', None) is not None and \\\n"
     ]
    },
    {
     "name": "stdout",
     "output_type": "stream",
     "text": [
      "[10:48:07] WARNING: src/objective/regression_obj.cu:152: reg:linear is now deprecated in favor of reg:squarederror.\n"
     ]
    },
    {
     "name": "stderr",
     "output_type": "stream",
     "text": [
      "C:\\Users\\13479\\Anaconda3\\lib\\site-packages\\xgboost\\core.py:587: FutureWarning: Series.base is deprecated and will be removed in a future version\n",
      "  if getattr(data, 'base', None) is not None and \\\n"
     ]
    },
    {
     "name": "stdout",
     "output_type": "stream",
     "text": [
      "[10:48:26] WARNING: src/objective/regression_obj.cu:152: reg:linear is now deprecated in favor of reg:squarederror.\n"
     ]
    },
    {
     "name": "stderr",
     "output_type": "stream",
     "text": [
      "C:\\Users\\13479\\Anaconda3\\lib\\site-packages\\xgboost\\core.py:587: FutureWarning: Series.base is deprecated and will be removed in a future version\n",
      "  if getattr(data, 'base', None) is not None and \\\n"
     ]
    },
    {
     "name": "stdout",
     "output_type": "stream",
     "text": [
      "[10:48:43] WARNING: src/objective/regression_obj.cu:152: reg:linear is now deprecated in favor of reg:squarederror.\n"
     ]
    },
    {
     "name": "stderr",
     "output_type": "stream",
     "text": [
      "C:\\Users\\13479\\Anaconda3\\lib\\site-packages\\xgboost\\core.py:587: FutureWarning: Series.base is deprecated and will be removed in a future version\n",
      "  if getattr(data, 'base', None) is not None and \\\n"
     ]
    },
    {
     "name": "stdout",
     "output_type": "stream",
     "text": [
      "[10:48:55] WARNING: src/objective/regression_obj.cu:152: reg:linear is now deprecated in favor of reg:squarederror.\n"
     ]
    },
    {
     "name": "stderr",
     "output_type": "stream",
     "text": [
      "C:\\Users\\13479\\Anaconda3\\lib\\site-packages\\xgboost\\core.py:587: FutureWarning: Series.base is deprecated and will be removed in a future version\n",
      "  if getattr(data, 'base', None) is not None and \\\n"
     ]
    },
    {
     "name": "stdout",
     "output_type": "stream",
     "text": [
      "[10:49:06] WARNING: src/objective/regression_obj.cu:152: reg:linear is now deprecated in favor of reg:squarederror.\n"
     ]
    },
    {
     "name": "stderr",
     "output_type": "stream",
     "text": [
      "C:\\Users\\13479\\Anaconda3\\lib\\site-packages\\xgboost\\core.py:587: FutureWarning: Series.base is deprecated and will be removed in a future version\n",
      "  if getattr(data, 'base', None) is not None and \\\n"
     ]
    },
    {
     "name": "stdout",
     "output_type": "stream",
     "text": [
      "[10:49:18] WARNING: src/objective/regression_obj.cu:152: reg:linear is now deprecated in favor of reg:squarederror.\n"
     ]
    },
    {
     "name": "stderr",
     "output_type": "stream",
     "text": [
      "C:\\Users\\13479\\Anaconda3\\lib\\site-packages\\xgboost\\core.py:587: FutureWarning: Series.base is deprecated and will be removed in a future version\n",
      "  if getattr(data, 'base', None) is not None and \\\n"
     ]
    },
    {
     "name": "stdout",
     "output_type": "stream",
     "text": [
      "[10:49:30] WARNING: src/objective/regression_obj.cu:152: reg:linear is now deprecated in favor of reg:squarederror.\n"
     ]
    },
    {
     "name": "stderr",
     "output_type": "stream",
     "text": [
      "C:\\Users\\13479\\Anaconda3\\lib\\site-packages\\xgboost\\core.py:587: FutureWarning: Series.base is deprecated and will be removed in a future version\n",
      "  if getattr(data, 'base', None) is not None and \\\n"
     ]
    },
    {
     "name": "stdout",
     "output_type": "stream",
     "text": [
      "[10:49:41] WARNING: src/objective/regression_obj.cu:152: reg:linear is now deprecated in favor of reg:squarederror.\n"
     ]
    },
    {
     "name": "stderr",
     "output_type": "stream",
     "text": [
      "C:\\Users\\13479\\Anaconda3\\lib\\site-packages\\xgboost\\core.py:587: FutureWarning: Series.base is deprecated and will be removed in a future version\n",
      "  if getattr(data, 'base', None) is not None and \\\n"
     ]
    },
    {
     "name": "stdout",
     "output_type": "stream",
     "text": [
      "[10:49:51] WARNING: src/objective/regression_obj.cu:152: reg:linear is now deprecated in favor of reg:squarederror.\n"
     ]
    },
    {
     "name": "stderr",
     "output_type": "stream",
     "text": [
      "C:\\Users\\13479\\Anaconda3\\lib\\site-packages\\xgboost\\core.py:587: FutureWarning: Series.base is deprecated and will be removed in a future version\n",
      "  if getattr(data, 'base', None) is not None and \\\n"
     ]
    },
    {
     "name": "stdout",
     "output_type": "stream",
     "text": [
      "[10:50:02] WARNING: src/objective/regression_obj.cu:152: reg:linear is now deprecated in favor of reg:squarederror.\n"
     ]
    },
    {
     "name": "stderr",
     "output_type": "stream",
     "text": [
      "C:\\Users\\13479\\Anaconda3\\lib\\site-packages\\xgboost\\core.py:587: FutureWarning: Series.base is deprecated and will be removed in a future version\n",
      "  if getattr(data, 'base', None) is not None and \\\n"
     ]
    },
    {
     "name": "stdout",
     "output_type": "stream",
     "text": [
      "[10:50:12] WARNING: src/objective/regression_obj.cu:152: reg:linear is now deprecated in favor of reg:squarederror.\n"
     ]
    },
    {
     "name": "stderr",
     "output_type": "stream",
     "text": [
      "C:\\Users\\13479\\Anaconda3\\lib\\site-packages\\xgboost\\core.py:587: FutureWarning: Series.base is deprecated and will be removed in a future version\n",
      "  if getattr(data, 'base', None) is not None and \\\n"
     ]
    },
    {
     "name": "stdout",
     "output_type": "stream",
     "text": [
      "[10:50:23] WARNING: src/objective/regression_obj.cu:152: reg:linear is now deprecated in favor of reg:squarederror.\n"
     ]
    },
    {
     "name": "stderr",
     "output_type": "stream",
     "text": [
      "C:\\Users\\13479\\Anaconda3\\lib\\site-packages\\xgboost\\core.py:587: FutureWarning: Series.base is deprecated and will be removed in a future version\n",
      "  if getattr(data, 'base', None) is not None and \\\n"
     ]
    },
    {
     "name": "stdout",
     "output_type": "stream",
     "text": [
      "[10:50:33] WARNING: src/objective/regression_obj.cu:152: reg:linear is now deprecated in favor of reg:squarederror.\n"
     ]
    },
    {
     "name": "stderr",
     "output_type": "stream",
     "text": [
      "C:\\Users\\13479\\Anaconda3\\lib\\site-packages\\xgboost\\core.py:587: FutureWarning: Series.base is deprecated and will be removed in a future version\n",
      "  if getattr(data, 'base', None) is not None and \\\n"
     ]
    },
    {
     "name": "stdout",
     "output_type": "stream",
     "text": [
      "[10:50:44] WARNING: src/objective/regression_obj.cu:152: reg:linear is now deprecated in favor of reg:squarederror.\n"
     ]
    },
    {
     "name": "stderr",
     "output_type": "stream",
     "text": [
      "C:\\Users\\13479\\Anaconda3\\lib\\site-packages\\xgboost\\core.py:587: FutureWarning: Series.base is deprecated and will be removed in a future version\n",
      "  if getattr(data, 'base', None) is not None and \\\n"
     ]
    },
    {
     "name": "stdout",
     "output_type": "stream",
     "text": [
      "[10:50:54] WARNING: src/objective/regression_obj.cu:152: reg:linear is now deprecated in favor of reg:squarederror.\n"
     ]
    },
    {
     "name": "stderr",
     "output_type": "stream",
     "text": [
      "C:\\Users\\13479\\Anaconda3\\lib\\site-packages\\xgboost\\core.py:587: FutureWarning: Series.base is deprecated and will be removed in a future version\n",
      "  if getattr(data, 'base', None) is not None and \\\n"
     ]
    },
    {
     "name": "stdout",
     "output_type": "stream",
     "text": [
      "[10:51:05] WARNING: src/objective/regression_obj.cu:152: reg:linear is now deprecated in favor of reg:squarederror.\n"
     ]
    },
    {
     "name": "stderr",
     "output_type": "stream",
     "text": [
      "C:\\Users\\13479\\Anaconda3\\lib\\site-packages\\xgboost\\core.py:587: FutureWarning: Series.base is deprecated and will be removed in a future version\n",
      "  if getattr(data, 'base', None) is not None and \\\n"
     ]
    },
    {
     "name": "stdout",
     "output_type": "stream",
     "text": [
      "[10:51:16] WARNING: src/objective/regression_obj.cu:152: reg:linear is now deprecated in favor of reg:squarederror.\n"
     ]
    },
    {
     "name": "stderr",
     "output_type": "stream",
     "text": [
      "C:\\Users\\13479\\Anaconda3\\lib\\site-packages\\xgboost\\core.py:587: FutureWarning: Series.base is deprecated and will be removed in a future version\n",
      "  if getattr(data, 'base', None) is not None and \\\n"
     ]
    },
    {
     "name": "stdout",
     "output_type": "stream",
     "text": [
      "[10:51:26] WARNING: src/objective/regression_obj.cu:152: reg:linear is now deprecated in favor of reg:squarederror.\n"
     ]
    },
    {
     "name": "stderr",
     "output_type": "stream",
     "text": [
      "C:\\Users\\13479\\Anaconda3\\lib\\site-packages\\xgboost\\core.py:587: FutureWarning: Series.base is deprecated and will be removed in a future version\n",
      "  if getattr(data, 'base', None) is not None and \\\n"
     ]
    },
    {
     "name": "stdout",
     "output_type": "stream",
     "text": [
      "[10:51:36] WARNING: src/objective/regression_obj.cu:152: reg:linear is now deprecated in favor of reg:squarederror.\n"
     ]
    },
    {
     "name": "stderr",
     "output_type": "stream",
     "text": [
      "C:\\Users\\13479\\Anaconda3\\lib\\site-packages\\xgboost\\core.py:587: FutureWarning: Series.base is deprecated and will be removed in a future version\n",
      "  if getattr(data, 'base', None) is not None and \\\n"
     ]
    },
    {
     "name": "stdout",
     "output_type": "stream",
     "text": [
      "[10:51:45] WARNING: src/objective/regression_obj.cu:152: reg:linear is now deprecated in favor of reg:squarederror.\n"
     ]
    },
    {
     "name": "stderr",
     "output_type": "stream",
     "text": [
      "C:\\Users\\13479\\Anaconda3\\lib\\site-packages\\xgboost\\core.py:587: FutureWarning: Series.base is deprecated and will be removed in a future version\n",
      "  if getattr(data, 'base', None) is not None and \\\n"
     ]
    },
    {
     "name": "stdout",
     "output_type": "stream",
     "text": [
      "[10:51:54] WARNING: src/objective/regression_obj.cu:152: reg:linear is now deprecated in favor of reg:squarederror.\n"
     ]
    },
    {
     "name": "stderr",
     "output_type": "stream",
     "text": [
      "C:\\Users\\13479\\Anaconda3\\lib\\site-packages\\xgboost\\core.py:587: FutureWarning: Series.base is deprecated and will be removed in a future version\n",
      "  if getattr(data, 'base', None) is not None and \\\n"
     ]
    },
    {
     "name": "stdout",
     "output_type": "stream",
     "text": [
      "[10:52:04] WARNING: src/objective/regression_obj.cu:152: reg:linear is now deprecated in favor of reg:squarederror.\n"
     ]
    },
    {
     "name": "stderr",
     "output_type": "stream",
     "text": [
      "C:\\Users\\13479\\Anaconda3\\lib\\site-packages\\xgboost\\core.py:587: FutureWarning: Series.base is deprecated and will be removed in a future version\n",
      "  if getattr(data, 'base', None) is not None and \\\n"
     ]
    },
    {
     "name": "stdout",
     "output_type": "stream",
     "text": [
      "[10:52:12] WARNING: src/objective/regression_obj.cu:152: reg:linear is now deprecated in favor of reg:squarederror.\n"
     ]
    },
    {
     "name": "stderr",
     "output_type": "stream",
     "text": [
      "C:\\Users\\13479\\Anaconda3\\lib\\site-packages\\xgboost\\core.py:587: FutureWarning: Series.base is deprecated and will be removed in a future version\n",
      "  if getattr(data, 'base', None) is not None and \\\n"
     ]
    },
    {
     "name": "stdout",
     "output_type": "stream",
     "text": [
      "[10:52:27] WARNING: src/objective/regression_obj.cu:152: reg:linear is now deprecated in favor of reg:squarederror.\n"
     ]
    },
    {
     "name": "stderr",
     "output_type": "stream",
     "text": [
      "C:\\Users\\13479\\Anaconda3\\lib\\site-packages\\xgboost\\core.py:587: FutureWarning: Series.base is deprecated and will be removed in a future version\n",
      "  if getattr(data, 'base', None) is not None and \\\n"
     ]
    },
    {
     "name": "stdout",
     "output_type": "stream",
     "text": [
      "[10:52:41] WARNING: src/objective/regression_obj.cu:152: reg:linear is now deprecated in favor of reg:squarederror.\n"
     ]
    },
    {
     "name": "stderr",
     "output_type": "stream",
     "text": [
      "C:\\Users\\13479\\Anaconda3\\lib\\site-packages\\xgboost\\core.py:587: FutureWarning: Series.base is deprecated and will be removed in a future version\n",
      "  if getattr(data, 'base', None) is not None and \\\n"
     ]
    },
    {
     "name": "stdout",
     "output_type": "stream",
     "text": [
      "[10:52:57] WARNING: src/objective/regression_obj.cu:152: reg:linear is now deprecated in favor of reg:squarederror.\n"
     ]
    },
    {
     "name": "stderr",
     "output_type": "stream",
     "text": [
      "C:\\Users\\13479\\Anaconda3\\lib\\site-packages\\xgboost\\core.py:587: FutureWarning: Series.base is deprecated and will be removed in a future version\n",
      "  if getattr(data, 'base', None) is not None and \\\n"
     ]
    },
    {
     "name": "stdout",
     "output_type": "stream",
     "text": [
      "[10:53:12] WARNING: src/objective/regression_obj.cu:152: reg:linear is now deprecated in favor of reg:squarederror.\n"
     ]
    },
    {
     "name": "stderr",
     "output_type": "stream",
     "text": [
      "C:\\Users\\13479\\Anaconda3\\lib\\site-packages\\xgboost\\core.py:587: FutureWarning: Series.base is deprecated and will be removed in a future version\n",
      "  if getattr(data, 'base', None) is not None and \\\n"
     ]
    },
    {
     "name": "stdout",
     "output_type": "stream",
     "text": [
      "[10:53:27] WARNING: src/objective/regression_obj.cu:152: reg:linear is now deprecated in favor of reg:squarederror.\n"
     ]
    },
    {
     "name": "stderr",
     "output_type": "stream",
     "text": [
      "C:\\Users\\13479\\Anaconda3\\lib\\site-packages\\xgboost\\core.py:587: FutureWarning: Series.base is deprecated and will be removed in a future version\n",
      "  if getattr(data, 'base', None) is not None and \\\n"
     ]
    },
    {
     "name": "stdout",
     "output_type": "stream",
     "text": [
      "[10:53:41] WARNING: src/objective/regression_obj.cu:152: reg:linear is now deprecated in favor of reg:squarederror.\n"
     ]
    },
    {
     "name": "stderr",
     "output_type": "stream",
     "text": [
      "C:\\Users\\13479\\Anaconda3\\lib\\site-packages\\xgboost\\core.py:587: FutureWarning: Series.base is deprecated and will be removed in a future version\n",
      "  if getattr(data, 'base', None) is not None and \\\n"
     ]
    },
    {
     "name": "stdout",
     "output_type": "stream",
     "text": [
      "[10:53:56] WARNING: src/objective/regression_obj.cu:152: reg:linear is now deprecated in favor of reg:squarederror.\n"
     ]
    },
    {
     "name": "stderr",
     "output_type": "stream",
     "text": [
      "C:\\Users\\13479\\Anaconda3\\lib\\site-packages\\xgboost\\core.py:587: FutureWarning: Series.base is deprecated and will be removed in a future version\n",
      "  if getattr(data, 'base', None) is not None and \\\n"
     ]
    },
    {
     "name": "stdout",
     "output_type": "stream",
     "text": [
      "[10:54:10] WARNING: src/objective/regression_obj.cu:152: reg:linear is now deprecated in favor of reg:squarederror.\n"
     ]
    },
    {
     "name": "stderr",
     "output_type": "stream",
     "text": [
      "C:\\Users\\13479\\Anaconda3\\lib\\site-packages\\xgboost\\core.py:587: FutureWarning: Series.base is deprecated and will be removed in a future version\n",
      "  if getattr(data, 'base', None) is not None and \\\n"
     ]
    },
    {
     "name": "stdout",
     "output_type": "stream",
     "text": [
      "[10:54:25] WARNING: src/objective/regression_obj.cu:152: reg:linear is now deprecated in favor of reg:squarederror.\n"
     ]
    },
    {
     "name": "stderr",
     "output_type": "stream",
     "text": [
      "C:\\Users\\13479\\Anaconda3\\lib\\site-packages\\xgboost\\core.py:587: FutureWarning: Series.base is deprecated and will be removed in a future version\n",
      "  if getattr(data, 'base', None) is not None and \\\n"
     ]
    },
    {
     "name": "stdout",
     "output_type": "stream",
     "text": [
      "[10:54:38] WARNING: src/objective/regression_obj.cu:152: reg:linear is now deprecated in favor of reg:squarederror.\n"
     ]
    },
    {
     "name": "stderr",
     "output_type": "stream",
     "text": [
      "C:\\Users\\13479\\Anaconda3\\lib\\site-packages\\xgboost\\core.py:587: FutureWarning: Series.base is deprecated and will be removed in a future version\n",
      "  if getattr(data, 'base', None) is not None and \\\n"
     ]
    },
    {
     "name": "stdout",
     "output_type": "stream",
     "text": [
      "[10:54:48] WARNING: src/objective/regression_obj.cu:152: reg:linear is now deprecated in favor of reg:squarederror.\n"
     ]
    },
    {
     "name": "stderr",
     "output_type": "stream",
     "text": [
      "C:\\Users\\13479\\Anaconda3\\lib\\site-packages\\xgboost\\core.py:587: FutureWarning: Series.base is deprecated and will be removed in a future version\n",
      "  if getattr(data, 'base', None) is not None and \\\n"
     ]
    },
    {
     "name": "stdout",
     "output_type": "stream",
     "text": [
      "[10:54:59] WARNING: src/objective/regression_obj.cu:152: reg:linear is now deprecated in favor of reg:squarederror.\n"
     ]
    },
    {
     "name": "stderr",
     "output_type": "stream",
     "text": [
      "C:\\Users\\13479\\Anaconda3\\lib\\site-packages\\xgboost\\core.py:587: FutureWarning: Series.base is deprecated and will be removed in a future version\n",
      "  if getattr(data, 'base', None) is not None and \\\n"
     ]
    },
    {
     "name": "stdout",
     "output_type": "stream",
     "text": [
      "[10:55:10] WARNING: src/objective/regression_obj.cu:152: reg:linear is now deprecated in favor of reg:squarederror.\n"
     ]
    },
    {
     "name": "stderr",
     "output_type": "stream",
     "text": [
      "C:\\Users\\13479\\Anaconda3\\lib\\site-packages\\xgboost\\core.py:587: FutureWarning: Series.base is deprecated and will be removed in a future version\n",
      "  if getattr(data, 'base', None) is not None and \\\n"
     ]
    },
    {
     "name": "stdout",
     "output_type": "stream",
     "text": [
      "[10:55:21] WARNING: src/objective/regression_obj.cu:152: reg:linear is now deprecated in favor of reg:squarederror.\n"
     ]
    },
    {
     "name": "stderr",
     "output_type": "stream",
     "text": [
      "C:\\Users\\13479\\Anaconda3\\lib\\site-packages\\xgboost\\core.py:587: FutureWarning: Series.base is deprecated and will be removed in a future version\n",
      "  if getattr(data, 'base', None) is not None and \\\n"
     ]
    },
    {
     "name": "stdout",
     "output_type": "stream",
     "text": [
      "[10:55:30] WARNING: src/objective/regression_obj.cu:152: reg:linear is now deprecated in favor of reg:squarederror.\n"
     ]
    },
    {
     "name": "stderr",
     "output_type": "stream",
     "text": [
      "C:\\Users\\13479\\Anaconda3\\lib\\site-packages\\xgboost\\core.py:587: FutureWarning: Series.base is deprecated and will be removed in a future version\n",
      "  if getattr(data, 'base', None) is not None and \\\n"
     ]
    },
    {
     "name": "stdout",
     "output_type": "stream",
     "text": [
      "[10:56:02] WARNING: src/objective/regression_obj.cu:152: reg:linear is now deprecated in favor of reg:squarederror.\n"
     ]
    },
    {
     "name": "stderr",
     "output_type": "stream",
     "text": [
      "C:\\Users\\13479\\Anaconda3\\lib\\site-packages\\xgboost\\core.py:587: FutureWarning: Series.base is deprecated and will be removed in a future version\n",
      "  if getattr(data, 'base', None) is not None and \\\n"
     ]
    },
    {
     "name": "stdout",
     "output_type": "stream",
     "text": [
      "[10:56:33] WARNING: src/objective/regression_obj.cu:152: reg:linear is now deprecated in favor of reg:squarederror.\n"
     ]
    },
    {
     "name": "stderr",
     "output_type": "stream",
     "text": [
      "C:\\Users\\13479\\Anaconda3\\lib\\site-packages\\xgboost\\core.py:587: FutureWarning: Series.base is deprecated and will be removed in a future version\n",
      "  if getattr(data, 'base', None) is not None and \\\n"
     ]
    },
    {
     "name": "stdout",
     "output_type": "stream",
     "text": [
      "[10:57:04] WARNING: src/objective/regression_obj.cu:152: reg:linear is now deprecated in favor of reg:squarederror.\n"
     ]
    },
    {
     "name": "stderr",
     "output_type": "stream",
     "text": [
      "C:\\Users\\13479\\Anaconda3\\lib\\site-packages\\xgboost\\core.py:587: FutureWarning: Series.base is deprecated and will be removed in a future version\n",
      "  if getattr(data, 'base', None) is not None and \\\n"
     ]
    },
    {
     "name": "stdout",
     "output_type": "stream",
     "text": [
      "[10:57:35] WARNING: src/objective/regression_obj.cu:152: reg:linear is now deprecated in favor of reg:squarederror.\n"
     ]
    },
    {
     "name": "stderr",
     "output_type": "stream",
     "text": [
      "C:\\Users\\13479\\Anaconda3\\lib\\site-packages\\xgboost\\core.py:587: FutureWarning: Series.base is deprecated and will be removed in a future version\n",
      "  if getattr(data, 'base', None) is not None and \\\n"
     ]
    },
    {
     "name": "stdout",
     "output_type": "stream",
     "text": [
      "[10:58:02] WARNING: src/objective/regression_obj.cu:152: reg:linear is now deprecated in favor of reg:squarederror.\n"
     ]
    },
    {
     "name": "stderr",
     "output_type": "stream",
     "text": [
      "C:\\Users\\13479\\Anaconda3\\lib\\site-packages\\xgboost\\core.py:587: FutureWarning: Series.base is deprecated and will be removed in a future version\n",
      "  if getattr(data, 'base', None) is not None and \\\n"
     ]
    },
    {
     "name": "stdout",
     "output_type": "stream",
     "text": [
      "[10:58:21] WARNING: src/objective/regression_obj.cu:152: reg:linear is now deprecated in favor of reg:squarederror.\n"
     ]
    },
    {
     "name": "stderr",
     "output_type": "stream",
     "text": [
      "C:\\Users\\13479\\Anaconda3\\lib\\site-packages\\xgboost\\core.py:587: FutureWarning: Series.base is deprecated and will be removed in a future version\n",
      "  if getattr(data, 'base', None) is not None and \\\n"
     ]
    },
    {
     "name": "stdout",
     "output_type": "stream",
     "text": [
      "[10:58:40] WARNING: src/objective/regression_obj.cu:152: reg:linear is now deprecated in favor of reg:squarederror.\n"
     ]
    },
    {
     "name": "stderr",
     "output_type": "stream",
     "text": [
      "C:\\Users\\13479\\Anaconda3\\lib\\site-packages\\xgboost\\core.py:587: FutureWarning: Series.base is deprecated and will be removed in a future version\n",
      "  if getattr(data, 'base', None) is not None and \\\n"
     ]
    },
    {
     "name": "stdout",
     "output_type": "stream",
     "text": [
      "[10:59:00] WARNING: src/objective/regression_obj.cu:152: reg:linear is now deprecated in favor of reg:squarederror.\n"
     ]
    },
    {
     "name": "stderr",
     "output_type": "stream",
     "text": [
      "C:\\Users\\13479\\Anaconda3\\lib\\site-packages\\xgboost\\core.py:587: FutureWarning: Series.base is deprecated and will be removed in a future version\n",
      "  if getattr(data, 'base', None) is not None and \\\n"
     ]
    },
    {
     "name": "stdout",
     "output_type": "stream",
     "text": [
      "[10:59:19] WARNING: src/objective/regression_obj.cu:152: reg:linear is now deprecated in favor of reg:squarederror.\n"
     ]
    },
    {
     "name": "stderr",
     "output_type": "stream",
     "text": [
      "C:\\Users\\13479\\Anaconda3\\lib\\site-packages\\xgboost\\core.py:587: FutureWarning: Series.base is deprecated and will be removed in a future version\n",
      "  if getattr(data, 'base', None) is not None and \\\n"
     ]
    },
    {
     "name": "stdout",
     "output_type": "stream",
     "text": [
      "[10:59:35] WARNING: src/objective/regression_obj.cu:152: reg:linear is now deprecated in favor of reg:squarederror.\n"
     ]
    },
    {
     "name": "stderr",
     "output_type": "stream",
     "text": [
      "C:\\Users\\13479\\Anaconda3\\lib\\site-packages\\xgboost\\core.py:587: FutureWarning: Series.base is deprecated and will be removed in a future version\n",
      "  if getattr(data, 'base', None) is not None and \\\n"
     ]
    },
    {
     "name": "stdout",
     "output_type": "stream",
     "text": [
      "[10:59:46] WARNING: src/objective/regression_obj.cu:152: reg:linear is now deprecated in favor of reg:squarederror.\n"
     ]
    },
    {
     "name": "stderr",
     "output_type": "stream",
     "text": [
      "C:\\Users\\13479\\Anaconda3\\lib\\site-packages\\xgboost\\core.py:587: FutureWarning: Series.base is deprecated and will be removed in a future version\n",
      "  if getattr(data, 'base', None) is not None and \\\n"
     ]
    },
    {
     "name": "stdout",
     "output_type": "stream",
     "text": [
      "[10:59:57] WARNING: src/objective/regression_obj.cu:152: reg:linear is now deprecated in favor of reg:squarederror.\n"
     ]
    },
    {
     "name": "stderr",
     "output_type": "stream",
     "text": [
      "C:\\Users\\13479\\Anaconda3\\lib\\site-packages\\xgboost\\core.py:587: FutureWarning: Series.base is deprecated and will be removed in a future version\n",
      "  if getattr(data, 'base', None) is not None and \\\n"
     ]
    },
    {
     "name": "stdout",
     "output_type": "stream",
     "text": [
      "[11:00:08] WARNING: src/objective/regression_obj.cu:152: reg:linear is now deprecated in favor of reg:squarederror.\n"
     ]
    },
    {
     "name": "stderr",
     "output_type": "stream",
     "text": [
      "C:\\Users\\13479\\Anaconda3\\lib\\site-packages\\xgboost\\core.py:587: FutureWarning: Series.base is deprecated and will be removed in a future version\n",
      "  if getattr(data, 'base', None) is not None and \\\n"
     ]
    },
    {
     "name": "stdout",
     "output_type": "stream",
     "text": [
      "[11:00:19] WARNING: src/objective/regression_obj.cu:152: reg:linear is now deprecated in favor of reg:squarederror.\n"
     ]
    },
    {
     "name": "stderr",
     "output_type": "stream",
     "text": [
      "C:\\Users\\13479\\Anaconda3\\lib\\site-packages\\xgboost\\core.py:587: FutureWarning: Series.base is deprecated and will be removed in a future version\n",
      "  if getattr(data, 'base', None) is not None and \\\n",
      "C:\\Users\\13479\\Anaconda3\\lib\\site-packages\\xgboost\\core.py:588: FutureWarning: Series.base is deprecated and will be removed in a future version\n",
      "  data.base is not None and isinstance(data, np.ndarray) \\\n"
     ]
    },
    {
     "name": "stdout",
     "output_type": "stream",
     "text": [
      "[11:00:28] WARNING: src/objective/regression_obj.cu:152: reg:linear is now deprecated in favor of reg:squarederror.\n",
      "____________________________________________\n",
      "tune max_depth, min_child_weight\n",
      "____________________________________________\n",
      "{'mean_fit_time': array([ 8.78271213,  8.92813854,  8.11934381, 12.07990499, 11.80404315,\n",
      "        9.49947534, 21.56251903, 15.78625221, 10.0793859 ,  9.12050242,\n",
      "        9.1943346 ,  7.98626404, 12.56486793, 12.05208702,  9.10063844,\n",
      "       22.56515794, 15.80039792,  9.16428866]), 'std_fit_time': array([0.32051598, 0.16985388, 0.2227118 , 0.07904095, 0.21343449,\n",
      "       0.33338391, 0.45613301, 0.74491963, 0.30003123, 0.0992992 ,\n",
      "       0.13214172, 0.44466753, 0.15988782, 0.36666941, 0.68255456,\n",
      "       0.67331719, 1.08474827, 0.7271098 ]), 'mean_score_time': array([0.28542428, 0.27501483, 0.23828425, 0.47542238, 0.41994481,\n",
      "       0.27875896, 1.59723773, 0.55902939, 0.29403653, 0.27586656,\n",
      "       0.28036542, 0.22932091, 0.48125229, 0.42867765, 0.27106538,\n",
      "       1.5859612 , 0.56395845, 0.26944737]), 'std_score_time': array([0.01995552, 0.00467207, 0.01301415, 0.0071148 , 0.01219989,\n",
      "       0.01630947, 0.23228467, 0.03803479, 0.01936881, 0.00351485,\n",
      "       0.00450567, 0.01797676, 0.01294996, 0.02434666, 0.02997391,\n",
      "       0.27074023, 0.06118005, 0.03367932]), 'param_learning_rate': masked_array(data=[0.05, 0.05, 0.05, 0.05, 0.05, 0.05, 0.05, 0.05, 0.05,\n",
      "                   0.1, 0.1, 0.1, 0.1, 0.1, 0.1, 0.1, 0.1, 0.1],\n",
      "             mask=[False, False, False, False, False, False, False, False,\n",
      "                   False, False, False, False, False, False, False, False,\n",
      "                   False, False],\n",
      "       fill_value='?',\n",
      "            dtype=object), 'param_max_depth': masked_array(data=[5, 5, 5, 7, 7, 7, 13, 13, 13, 5, 5, 5, 7, 7, 7, 13, 13,\n",
      "                   13],\n",
      "             mask=[False, False, False, False, False, False, False, False,\n",
      "                   False, False, False, False, False, False, False, False,\n",
      "                   False, False],\n",
      "       fill_value='?',\n",
      "            dtype=object), 'param_reg_alpha': masked_array(data=[0.1, 1, 10, 0.1, 1, 10, 0.1, 1, 10, 0.1, 1, 10, 0.1, 1,\n",
      "                   10, 0.1, 1, 10],\n",
      "             mask=[False, False, False, False, False, False, False, False,\n",
      "                   False, False, False, False, False, False, False, False,\n",
      "                   False, False],\n",
      "       fill_value='?',\n",
      "            dtype=object), 'params': [{'learning_rate': 0.05, 'max_depth': 5, 'reg_alpha': 0.1}, {'learning_rate': 0.05, 'max_depth': 5, 'reg_alpha': 1}, {'learning_rate': 0.05, 'max_depth': 5, 'reg_alpha': 10}, {'learning_rate': 0.05, 'max_depth': 7, 'reg_alpha': 0.1}, {'learning_rate': 0.05, 'max_depth': 7, 'reg_alpha': 1}, {'learning_rate': 0.05, 'max_depth': 7, 'reg_alpha': 10}, {'learning_rate': 0.05, 'max_depth': 13, 'reg_alpha': 0.1}, {'learning_rate': 0.05, 'max_depth': 13, 'reg_alpha': 1}, {'learning_rate': 0.05, 'max_depth': 13, 'reg_alpha': 10}, {'learning_rate': 0.1, 'max_depth': 5, 'reg_alpha': 0.1}, {'learning_rate': 0.1, 'max_depth': 5, 'reg_alpha': 1}, {'learning_rate': 0.1, 'max_depth': 5, 'reg_alpha': 10}, {'learning_rate': 0.1, 'max_depth': 7, 'reg_alpha': 0.1}, {'learning_rate': 0.1, 'max_depth': 7, 'reg_alpha': 1}, {'learning_rate': 0.1, 'max_depth': 7, 'reg_alpha': 10}, {'learning_rate': 0.1, 'max_depth': 13, 'reg_alpha': 0.1}, {'learning_rate': 0.1, 'max_depth': 13, 'reg_alpha': 1}, {'learning_rate': 0.1, 'max_depth': 13, 'reg_alpha': 10}], 'split0_test_score': array([-0.0057751 , -0.0059839 , -0.00798156, -0.00675711, -0.00630998,\n",
      "       -0.00794354, -0.01487704, -0.00819458, -0.00796394, -0.00476374,\n",
      "       -0.00495807, -0.00711251, -0.00663216, -0.00584243, -0.00719433,\n",
      "       -0.01768959, -0.0087628 , -0.00716969]), 'split1_test_score': array([-0.00604595, -0.00595746, -0.00778428, -0.00685678, -0.00617878,\n",
      "       -0.00776387, -0.01471322, -0.00813125, -0.00780432, -0.00501452,\n",
      "       -0.00509114, -0.00695529, -0.00674638, -0.00587985, -0.00715936,\n",
      "       -0.01800834, -0.0087805 , -0.00712505]), 'split2_test_score': array([-0.00580322, -0.00569623, -0.00740355, -0.00684018, -0.00620246,\n",
      "       -0.0076048 , -0.01493006, -0.00824748, -0.00761949, -0.00476449,\n",
      "       -0.00489459, -0.00662671, -0.0067267 , -0.0058351 , -0.00683097,\n",
      "       -0.01796793, -0.00913021, -0.00690808]), 'split3_test_score': array([-0.00604094, -0.00595023, -0.00772088, -0.00711122, -0.00631907,\n",
      "       -0.00771215, -0.01519608, -0.00836158, -0.00782023, -0.00505774,\n",
      "       -0.0049834 , -0.00683855, -0.00699323, -0.0058692 , -0.00708386,\n",
      "       -0.01786546, -0.00902498, -0.00709982]), 'split4_test_score': array([-0.00449996, -0.00464009, -0.00617841, -0.00497518, -0.00467573,\n",
      "       -0.00614065, -0.00925847, -0.0053213 , -0.00618065, -0.00275104,\n",
      "       -0.00301446, -0.0042159 , -0.00326215, -0.00325737, -0.00422087,\n",
      "       -0.00648885, -0.00386567, -0.00418876]), 'mean_test_score': array([-0.00563304, -0.00564558, -0.00741374, -0.00650809, -0.0059372 ,\n",
      "       -0.007433  , -0.01379498, -0.00765124, -0.00747773, -0.00447031,\n",
      "       -0.00458833, -0.00634979, -0.00607212, -0.00533679, -0.00649788,\n",
      "       -0.01560403, -0.00791283, -0.00649828]), 'std_test_score': array([0.00057791, 0.00051344, 0.00064501, 0.00077556, 0.00063322,\n",
      "       0.0006554 , 0.00227356, 0.00116742, 0.00065771, 0.0008683 ,\n",
      "       0.00078949, 0.00107865, 0.00141004, 0.00103984, 0.00114557,\n",
      "       0.00455892, 0.00202848, 0.00115821]), 'rank_test_score': array([ 4,  5, 12, 11,  6, 13, 17, 15, 14,  1,  2,  8,  7,  3,  9, 18, 16,\n",
      "       10]), 'split0_train_score': array([-0.00462057, -0.00510173, -0.00730215, -0.00408657, -0.00487735,\n",
      "       -0.00722751, -0.00441721, -0.00566767, -0.00723834, -0.00342944,\n",
      "       -0.00411381, -0.00649346, -0.00348605, -0.00439469, -0.00651784,\n",
      "       -0.00412484, -0.00593546, -0.00649844]), 'split1_train_score': array([-0.00464773, -0.00503776, -0.00720767, -0.00393448, -0.00473312,\n",
      "       -0.00712361, -0.00431914, -0.00554453, -0.00714525, -0.00340167,\n",
      "       -0.00399182, -0.00634992, -0.00343154, -0.00430699, -0.00648553,\n",
      "       -0.0040504 , -0.00582465, -0.00648024]), 'split2_train_score': array([-0.00480869, -0.00513584, -0.0072995 , -0.00406289, -0.0049497 ,\n",
      "       -0.00739752, -0.00436466, -0.00573977, -0.00738495, -0.00351135,\n",
      "       -0.0042505 , -0.00652991, -0.00346697, -0.0045153 , -0.00662386,\n",
      "       -0.00408466, -0.00603633, -0.00668167]), 'split3_train_score': array([-0.00470619, -0.00519565, -0.00732994, -0.00413021, -0.00499146,\n",
      "       -0.00727955, -0.00438362, -0.00571629, -0.00736244, -0.00357592,\n",
      "       -0.00416167, -0.00650941, -0.003611  , -0.00443149, -0.00663738,\n",
      "       -0.00409212, -0.00591721, -0.0066532 ]), 'split4_train_score': array([-0.00323886, -0.00373674, -0.00555882, -0.00282175, -0.00354137,\n",
      "       -0.00549169, -0.00324613, -0.00375639, -0.00550942, -0.00157714,\n",
      "       -0.00221415, -0.00370078, -0.00158274, -0.00230058, -0.0037026 ,\n",
      "       -0.00226896, -0.00267456, -0.00366443]), 'mean_train_score': array([-0.00440441, -0.00484154, -0.00693962, -0.00380718, -0.0046186 ,\n",
      "       -0.00690397, -0.00414615, -0.00528493, -0.00692808, -0.0030991 ,\n",
      "       -0.00374639, -0.00591669, -0.00311566, -0.00398981, -0.00599344,\n",
      "       -0.00372419, -0.00527764, -0.0059956 ]), 'std_train_score': array([0.00058634, 0.00055476, 0.00069163, 0.000497  , 0.00054574,\n",
      "       0.00071163, 0.00045113, 0.00076724, 0.00071462, 0.00076346,\n",
      "       0.00077066, 0.00110977, 0.00076884, 0.00084726, 0.00114692,\n",
      "       0.000728  , 0.00130328, 0.00116835])}\n",
      "{'learning_rate': 0.1, 'max_depth': 5, 'reg_alpha': 0.1}\n",
      "-0.004470305745254784\n"
     ]
    },
    {
     "name": "stderr",
     "output_type": "stream",
     "text": [
      "C:\\Users\\13479\\Anaconda3\\lib\\site-packages\\ipykernel_launcher.py:8: FutureWarning: \n",
      ".ix is deprecated. Please use\n",
      ".loc for label based indexing or\n",
      ".iloc for positional indexing\n",
      "\n",
      "See the documentation here:\n",
      "http://pandas.pydata.org/pandas-docs/stable/user_guide/indexing.html#ix-indexer-is-deprecated\n",
      "  \n",
      "C:\\Users\\13479\\Anaconda3\\lib\\site-packages\\pandas\\core\\indexing.py:822: FutureWarning: \n",
      ".ix is deprecated. Please use\n",
      ".loc for label based indexing or\n",
      ".iloc for positional indexing\n",
      "\n",
      "See the documentation here:\n",
      "http://pandas.pydata.org/pandas-docs/stable/user_guide/indexing.html#ix-indexer-is-deprecated\n",
      "  retval = getattr(retval, self.name)._getitem_axis(key, axis=i)\n",
      "C:\\Users\\13479\\Anaconda3\\lib\\site-packages\\ipykernel_launcher.py:9: FutureWarning: \n",
      ".ix is deprecated. Please use\n",
      ".loc for label based indexing or\n",
      ".iloc for positional indexing\n",
      "\n",
      "See the documentation here:\n",
      "http://pandas.pydata.org/pandas-docs/stable/user_guide/indexing.html#ix-indexer-is-deprecated\n",
      "  if __name__ == '__main__':\n"
     ]
    },
    {
     "name": "stdout",
     "output_type": "stream",
     "text": [
      "0.0\n"
     ]
    }
   ],
   "source": [
    "ensenble_xgb = xgb_autotune(predict_met,Y_train)"
   ]
  },
  {
   "cell_type": "code",
   "execution_count": 78,
   "metadata": {},
   "outputs": [],
   "source": [
    "test_met = pd.DataFrame(data={method: [np.nan] * X_test.shape[0] for method in ['lasso',  'ridge',\n",
    "                                                                                  'xgb', 'random forest'\n",
    "                                                                                  ]})\n",
    "test_met['lasso'] = lasso_param.predict(X_test)\n",
    "test_met['ridge'] = ridge_param.predict(X_test)\n",
    "test_met['xgb'] = xgb_param.predict(X_test)\n",
    "test_met['random forest'] = random_forest_param.predict(X_test)"
   ]
  },
  {
   "cell_type": "code",
   "execution_count": 79,
   "metadata": {},
   "outputs": [
    {
     "data": {
      "text/plain": [
       "0.5748000110893288"
      ]
     },
     "execution_count": 79,
     "metadata": {},
     "output_type": "execute_result"
    }
   ],
   "source": [
    "roc_auc_score(Y_test['bad30'],ensenble_xgb.predict(test_met))"
   ]
  },
  {
   "cell_type": "code",
   "execution_count": 70,
   "metadata": {},
   "outputs": [
    {
     "data": {
      "text/html": [
       "<div>\n",
       "<style scoped>\n",
       "    .dataframe tbody tr th:only-of-type {\n",
       "        vertical-align: middle;\n",
       "    }\n",
       "\n",
       "    .dataframe tbody tr th {\n",
       "        vertical-align: top;\n",
       "    }\n",
       "\n",
       "    .dataframe thead th {\n",
       "        text-align: right;\n",
       "    }\n",
       "</style>\n",
       "<table border=\"1\" class=\"dataframe\">\n",
       "  <thead>\n",
       "    <tr style=\"text-align: right;\">\n",
       "      <th></th>\n",
       "      <th>count</th>\n",
       "      <th>actual</th>\n",
       "      <th>non_actual</th>\n",
       "      <th>cum_count</th>\n",
       "      <th>cum_actual</th>\n",
       "      <th>cum_non_actual</th>\n",
       "      <th>percent_cum_actual</th>\n",
       "      <th>percent_cum_non_actual</th>\n",
       "      <th>if_random</th>\n",
       "      <th>lift</th>\n",
       "      <th>K_S</th>\n",
       "      <th>gain</th>\n",
       "    </tr>\n",
       "    <tr>\n",
       "      <th>decile</th>\n",
       "      <th></th>\n",
       "      <th></th>\n",
       "      <th></th>\n",
       "      <th></th>\n",
       "      <th></th>\n",
       "      <th></th>\n",
       "      <th></th>\n",
       "      <th></th>\n",
       "      <th></th>\n",
       "      <th></th>\n",
       "      <th></th>\n",
       "      <th></th>\n",
       "    </tr>\n",
       "  </thead>\n",
       "  <tbody>\n",
       "    <tr>\n",
       "      <td>0</td>\n",
       "      <td>1999</td>\n",
       "      <td>710.0</td>\n",
       "      <td>1289.0</td>\n",
       "      <td>1999</td>\n",
       "      <td>710.0</td>\n",
       "      <td>1289.0</td>\n",
       "      <td>0.19</td>\n",
       "      <td>0.08</td>\n",
       "      <td>381.5</td>\n",
       "      <td>1.86</td>\n",
       "      <td>11.0</td>\n",
       "      <td>35.52</td>\n",
       "    </tr>\n",
       "    <tr>\n",
       "      <td>1</td>\n",
       "      <td>1998</td>\n",
       "      <td>502.0</td>\n",
       "      <td>1496.0</td>\n",
       "      <td>3997</td>\n",
       "      <td>1212.0</td>\n",
       "      <td>2785.0</td>\n",
       "      <td>0.32</td>\n",
       "      <td>0.17</td>\n",
       "      <td>763.0</td>\n",
       "      <td>1.59</td>\n",
       "      <td>15.0</td>\n",
       "      <td>30.32</td>\n",
       "    </tr>\n",
       "    <tr>\n",
       "      <td>2</td>\n",
       "      <td>1998</td>\n",
       "      <td>386.0</td>\n",
       "      <td>1612.0</td>\n",
       "      <td>5995</td>\n",
       "      <td>1598.0</td>\n",
       "      <td>4397.0</td>\n",
       "      <td>0.42</td>\n",
       "      <td>0.27</td>\n",
       "      <td>1144.5</td>\n",
       "      <td>1.40</td>\n",
       "      <td>15.0</td>\n",
       "      <td>26.66</td>\n",
       "    </tr>\n",
       "    <tr>\n",
       "      <td>3</td>\n",
       "      <td>1999</td>\n",
       "      <td>340.0</td>\n",
       "      <td>1659.0</td>\n",
       "      <td>7994</td>\n",
       "      <td>1938.0</td>\n",
       "      <td>6056.0</td>\n",
       "      <td>0.51</td>\n",
       "      <td>0.37</td>\n",
       "      <td>1526.0</td>\n",
       "      <td>1.27</td>\n",
       "      <td>14.0</td>\n",
       "      <td>24.24</td>\n",
       "    </tr>\n",
       "    <tr>\n",
       "      <td>4</td>\n",
       "      <td>1998</td>\n",
       "      <td>242.0</td>\n",
       "      <td>1756.0</td>\n",
       "      <td>9992</td>\n",
       "      <td>2180.0</td>\n",
       "      <td>7812.0</td>\n",
       "      <td>0.57</td>\n",
       "      <td>0.48</td>\n",
       "      <td>1907.5</td>\n",
       "      <td>1.14</td>\n",
       "      <td>9.0</td>\n",
       "      <td>21.82</td>\n",
       "    </tr>\n",
       "    <tr>\n",
       "      <td>5</td>\n",
       "      <td>1998</td>\n",
       "      <td>202.0</td>\n",
       "      <td>1796.0</td>\n",
       "      <td>11990</td>\n",
       "      <td>2382.0</td>\n",
       "      <td>9608.0</td>\n",
       "      <td>0.62</td>\n",
       "      <td>0.59</td>\n",
       "      <td>2289.0</td>\n",
       "      <td>1.04</td>\n",
       "      <td>3.0</td>\n",
       "      <td>19.87</td>\n",
       "    </tr>\n",
       "    <tr>\n",
       "      <td>6</td>\n",
       "      <td>1999</td>\n",
       "      <td>254.0</td>\n",
       "      <td>1745.0</td>\n",
       "      <td>13989</td>\n",
       "      <td>2636.0</td>\n",
       "      <td>11353.0</td>\n",
       "      <td>0.69</td>\n",
       "      <td>0.70</td>\n",
       "      <td>2670.5</td>\n",
       "      <td>0.99</td>\n",
       "      <td>1.0</td>\n",
       "      <td>18.84</td>\n",
       "    </tr>\n",
       "    <tr>\n",
       "      <td>7</td>\n",
       "      <td>1998</td>\n",
       "      <td>289.0</td>\n",
       "      <td>1709.0</td>\n",
       "      <td>15987</td>\n",
       "      <td>2925.0</td>\n",
       "      <td>13062.0</td>\n",
       "      <td>0.77</td>\n",
       "      <td>0.81</td>\n",
       "      <td>3052.0</td>\n",
       "      <td>0.96</td>\n",
       "      <td>4.0</td>\n",
       "      <td>18.30</td>\n",
       "    </tr>\n",
       "    <tr>\n",
       "      <td>8</td>\n",
       "      <td>1998</td>\n",
       "      <td>389.0</td>\n",
       "      <td>1609.0</td>\n",
       "      <td>17985</td>\n",
       "      <td>3314.0</td>\n",
       "      <td>14671.0</td>\n",
       "      <td>0.87</td>\n",
       "      <td>0.91</td>\n",
       "      <td>3433.5</td>\n",
       "      <td>0.97</td>\n",
       "      <td>4.0</td>\n",
       "      <td>18.43</td>\n",
       "    </tr>\n",
       "    <tr>\n",
       "      <td>9</td>\n",
       "      <td>1998</td>\n",
       "      <td>501.0</td>\n",
       "      <td>1497.0</td>\n",
       "      <td>19983</td>\n",
       "      <td>3815.0</td>\n",
       "      <td>16168.0</td>\n",
       "      <td>1.00</td>\n",
       "      <td>1.00</td>\n",
       "      <td>3815.0</td>\n",
       "      <td>1.00</td>\n",
       "      <td>0.0</td>\n",
       "      <td>19.09</td>\n",
       "    </tr>\n",
       "  </tbody>\n",
       "</table>\n",
       "</div>"
      ],
      "text/plain": [
       "        count  actual  non_actual  cum_count  cum_actual  cum_non_actual  \\\n",
       "decile                                                                     \n",
       "0        1999   710.0      1289.0       1999       710.0          1289.0   \n",
       "1        1998   502.0      1496.0       3997      1212.0          2785.0   \n",
       "2        1998   386.0      1612.0       5995      1598.0          4397.0   \n",
       "3        1999   340.0      1659.0       7994      1938.0          6056.0   \n",
       "4        1998   242.0      1756.0       9992      2180.0          7812.0   \n",
       "5        1998   202.0      1796.0      11990      2382.0          9608.0   \n",
       "6        1999   254.0      1745.0      13989      2636.0         11353.0   \n",
       "7        1998   289.0      1709.0      15987      2925.0         13062.0   \n",
       "8        1998   389.0      1609.0      17985      3314.0         14671.0   \n",
       "9        1998   501.0      1497.0      19983      3815.0         16168.0   \n",
       "\n",
       "        percent_cum_actual  percent_cum_non_actual  if_random  lift   K_S  \\\n",
       "decile                                                                      \n",
       "0                     0.19                    0.08      381.5  1.86  11.0   \n",
       "1                     0.32                    0.17      763.0  1.59  15.0   \n",
       "2                     0.42                    0.27     1144.5  1.40  15.0   \n",
       "3                     0.51                    0.37     1526.0  1.27  14.0   \n",
       "4                     0.57                    0.48     1907.5  1.14   9.0   \n",
       "5                     0.62                    0.59     2289.0  1.04   3.0   \n",
       "6                     0.69                    0.70     2670.5  0.99   1.0   \n",
       "7                     0.77                    0.81     3052.0  0.96   4.0   \n",
       "8                     0.87                    0.91     3433.5  0.97   4.0   \n",
       "9                     1.00                    1.00     3815.0  1.00   0.0   \n",
       "\n",
       "         gain  \n",
       "decile         \n",
       "0       35.52  \n",
       "1       30.32  \n",
       "2       26.66  \n",
       "3       24.24  \n",
       "4       21.82  \n",
       "5       19.87  \n",
       "6       18.84  \n",
       "7       18.30  \n",
       "8       18.43  \n",
       "9       19.09  "
      ]
     },
     "execution_count": 70,
     "metadata": {},
     "output_type": "execute_result"
    }
   ],
   "source": [
    "createGains(Y_test['bad30'],ensenble_xgb.predict(test_met))"
   ]
  },
  {
   "cell_type": "code",
   "execution_count": null,
   "metadata": {},
   "outputs": [],
   "source": []
  }
 ],
 "metadata": {
  "kernelspec": {
   "display_name": "Python [conda env:root] *",
   "language": "python",
   "name": "conda-root-py"
  },
  "language_info": {
   "codemirror_mode": {
    "name": "ipython",
    "version": 3
   },
   "file_extension": ".py",
   "mimetype": "text/x-python",
   "name": "python",
   "nbconvert_exporter": "python",
   "pygments_lexer": "ipython3",
   "version": "3.7.3"
  }
 },
 "nbformat": 4,
 "nbformat_minor": 2
}
