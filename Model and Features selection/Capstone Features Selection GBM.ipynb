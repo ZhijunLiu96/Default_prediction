{
 "cells": [
  {
   "cell_type": "code",
   "execution_count": 2,
   "metadata": {},
   "outputs": [],
   "source": [
    "import pandas as pd\n",
    "import numpy as np\n",
    "import matplotlib.pyplot as plt\n",
    "from sklearn.ensemble import RandomForestRegressor\n",
    "from sklearn import ensemble \n",
    "from sklearn.model_selection import train_test_split\n",
    "from sklearn.model_selection import GridSearchCV\n",
    "from sklearn.model_selection import cross_val_score, KFold\n",
    "from sklearn import preprocessing\n",
    "from sklearn.metrics import classification_report\n",
    "from sklearn.preprocessing import StandardScaler, Normalizer, PolynomialFeatures\n",
    "import os\n",
    "from sklearn.metrics import roc_auc_score\n",
    "from sklearn.ensemble import GradientBoostingClassifier\n",
    "import xgboost as xgb"
   ]
  },
  {
   "cell_type": "code",
   "execution_count": 4,
   "metadata": {},
   "outputs": [],
   "source": [
    "os.chdir(r\"C:\\Users\\13479\\Desktop\\dataset\")"
   ]
  },
  {
   "cell_type": "code",
   "execution_count": 3,
   "metadata": {},
   "outputs": [],
   "source": [
    "df = pd.read_csv('train.csv')"
   ]
  },
  {
   "cell_type": "code",
   "execution_count": 4,
   "metadata": {},
   "outputs": [
    {
     "data": {
      "text/html": [
       "<div>\n",
       "<style scoped>\n",
       "    .dataframe tbody tr th:only-of-type {\n",
       "        vertical-align: middle;\n",
       "    }\n",
       "\n",
       "    .dataframe tbody tr th {\n",
       "        vertical-align: top;\n",
       "    }\n",
       "\n",
       "    .dataframe thead th {\n",
       "        text-align: right;\n",
       "    }\n",
       "</style>\n",
       "<table border=\"1\" class=\"dataframe\">\n",
       "  <thead>\n",
       "    <tr style=\"text-align: right;\">\n",
       "      <th></th>\n",
       "      <th>AP004</th>\n",
       "      <th>AP002</th>\n",
       "      <th>AP006</th>\n",
       "      <th>AP001</th>\n",
       "      <th>AP005</th>\n",
       "      <th>AP003</th>\n",
       "      <th>MB001</th>\n",
       "      <th>MB002</th>\n",
       "      <th>MB003</th>\n",
       "      <th>MB004</th>\n",
       "      <th>...</th>\n",
       "      <th>ym2945</th>\n",
       "      <th>ym2956</th>\n",
       "      <th>ym2957</th>\n",
       "      <th>ym2984</th>\n",
       "      <th>ym2985</th>\n",
       "      <th>ym2994</th>\n",
       "      <th>ym2995</th>\n",
       "      <th>ym3000</th>\n",
       "      <th>ym3001</th>\n",
       "      <th>bad30</th>\n",
       "    </tr>\n",
       "  </thead>\n",
       "  <tbody>\n",
       "    <tr>\n",
       "      <td>0</td>\n",
       "      <td>12</td>\n",
       "      <td>1</td>\n",
       "      <td>ios</td>\n",
       "      <td>29</td>\n",
       "      <td>2018-04-26 14:36:49</td>\n",
       "      <td>4.0</td>\n",
       "      <td>763</td>\n",
       "      <td>0</td>\n",
       "      <td>1</td>\n",
       "      <td>1</td>\n",
       "      <td>...</td>\n",
       "      <td>0.0</td>\n",
       "      <td>0.0</td>\n",
       "      <td>0.0</td>\n",
       "      <td>0.0</td>\n",
       "      <td>0.0</td>\n",
       "      <td>0.0</td>\n",
       "      <td>0.0</td>\n",
       "      <td>0.0</td>\n",
       "      <td>0.0</td>\n",
       "      <td>0.0</td>\n",
       "    </tr>\n",
       "    <tr>\n",
       "      <td>1</td>\n",
       "      <td>12</td>\n",
       "      <td>2</td>\n",
       "      <td>android</td>\n",
       "      <td>24</td>\n",
       "      <td>2018-04-23 11:07:58</td>\n",
       "      <td>3.0</td>\n",
       "      <td>4</td>\n",
       "      <td>0</td>\n",
       "      <td>1</td>\n",
       "      <td>0</td>\n",
       "      <td>...</td>\n",
       "      <td>0.0</td>\n",
       "      <td>0.0</td>\n",
       "      <td>0.0</td>\n",
       "      <td>0.0</td>\n",
       "      <td>0.0</td>\n",
       "      <td>0.0</td>\n",
       "      <td>0.0</td>\n",
       "      <td>0.0</td>\n",
       "      <td>0.0</td>\n",
       "      <td>1.0</td>\n",
       "    </tr>\n",
       "    <tr>\n",
       "      <td>2</td>\n",
       "      <td>12</td>\n",
       "      <td>1</td>\n",
       "      <td>ios</td>\n",
       "      <td>32</td>\n",
       "      <td>2018-04-15 16:09:10</td>\n",
       "      <td>3.0</td>\n",
       "      <td>646</td>\n",
       "      <td>0</td>\n",
       "      <td>1</td>\n",
       "      <td>1</td>\n",
       "      <td>...</td>\n",
       "      <td>0.0</td>\n",
       "      <td>0.0</td>\n",
       "      <td>0.0</td>\n",
       "      <td>0.0</td>\n",
       "      <td>0.0</td>\n",
       "      <td>0.0</td>\n",
       "      <td>0.0</td>\n",
       "      <td>0.0</td>\n",
       "      <td>0.0</td>\n",
       "      <td>0.0</td>\n",
       "    </tr>\n",
       "    <tr>\n",
       "      <td>3</td>\n",
       "      <td>12</td>\n",
       "      <td>1</td>\n",
       "      <td>ios</td>\n",
       "      <td>43</td>\n",
       "      <td>2018-05-25 14:48:19</td>\n",
       "      <td>1.0</td>\n",
       "      <td>45</td>\n",
       "      <td>0</td>\n",
       "      <td>1</td>\n",
       "      <td>1</td>\n",
       "      <td>...</td>\n",
       "      <td>0.0</td>\n",
       "      <td>0.0</td>\n",
       "      <td>0.0</td>\n",
       "      <td>0.0</td>\n",
       "      <td>0.0</td>\n",
       "      <td>0.0</td>\n",
       "      <td>0.0</td>\n",
       "      <td>0.0</td>\n",
       "      <td>0.0</td>\n",
       "      <td>0.0</td>\n",
       "    </tr>\n",
       "    <tr>\n",
       "      <td>4</td>\n",
       "      <td>6</td>\n",
       "      <td>1</td>\n",
       "      <td>ios</td>\n",
       "      <td>24</td>\n",
       "      <td>2018-05-02 08:49:41</td>\n",
       "      <td>1.0</td>\n",
       "      <td>54</td>\n",
       "      <td>1</td>\n",
       "      <td>1</td>\n",
       "      <td>1</td>\n",
       "      <td>...</td>\n",
       "      <td>0.0</td>\n",
       "      <td>0.0</td>\n",
       "      <td>0.0</td>\n",
       "      <td>0.0</td>\n",
       "      <td>0.0</td>\n",
       "      <td>0.0</td>\n",
       "      <td>0.0</td>\n",
       "      <td>0.0</td>\n",
       "      <td>0.0</td>\n",
       "      <td>0.0</td>\n",
       "    </tr>\n",
       "  </tbody>\n",
       "</table>\n",
       "<p>5 rows × 1809 columns</p>\n",
       "</div>"
      ],
      "text/plain": [
       "   AP004  AP002    AP006  AP001                AP005  AP003  MB001  MB002  \\\n",
       "0     12      1      ios     29  2018-04-26 14:36:49    4.0    763      0   \n",
       "1     12      2  android     24  2018-04-23 11:07:58    3.0      4      0   \n",
       "2     12      1      ios     32  2018-04-15 16:09:10    3.0    646      0   \n",
       "3     12      1      ios     43  2018-05-25 14:48:19    1.0     45      0   \n",
       "4      6      1      ios     24  2018-05-02 08:49:41    1.0     54      1   \n",
       "\n",
       "   MB003  MB004  ...  ym2945  ym2956  ym2957  ym2984  ym2985  ym2994  ym2995  \\\n",
       "0      1      1  ...     0.0     0.0     0.0     0.0     0.0     0.0     0.0   \n",
       "1      1      0  ...     0.0     0.0     0.0     0.0     0.0     0.0     0.0   \n",
       "2      1      1  ...     0.0     0.0     0.0     0.0     0.0     0.0     0.0   \n",
       "3      1      1  ...     0.0     0.0     0.0     0.0     0.0     0.0     0.0   \n",
       "4      1      1  ...     0.0     0.0     0.0     0.0     0.0     0.0     0.0   \n",
       "\n",
       "   ym3000  ym3001  bad30  \n",
       "0     0.0     0.0    0.0  \n",
       "1     0.0     0.0    1.0  \n",
       "2     0.0     0.0    0.0  \n",
       "3     0.0     0.0    0.0  \n",
       "4     0.0     0.0    0.0  \n",
       "\n",
       "[5 rows x 1809 columns]"
      ]
     },
     "execution_count": 4,
     "metadata": {},
     "output_type": "execute_result"
    }
   ],
   "source": [
    "df.head()"
   ]
  },
  {
   "cell_type": "markdown",
   "metadata": {},
   "source": [
    "From the previous lecture, we learned that -99 and -999 are indications for NaN, and will be troublesome if we don't take care of these value. So I want to find out how many -99 and -999 are in the dataset, and if there is any, I want to change them to 0"
   ]
  },
  {
   "cell_type": "code",
   "execution_count": 6,
   "metadata": {},
   "outputs": [],
   "source": [
    "def count_negative_nightynine(dataframe):    \n",
    "    count = 0\n",
    "    for i in range(0,dataframe.shape[1]):\n",
    "        for x in range(0, dataframe.shape[0]):\n",
    "            if dataframe.iloc[x, i] == -99 or dataframe.iloc[x, i] == '-99':\n",
    "                count+=1\n",
    "    return count"
   ]
  },
  {
   "cell_type": "code",
   "execution_count": 8,
   "metadata": {},
   "outputs": [
    {
     "data": {
      "text/plain": [
       "0"
      ]
     },
     "execution_count": 8,
     "metadata": {},
     "output_type": "execute_result"
    }
   ],
   "source": [
    "count_negative_nightynine(df)"
   ]
  },
  {
   "cell_type": "code",
   "execution_count": 5,
   "metadata": {},
   "outputs": [],
   "source": [
    "def count_negative_nine_nightynine(dataframe):    \n",
    "    count = 0\n",
    "    for i in range(0,dataframe.shape[1]):\n",
    "        for x in range(0, dataframe.shape[0]):\n",
    "            if dataframe.iloc[x, i] == -999 or dataframe.iloc[x, i] == '-999':\n",
    "                count+=1\n",
    "    return count"
   ]
  },
  {
   "cell_type": "code",
   "execution_count": 7,
   "metadata": {},
   "outputs": [
    {
     "data": {
      "text/plain": [
       "3"
      ]
     },
     "execution_count": 7,
     "metadata": {},
     "output_type": "execute_result"
    }
   ],
   "source": [
    "count_negative_nine_nightynine(df)"
   ]
  },
  {
   "cell_type": "markdown",
   "metadata": {},
   "source": [
    "Since there are more than 100 thousand -99 in the dataset, I will replace all them into 0 "
   ]
  },
  {
   "cell_type": "code",
   "execution_count": 5,
   "metadata": {},
   "outputs": [],
   "source": [
    "for i in range(0,df.shape[1]):\n",
    "    for x in range(0, df.shape[0]):\n",
    "        if df.iloc[x, i] == -99 or df.iloc[x, i] == '-99':\n",
    "            df.iloc[x, i] = 0"
   ]
  },
  {
   "cell_type": "markdown",
   "metadata": {},
   "source": [
    "Next, I replace all the missing value with 0, and remove features with more than 50% of 0, since too much single 0 value will not offer too much infomrtaion for the model to train"
   ]
  },
  {
   "cell_type": "code",
   "execution_count": 9,
   "metadata": {},
   "outputs": [],
   "source": [
    "df=df.fillna(0)"
   ]
  },
  {
   "cell_type": "code",
   "execution_count": 23,
   "metadata": {},
   "outputs": [],
   "source": [
    "def remove_zeros(dataframe):    \n",
    "    zeros = []\n",
    "    for i in range(0,dataframe.shape[1]):\n",
    "            count = 0\n",
    "            for x in range(0, dataframe.shape[0]):\n",
    "                if (dataframe.iloc[x, i] == 0).all():\n",
    "                    count += 1\n",
    "            if count > dataframe.shape[0]/2:\n",
    "                zeros.append(i)\n",
    "    return zeros"
   ]
  },
  {
   "cell_type": "code",
   "execution_count": 33,
   "metadata": {},
   "outputs": [],
   "source": [
    "data = data.drop(['MB006'], axis = 1)"
   ]
  },
  {
   "cell_type": "code",
   "execution_count": 34,
   "metadata": {},
   "outputs": [],
   "source": [
    "X = data.drop(['bad30'], axis=1)\n",
    "Y = data['bad30']"
   ]
  },
  {
   "cell_type": "code",
   "execution_count": 35,
   "metadata": {},
   "outputs": [],
   "source": [
    "clf = GradientBoostingClassifier(loss='deviance', n_estimators=200,\n",
    "                                 learning_rate=0.1,\n",
    "                                 max_depth=7, random_state=0,\n",
    "                                 min_samples_split=200,\n",
    "                                 min_samples_leaf=250,\n",
    "                                 subsample=1.0,\n",
    "                                 max_features='sqrt').fit(X, Y)"
   ]
  },
  {
   "cell_type": "code",
   "execution_count": 37,
   "metadata": {},
   "outputs": [],
   "source": [
    "importance_list = clf.feature_importances_\n",
    "impor_dict = {}\n",
    "for i in range(len(importance_list)):\n",
    "    impor_dict[i] = importance_list[i]\n",
    "\n",
    "impor_dict_list = sorted(impor_dict.items(), key=lambda d: d[1], reverse=True)"
   ]
  },
  {
   "cell_type": "code",
   "execution_count": 55,
   "metadata": {},
   "outputs": [
    {
     "data": {
      "text/plain": [
       "array([0.13121655, 0.00217664, 0.00130323, ..., 0.        , 0.        ,\n",
       "       0.        ])"
      ]
     },
     "execution_count": 55,
     "metadata": {},
     "output_type": "execute_result"
    }
   ],
   "source": [
    "importance_list"
   ]
  },
  {
   "cell_type": "code",
   "execution_count": 50,
   "metadata": {},
   "outputs": [],
   "source": [
    "features = []\n",
    "for i in range(65):\n",
    "    features.append(impor_dict_list[i][0])"
   ]
  },
  {
   "cell_type": "code",
   "execution_count": 59,
   "metadata": {},
   "outputs": [],
   "source": [
    "cols= ['AP004', 'AP003', 'TD001', 'TD016', 'MB005', 'TD013', 'TD009', 'CR008',\n",
    "       'TD005', 'CR020', 'TD014', 'CR021', 'TD010', 'CR015', 'CR009', 'CR018',\n",
    "       'ym0383', 'CD121', 'ym0276', 'ym0358', 'CD117', 'ym0316', 'ym0305',\n",
    "       'ym2333', 'CR017', 'MB001', 'ym0322', 'ym0090', 'CD123', 'TD006',\n",
    "       'CD016', 'CD109', 'ym0265', 'ym0306', 'CD002', 'CD178', 'ym0360',\n",
    "       'ym0366', 'CD169', 'CD122', 'ym0004', 'ym0009', 'CD120', 'ym2037',\n",
    "       'CD003', 'ym2055', 'ym0079', 'CD011', 'ym0299', 'ym2041', 'CD172',\n",
    "       'ym0304', 'AP007', 'ym0270', 'CD008', 'ym0361', 'CD110', 'ym0038',\n",
    "       'ym2156', 'ym0327', 'ym0290', 'AP002', 'ym0362', 'ym0339', 'ym0295']"
   ]
  },
  {
   "cell_type": "code",
   "execution_count": 95,
   "metadata": {},
   "outputs": [],
   "source": [
    "Newcols= ['AP004', 'AP003', 'TD001', 'TD016', 'MB005', 'TD013', 'TD009', 'CR008',\n",
    "       'TD005', 'CR020', 'TD014', 'CR021', 'TD010', 'CR015', 'CR009', 'CR018',\n",
    "       'ym0383', 'CD121', 'ym0276', 'ym0358', 'CD117', 'ym0316', 'ym0305',\n",
    "       'ym2333', 'CR017', 'MB001', 'ym0322', 'ym0090', 'CD123', 'TD006',\n",
    "       'CD016', 'CD109', 'ym0265', 'ym0306', 'CD002', 'CD178', 'ym0360',\n",
    "       'ym0366', 'CD169', 'CD122', 'ym0004', 'ym0009', 'CD120', 'ym2037',\n",
    "       'CD003', 'ym2055', 'ym0079', 'CD011', 'ym0299', 'ym2041', 'CD172',\n",
    "       'ym0304', 'AP007', 'ym0270', 'CD008', 'ym0361', 'CD110', 'ym0038',\n",
    "       'ym2156', 'ym0327', 'ym0290', 'AP002', 'ym0362', 'ym0339', 'ym0295', 'bad30']"
   ]
  },
  {
   "cell_type": "markdown",
   "metadata": {},
   "source": [
    "Besides the target variable 'loan default', there are 1 column with too much 0, we will remove it from the dataset. And the remaining dataset will be used for training the model "
   ]
  },
  {
   "cell_type": "code",
   "execution_count": 61,
   "metadata": {},
   "outputs": [],
   "source": [
    "X_train  = X[[col for col in cols]]\n",
    "Y_train = Y"
   ]
  },
  {
   "cell_type": "code",
   "execution_count": 96,
   "metadata": {},
   "outputs": [],
   "source": [
    "train = data[[col for col in Newcols]]"
   ]
  },
  {
   "cell_type": "code",
   "execution_count": 70,
   "metadata": {},
   "outputs": [],
   "source": [
    "test = pd.read_csv('test.csv')"
   ]
  },
  {
   "cell_type": "code",
   "execution_count": 71,
   "metadata": {},
   "outputs": [],
   "source": [
    "X_test = test[[col for col in cols]]\n",
    "Y_test = test['bad30']"
   ]
  },
  {
   "cell_type": "code",
   "execution_count": 97,
   "metadata": {},
   "outputs": [],
   "source": [
    "test = test[[col for col in Newcols]]"
   ]
  },
  {
   "cell_type": "code",
   "execution_count": 98,
   "metadata": {},
   "outputs": [],
   "source": [
    "train.to_csv(r'C:\\Users\\13479\\Desktop\\dataset\\65features_Train.csv')"
   ]
  },
  {
   "cell_type": "code",
   "execution_count": 99,
   "metadata": {},
   "outputs": [],
   "source": [
    "test.to_csv(r'C:\\Users\\13479\\Desktop\\dataset\\65features_test.csv')"
   ]
  },
  {
   "cell_type": "code",
   "execution_count": 91,
   "metadata": {},
   "outputs": [],
   "source": [
    "def ks_statistic(Y,Y_hat):\n",
    "\tdata = {\"Y\":Y,\"Y_hat\":Y_hat}\n",
    "\tdf = pd.DataFrame(data)\n",
    "\tbins = np.array([-0.1,0.1,0.2,0.3,0.4,0.5,0.6,0.7,0.8,0.9,1.0])\n",
    "\tcategory = pd.cut(df[\"Y_hat\"],bins=bins)\n",
    "\tcategory = category.sort_values()\n",
    "\t#max_index = len(np.unique(df[\"Y_hat\"]))\n",
    "\tY = df.ix[category.index,:]['Y']\n",
    "\tY_hat = df.ix[category.index,:]['Y_hat']\n",
    "\tdf2 = pd.concat([Y,Y_hat],axis=1)\n",
    "\tdf3 = pd.pivot_table(df2,values = ['Y_hat'],index ='Y_hat',columns='Y',aggfunc=len,fill_value=0)\n",
    "\tdf4 = np.cumsum(df3)\n",
    "\tdf5 = df4/df4.iloc[:,1].max()\n",
    "\tks = max(abs(df5.iloc[:,0] - df5.iloc[:,1]))\n",
    "\treturn ks/len(bins)"
   ]
  },
  {
   "cell_type": "code",
   "execution_count": 78,
   "metadata": {},
   "outputs": [],
   "source": [
    "def createGains(Y,Yhat):\n",
    "    data = {\"Y\":Y,'Y_hat':Yhat}\n",
    "    test_scores = pd.DataFrame(data)\n",
    "    test_scores.columns = ['true', 'predict']\n",
    "\n",
    "    #sort on prediction (descending), add id, and decile for groups containing 1/10 of datapoints\n",
    "    test_scores = test_scores.sort_values(by='predict',ascending=False)\n",
    "    test_scores['row_id'] = range(0,0+len(test_scores))\n",
    "    test_scores['decile'] = ( test_scores['row_id'] / (len(test_scores)/10) ).astype(int)\n",
    "    #see count by decile\n",
    "    test_scores.loc[test_scores['decile'] == 10]=9\n",
    "    test_scores['decile'].value_counts()\n",
    "\n",
    "    #create gains table\n",
    "    gains = test_scores.groupby('decile')['true'].agg(['count','sum'])\n",
    "    gains.columns = ['count','actual']\n",
    "    gains\n",
    "\n",
    "    #add features to gains table\n",
    "    gains['non_actual'] = gains['count'] - gains['actual']\n",
    "    gains['cum_count'] = gains['count'].cumsum()\n",
    "    gains['cum_actual'] = gains['actual'].cumsum()\n",
    "    gains['cum_non_actual'] = gains['non_actual'].cumsum()\n",
    "    gains['percent_cum_actual'] = (gains['cum_actual'] / np.max(gains['cum_actual'])).round(2)\n",
    "    gains['percent_cum_non_actual'] = (gains['cum_non_actual'] / np.max(gains['cum_non_actual'])).round(2)\n",
    "    gains['if_random'] = np.max(gains['cum_actual']) /10 \n",
    "    gains['if_random'] = gains['if_random'].cumsum()\n",
    "    gains['lift'] = (gains['cum_actual'] / gains['if_random']).round(2)\n",
    "    gains['K_S'] = np.abs( gains['percent_cum_actual'] -  gains['percent_cum_non_actual'] ) * 100\n",
    "    gains['gain']=(gains['cum_actual']/gains['cum_count']*100).round(2)\n",
    "    gains = pd.DataFrame(gains)\n",
    "    return(gains)"
   ]
  },
  {
   "cell_type": "markdown",
   "metadata": {},
   "source": [
    "I will use the cross validation and grid search method to select the best tuning hyper-parameters for the random forest and GDB model, and apply the tuning parameters on the test set to see the result"
   ]
  },
  {
   "cell_type": "code",
   "execution_count": 68,
   "metadata": {},
   "outputs": [],
   "source": [
    "def random_forest_autotune(X,y):\n",
    "\n",
    "\tparam_test = {\n",
    "\t 'max_depth':[5,10,13],## set different heights for each single decision tree \n",
    "\t 'max_features':['sqrt'], ## set the maximum amount of features for each tree is limited to square root of the total amount of features in the original dataset\n",
    "\t 'n_estimators': [200,400,600] ## set different numbers of tree to build in each model \n",
    "\t}\n",
    "    \n",
    "  ## the process of cross validation for random forest is 5-fold cv\n",
    "  ##since we have 3 levels of depth and number of trees so that the total number of running time is 3*3*5=45 runs\n",
    "    \n",
    "\tgsearch = GridSearchCV(RandomForestRegressor(),refit=True,\n",
    "\t                        param_grid = param_test, scoring='neg_mean_absolute_error',iid=True, cv=5)\n",
    "\tgsearch.fit(X,y)\n",
    "\tprint('____________________________________________')\n",
    "\tprint('tune random forest')\n",
    "\tprint('____________________________________________')\n",
    "\tprint(gsearch.cv_results_)\n",
    "\tprint(gsearch.best_params_)\n",
    "\tprint(gsearch.best_score_)\n",
    "\treturn gsearch.best_estimator_"
   ]
  },
  {
   "cell_type": "code",
   "execution_count": 69,
   "metadata": {},
   "outputs": [
    {
     "name": "stdout",
     "output_type": "stream",
     "text": [
      "____________________________________________\n",
      "tune random forest\n",
      "____________________________________________\n",
      "{'mean_fit_time': array([ 13.73942809,  26.80603042,  39.81057787,  27.0748405 ,\n",
      "        54.72427897,  81.1506012 ,  34.71707506,  70.25395327,\n",
      "       105.337814  ]), 'std_fit_time': array([0.12798435, 0.38550607, 0.17956579, 0.05530977, 0.86103476,\n",
      "       0.28855452, 0.07381758, 1.49869341, 0.35262621]), 'mean_score_time': array([0.11708655, 0.2124393 , 0.31475649, 0.26969166, 0.53916574,\n",
      "       0.77693238, 0.36241641, 0.7380374 , 1.12298346]), 'std_score_time': array([0.00508934, 0.00382972, 0.0072892 , 0.00951259, 0.018646  ,\n",
      "       0.00537688, 0.00286255, 0.03112628, 0.02209153]), 'param_max_depth': masked_array(data=[5, 5, 5, 10, 10, 10, 13, 13, 13],\n",
      "             mask=[False, False, False, False, False, False, False, False,\n",
      "                   False],\n",
      "       fill_value='?',\n",
      "            dtype=object), 'param_max_features': masked_array(data=['sqrt', 'sqrt', 'sqrt', 'sqrt', 'sqrt', 'sqrt', 'sqrt',\n",
      "                   'sqrt', 'sqrt'],\n",
      "             mask=[False, False, False, False, False, False, False, False,\n",
      "                   False],\n",
      "       fill_value='?',\n",
      "            dtype=object), 'param_n_estimators': masked_array(data=[200, 400, 600, 200, 400, 600, 200, 400, 600],\n",
      "             mask=[False, False, False, False, False, False, False, False,\n",
      "                   False],\n",
      "       fill_value='?',\n",
      "            dtype=object), 'params': [{'max_depth': 5, 'max_features': 'sqrt', 'n_estimators': 200}, {'max_depth': 5, 'max_features': 'sqrt', 'n_estimators': 400}, {'max_depth': 5, 'max_features': 'sqrt', 'n_estimators': 600}, {'max_depth': 10, 'max_features': 'sqrt', 'n_estimators': 200}, {'max_depth': 10, 'max_features': 'sqrt', 'n_estimators': 400}, {'max_depth': 10, 'max_features': 'sqrt', 'n_estimators': 600}, {'max_depth': 13, 'max_features': 'sqrt', 'n_estimators': 200}, {'max_depth': 13, 'max_features': 'sqrt', 'n_estimators': 400}, {'max_depth': 13, 'max_features': 'sqrt', 'n_estimators': 600}], 'split0_test_score': array([-0.30112427, -0.30116404, -0.30110145, -0.29750692, -0.29732767,\n",
      "       -0.29733261, -0.29598722, -0.29623088, -0.29626662]), 'split1_test_score': array([-0.30249274, -0.30259613, -0.30247772, -0.29842482, -0.29819839,\n",
      "       -0.29836883, -0.2972173 , -0.29721319, -0.29717954]), 'split2_test_score': array([-0.30280876, -0.30273443, -0.30251539, -0.29855301, -0.29865647,\n",
      "       -0.29866382, -0.29725929, -0.29769515, -0.29757428]), 'split3_test_score': array([-0.30296886, -0.30294132, -0.30310728, -0.29941642, -0.29939927,\n",
      "       -0.29936195, -0.29815105, -0.29810739, -0.2983615 ]), 'split4_test_score': array([-0.30247455, -0.30233256, -0.30234723, -0.29829508, -0.29835489,\n",
      "       -0.29844839, -0.2972216 , -0.29729741, -0.29715524]), 'mean_test_score': array([-0.30237383, -0.3023537 , -0.30230981, -0.29843926, -0.29838734,\n",
      "       -0.29843512, -0.29716729, -0.2973088 , -0.29730744]), 'std_test_score': array([0.00065252, 0.00062686, 0.00065848, 0.0006096 , 0.00067173,\n",
      "       0.00065291, 0.0006891 , 0.00062581, 0.00067899]), 'rank_test_score': array([9, 8, 7, 6, 4, 5, 1, 3, 2]), 'split0_train_score': array([-0.30239194, -0.30243707, -0.30236351, -0.2844004 , -0.284375  ,\n",
      "       -0.28423535, -0.25790517, -0.257693  , -0.25750822]), 'split1_train_score': array([-0.30109671, -0.30114122, -0.30106794, -0.28343032, -0.28331912,\n",
      "       -0.28336702, -0.25748027, -0.2576693 , -0.25797453]), 'split2_train_score': array([-0.30109119, -0.30098975, -0.30081533, -0.28291345, -0.28273552,\n",
      "       -0.28287241, -0.25613074, -0.25604544, -0.25632329]), 'split3_train_score': array([-0.30074828, -0.30076811, -0.30088418, -0.28308639, -0.28304943,\n",
      "       -0.28284997, -0.25703064, -0.25681761, -0.25723244]), 'split4_train_score': array([-0.30130011, -0.30114739, -0.30118766, -0.28297211, -0.28298717,\n",
      "       -0.28293136, -0.25669223, -0.25622615, -0.25617427]), 'mean_train_score': array([-0.30132565, -0.30129671, -0.30126372, -0.28336054, -0.28329325,\n",
      "       -0.28325122, -0.25704781, -0.2568903 , -0.25704255]), 'std_train_score': array([0.00056185, 0.00058661, 0.00056547, 0.00054993, 0.00057185,\n",
      "       0.00052702, 0.00061479, 0.00069445, 0.00069177])}\n",
      "{'max_depth': 13, 'max_features': 'sqrt', 'n_estimators': 200}\n",
      "-0.29716729033321804\n"
     ]
    }
   ],
   "source": [
    "random_forest_param = random_forest_autotune(X_train, Y_train)"
   ]
  },
  {
   "cell_type": "code",
   "execution_count": 73,
   "metadata": {},
   "outputs": [
    {
     "data": {
      "text/plain": [
       "0.6700930530867567"
      ]
     },
     "execution_count": 73,
     "metadata": {},
     "output_type": "execute_result"
    }
   ],
   "source": [
    "roc_auc_score(Y_test,random_forest_param.predict(X_test))"
   ]
  },
  {
   "cell_type": "code",
   "execution_count": 94,
   "metadata": {},
   "outputs": [
    {
     "name": "stderr",
     "output_type": "stream",
     "text": [
      "C:\\Users\\13479\\Anaconda3\\lib\\site-packages\\ipykernel_launcher.py:8: FutureWarning: \n",
      ".ix is deprecated. Please use\n",
      ".loc for label based indexing or\n",
      ".iloc for positional indexing\n",
      "\n",
      "See the documentation here:\n",
      "http://pandas.pydata.org/pandas-docs/stable/user_guide/indexing.html#ix-indexer-is-deprecated\n",
      "  \n",
      "C:\\Users\\13479\\Anaconda3\\lib\\site-packages\\pandas\\core\\indexing.py:822: FutureWarning: \n",
      ".ix is deprecated. Please use\n",
      ".loc for label based indexing or\n",
      ".iloc for positional indexing\n",
      "\n",
      "See the documentation here:\n",
      "http://pandas.pydata.org/pandas-docs/stable/user_guide/indexing.html#ix-indexer-is-deprecated\n",
      "  retval = getattr(retval, self.name)._getitem_axis(key, axis=i)\n",
      "C:\\Users\\13479\\Anaconda3\\lib\\site-packages\\ipykernel_launcher.py:9: FutureWarning: \n",
      ".ix is deprecated. Please use\n",
      ".loc for label based indexing or\n",
      ".iloc for positional indexing\n",
      "\n",
      "See the documentation here:\n",
      "http://pandas.pydata.org/pandas-docs/stable/user_guide/indexing.html#ix-indexer-is-deprecated\n",
      "  if __name__ == '__main__':\n"
     ]
    },
    {
     "data": {
      "text/plain": [
       "0.29441201000834033"
      ]
     },
     "execution_count": 94,
     "metadata": {},
     "output_type": "execute_result"
    }
   ],
   "source": [
    "ks_statistic(Y_test,random_forest_param.predict(X_test))"
   ]
  },
  {
   "cell_type": "code",
   "execution_count": 79,
   "metadata": {},
   "outputs": [
    {
     "data": {
      "text/html": [
       "<div>\n",
       "<style scoped>\n",
       "    .dataframe tbody tr th:only-of-type {\n",
       "        vertical-align: middle;\n",
       "    }\n",
       "\n",
       "    .dataframe tbody tr th {\n",
       "        vertical-align: top;\n",
       "    }\n",
       "\n",
       "    .dataframe thead th {\n",
       "        text-align: right;\n",
       "    }\n",
       "</style>\n",
       "<table border=\"1\" class=\"dataframe\">\n",
       "  <thead>\n",
       "    <tr style=\"text-align: right;\">\n",
       "      <th></th>\n",
       "      <th>count</th>\n",
       "      <th>actual</th>\n",
       "      <th>non_actual</th>\n",
       "      <th>cum_count</th>\n",
       "      <th>cum_actual</th>\n",
       "      <th>cum_non_actual</th>\n",
       "      <th>percent_cum_actual</th>\n",
       "      <th>percent_cum_non_actual</th>\n",
       "      <th>if_random</th>\n",
       "      <th>lift</th>\n",
       "      <th>K_S</th>\n",
       "      <th>gain</th>\n",
       "    </tr>\n",
       "    <tr>\n",
       "      <th>decile</th>\n",
       "      <th></th>\n",
       "      <th></th>\n",
       "      <th></th>\n",
       "      <th></th>\n",
       "      <th></th>\n",
       "      <th></th>\n",
       "      <th></th>\n",
       "      <th></th>\n",
       "      <th></th>\n",
       "      <th></th>\n",
       "      <th></th>\n",
       "      <th></th>\n",
       "    </tr>\n",
       "  </thead>\n",
       "  <tbody>\n",
       "    <tr>\n",
       "      <td>0</td>\n",
       "      <td>1999</td>\n",
       "      <td>694.0</td>\n",
       "      <td>1305.0</td>\n",
       "      <td>1999</td>\n",
       "      <td>694.0</td>\n",
       "      <td>1305.0</td>\n",
       "      <td>0.18</td>\n",
       "      <td>0.08</td>\n",
       "      <td>381.5</td>\n",
       "      <td>1.82</td>\n",
       "      <td>10.0</td>\n",
       "      <td>34.72</td>\n",
       "    </tr>\n",
       "    <tr>\n",
       "      <td>1</td>\n",
       "      <td>1998</td>\n",
       "      <td>574.0</td>\n",
       "      <td>1424.0</td>\n",
       "      <td>3997</td>\n",
       "      <td>1268.0</td>\n",
       "      <td>2729.0</td>\n",
       "      <td>0.33</td>\n",
       "      <td>0.17</td>\n",
       "      <td>763.0</td>\n",
       "      <td>1.66</td>\n",
       "      <td>16.0</td>\n",
       "      <td>31.72</td>\n",
       "    </tr>\n",
       "    <tr>\n",
       "      <td>2</td>\n",
       "      <td>1998</td>\n",
       "      <td>526.0</td>\n",
       "      <td>1472.0</td>\n",
       "      <td>5995</td>\n",
       "      <td>1794.0</td>\n",
       "      <td>4201.0</td>\n",
       "      <td>0.47</td>\n",
       "      <td>0.26</td>\n",
       "      <td>1144.5</td>\n",
       "      <td>1.57</td>\n",
       "      <td>21.0</td>\n",
       "      <td>29.92</td>\n",
       "    </tr>\n",
       "    <tr>\n",
       "      <td>3</td>\n",
       "      <td>1999</td>\n",
       "      <td>470.0</td>\n",
       "      <td>1529.0</td>\n",
       "      <td>7994</td>\n",
       "      <td>2264.0</td>\n",
       "      <td>5730.0</td>\n",
       "      <td>0.59</td>\n",
       "      <td>0.35</td>\n",
       "      <td>1526.0</td>\n",
       "      <td>1.48</td>\n",
       "      <td>24.0</td>\n",
       "      <td>28.32</td>\n",
       "    </tr>\n",
       "    <tr>\n",
       "      <td>4</td>\n",
       "      <td>1998</td>\n",
       "      <td>415.0</td>\n",
       "      <td>1583.0</td>\n",
       "      <td>9992</td>\n",
       "      <td>2679.0</td>\n",
       "      <td>7313.0</td>\n",
       "      <td>0.70</td>\n",
       "      <td>0.45</td>\n",
       "      <td>1907.5</td>\n",
       "      <td>1.40</td>\n",
       "      <td>25.0</td>\n",
       "      <td>26.81</td>\n",
       "    </tr>\n",
       "    <tr>\n",
       "      <td>5</td>\n",
       "      <td>1998</td>\n",
       "      <td>350.0</td>\n",
       "      <td>1648.0</td>\n",
       "      <td>11990</td>\n",
       "      <td>3029.0</td>\n",
       "      <td>8961.0</td>\n",
       "      <td>0.79</td>\n",
       "      <td>0.55</td>\n",
       "      <td>2289.0</td>\n",
       "      <td>1.32</td>\n",
       "      <td>24.0</td>\n",
       "      <td>25.26</td>\n",
       "    </tr>\n",
       "    <tr>\n",
       "      <td>6</td>\n",
       "      <td>1999</td>\n",
       "      <td>293.0</td>\n",
       "      <td>1706.0</td>\n",
       "      <td>13989</td>\n",
       "      <td>3322.0</td>\n",
       "      <td>10667.0</td>\n",
       "      <td>0.87</td>\n",
       "      <td>0.66</td>\n",
       "      <td>2670.5</td>\n",
       "      <td>1.24</td>\n",
       "      <td>21.0</td>\n",
       "      <td>23.75</td>\n",
       "    </tr>\n",
       "    <tr>\n",
       "      <td>7</td>\n",
       "      <td>1998</td>\n",
       "      <td>242.0</td>\n",
       "      <td>1756.0</td>\n",
       "      <td>15987</td>\n",
       "      <td>3564.0</td>\n",
       "      <td>12423.0</td>\n",
       "      <td>0.93</td>\n",
       "      <td>0.77</td>\n",
       "      <td>3052.0</td>\n",
       "      <td>1.17</td>\n",
       "      <td>16.0</td>\n",
       "      <td>22.29</td>\n",
       "    </tr>\n",
       "    <tr>\n",
       "      <td>8</td>\n",
       "      <td>1998</td>\n",
       "      <td>167.0</td>\n",
       "      <td>1831.0</td>\n",
       "      <td>17985</td>\n",
       "      <td>3731.0</td>\n",
       "      <td>14254.0</td>\n",
       "      <td>0.98</td>\n",
       "      <td>0.88</td>\n",
       "      <td>3433.5</td>\n",
       "      <td>1.09</td>\n",
       "      <td>10.0</td>\n",
       "      <td>20.75</td>\n",
       "    </tr>\n",
       "    <tr>\n",
       "      <td>9</td>\n",
       "      <td>1998</td>\n",
       "      <td>84.0</td>\n",
       "      <td>1914.0</td>\n",
       "      <td>19983</td>\n",
       "      <td>3815.0</td>\n",
       "      <td>16168.0</td>\n",
       "      <td>1.00</td>\n",
       "      <td>1.00</td>\n",
       "      <td>3815.0</td>\n",
       "      <td>1.00</td>\n",
       "      <td>0.0</td>\n",
       "      <td>19.09</td>\n",
       "    </tr>\n",
       "  </tbody>\n",
       "</table>\n",
       "</div>"
      ],
      "text/plain": [
       "        count  actual  non_actual  cum_count  cum_actual  cum_non_actual  \\\n",
       "decile                                                                     \n",
       "0        1999   694.0      1305.0       1999       694.0          1305.0   \n",
       "1        1998   574.0      1424.0       3997      1268.0          2729.0   \n",
       "2        1998   526.0      1472.0       5995      1794.0          4201.0   \n",
       "3        1999   470.0      1529.0       7994      2264.0          5730.0   \n",
       "4        1998   415.0      1583.0       9992      2679.0          7313.0   \n",
       "5        1998   350.0      1648.0      11990      3029.0          8961.0   \n",
       "6        1999   293.0      1706.0      13989      3322.0         10667.0   \n",
       "7        1998   242.0      1756.0      15987      3564.0         12423.0   \n",
       "8        1998   167.0      1831.0      17985      3731.0         14254.0   \n",
       "9        1998    84.0      1914.0      19983      3815.0         16168.0   \n",
       "\n",
       "        percent_cum_actual  percent_cum_non_actual  if_random  lift   K_S  \\\n",
       "decile                                                                      \n",
       "0                     0.18                    0.08      381.5  1.82  10.0   \n",
       "1                     0.33                    0.17      763.0  1.66  16.0   \n",
       "2                     0.47                    0.26     1144.5  1.57  21.0   \n",
       "3                     0.59                    0.35     1526.0  1.48  24.0   \n",
       "4                     0.70                    0.45     1907.5  1.40  25.0   \n",
       "5                     0.79                    0.55     2289.0  1.32  24.0   \n",
       "6                     0.87                    0.66     2670.5  1.24  21.0   \n",
       "7                     0.93                    0.77     3052.0  1.17  16.0   \n",
       "8                     0.98                    0.88     3433.5  1.09  10.0   \n",
       "9                     1.00                    1.00     3815.0  1.00   0.0   \n",
       "\n",
       "         gain  \n",
       "decile         \n",
       "0       34.72  \n",
       "1       31.72  \n",
       "2       29.92  \n",
       "3       28.32  \n",
       "4       26.81  \n",
       "5       25.26  \n",
       "6       23.75  \n",
       "7       22.29  \n",
       "8       20.75  \n",
       "9       19.09  "
      ]
     },
     "execution_count": 79,
     "metadata": {},
     "output_type": "execute_result"
    }
   ],
   "source": [
    "createGains(Y_test,random_forest_param.predict(X_test))"
   ]
  },
  {
   "cell_type": "code",
   "execution_count": 86,
   "metadata": {},
   "outputs": [],
   "source": [
    "def xgb_autotune(X,y):\n",
    "\tparam = {\n",
    "\t        'objective':'reg:linear', # use linear regression\n",
    "\t        'n_estimators':500, # number of regression\n",
    "\t        'learning_rate':0.05, #Step shrinkage used in update to prevents overfitting. \n",
    "\t        'gamma':0, # Minimum loss reduction required to make a further partition on a leaf node \n",
    "                       #of the tree. The larger gamma is, the more conservative the algorithm will be\n",
    "\t        'max_depth':5,# maximum height for each regression, increasing depth means more likely of overfitting\n",
    "\t        'min_child_weight':1, #Minimum sum of instance weight (hessian) needed in a child. \n",
    "                                 #If the tree partition step results in a leaf node with the sum of instance \n",
    "                                 #weight less than min_child_weight, then the building process will stop further partitioning\n",
    "\t        'colsample_bytree':0.5,\n",
    "\t        'subsample': 0.8, \n",
    "\t        'verbose':1,\n",
    "\t        'reg_alpha':0} # alpha approaches to 1 means more consertive for creating each new regression\n",
    "\n",
    "\n",
    "\tparam_test1 = {\n",
    "\t 'max_depth':[5,7,13],\n",
    "\t 'reg_alpha':[0.1,1,10],\n",
    "\t 'learning_rate':[0.05,0.1],    #set different level of parameter for cross valiadation \n",
    "\t}\n",
    " ## there are 3*3*2*5=90 runs for cross validation\n",
    " ## the geenral concept is the same as lasso\n",
    "\tgsearch = GridSearchCV(xgb.XGBRegressor(objective=param['objective'],\n",
    "\t                          n_estimators=param['n_estimators'], learning_rate = param['learning_rate'], gamma=param['gamma'],\n",
    "\t                          colsample_bytree=param['colsample_bytree'], subsample=param['subsample'], reg_alpha=param['reg_alpha']\n",
    "\t                          ),\n",
    "\t                        param_grid = param_test1, scoring='neg_mean_absolute_error',iid=False, cv=5)\n",
    "\tgsearch.fit(X,y)\n",
    "\tprint('____________________________________________')\n",
    "\tprint('tune max_depth, min_child_weight')\n",
    "\tprint('____________________________________________')\n",
    "\tprint(gsearch.cv_results_)\n",
    "\tprint(gsearch.best_params_)\n",
    "\tprint(gsearch.best_score_)\n",
    "\n",
    "\treturn gsearch.best_estimator_"
   ]
  },
  {
   "cell_type": "code",
   "execution_count": 87,
   "metadata": {},
   "outputs": [
    {
     "name": "stdout",
     "output_type": "stream",
     "text": [
      "[00:23:34] WARNING: src/objective/regression_obj.cu:152: reg:linear is now deprecated in favor of reg:squarederror.\n"
     ]
    },
    {
     "name": "stderr",
     "output_type": "stream",
     "text": [
      "C:\\Users\\13479\\Anaconda3\\lib\\site-packages\\xgboost\\core.py:587: FutureWarning: Series.base is deprecated and will be removed in a future version\n",
      "  if getattr(data, 'base', None) is not None and \\\n"
     ]
    },
    {
     "name": "stdout",
     "output_type": "stream",
     "text": [
      "[00:24:27] WARNING: src/objective/regression_obj.cu:152: reg:linear is now deprecated in favor of reg:squarederror.\n"
     ]
    },
    {
     "name": "stderr",
     "output_type": "stream",
     "text": [
      "C:\\Users\\13479\\Anaconda3\\lib\\site-packages\\xgboost\\core.py:587: FutureWarning: Series.base is deprecated and will be removed in a future version\n",
      "  if getattr(data, 'base', None) is not None and \\\n"
     ]
    },
    {
     "name": "stdout",
     "output_type": "stream",
     "text": [
      "[00:25:18] WARNING: src/objective/regression_obj.cu:152: reg:linear is now deprecated in favor of reg:squarederror.\n"
     ]
    },
    {
     "name": "stderr",
     "output_type": "stream",
     "text": [
      "C:\\Users\\13479\\Anaconda3\\lib\\site-packages\\xgboost\\core.py:587: FutureWarning: Series.base is deprecated and will be removed in a future version\n",
      "  if getattr(data, 'base', None) is not None and \\\n"
     ]
    },
    {
     "name": "stdout",
     "output_type": "stream",
     "text": [
      "[00:26:09] WARNING: src/objective/regression_obj.cu:152: reg:linear is now deprecated in favor of reg:squarederror.\n"
     ]
    },
    {
     "name": "stderr",
     "output_type": "stream",
     "text": [
      "C:\\Users\\13479\\Anaconda3\\lib\\site-packages\\xgboost\\core.py:587: FutureWarning: Series.base is deprecated and will be removed in a future version\n",
      "  if getattr(data, 'base', None) is not None and \\\n"
     ]
    },
    {
     "name": "stdout",
     "output_type": "stream",
     "text": [
      "[00:27:05] WARNING: src/objective/regression_obj.cu:152: reg:linear is now deprecated in favor of reg:squarederror.\n"
     ]
    },
    {
     "name": "stderr",
     "output_type": "stream",
     "text": [
      "C:\\Users\\13479\\Anaconda3\\lib\\site-packages\\xgboost\\core.py:587: FutureWarning: Series.base is deprecated and will be removed in a future version\n",
      "  if getattr(data, 'base', None) is not None and \\\n"
     ]
    },
    {
     "name": "stdout",
     "output_type": "stream",
     "text": [
      "[00:28:07] WARNING: src/objective/regression_obj.cu:152: reg:linear is now deprecated in favor of reg:squarederror.\n"
     ]
    },
    {
     "name": "stderr",
     "output_type": "stream",
     "text": [
      "C:\\Users\\13479\\Anaconda3\\lib\\site-packages\\xgboost\\core.py:587: FutureWarning: Series.base is deprecated and will be removed in a future version\n",
      "  if getattr(data, 'base', None) is not None and \\\n"
     ]
    },
    {
     "name": "stdout",
     "output_type": "stream",
     "text": [
      "[00:29:09] WARNING: src/objective/regression_obj.cu:152: reg:linear is now deprecated in favor of reg:squarederror.\n"
     ]
    },
    {
     "name": "stderr",
     "output_type": "stream",
     "text": [
      "C:\\Users\\13479\\Anaconda3\\lib\\site-packages\\xgboost\\core.py:587: FutureWarning: Series.base is deprecated and will be removed in a future version\n",
      "  if getattr(data, 'base', None) is not None and \\\n"
     ]
    },
    {
     "name": "stdout",
     "output_type": "stream",
     "text": [
      "[00:30:15] WARNING: src/objective/regression_obj.cu:152: reg:linear is now deprecated in favor of reg:squarederror.\n"
     ]
    },
    {
     "name": "stderr",
     "output_type": "stream",
     "text": [
      "C:\\Users\\13479\\Anaconda3\\lib\\site-packages\\xgboost\\core.py:587: FutureWarning: Series.base is deprecated and will be removed in a future version\n",
      "  if getattr(data, 'base', None) is not None and \\\n"
     ]
    },
    {
     "name": "stdout",
     "output_type": "stream",
     "text": [
      "[00:31:28] WARNING: src/objective/regression_obj.cu:152: reg:linear is now deprecated in favor of reg:squarederror.\n"
     ]
    },
    {
     "name": "stderr",
     "output_type": "stream",
     "text": [
      "C:\\Users\\13479\\Anaconda3\\lib\\site-packages\\xgboost\\core.py:587: FutureWarning: Series.base is deprecated and will be removed in a future version\n",
      "  if getattr(data, 'base', None) is not None and \\\n"
     ]
    },
    {
     "name": "stdout",
     "output_type": "stream",
     "text": [
      "[00:32:38] WARNING: src/objective/regression_obj.cu:152: reg:linear is now deprecated in favor of reg:squarederror.\n"
     ]
    },
    {
     "name": "stderr",
     "output_type": "stream",
     "text": [
      "C:\\Users\\13479\\Anaconda3\\lib\\site-packages\\xgboost\\core.py:587: FutureWarning: Series.base is deprecated and will be removed in a future version\n",
      "  if getattr(data, 'base', None) is not None and \\\n"
     ]
    },
    {
     "name": "stdout",
     "output_type": "stream",
     "text": [
      "[00:33:48] WARNING: src/objective/regression_obj.cu:152: reg:linear is now deprecated in favor of reg:squarederror.\n"
     ]
    },
    {
     "name": "stderr",
     "output_type": "stream",
     "text": [
      "C:\\Users\\13479\\Anaconda3\\lib\\site-packages\\xgboost\\core.py:587: FutureWarning: Series.base is deprecated and will be removed in a future version\n",
      "  if getattr(data, 'base', None) is not None and \\\n"
     ]
    },
    {
     "name": "stdout",
     "output_type": "stream",
     "text": [
      "[00:35:00] WARNING: src/objective/regression_obj.cu:152: reg:linear is now deprecated in favor of reg:squarederror.\n"
     ]
    },
    {
     "name": "stderr",
     "output_type": "stream",
     "text": [
      "C:\\Users\\13479\\Anaconda3\\lib\\site-packages\\xgboost\\core.py:587: FutureWarning: Series.base is deprecated and will be removed in a future version\n",
      "  if getattr(data, 'base', None) is not None and \\\n"
     ]
    },
    {
     "name": "stdout",
     "output_type": "stream",
     "text": [
      "[00:36:11] WARNING: src/objective/regression_obj.cu:152: reg:linear is now deprecated in favor of reg:squarederror.\n"
     ]
    },
    {
     "name": "stderr",
     "output_type": "stream",
     "text": [
      "C:\\Users\\13479\\Anaconda3\\lib\\site-packages\\xgboost\\core.py:587: FutureWarning: Series.base is deprecated and will be removed in a future version\n",
      "  if getattr(data, 'base', None) is not None and \\\n"
     ]
    },
    {
     "name": "stdout",
     "output_type": "stream",
     "text": [
      "[00:37:20] WARNING: src/objective/regression_obj.cu:152: reg:linear is now deprecated in favor of reg:squarederror.\n"
     ]
    },
    {
     "name": "stderr",
     "output_type": "stream",
     "text": [
      "C:\\Users\\13479\\Anaconda3\\lib\\site-packages\\xgboost\\core.py:587: FutureWarning: Series.base is deprecated and will be removed in a future version\n",
      "  if getattr(data, 'base', None) is not None and \\\n"
     ]
    },
    {
     "name": "stdout",
     "output_type": "stream",
     "text": [
      "[00:38:33] WARNING: src/objective/regression_obj.cu:152: reg:linear is now deprecated in favor of reg:squarederror.\n"
     ]
    },
    {
     "name": "stderr",
     "output_type": "stream",
     "text": [
      "C:\\Users\\13479\\Anaconda3\\lib\\site-packages\\xgboost\\core.py:587: FutureWarning: Series.base is deprecated and will be removed in a future version\n",
      "  if getattr(data, 'base', None) is not None and \\\n"
     ]
    },
    {
     "name": "stdout",
     "output_type": "stream",
     "text": [
      "[00:39:39] WARNING: src/objective/regression_obj.cu:152: reg:linear is now deprecated in favor of reg:squarederror.\n"
     ]
    },
    {
     "name": "stderr",
     "output_type": "stream",
     "text": [
      "C:\\Users\\13479\\Anaconda3\\lib\\site-packages\\xgboost\\core.py:587: FutureWarning: Series.base is deprecated and will be removed in a future version\n",
      "  if getattr(data, 'base', None) is not None and \\\n"
     ]
    },
    {
     "name": "stdout",
     "output_type": "stream",
     "text": [
      "[00:41:14] WARNING: src/objective/regression_obj.cu:152: reg:linear is now deprecated in favor of reg:squarederror.\n"
     ]
    },
    {
     "name": "stderr",
     "output_type": "stream",
     "text": [
      "C:\\Users\\13479\\Anaconda3\\lib\\site-packages\\xgboost\\core.py:587: FutureWarning: Series.base is deprecated and will be removed in a future version\n",
      "  if getattr(data, 'base', None) is not None and \\\n"
     ]
    },
    {
     "name": "stdout",
     "output_type": "stream",
     "text": [
      "[00:42:49] WARNING: src/objective/regression_obj.cu:152: reg:linear is now deprecated in favor of reg:squarederror.\n"
     ]
    },
    {
     "name": "stderr",
     "output_type": "stream",
     "text": [
      "C:\\Users\\13479\\Anaconda3\\lib\\site-packages\\xgboost\\core.py:587: FutureWarning: Series.base is deprecated and will be removed in a future version\n",
      "  if getattr(data, 'base', None) is not None and \\\n"
     ]
    },
    {
     "name": "stdout",
     "output_type": "stream",
     "text": [
      "[00:44:21] WARNING: src/objective/regression_obj.cu:152: reg:linear is now deprecated in favor of reg:squarederror.\n"
     ]
    },
    {
     "name": "stderr",
     "output_type": "stream",
     "text": [
      "C:\\Users\\13479\\Anaconda3\\lib\\site-packages\\xgboost\\core.py:587: FutureWarning: Series.base is deprecated and will be removed in a future version\n",
      "  if getattr(data, 'base', None) is not None and \\\n"
     ]
    },
    {
     "name": "stdout",
     "output_type": "stream",
     "text": [
      "[00:46:00] WARNING: src/objective/regression_obj.cu:152: reg:linear is now deprecated in favor of reg:squarederror.\n"
     ]
    },
    {
     "name": "stderr",
     "output_type": "stream",
     "text": [
      "C:\\Users\\13479\\Anaconda3\\lib\\site-packages\\xgboost\\core.py:587: FutureWarning: Series.base is deprecated and will be removed in a future version\n",
      "  if getattr(data, 'base', None) is not None and \\\n"
     ]
    },
    {
     "name": "stdout",
     "output_type": "stream",
     "text": [
      "[00:47:39] WARNING: src/objective/regression_obj.cu:152: reg:linear is now deprecated in favor of reg:squarederror.\n"
     ]
    },
    {
     "name": "stderr",
     "output_type": "stream",
     "text": [
      "C:\\Users\\13479\\Anaconda3\\lib\\site-packages\\xgboost\\core.py:587: FutureWarning: Series.base is deprecated and will be removed in a future version\n",
      "  if getattr(data, 'base', None) is not None and \\\n"
     ]
    },
    {
     "name": "stdout",
     "output_type": "stream",
     "text": [
      "[00:49:07] WARNING: src/objective/regression_obj.cu:152: reg:linear is now deprecated in favor of reg:squarederror.\n"
     ]
    },
    {
     "name": "stderr",
     "output_type": "stream",
     "text": [
      "C:\\Users\\13479\\Anaconda3\\lib\\site-packages\\xgboost\\core.py:587: FutureWarning: Series.base is deprecated and will be removed in a future version\n",
      "  if getattr(data, 'base', None) is not None and \\\n"
     ]
    },
    {
     "name": "stdout",
     "output_type": "stream",
     "text": [
      "[00:50:40] WARNING: src/objective/regression_obj.cu:152: reg:linear is now deprecated in favor of reg:squarederror.\n"
     ]
    },
    {
     "name": "stderr",
     "output_type": "stream",
     "text": [
      "C:\\Users\\13479\\Anaconda3\\lib\\site-packages\\xgboost\\core.py:587: FutureWarning: Series.base is deprecated and will be removed in a future version\n",
      "  if getattr(data, 'base', None) is not None and \\\n"
     ]
    },
    {
     "name": "stdout",
     "output_type": "stream",
     "text": [
      "[00:52:08] WARNING: src/objective/regression_obj.cu:152: reg:linear is now deprecated in favor of reg:squarederror.\n"
     ]
    },
    {
     "name": "stderr",
     "output_type": "stream",
     "text": [
      "C:\\Users\\13479\\Anaconda3\\lib\\site-packages\\xgboost\\core.py:587: FutureWarning: Series.base is deprecated and will be removed in a future version\n",
      "  if getattr(data, 'base', None) is not None and \\\n"
     ]
    },
    {
     "name": "stdout",
     "output_type": "stream",
     "text": [
      "[00:53:39] WARNING: src/objective/regression_obj.cu:152: reg:linear is now deprecated in favor of reg:squarederror.\n"
     ]
    },
    {
     "name": "stderr",
     "output_type": "stream",
     "text": [
      "C:\\Users\\13479\\Anaconda3\\lib\\site-packages\\xgboost\\core.py:587: FutureWarning: Series.base is deprecated and will be removed in a future version\n",
      "  if getattr(data, 'base', None) is not None and \\\n"
     ]
    },
    {
     "name": "stdout",
     "output_type": "stream",
     "text": [
      "[00:55:07] WARNING: src/objective/regression_obj.cu:152: reg:linear is now deprecated in favor of reg:squarederror.\n"
     ]
    },
    {
     "name": "stderr",
     "output_type": "stream",
     "text": [
      "C:\\Users\\13479\\Anaconda3\\lib\\site-packages\\xgboost\\core.py:587: FutureWarning: Series.base is deprecated and will be removed in a future version\n",
      "  if getattr(data, 'base', None) is not None and \\\n"
     ]
    },
    {
     "name": "stdout",
     "output_type": "stream",
     "text": [
      "[00:56:39] WARNING: src/objective/regression_obj.cu:152: reg:linear is now deprecated in favor of reg:squarederror.\n"
     ]
    },
    {
     "name": "stderr",
     "output_type": "stream",
     "text": [
      "C:\\Users\\13479\\Anaconda3\\lib\\site-packages\\xgboost\\core.py:587: FutureWarning: Series.base is deprecated and will be removed in a future version\n",
      "  if getattr(data, 'base', None) is not None and \\\n"
     ]
    },
    {
     "name": "stdout",
     "output_type": "stream",
     "text": [
      "[00:58:18] WARNING: src/objective/regression_obj.cu:152: reg:linear is now deprecated in favor of reg:squarederror.\n"
     ]
    },
    {
     "name": "stderr",
     "output_type": "stream",
     "text": [
      "C:\\Users\\13479\\Anaconda3\\lib\\site-packages\\xgboost\\core.py:587: FutureWarning: Series.base is deprecated and will be removed in a future version\n",
      "  if getattr(data, 'base', None) is not None and \\\n"
     ]
    },
    {
     "name": "stdout",
     "output_type": "stream",
     "text": [
      "[00:59:51] WARNING: src/objective/regression_obj.cu:152: reg:linear is now deprecated in favor of reg:squarederror.\n"
     ]
    },
    {
     "name": "stderr",
     "output_type": "stream",
     "text": [
      "C:\\Users\\13479\\Anaconda3\\lib\\site-packages\\xgboost\\core.py:587: FutureWarning: Series.base is deprecated and will be removed in a future version\n",
      "  if getattr(data, 'base', None) is not None and \\\n"
     ]
    },
    {
     "name": "stdout",
     "output_type": "stream",
     "text": [
      "[01:01:20] WARNING: src/objective/regression_obj.cu:152: reg:linear is now deprecated in favor of reg:squarederror.\n"
     ]
    },
    {
     "name": "stderr",
     "output_type": "stream",
     "text": [
      "C:\\Users\\13479\\Anaconda3\\lib\\site-packages\\xgboost\\core.py:587: FutureWarning: Series.base is deprecated and will be removed in a future version\n",
      "  if getattr(data, 'base', None) is not None and \\\n"
     ]
    },
    {
     "name": "stdout",
     "output_type": "stream",
     "text": [
      "[01:02:52] WARNING: src/objective/regression_obj.cu:152: reg:linear is now deprecated in favor of reg:squarederror.\n"
     ]
    },
    {
     "name": "stderr",
     "output_type": "stream",
     "text": [
      "C:\\Users\\13479\\Anaconda3\\lib\\site-packages\\xgboost\\core.py:587: FutureWarning: Series.base is deprecated and will be removed in a future version\n",
      "  if getattr(data, 'base', None) is not None and \\\n"
     ]
    },
    {
     "name": "stdout",
     "output_type": "stream",
     "text": [
      "[01:06:39] WARNING: src/objective/regression_obj.cu:152: reg:linear is now deprecated in favor of reg:squarederror.\n"
     ]
    },
    {
     "name": "stderr",
     "output_type": "stream",
     "text": [
      "C:\\Users\\13479\\Anaconda3\\lib\\site-packages\\xgboost\\core.py:587: FutureWarning: Series.base is deprecated and will be removed in a future version\n",
      "  if getattr(data, 'base', None) is not None and \\\n"
     ]
    },
    {
     "name": "stdout",
     "output_type": "stream",
     "text": [
      "[01:10:33] WARNING: src/objective/regression_obj.cu:152: reg:linear is now deprecated in favor of reg:squarederror.\n"
     ]
    },
    {
     "name": "stderr",
     "output_type": "stream",
     "text": [
      "C:\\Users\\13479\\Anaconda3\\lib\\site-packages\\xgboost\\core.py:587: FutureWarning: Series.base is deprecated and will be removed in a future version\n",
      "  if getattr(data, 'base', None) is not None and \\\n"
     ]
    },
    {
     "name": "stdout",
     "output_type": "stream",
     "text": [
      "[01:14:22] WARNING: src/objective/regression_obj.cu:152: reg:linear is now deprecated in favor of reg:squarederror.\n"
     ]
    },
    {
     "name": "stderr",
     "output_type": "stream",
     "text": [
      "C:\\Users\\13479\\Anaconda3\\lib\\site-packages\\xgboost\\core.py:587: FutureWarning: Series.base is deprecated and will be removed in a future version\n",
      "  if getattr(data, 'base', None) is not None and \\\n"
     ]
    },
    {
     "name": "stdout",
     "output_type": "stream",
     "text": [
      "[01:18:16] WARNING: src/objective/regression_obj.cu:152: reg:linear is now deprecated in favor of reg:squarederror.\n"
     ]
    },
    {
     "name": "stderr",
     "output_type": "stream",
     "text": [
      "C:\\Users\\13479\\Anaconda3\\lib\\site-packages\\xgboost\\core.py:587: FutureWarning: Series.base is deprecated and will be removed in a future version\n",
      "  if getattr(data, 'base', None) is not None and \\\n"
     ]
    },
    {
     "name": "stdout",
     "output_type": "stream",
     "text": [
      "[01:21:35] WARNING: src/objective/regression_obj.cu:152: reg:linear is now deprecated in favor of reg:squarederror.\n"
     ]
    },
    {
     "name": "stderr",
     "output_type": "stream",
     "text": [
      "C:\\Users\\13479\\Anaconda3\\lib\\site-packages\\xgboost\\core.py:587: FutureWarning: Series.base is deprecated and will be removed in a future version\n",
      "  if getattr(data, 'base', None) is not None and \\\n"
     ]
    },
    {
     "name": "stdout",
     "output_type": "stream",
     "text": [
      "[01:24:40] WARNING: src/objective/regression_obj.cu:152: reg:linear is now deprecated in favor of reg:squarederror.\n"
     ]
    },
    {
     "name": "stderr",
     "output_type": "stream",
     "text": [
      "C:\\Users\\13479\\Anaconda3\\lib\\site-packages\\xgboost\\core.py:587: FutureWarning: Series.base is deprecated and will be removed in a future version\n",
      "  if getattr(data, 'base', None) is not None and \\\n"
     ]
    },
    {
     "name": "stdout",
     "output_type": "stream",
     "text": [
      "[01:27:45] WARNING: src/objective/regression_obj.cu:152: reg:linear is now deprecated in favor of reg:squarederror.\n"
     ]
    },
    {
     "name": "stderr",
     "output_type": "stream",
     "text": [
      "C:\\Users\\13479\\Anaconda3\\lib\\site-packages\\xgboost\\core.py:587: FutureWarning: Series.base is deprecated and will be removed in a future version\n",
      "  if getattr(data, 'base', None) is not None and \\\n"
     ]
    },
    {
     "name": "stdout",
     "output_type": "stream",
     "text": [
      "[01:30:49] WARNING: src/objective/regression_obj.cu:152: reg:linear is now deprecated in favor of reg:squarederror.\n"
     ]
    },
    {
     "name": "stderr",
     "output_type": "stream",
     "text": [
      "C:\\Users\\13479\\Anaconda3\\lib\\site-packages\\xgboost\\core.py:587: FutureWarning: Series.base is deprecated and will be removed in a future version\n",
      "  if getattr(data, 'base', None) is not None and \\\n"
     ]
    },
    {
     "name": "stdout",
     "output_type": "stream",
     "text": [
      "[01:33:53] WARNING: src/objective/regression_obj.cu:152: reg:linear is now deprecated in favor of reg:squarederror.\n"
     ]
    },
    {
     "name": "stderr",
     "output_type": "stream",
     "text": [
      "C:\\Users\\13479\\Anaconda3\\lib\\site-packages\\xgboost\\core.py:587: FutureWarning: Series.base is deprecated and will be removed in a future version\n",
      "  if getattr(data, 'base', None) is not None and \\\n"
     ]
    },
    {
     "name": "stdout",
     "output_type": "stream",
     "text": [
      "[01:36:55] WARNING: src/objective/regression_obj.cu:152: reg:linear is now deprecated in favor of reg:squarederror.\n"
     ]
    },
    {
     "name": "stderr",
     "output_type": "stream",
     "text": [
      "C:\\Users\\13479\\Anaconda3\\lib\\site-packages\\xgboost\\core.py:587: FutureWarning: Series.base is deprecated and will be removed in a future version\n",
      "  if getattr(data, 'base', None) is not None and \\\n"
     ]
    },
    {
     "name": "stdout",
     "output_type": "stream",
     "text": [
      "[01:39:43] WARNING: src/objective/regression_obj.cu:152: reg:linear is now deprecated in favor of reg:squarederror.\n"
     ]
    },
    {
     "name": "stderr",
     "output_type": "stream",
     "text": [
      "C:\\Users\\13479\\Anaconda3\\lib\\site-packages\\xgboost\\core.py:587: FutureWarning: Series.base is deprecated and will be removed in a future version\n",
      "  if getattr(data, 'base', None) is not None and \\\n"
     ]
    },
    {
     "name": "stdout",
     "output_type": "stream",
     "text": [
      "[01:42:31] WARNING: src/objective/regression_obj.cu:152: reg:linear is now deprecated in favor of reg:squarederror.\n"
     ]
    },
    {
     "name": "stderr",
     "output_type": "stream",
     "text": [
      "C:\\Users\\13479\\Anaconda3\\lib\\site-packages\\xgboost\\core.py:587: FutureWarning: Series.base is deprecated and will be removed in a future version\n",
      "  if getattr(data, 'base', None) is not None and \\\n"
     ]
    },
    {
     "name": "stdout",
     "output_type": "stream",
     "text": [
      "[01:45:19] WARNING: src/objective/regression_obj.cu:152: reg:linear is now deprecated in favor of reg:squarederror.\n"
     ]
    },
    {
     "name": "stderr",
     "output_type": "stream",
     "text": [
      "C:\\Users\\13479\\Anaconda3\\lib\\site-packages\\xgboost\\core.py:587: FutureWarning: Series.base is deprecated and will be removed in a future version\n",
      "  if getattr(data, 'base', None) is not None and \\\n"
     ]
    },
    {
     "name": "stdout",
     "output_type": "stream",
     "text": [
      "[01:48:07] WARNING: src/objective/regression_obj.cu:152: reg:linear is now deprecated in favor of reg:squarederror.\n"
     ]
    },
    {
     "name": "stderr",
     "output_type": "stream",
     "text": [
      "C:\\Users\\13479\\Anaconda3\\lib\\site-packages\\xgboost\\core.py:587: FutureWarning: Series.base is deprecated and will be removed in a future version\n",
      "  if getattr(data, 'base', None) is not None and \\\n"
     ]
    },
    {
     "name": "stdout",
     "output_type": "stream",
     "text": [
      "[01:50:54] WARNING: src/objective/regression_obj.cu:152: reg:linear is now deprecated in favor of reg:squarederror.\n"
     ]
    },
    {
     "name": "stderr",
     "output_type": "stream",
     "text": [
      "C:\\Users\\13479\\Anaconda3\\lib\\site-packages\\xgboost\\core.py:587: FutureWarning: Series.base is deprecated and will be removed in a future version\n",
      "  if getattr(data, 'base', None) is not None and \\\n"
     ]
    },
    {
     "name": "stdout",
     "output_type": "stream",
     "text": [
      "[01:51:40] WARNING: src/objective/regression_obj.cu:152: reg:linear is now deprecated in favor of reg:squarederror.\n"
     ]
    },
    {
     "name": "stderr",
     "output_type": "stream",
     "text": [
      "C:\\Users\\13479\\Anaconda3\\lib\\site-packages\\xgboost\\core.py:587: FutureWarning: Series.base is deprecated and will be removed in a future version\n",
      "  if getattr(data, 'base', None) is not None and \\\n"
     ]
    },
    {
     "name": "stdout",
     "output_type": "stream",
     "text": [
      "[01:52:26] WARNING: src/objective/regression_obj.cu:152: reg:linear is now deprecated in favor of reg:squarederror.\n"
     ]
    },
    {
     "name": "stderr",
     "output_type": "stream",
     "text": [
      "C:\\Users\\13479\\Anaconda3\\lib\\site-packages\\xgboost\\core.py:587: FutureWarning: Series.base is deprecated and will be removed in a future version\n",
      "  if getattr(data, 'base', None) is not None and \\\n"
     ]
    },
    {
     "name": "stdout",
     "output_type": "stream",
     "text": [
      "[01:53:12] WARNING: src/objective/regression_obj.cu:152: reg:linear is now deprecated in favor of reg:squarederror.\n"
     ]
    },
    {
     "name": "stderr",
     "output_type": "stream",
     "text": [
      "C:\\Users\\13479\\Anaconda3\\lib\\site-packages\\xgboost\\core.py:587: FutureWarning: Series.base is deprecated and will be removed in a future version\n",
      "  if getattr(data, 'base', None) is not None and \\\n"
     ]
    },
    {
     "name": "stdout",
     "output_type": "stream",
     "text": [
      "[01:53:58] WARNING: src/objective/regression_obj.cu:152: reg:linear is now deprecated in favor of reg:squarederror.\n"
     ]
    },
    {
     "name": "stderr",
     "output_type": "stream",
     "text": [
      "C:\\Users\\13479\\Anaconda3\\lib\\site-packages\\xgboost\\core.py:587: FutureWarning: Series.base is deprecated and will be removed in a future version\n",
      "  if getattr(data, 'base', None) is not None and \\\n"
     ]
    },
    {
     "name": "stdout",
     "output_type": "stream",
     "text": [
      "[01:54:44] WARNING: src/objective/regression_obj.cu:152: reg:linear is now deprecated in favor of reg:squarederror.\n"
     ]
    },
    {
     "name": "stderr",
     "output_type": "stream",
     "text": [
      "C:\\Users\\13479\\Anaconda3\\lib\\site-packages\\xgboost\\core.py:587: FutureWarning: Series.base is deprecated and will be removed in a future version\n",
      "  if getattr(data, 'base', None) is not None and \\\n"
     ]
    },
    {
     "name": "stdout",
     "output_type": "stream",
     "text": [
      "[01:55:31] WARNING: src/objective/regression_obj.cu:152: reg:linear is now deprecated in favor of reg:squarederror.\n"
     ]
    },
    {
     "name": "stderr",
     "output_type": "stream",
     "text": [
      "C:\\Users\\13479\\Anaconda3\\lib\\site-packages\\xgboost\\core.py:587: FutureWarning: Series.base is deprecated and will be removed in a future version\n",
      "  if getattr(data, 'base', None) is not None and \\\n"
     ]
    },
    {
     "name": "stdout",
     "output_type": "stream",
     "text": [
      "[01:56:18] WARNING: src/objective/regression_obj.cu:152: reg:linear is now deprecated in favor of reg:squarederror.\n"
     ]
    },
    {
     "name": "stderr",
     "output_type": "stream",
     "text": [
      "C:\\Users\\13479\\Anaconda3\\lib\\site-packages\\xgboost\\core.py:587: FutureWarning: Series.base is deprecated and will be removed in a future version\n",
      "  if getattr(data, 'base', None) is not None and \\\n"
     ]
    },
    {
     "name": "stdout",
     "output_type": "stream",
     "text": [
      "[01:57:05] WARNING: src/objective/regression_obj.cu:152: reg:linear is now deprecated in favor of reg:squarederror.\n"
     ]
    },
    {
     "name": "stderr",
     "output_type": "stream",
     "text": [
      "C:\\Users\\13479\\Anaconda3\\lib\\site-packages\\xgboost\\core.py:587: FutureWarning: Series.base is deprecated and will be removed in a future version\n",
      "  if getattr(data, 'base', None) is not None and \\\n"
     ]
    },
    {
     "name": "stdout",
     "output_type": "stream",
     "text": [
      "[01:57:51] WARNING: src/objective/regression_obj.cu:152: reg:linear is now deprecated in favor of reg:squarederror.\n"
     ]
    },
    {
     "name": "stderr",
     "output_type": "stream",
     "text": [
      "C:\\Users\\13479\\Anaconda3\\lib\\site-packages\\xgboost\\core.py:587: FutureWarning: Series.base is deprecated and will be removed in a future version\n",
      "  if getattr(data, 'base', None) is not None and \\\n"
     ]
    },
    {
     "name": "stdout",
     "output_type": "stream",
     "text": [
      "[01:58:38] WARNING: src/objective/regression_obj.cu:152: reg:linear is now deprecated in favor of reg:squarederror.\n"
     ]
    },
    {
     "name": "stderr",
     "output_type": "stream",
     "text": [
      "C:\\Users\\13479\\Anaconda3\\lib\\site-packages\\xgboost\\core.py:587: FutureWarning: Series.base is deprecated and will be removed in a future version\n",
      "  if getattr(data, 'base', None) is not None and \\\n"
     ]
    },
    {
     "name": "stdout",
     "output_type": "stream",
     "text": [
      "[01:59:27] WARNING: src/objective/regression_obj.cu:152: reg:linear is now deprecated in favor of reg:squarederror.\n"
     ]
    },
    {
     "name": "stderr",
     "output_type": "stream",
     "text": [
      "C:\\Users\\13479\\Anaconda3\\lib\\site-packages\\xgboost\\core.py:587: FutureWarning: Series.base is deprecated and will be removed in a future version\n",
      "  if getattr(data, 'base', None) is not None and \\\n"
     ]
    },
    {
     "name": "stdout",
     "output_type": "stream",
     "text": [
      "[02:00:16] WARNING: src/objective/regression_obj.cu:152: reg:linear is now deprecated in favor of reg:squarederror.\n"
     ]
    },
    {
     "name": "stderr",
     "output_type": "stream",
     "text": [
      "C:\\Users\\13479\\Anaconda3\\lib\\site-packages\\xgboost\\core.py:587: FutureWarning: Series.base is deprecated and will be removed in a future version\n",
      "  if getattr(data, 'base', None) is not None and \\\n"
     ]
    },
    {
     "name": "stdout",
     "output_type": "stream",
     "text": [
      "[02:01:05] WARNING: src/objective/regression_obj.cu:152: reg:linear is now deprecated in favor of reg:squarederror.\n"
     ]
    },
    {
     "name": "stderr",
     "output_type": "stream",
     "text": [
      "C:\\Users\\13479\\Anaconda3\\lib\\site-packages\\xgboost\\core.py:587: FutureWarning: Series.base is deprecated and will be removed in a future version\n",
      "  if getattr(data, 'base', None) is not None and \\\n"
     ]
    },
    {
     "name": "stdout",
     "output_type": "stream",
     "text": [
      "[02:01:53] WARNING: src/objective/regression_obj.cu:152: reg:linear is now deprecated in favor of reg:squarederror.\n"
     ]
    },
    {
     "name": "stderr",
     "output_type": "stream",
     "text": [
      "C:\\Users\\13479\\Anaconda3\\lib\\site-packages\\xgboost\\core.py:587: FutureWarning: Series.base is deprecated and will be removed in a future version\n",
      "  if getattr(data, 'base', None) is not None and \\\n"
     ]
    },
    {
     "name": "stdout",
     "output_type": "stream",
     "text": [
      "[02:02:42] WARNING: src/objective/regression_obj.cu:152: reg:linear is now deprecated in favor of reg:squarederror.\n"
     ]
    },
    {
     "name": "stderr",
     "output_type": "stream",
     "text": [
      "C:\\Users\\13479\\Anaconda3\\lib\\site-packages\\xgboost\\core.py:587: FutureWarning: Series.base is deprecated and will be removed in a future version\n",
      "  if getattr(data, 'base', None) is not None and \\\n"
     ]
    },
    {
     "name": "stdout",
     "output_type": "stream",
     "text": [
      "[02:03:51] WARNING: src/objective/regression_obj.cu:152: reg:linear is now deprecated in favor of reg:squarederror.\n"
     ]
    },
    {
     "name": "stderr",
     "output_type": "stream",
     "text": [
      "C:\\Users\\13479\\Anaconda3\\lib\\site-packages\\xgboost\\core.py:587: FutureWarning: Series.base is deprecated and will be removed in a future version\n",
      "  if getattr(data, 'base', None) is not None and \\\n"
     ]
    },
    {
     "name": "stdout",
     "output_type": "stream",
     "text": [
      "[02:05:00] WARNING: src/objective/regression_obj.cu:152: reg:linear is now deprecated in favor of reg:squarederror.\n"
     ]
    },
    {
     "name": "stderr",
     "output_type": "stream",
     "text": [
      "C:\\Users\\13479\\Anaconda3\\lib\\site-packages\\xgboost\\core.py:587: FutureWarning: Series.base is deprecated and will be removed in a future version\n",
      "  if getattr(data, 'base', None) is not None and \\\n"
     ]
    },
    {
     "name": "stdout",
     "output_type": "stream",
     "text": [
      "[02:06:09] WARNING: src/objective/regression_obj.cu:152: reg:linear is now deprecated in favor of reg:squarederror.\n"
     ]
    },
    {
     "name": "stderr",
     "output_type": "stream",
     "text": [
      "C:\\Users\\13479\\Anaconda3\\lib\\site-packages\\xgboost\\core.py:587: FutureWarning: Series.base is deprecated and will be removed in a future version\n",
      "  if getattr(data, 'base', None) is not None and \\\n"
     ]
    },
    {
     "name": "stdout",
     "output_type": "stream",
     "text": [
      "[02:07:18] WARNING: src/objective/regression_obj.cu:152: reg:linear is now deprecated in favor of reg:squarederror.\n"
     ]
    },
    {
     "name": "stderr",
     "output_type": "stream",
     "text": [
      "C:\\Users\\13479\\Anaconda3\\lib\\site-packages\\xgboost\\core.py:587: FutureWarning: Series.base is deprecated and will be removed in a future version\n",
      "  if getattr(data, 'base', None) is not None and \\\n"
     ]
    },
    {
     "name": "stdout",
     "output_type": "stream",
     "text": [
      "[02:08:26] WARNING: src/objective/regression_obj.cu:152: reg:linear is now deprecated in favor of reg:squarederror.\n"
     ]
    },
    {
     "name": "stderr",
     "output_type": "stream",
     "text": [
      "C:\\Users\\13479\\Anaconda3\\lib\\site-packages\\xgboost\\core.py:587: FutureWarning: Series.base is deprecated and will be removed in a future version\n",
      "  if getattr(data, 'base', None) is not None and \\\n"
     ]
    },
    {
     "name": "stdout",
     "output_type": "stream",
     "text": [
      "[02:09:38] WARNING: src/objective/regression_obj.cu:152: reg:linear is now deprecated in favor of reg:squarederror.\n"
     ]
    },
    {
     "name": "stderr",
     "output_type": "stream",
     "text": [
      "C:\\Users\\13479\\Anaconda3\\lib\\site-packages\\xgboost\\core.py:587: FutureWarning: Series.base is deprecated and will be removed in a future version\n",
      "  if getattr(data, 'base', None) is not None and \\\n"
     ]
    },
    {
     "name": "stdout",
     "output_type": "stream",
     "text": [
      "[02:10:49] WARNING: src/objective/regression_obj.cu:152: reg:linear is now deprecated in favor of reg:squarederror.\n"
     ]
    },
    {
     "name": "stderr",
     "output_type": "stream",
     "text": [
      "C:\\Users\\13479\\Anaconda3\\lib\\site-packages\\xgboost\\core.py:587: FutureWarning: Series.base is deprecated and will be removed in a future version\n",
      "  if getattr(data, 'base', None) is not None and \\\n"
     ]
    },
    {
     "name": "stdout",
     "output_type": "stream",
     "text": [
      "[02:12:01] WARNING: src/objective/regression_obj.cu:152: reg:linear is now deprecated in favor of reg:squarederror.\n"
     ]
    },
    {
     "name": "stderr",
     "output_type": "stream",
     "text": [
      "C:\\Users\\13479\\Anaconda3\\lib\\site-packages\\xgboost\\core.py:587: FutureWarning: Series.base is deprecated and will be removed in a future version\n",
      "  if getattr(data, 'base', None) is not None and \\\n"
     ]
    },
    {
     "name": "stdout",
     "output_type": "stream",
     "text": [
      "[02:13:12] WARNING: src/objective/regression_obj.cu:152: reg:linear is now deprecated in favor of reg:squarederror.\n"
     ]
    },
    {
     "name": "stderr",
     "output_type": "stream",
     "text": [
      "C:\\Users\\13479\\Anaconda3\\lib\\site-packages\\xgboost\\core.py:587: FutureWarning: Series.base is deprecated and will be removed in a future version\n",
      "  if getattr(data, 'base', None) is not None and \\\n"
     ]
    },
    {
     "name": "stdout",
     "output_type": "stream",
     "text": [
      "[02:14:23] WARNING: src/objective/regression_obj.cu:152: reg:linear is now deprecated in favor of reg:squarederror.\n"
     ]
    },
    {
     "name": "stderr",
     "output_type": "stream",
     "text": [
      "C:\\Users\\13479\\Anaconda3\\lib\\site-packages\\xgboost\\core.py:587: FutureWarning: Series.base is deprecated and will be removed in a future version\n",
      "  if getattr(data, 'base', None) is not None and \\\n"
     ]
    },
    {
     "name": "stdout",
     "output_type": "stream",
     "text": [
      "[02:15:38] WARNING: src/objective/regression_obj.cu:152: reg:linear is now deprecated in favor of reg:squarederror.\n"
     ]
    },
    {
     "name": "stderr",
     "output_type": "stream",
     "text": [
      "C:\\Users\\13479\\Anaconda3\\lib\\site-packages\\xgboost\\core.py:587: FutureWarning: Series.base is deprecated and will be removed in a future version\n",
      "  if getattr(data, 'base', None) is not None and \\\n"
     ]
    },
    {
     "name": "stdout",
     "output_type": "stream",
     "text": [
      "[02:16:52] WARNING: src/objective/regression_obj.cu:152: reg:linear is now deprecated in favor of reg:squarederror.\n"
     ]
    },
    {
     "name": "stderr",
     "output_type": "stream",
     "text": [
      "C:\\Users\\13479\\Anaconda3\\lib\\site-packages\\xgboost\\core.py:587: FutureWarning: Series.base is deprecated and will be removed in a future version\n",
      "  if getattr(data, 'base', None) is not None and \\\n"
     ]
    },
    {
     "name": "stdout",
     "output_type": "stream",
     "text": [
      "[02:18:07] WARNING: src/objective/regression_obj.cu:152: reg:linear is now deprecated in favor of reg:squarederror.\n"
     ]
    },
    {
     "name": "stderr",
     "output_type": "stream",
     "text": [
      "C:\\Users\\13479\\Anaconda3\\lib\\site-packages\\xgboost\\core.py:587: FutureWarning: Series.base is deprecated and will be removed in a future version\n",
      "  if getattr(data, 'base', None) is not None and \\\n"
     ]
    },
    {
     "name": "stdout",
     "output_type": "stream",
     "text": [
      "[02:19:21] WARNING: src/objective/regression_obj.cu:152: reg:linear is now deprecated in favor of reg:squarederror.\n"
     ]
    },
    {
     "name": "stderr",
     "output_type": "stream",
     "text": [
      "C:\\Users\\13479\\Anaconda3\\lib\\site-packages\\xgboost\\core.py:587: FutureWarning: Series.base is deprecated and will be removed in a future version\n",
      "  if getattr(data, 'base', None) is not None and \\\n"
     ]
    },
    {
     "name": "stdout",
     "output_type": "stream",
     "text": [
      "[02:20:36] WARNING: src/objective/regression_obj.cu:152: reg:linear is now deprecated in favor of reg:squarederror.\n"
     ]
    },
    {
     "name": "stderr",
     "output_type": "stream",
     "text": [
      "C:\\Users\\13479\\Anaconda3\\lib\\site-packages\\xgboost\\core.py:587: FutureWarning: Series.base is deprecated and will be removed in a future version\n",
      "  if getattr(data, 'base', None) is not None and \\\n"
     ]
    },
    {
     "name": "stdout",
     "output_type": "stream",
     "text": [
      "[02:23:39] WARNING: src/objective/regression_obj.cu:152: reg:linear is now deprecated in favor of reg:squarederror.\n"
     ]
    },
    {
     "name": "stderr",
     "output_type": "stream",
     "text": [
      "C:\\Users\\13479\\Anaconda3\\lib\\site-packages\\xgboost\\core.py:587: FutureWarning: Series.base is deprecated and will be removed in a future version\n",
      "  if getattr(data, 'base', None) is not None and \\\n"
     ]
    },
    {
     "name": "stdout",
     "output_type": "stream",
     "text": [
      "[02:26:44] WARNING: src/objective/regression_obj.cu:152: reg:linear is now deprecated in favor of reg:squarederror.\n"
     ]
    },
    {
     "name": "stderr",
     "output_type": "stream",
     "text": [
      "C:\\Users\\13479\\Anaconda3\\lib\\site-packages\\xgboost\\core.py:587: FutureWarning: Series.base is deprecated and will be removed in a future version\n",
      "  if getattr(data, 'base', None) is not None and \\\n"
     ]
    },
    {
     "name": "stdout",
     "output_type": "stream",
     "text": [
      "[02:29:47] WARNING: src/objective/regression_obj.cu:152: reg:linear is now deprecated in favor of reg:squarederror.\n"
     ]
    },
    {
     "name": "stderr",
     "output_type": "stream",
     "text": [
      "C:\\Users\\13479\\Anaconda3\\lib\\site-packages\\xgboost\\core.py:587: FutureWarning: Series.base is deprecated and will be removed in a future version\n",
      "  if getattr(data, 'base', None) is not None and \\\n"
     ]
    },
    {
     "name": "stdout",
     "output_type": "stream",
     "text": [
      "[02:32:52] WARNING: src/objective/regression_obj.cu:152: reg:linear is now deprecated in favor of reg:squarederror.\n"
     ]
    },
    {
     "name": "stderr",
     "output_type": "stream",
     "text": [
      "C:\\Users\\13479\\Anaconda3\\lib\\site-packages\\xgboost\\core.py:587: FutureWarning: Series.base is deprecated and will be removed in a future version\n",
      "  if getattr(data, 'base', None) is not None and \\\n"
     ]
    },
    {
     "name": "stdout",
     "output_type": "stream",
     "text": [
      "[02:35:55] WARNING: src/objective/regression_obj.cu:152: reg:linear is now deprecated in favor of reg:squarederror.\n"
     ]
    },
    {
     "name": "stderr",
     "output_type": "stream",
     "text": [
      "C:\\Users\\13479\\Anaconda3\\lib\\site-packages\\xgboost\\core.py:587: FutureWarning: Series.base is deprecated and will be removed in a future version\n",
      "  if getattr(data, 'base', None) is not None and \\\n"
     ]
    },
    {
     "name": "stdout",
     "output_type": "stream",
     "text": [
      "[02:38:59] WARNING: src/objective/regression_obj.cu:152: reg:linear is now deprecated in favor of reg:squarederror.\n"
     ]
    },
    {
     "name": "stderr",
     "output_type": "stream",
     "text": [
      "C:\\Users\\13479\\Anaconda3\\lib\\site-packages\\xgboost\\core.py:587: FutureWarning: Series.base is deprecated and will be removed in a future version\n",
      "  if getattr(data, 'base', None) is not None and \\\n"
     ]
    },
    {
     "name": "stdout",
     "output_type": "stream",
     "text": [
      "[02:42:02] WARNING: src/objective/regression_obj.cu:152: reg:linear is now deprecated in favor of reg:squarederror.\n"
     ]
    },
    {
     "name": "stderr",
     "output_type": "stream",
     "text": [
      "C:\\Users\\13479\\Anaconda3\\lib\\site-packages\\xgboost\\core.py:587: FutureWarning: Series.base is deprecated and will be removed in a future version\n",
      "  if getattr(data, 'base', None) is not None and \\\n"
     ]
    },
    {
     "name": "stdout",
     "output_type": "stream",
     "text": [
      "[02:45:05] WARNING: src/objective/regression_obj.cu:152: reg:linear is now deprecated in favor of reg:squarederror.\n"
     ]
    },
    {
     "name": "stderr",
     "output_type": "stream",
     "text": [
      "C:\\Users\\13479\\Anaconda3\\lib\\site-packages\\xgboost\\core.py:587: FutureWarning: Series.base is deprecated and will be removed in a future version\n",
      "  if getattr(data, 'base', None) is not None and \\\n"
     ]
    },
    {
     "name": "stdout",
     "output_type": "stream",
     "text": [
      "[02:48:07] WARNING: src/objective/regression_obj.cu:152: reg:linear is now deprecated in favor of reg:squarederror.\n"
     ]
    },
    {
     "name": "stderr",
     "output_type": "stream",
     "text": [
      "C:\\Users\\13479\\Anaconda3\\lib\\site-packages\\xgboost\\core.py:587: FutureWarning: Series.base is deprecated and will be removed in a future version\n",
      "  if getattr(data, 'base', None) is not None and \\\n"
     ]
    },
    {
     "name": "stdout",
     "output_type": "stream",
     "text": [
      "[02:51:10] WARNING: src/objective/regression_obj.cu:152: reg:linear is now deprecated in favor of reg:squarederror.\n"
     ]
    },
    {
     "name": "stderr",
     "output_type": "stream",
     "text": [
      "C:\\Users\\13479\\Anaconda3\\lib\\site-packages\\xgboost\\core.py:587: FutureWarning: Series.base is deprecated and will be removed in a future version\n",
      "  if getattr(data, 'base', None) is not None and \\\n"
     ]
    },
    {
     "name": "stdout",
     "output_type": "stream",
     "text": [
      "[02:53:53] WARNING: src/objective/regression_obj.cu:152: reg:linear is now deprecated in favor of reg:squarederror.\n"
     ]
    },
    {
     "name": "stderr",
     "output_type": "stream",
     "text": [
      "C:\\Users\\13479\\Anaconda3\\lib\\site-packages\\xgboost\\core.py:587: FutureWarning: Series.base is deprecated and will be removed in a future version\n",
      "  if getattr(data, 'base', None) is not None and \\\n"
     ]
    },
    {
     "name": "stdout",
     "output_type": "stream",
     "text": [
      "[02:56:36] WARNING: src/objective/regression_obj.cu:152: reg:linear is now deprecated in favor of reg:squarederror.\n"
     ]
    },
    {
     "name": "stderr",
     "output_type": "stream",
     "text": [
      "C:\\Users\\13479\\Anaconda3\\lib\\site-packages\\xgboost\\core.py:587: FutureWarning: Series.base is deprecated and will be removed in a future version\n",
      "  if getattr(data, 'base', None) is not None and \\\n"
     ]
    },
    {
     "name": "stdout",
     "output_type": "stream",
     "text": [
      "[02:59:20] WARNING: src/objective/regression_obj.cu:152: reg:linear is now deprecated in favor of reg:squarederror.\n"
     ]
    },
    {
     "name": "stderr",
     "output_type": "stream",
     "text": [
      "C:\\Users\\13479\\Anaconda3\\lib\\site-packages\\xgboost\\core.py:587: FutureWarning: Series.base is deprecated and will be removed in a future version\n",
      "  if getattr(data, 'base', None) is not None and \\\n"
     ]
    },
    {
     "name": "stdout",
     "output_type": "stream",
     "text": [
      "[03:02:04] WARNING: src/objective/regression_obj.cu:152: reg:linear is now deprecated in favor of reg:squarederror.\n"
     ]
    },
    {
     "name": "stderr",
     "output_type": "stream",
     "text": [
      "C:\\Users\\13479\\Anaconda3\\lib\\site-packages\\xgboost\\core.py:587: FutureWarning: Series.base is deprecated and will be removed in a future version\n",
      "  if getattr(data, 'base', None) is not None and \\\n",
      "C:\\Users\\13479\\Anaconda3\\lib\\site-packages\\xgboost\\core.py:588: FutureWarning: Series.base is deprecated and will be removed in a future version\n",
      "  data.base is not None and isinstance(data, np.ndarray) \\\n"
     ]
    },
    {
     "name": "stdout",
     "output_type": "stream",
     "text": [
      "[03:04:46] WARNING: src/objective/regression_obj.cu:152: reg:linear is now deprecated in favor of reg:squarederror.\n",
      "____________________________________________\n",
      "tune max_depth, min_child_weight\n",
      "____________________________________________\n",
      "{'mean_fit_time': array([ 52.59667826,  65.68791313,  67.79877925,  92.40981436,\n",
      "        85.74872417,  89.44663858, 201.95880761, 170.50717912,\n",
      "       159.81102171,  44.23683105,  45.03045473,  46.8675221 ,\n",
      "        66.09416494,  68.40824203,  71.61191006, 170.3861485 ,\n",
      "       170.76467133, 156.46161613]), 'std_fit_time': array([3.84487012, 3.67140376, 2.70458691, 2.8331128 , 2.14707586,\n",
      "       3.24099135, 8.97031469, 0.73809454, 0.18826101, 0.04417269,\n",
      "       0.08362098, 0.12797489, 0.18472085, 0.14613645, 0.13573057,\n",
      "       0.54344026, 0.31953327, 0.27696295]), 'mean_score_time': array([0.43779488, 0.52967935, 0.5731092 , 0.80261989, 0.80685115,\n",
      "       0.77566204, 4.68801866, 2.70316887, 1.67267737, 0.38078408,\n",
      "       0.39582677, 0.41551118, 0.59700422, 0.60341859, 0.63012729,\n",
      "       2.74598212, 2.43431334, 1.42240267]), 'std_score_time': array([0.03402022, 0.03216344, 0.07693073, 0.02862172, 0.06266639,\n",
      "       0.05354033, 1.0459319 , 0.02997371, 0.09056035, 0.01348219,\n",
      "       0.01445148, 0.00876814, 0.01187748, 0.02426712, 0.01098436,\n",
      "       0.0504692 , 0.04498953, 0.04346943]), 'param_learning_rate': masked_array(data=[0.05, 0.05, 0.05, 0.05, 0.05, 0.05, 0.05, 0.05, 0.05,\n",
      "                   0.1, 0.1, 0.1, 0.1, 0.1, 0.1, 0.1, 0.1, 0.1],\n",
      "             mask=[False, False, False, False, False, False, False, False,\n",
      "                   False, False, False, False, False, False, False, False,\n",
      "                   False, False],\n",
      "       fill_value='?',\n",
      "            dtype=object), 'param_max_depth': masked_array(data=[5, 5, 5, 7, 7, 7, 13, 13, 13, 5, 5, 5, 7, 7, 7, 13, 13,\n",
      "                   13],\n",
      "             mask=[False, False, False, False, False, False, False, False,\n",
      "                   False, False, False, False, False, False, False, False,\n",
      "                   False, False],\n",
      "       fill_value='?',\n",
      "            dtype=object), 'param_reg_alpha': masked_array(data=[0.1, 1, 10, 0.1, 1, 10, 0.1, 1, 10, 0.1, 1, 10, 0.1, 1,\n",
      "                   10, 0.1, 1, 10],\n",
      "             mask=[False, False, False, False, False, False, False, False,\n",
      "                   False, False, False, False, False, False, False, False,\n",
      "                   False, False],\n",
      "       fill_value='?',\n",
      "            dtype=object), 'params': [{'learning_rate': 0.05, 'max_depth': 5, 'reg_alpha': 0.1}, {'learning_rate': 0.05, 'max_depth': 5, 'reg_alpha': 1}, {'learning_rate': 0.05, 'max_depth': 5, 'reg_alpha': 10}, {'learning_rate': 0.05, 'max_depth': 7, 'reg_alpha': 0.1}, {'learning_rate': 0.05, 'max_depth': 7, 'reg_alpha': 1}, {'learning_rate': 0.05, 'max_depth': 7, 'reg_alpha': 10}, {'learning_rate': 0.05, 'max_depth': 13, 'reg_alpha': 0.1}, {'learning_rate': 0.05, 'max_depth': 13, 'reg_alpha': 1}, {'learning_rate': 0.05, 'max_depth': 13, 'reg_alpha': 10}, {'learning_rate': 0.1, 'max_depth': 5, 'reg_alpha': 0.1}, {'learning_rate': 0.1, 'max_depth': 5, 'reg_alpha': 1}, {'learning_rate': 0.1, 'max_depth': 5, 'reg_alpha': 10}, {'learning_rate': 0.1, 'max_depth': 7, 'reg_alpha': 0.1}, {'learning_rate': 0.1, 'max_depth': 7, 'reg_alpha': 1}, {'learning_rate': 0.1, 'max_depth': 7, 'reg_alpha': 10}, {'learning_rate': 0.1, 'max_depth': 13, 'reg_alpha': 0.1}, {'learning_rate': 0.1, 'max_depth': 13, 'reg_alpha': 1}, {'learning_rate': 0.1, 'max_depth': 13, 'reg_alpha': 10}], 'split0_test_score': array([-0.29174511, -0.29155321, -0.29094065, -0.29209727, -0.29145873,\n",
      "       -0.29061078, -0.29670504, -0.29215846, -0.29025486, -0.2928344 ,\n",
      "       -0.29284942, -0.29178233, -0.29548266, -0.29427128, -0.29200336,\n",
      "       -0.29707663, -0.29404808, -0.29184089]), 'split1_test_score': array([-0.29173632, -0.29146924, -0.29110377, -0.29210931, -0.29153715,\n",
      "       -0.29071744, -0.29738052, -0.29294032, -0.29000244, -0.29268325,\n",
      "       -0.29231939, -0.29175948, -0.29521867, -0.29390216, -0.29201638,\n",
      "       -0.29906297, -0.29590072, -0.29284175]), 'split2_test_score': array([-0.29290844, -0.29262711, -0.29203841, -0.29317981, -0.29205355,\n",
      "       -0.29082932, -0.29892933, -0.29402145, -0.29026062, -0.29343665,\n",
      "       -0.29308348, -0.29160959, -0.29503855, -0.29453583, -0.2923141 ,\n",
      "       -0.29838214, -0.2952802 , -0.29296319]), 'split3_test_score': array([-0.29358994, -0.29327399, -0.29273758, -0.29285339, -0.2927362 ,\n",
      "       -0.29218685, -0.29689719, -0.29340472, -0.29207217, -0.29418912,\n",
      "       -0.2939288 , -0.29298969, -0.29537752, -0.29483002, -0.29309567,\n",
      "       -0.29972489, -0.29632766, -0.29316674]), 'split4_test_score': array([-0.29274571, -0.29308401, -0.29243454, -0.2934708 , -0.29310086,\n",
      "       -0.29195121, -0.29850582, -0.29457467, -0.29223613, -0.2942602 ,\n",
      "       -0.29366227, -0.29351149, -0.29660537, -0.29442089, -0.29374669,\n",
      "       -0.29965006, -0.29663726, -0.29503751]), 'mean_test_score': array([-0.2925451 , -0.29240151, -0.29185099, -0.29274212, -0.2921773 ,\n",
      "       -0.29125912, -0.29768358, -0.29341992, -0.29096524, -0.29348072,\n",
      "       -0.29316867, -0.29233052, -0.29554456, -0.29439203, -0.29263524,\n",
      "       -0.29877934, -0.29563878, -0.29317002]), 'std_test_score': array([0.00071527, 0.00075719, 0.00071397, 0.00055699, 0.00064912,\n",
      "       0.00066905, 0.0008827 , 0.00083867, 0.00097658, 0.00065804,\n",
      "       0.00057479, 0.00077143, 0.00055124, 0.00030591, 0.00068304,\n",
      "       0.00097874, 0.00091641, 0.00103968]), 'rank_test_score': array([ 7,  6,  3,  9,  4,  2, 17, 12,  1, 13, 10,  5, 15, 14,  8, 18, 16,\n",
      "       11]), 'split0_train_score': array([-0.26908986, -0.26911843, -0.27688652, -0.22360575, -0.22347278,\n",
      "       -0.25347929, -0.01718197, -0.04020526, -0.1731774 , -0.24927732,\n",
      "       -0.24950709, -0.26364159, -0.17664992, -0.177422  , -0.22443242,\n",
      "       -0.00358359, -0.01985533, -0.13197649]), 'split1_train_score': array([-0.26795857, -0.26784445, -0.27566924, -0.22401793, -0.22356845,\n",
      "       -0.25269517, -0.01708707, -0.0397764 , -0.17303831, -0.24825112,\n",
      "       -0.24831303, -0.26251297, -0.17599413, -0.17670123, -0.22394766,\n",
      "       -0.00331112, -0.01981323, -0.13219927]), 'split2_train_score': array([-0.26750752, -0.26745957, -0.27541693, -0.22423063, -0.22202233,\n",
      "       -0.25189291, -0.01845547, -0.04091806, -0.17287013, -0.24834676,\n",
      "       -0.2485413 , -0.26214733, -0.17552817, -0.1771407 , -0.22294848,\n",
      "       -0.00354176, -0.01977859, -0.1320231 ]), 'split3_train_score': array([-0.26742674, -0.26758484, -0.27530432, -0.22261572, -0.22309171,\n",
      "       -0.25225611, -0.01867535, -0.04113056, -0.17295174, -0.24788993,\n",
      "       -0.24813679, -0.26222028, -0.1750665 , -0.17660039, -0.22346309,\n",
      "       -0.00352612, -0.01999227, -0.13203178]), 'split4_train_score': array([-0.26809691, -0.26796762, -0.27575976, -0.22407187, -0.22353016,\n",
      "       -0.25250843, -0.01740761, -0.04087758, -0.17351055, -0.24787792,\n",
      "       -0.24843671, -0.26253363, -0.17707552, -0.17621827, -0.22366041,\n",
      "       -0.0034892 , -0.01958483, -0.13200738]), 'mean_train_score': array([-0.26801592, -0.26799498, -0.27580736, -0.22370838, -0.22313709,\n",
      "       -0.25256638, -0.0177615 , -0.04058157, -0.17310963, -0.24832861,\n",
      "       -0.24858698, -0.26261116, -0.17606285, -0.17681652, -0.22369041,\n",
      "       -0.00349036, -0.01980485, -0.1320476 ]), 'std_train_score': array([5.94778923e-04, 5.89987037e-04, 5.64166696e-04, 5.83973905e-04,\n",
      "       5.82756155e-04, 5.29750812e-04, 6.68229318e-04, 5.08356927e-04,\n",
      "       2.24813405e-04, 5.10285505e-04, 4.79374371e-04, 5.37654279e-04,\n",
      "       7.28487191e-04, 4.21807472e-04, 4.93922719e-04, 9.45937898e-05,\n",
      "       1.31789972e-04, 7.81406990e-05])}\n",
      "{'learning_rate': 0.05, 'max_depth': 13, 'reg_alpha': 10}\n",
      "-0.2909652448008634\n"
     ]
    }
   ],
   "source": [
    "xgb_param = xgb_autotune(X_train,Y_train)"
   ]
  },
  {
   "cell_type": "code",
   "execution_count": 88,
   "metadata": {},
   "outputs": [
    {
     "data": {
      "text/plain": [
       "0.6668956137489519"
      ]
     },
     "execution_count": 88,
     "metadata": {},
     "output_type": "execute_result"
    }
   ],
   "source": [
    "roc_auc_score(Y_test,xgb_param.predict(X_test))"
   ]
  },
  {
   "cell_type": "code",
   "execution_count": 90,
   "metadata": {},
   "outputs": [
    {
     "data": {
      "text/html": [
       "<div>\n",
       "<style scoped>\n",
       "    .dataframe tbody tr th:only-of-type {\n",
       "        vertical-align: middle;\n",
       "    }\n",
       "\n",
       "    .dataframe tbody tr th {\n",
       "        vertical-align: top;\n",
       "    }\n",
       "\n",
       "    .dataframe thead th {\n",
       "        text-align: right;\n",
       "    }\n",
       "</style>\n",
       "<table border=\"1\" class=\"dataframe\">\n",
       "  <thead>\n",
       "    <tr style=\"text-align: right;\">\n",
       "      <th></th>\n",
       "      <th>count</th>\n",
       "      <th>actual</th>\n",
       "      <th>non_actual</th>\n",
       "      <th>cum_count</th>\n",
       "      <th>cum_actual</th>\n",
       "      <th>cum_non_actual</th>\n",
       "      <th>percent_cum_actual</th>\n",
       "      <th>percent_cum_non_actual</th>\n",
       "      <th>if_random</th>\n",
       "      <th>lift</th>\n",
       "      <th>K_S</th>\n",
       "      <th>gain</th>\n",
       "    </tr>\n",
       "    <tr>\n",
       "      <th>decile</th>\n",
       "      <th></th>\n",
       "      <th></th>\n",
       "      <th></th>\n",
       "      <th></th>\n",
       "      <th></th>\n",
       "      <th></th>\n",
       "      <th></th>\n",
       "      <th></th>\n",
       "      <th></th>\n",
       "      <th></th>\n",
       "      <th></th>\n",
       "      <th></th>\n",
       "    </tr>\n",
       "  </thead>\n",
       "  <tbody>\n",
       "    <tr>\n",
       "      <td>0</td>\n",
       "      <td>1999</td>\n",
       "      <td>743.0</td>\n",
       "      <td>1256.0</td>\n",
       "      <td>1999</td>\n",
       "      <td>743.0</td>\n",
       "      <td>1256.0</td>\n",
       "      <td>0.19</td>\n",
       "      <td>0.08</td>\n",
       "      <td>381.5</td>\n",
       "      <td>1.95</td>\n",
       "      <td>11.0</td>\n",
       "      <td>37.17</td>\n",
       "    </tr>\n",
       "    <tr>\n",
       "      <td>1</td>\n",
       "      <td>1998</td>\n",
       "      <td>546.0</td>\n",
       "      <td>1452.0</td>\n",
       "      <td>3997</td>\n",
       "      <td>1289.0</td>\n",
       "      <td>2708.0</td>\n",
       "      <td>0.34</td>\n",
       "      <td>0.17</td>\n",
       "      <td>763.0</td>\n",
       "      <td>1.69</td>\n",
       "      <td>17.0</td>\n",
       "      <td>32.25</td>\n",
       "    </tr>\n",
       "    <tr>\n",
       "      <td>2</td>\n",
       "      <td>1998</td>\n",
       "      <td>516.0</td>\n",
       "      <td>1482.0</td>\n",
       "      <td>5995</td>\n",
       "      <td>1805.0</td>\n",
       "      <td>4190.0</td>\n",
       "      <td>0.47</td>\n",
       "      <td>0.26</td>\n",
       "      <td>1144.5</td>\n",
       "      <td>1.58</td>\n",
       "      <td>21.0</td>\n",
       "      <td>30.11</td>\n",
       "    </tr>\n",
       "    <tr>\n",
       "      <td>3</td>\n",
       "      <td>1999</td>\n",
       "      <td>444.0</td>\n",
       "      <td>1555.0</td>\n",
       "      <td>7994</td>\n",
       "      <td>2249.0</td>\n",
       "      <td>5745.0</td>\n",
       "      <td>0.59</td>\n",
       "      <td>0.36</td>\n",
       "      <td>1526.0</td>\n",
       "      <td>1.47</td>\n",
       "      <td>23.0</td>\n",
       "      <td>28.13</td>\n",
       "    </tr>\n",
       "    <tr>\n",
       "      <td>4</td>\n",
       "      <td>1998</td>\n",
       "      <td>392.0</td>\n",
       "      <td>1606.0</td>\n",
       "      <td>9992</td>\n",
       "      <td>2641.0</td>\n",
       "      <td>7351.0</td>\n",
       "      <td>0.69</td>\n",
       "      <td>0.45</td>\n",
       "      <td>1907.5</td>\n",
       "      <td>1.38</td>\n",
       "      <td>24.0</td>\n",
       "      <td>26.43</td>\n",
       "    </tr>\n",
       "    <tr>\n",
       "      <td>5</td>\n",
       "      <td>1998</td>\n",
       "      <td>351.0</td>\n",
       "      <td>1647.0</td>\n",
       "      <td>11990</td>\n",
       "      <td>2992.0</td>\n",
       "      <td>8998.0</td>\n",
       "      <td>0.78</td>\n",
       "      <td>0.56</td>\n",
       "      <td>2289.0</td>\n",
       "      <td>1.31</td>\n",
       "      <td>22.0</td>\n",
       "      <td>24.95</td>\n",
       "    </tr>\n",
       "    <tr>\n",
       "      <td>6</td>\n",
       "      <td>1999</td>\n",
       "      <td>300.0</td>\n",
       "      <td>1699.0</td>\n",
       "      <td>13989</td>\n",
       "      <td>3292.0</td>\n",
       "      <td>10697.0</td>\n",
       "      <td>0.86</td>\n",
       "      <td>0.66</td>\n",
       "      <td>2670.5</td>\n",
       "      <td>1.23</td>\n",
       "      <td>20.0</td>\n",
       "      <td>23.53</td>\n",
       "    </tr>\n",
       "    <tr>\n",
       "      <td>7</td>\n",
       "      <td>1998</td>\n",
       "      <td>250.0</td>\n",
       "      <td>1748.0</td>\n",
       "      <td>15987</td>\n",
       "      <td>3542.0</td>\n",
       "      <td>12445.0</td>\n",
       "      <td>0.93</td>\n",
       "      <td>0.77</td>\n",
       "      <td>3052.0</td>\n",
       "      <td>1.16</td>\n",
       "      <td>16.0</td>\n",
       "      <td>22.16</td>\n",
       "    </tr>\n",
       "    <tr>\n",
       "      <td>8</td>\n",
       "      <td>1998</td>\n",
       "      <td>177.0</td>\n",
       "      <td>1821.0</td>\n",
       "      <td>17985</td>\n",
       "      <td>3719.0</td>\n",
       "      <td>14266.0</td>\n",
       "      <td>0.97</td>\n",
       "      <td>0.88</td>\n",
       "      <td>3433.5</td>\n",
       "      <td>1.08</td>\n",
       "      <td>9.0</td>\n",
       "      <td>20.68</td>\n",
       "    </tr>\n",
       "    <tr>\n",
       "      <td>9</td>\n",
       "      <td>1998</td>\n",
       "      <td>96.0</td>\n",
       "      <td>1902.0</td>\n",
       "      <td>19983</td>\n",
       "      <td>3815.0</td>\n",
       "      <td>16168.0</td>\n",
       "      <td>1.00</td>\n",
       "      <td>1.00</td>\n",
       "      <td>3815.0</td>\n",
       "      <td>1.00</td>\n",
       "      <td>0.0</td>\n",
       "      <td>19.09</td>\n",
       "    </tr>\n",
       "  </tbody>\n",
       "</table>\n",
       "</div>"
      ],
      "text/plain": [
       "        count  actual  non_actual  cum_count  cum_actual  cum_non_actual  \\\n",
       "decile                                                                     \n",
       "0        1999   743.0      1256.0       1999       743.0          1256.0   \n",
       "1        1998   546.0      1452.0       3997      1289.0          2708.0   \n",
       "2        1998   516.0      1482.0       5995      1805.0          4190.0   \n",
       "3        1999   444.0      1555.0       7994      2249.0          5745.0   \n",
       "4        1998   392.0      1606.0       9992      2641.0          7351.0   \n",
       "5        1998   351.0      1647.0      11990      2992.0          8998.0   \n",
       "6        1999   300.0      1699.0      13989      3292.0         10697.0   \n",
       "7        1998   250.0      1748.0      15987      3542.0         12445.0   \n",
       "8        1998   177.0      1821.0      17985      3719.0         14266.0   \n",
       "9        1998    96.0      1902.0      19983      3815.0         16168.0   \n",
       "\n",
       "        percent_cum_actual  percent_cum_non_actual  if_random  lift   K_S  \\\n",
       "decile                                                                      \n",
       "0                     0.19                    0.08      381.5  1.95  11.0   \n",
       "1                     0.34                    0.17      763.0  1.69  17.0   \n",
       "2                     0.47                    0.26     1144.5  1.58  21.0   \n",
       "3                     0.59                    0.36     1526.0  1.47  23.0   \n",
       "4                     0.69                    0.45     1907.5  1.38  24.0   \n",
       "5                     0.78                    0.56     2289.0  1.31  22.0   \n",
       "6                     0.86                    0.66     2670.5  1.23  20.0   \n",
       "7                     0.93                    0.77     3052.0  1.16  16.0   \n",
       "8                     0.97                    0.88     3433.5  1.08   9.0   \n",
       "9                     1.00                    1.00     3815.0  1.00   0.0   \n",
       "\n",
       "         gain  \n",
       "decile         \n",
       "0       37.17  \n",
       "1       32.25  \n",
       "2       30.11  \n",
       "3       28.13  \n",
       "4       26.43  \n",
       "5       24.95  \n",
       "6       23.53  \n",
       "7       22.16  \n",
       "8       20.68  \n",
       "9       19.09  "
      ]
     },
     "execution_count": 90,
     "metadata": {},
     "output_type": "execute_result"
    }
   ],
   "source": [
    "createGains(Y_test,xgb_param.predict(X_test))"
   ]
  },
  {
   "cell_type": "code",
   "execution_count": 93,
   "metadata": {},
   "outputs": [
    {
     "name": "stderr",
     "output_type": "stream",
     "text": [
      "C:\\Users\\13479\\Anaconda3\\lib\\site-packages\\ipykernel_launcher.py:8: FutureWarning: \n",
      ".ix is deprecated. Please use\n",
      ".loc for label based indexing or\n",
      ".iloc for positional indexing\n",
      "\n",
      "See the documentation here:\n",
      "http://pandas.pydata.org/pandas-docs/stable/user_guide/indexing.html#ix-indexer-is-deprecated\n",
      "  \n",
      "C:\\Users\\13479\\Anaconda3\\lib\\site-packages\\ipykernel_launcher.py:9: FutureWarning: \n",
      ".ix is deprecated. Please use\n",
      ".loc for label based indexing or\n",
      ".iloc for positional indexing\n",
      "\n",
      "See the documentation here:\n",
      "http://pandas.pydata.org/pandas-docs/stable/user_guide/indexing.html#ix-indexer-is-deprecated\n",
      "  if __name__ == '__main__':\n"
     ]
    },
    {
     "data": {
      "text/plain": [
       "0.2948171094960086"
      ]
     },
     "execution_count": 93,
     "metadata": {},
     "output_type": "execute_result"
    }
   ],
   "source": [
    "ks_statistic(Y_test,xgb_param.predict(X_test))"
   ]
  },
  {
   "cell_type": "code",
   "execution_count": 5,
   "metadata": {},
   "outputs": [],
   "source": [
    "maual = pd.read_csv('manual_train.csv')"
   ]
  },
  {
   "cell_type": "code",
   "execution_count": 6,
   "metadata": {},
   "outputs": [
    {
     "data": {
      "text/plain": [
       "Index(['ym2888', 'ym2592', 'ym2468', 'ym2281', 'ym2158', 'ym2074', 'ym2070',\n",
       "       'ym2065', 'ym2061', 'ym2058',\n",
       "       ...\n",
       "       'CD018', 'CD014', 'CD002', 'AP007', 'AP006', 'AP004', 'AP003', 'AP002',\n",
       "       'AP001', 'bad30'],\n",
       "      dtype='object', length=151)"
      ]
     },
     "execution_count": 6,
     "metadata": {},
     "output_type": "execute_result"
    }
   ],
   "source": [
    "maual.columns"
   ]
  },
  {
   "cell_type": "code",
   "execution_count": 8,
   "metadata": {},
   "outputs": [],
   "source": [
    "col = pd.DataFrame(maual.columns)"
   ]
  },
  {
   "cell_type": "code",
   "execution_count": 10,
   "metadata": {},
   "outputs": [],
   "source": [
    "col.to_csv(r'C:\\Users\\13479\\Desktop\\dataset\\150featuresName.csv')"
   ]
  },
  {
   "cell_type": "code",
   "execution_count": null,
   "metadata": {},
   "outputs": [],
   "source": []
  }
 ],
 "metadata": {
  "kernelspec": {
   "display_name": "Python [conda env:root] *",
   "language": "python",
   "name": "conda-root-py"
  },
  "language_info": {
   "codemirror_mode": {
    "name": "ipython",
    "version": 3
   },
   "file_extension": ".py",
   "mimetype": "text/x-python",
   "name": "python",
   "nbconvert_exporter": "python",
   "pygments_lexer": "ipython3",
   "version": "3.7.3"
  }
 },
 "nbformat": 4,
 "nbformat_minor": 2
}
